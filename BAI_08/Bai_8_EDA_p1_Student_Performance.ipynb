{
 "cells": [
  {
   "attachments": {},
   "cell_type": "markdown",
   "metadata": {},
   "source": [
    "# EDA ( Exploratory Data Analysis )\n",
    "## Student Performance\n",
    "* Dataset: Student_Performance_1k.csv  : Bộ dữ liệu nhằm mục đích cung cấp cái nhìn sâu sắc về mối quan hệ giữa các biến dự đoán và chỉ số hiệu suất. Các nhà nghiên cứu và các nhà phân tích dữ liệu có thể sử dụng bộ dữ liệu này để khám phá tác động của giờ học, điểm số trước, hoạt động ngoại khóa, giờ ngủ và các câu hỏi mẫu về hiệu suất của học sinh.  \n",
    "    - Hours Studied : Tổng số giờ học của mỗi học sinh.   \n",
    "    - Previous Scores : Điểm số mà các sinh viên đạt được trong các bài kiểm tra trước.  \n",
    "    - Extracurricular Activities : Học sinh tham gia vào các hoạt động ngoại khóa (có hay không).  \n",
    "    - Sleep Hours : Số giờ ngủ trung bình mà học sinh có mỗi ngày.  \n",
    "    - Sample Question Papers Practiced : Số lượng câu hỏi mẫu mà học sinh thực hành.  \n",
    "    - Performance Index: Chỉ số thành tích thể hiện kết quả học tập của SV và đã được làm tròn đến số nguyên gần nhất. Chỉ số nằm trong khoảng từ 10 đến 100, với giá trị cao hơn cho thấy kết quả tốt hơn.  \n",
    "\n",
    "- Central tendency of a distribution : xu hướng trung tâm của một phân phối  \n",
    "- Measure of variation : Đo độ biến thiên  \n",
    "- Skewness & Kurtosis : Đo Độ nghiên và độ nhọn  "
   ]
  },
  {
   "cell_type": "code",
   "execution_count": 1,
   "metadata": {},
   "outputs": [],
   "source": [
    "import pandas as pd\n",
    "import matplotlib.pyplot as plt\n",
    "import warnings\n",
    "warnings.filterwarnings('ignore') "
   ]
  },
  {
   "cell_type": "markdown",
   "metadata": {},
   "source": [
    "#### Bước 1: Xác định các biến và thuộc tính của biến (Variable Identification) trong EDA  \n",
    "\n",
    "**1.Khái niệm**  \n",
    "\n",
    "Xác định các biến (Variable Identification) là bước đầu tiên trong quá trình EDA (Exploratory Data Analysis), giúp hiểu rõ về cấu trúc dữ liệu và vai trò của từng biến trong tập dữ liệu. Việc này giúp ta phân loại biến, kiểm tra kiểu dữ liệu và xác định cách xử lý phù hợp.  \n",
    "**2.Các loại biến trong dữ liệu**  \n",
    "Các biến trong tập dữ liệu có thể được chia thành nhiều nhóm khác nhau:\n",
    "\n",
    "**(a) Phân loại theo kiểu dữ liệu**  \n",
    "* Biến số (Numerical Variables)  \n",
    "    - Biến liên tục (Continuous Variables): Có thể nhận bất kỳ giá trị nào trong một phạm vi, ví dụ: giá nhà, diện tích, cân nặng.  \n",
    "    - Biến rời rạc (Discrete Variables): Chỉ nhận giá trị nguyên, ví dụ: số phòng ngủ, số lượng sản phẩm.  \n",
    "* Biến phân loại (Categorical Variables)  \n",
    "    - Biến định tính danh mục (Nominal Variables): Không có thứ tự giữa các giá trị, ví dụ: màu sắc (đỏ, xanh, vàng), loại nhà (căn hộ, biệt thự).  \n",
    "    - Biến định tính thứ tự (Ordinal Variables): Có thứ tự giữa các giá trị nhưng không có khoảng cách rõ ràng, ví dụ: xếp hạng đánh giá (kém, trung bình, tốt, xuất sắc).  \n",
    "* Biến thời gian (Datetime Variables)  \n",
    "    - Dữ liệu thời gian có thể là ngày tháng hoặc thời gian cụ thể, ví dụ: purchase_date, order_time.  \n",
    "* Biến kiểu văn bản (Text Variables)  \n",
    "    - Dữ liệu dạng văn bản.  \n",
    "\n",
    "**(b) Phân loại theo vai trò trong mô hình**   \n",
    "Biến mục tiêu (Target/Dependent Variable): Biến mà ta muốn dự đoán hoặc phân tích, ví dụ: price trong bài toán dự đoán giá nhà. Performance Index trong Student_Performance_1k.csv  \n",
    "Biến độc lập (Independent Variables): Các biến có thể ảnh hưởng đến biến mục tiêu, ví dụ: sqft_living, bedrooms, location trong bài toán dự đoán giá nhà.  "
   ]
  },
  {
   "cell_type": "code",
   "execution_count": 2,
   "metadata": {},
   "outputs": [],
   "source": [
    "# data = pd.read_csv(\"Student_Performance_1k.csv\")\n",
    "data = pd.read_csv(\"yellow_tripdata_2023-05.csv\")\n"
   ]
  },
  {
   "cell_type": "code",
   "execution_count": 3,
   "metadata": {},
   "outputs": [
    {
     "name": "stdout",
     "output_type": "stream",
     "text": [
      "<class 'pandas.core.frame.DataFrame'>\n",
      "RangeIndex: 462171 entries, 0 to 462170\n",
      "Data columns (total 19 columns):\n",
      " #   Column                 Non-Null Count   Dtype  \n",
      "---  ------                 --------------   -----  \n",
      " 0   Tech_Vendor            462171 non-null  object \n",
      " 1   tpep_pickup_datetime   462171 non-null  object \n",
      " 2   tpep_dropoff_datetime  462171 non-null  object \n",
      " 3   passenger_count        462171 non-null  int64  \n",
      " 4   trip_distance          462171 non-null  float64\n",
      " 5   Ratecode               462171 non-null  object \n",
      " 6   payment_type           462171 non-null  object \n",
      " 7   fare_amount            462171 non-null  float64\n",
      " 8   extra                  462171 non-null  float64\n",
      " 9   mta_tax                462171 non-null  float64\n",
      " 10  tip_amount             462171 non-null  float64\n",
      " 11  tolls_amount           462171 non-null  float64\n",
      " 12  improvement_surcharge  462171 non-null  float64\n",
      " 13  total_amount           462171 non-null  float64\n",
      " 14  congestion_surcharge   462171 non-null  float64\n",
      " 15  PUBorough              462171 non-null  object \n",
      " 16  PUZone                 462171 non-null  object \n",
      " 17  DOBorough              462171 non-null  object \n",
      " 18  DOZone                 462171 non-null  object \n",
      "dtypes: float64(9), int64(1), object(9)\n",
      "memory usage: 67.0+ MB\n"
     ]
    }
   ],
   "source": [
    "# Thông tin chung\n",
    "data.info()"
   ]
  },
  {
   "cell_type": "code",
   "execution_count": 4,
   "metadata": {},
   "outputs": [
    {
     "data": {
      "text/html": [
       "<div>\n",
       "<style scoped>\n",
       "    .dataframe tbody tr th:only-of-type {\n",
       "        vertical-align: middle;\n",
       "    }\n",
       "\n",
       "    .dataframe tbody tr th {\n",
       "        vertical-align: top;\n",
       "    }\n",
       "\n",
       "    .dataframe thead th {\n",
       "        text-align: right;\n",
       "    }\n",
       "</style>\n",
       "<table border=\"1\" class=\"dataframe\">\n",
       "  <thead>\n",
       "    <tr style=\"text-align: right;\">\n",
       "      <th></th>\n",
       "      <th>Tech_Vendor</th>\n",
       "      <th>tpep_pickup_datetime</th>\n",
       "      <th>tpep_dropoff_datetime</th>\n",
       "      <th>passenger_count</th>\n",
       "      <th>trip_distance</th>\n",
       "      <th>Ratecode</th>\n",
       "      <th>payment_type</th>\n",
       "      <th>fare_amount</th>\n",
       "      <th>extra</th>\n",
       "      <th>mta_tax</th>\n",
       "      <th>tip_amount</th>\n",
       "      <th>tolls_amount</th>\n",
       "      <th>improvement_surcharge</th>\n",
       "      <th>total_amount</th>\n",
       "      <th>congestion_surcharge</th>\n",
       "      <th>PUBorough</th>\n",
       "      <th>PUZone</th>\n",
       "      <th>DOBorough</th>\n",
       "      <th>DOZone</th>\n",
       "    </tr>\n",
       "  </thead>\n",
       "  <tbody>\n",
       "    <tr>\n",
       "      <th>0</th>\n",
       "      <td>Creative Mobile Technologies LLC</td>\n",
       "      <td>1/05/2023 0:31</td>\n",
       "      <td>1/05/2023 0:49</td>\n",
       "      <td>1</td>\n",
       "      <td>3.6</td>\n",
       "      <td>Standard rate</td>\n",
       "      <td>Credit card</td>\n",
       "      <td>15.5</td>\n",
       "      <td>3.0</td>\n",
       "      <td>0.5</td>\n",
       "      <td>4.00</td>\n",
       "      <td>0.0</td>\n",
       "      <td>0.3</td>\n",
       "      <td>23.30</td>\n",
       "      <td>2.5</td>\n",
       "      <td>Manhattan</td>\n",
       "      <td>Lenox Hill East</td>\n",
       "      <td>Manhattan</td>\n",
       "      <td>East Chelsea</td>\n",
       "    </tr>\n",
       "    <tr>\n",
       "      <th>1</th>\n",
       "      <td>Creative Mobile Technologies LLC</td>\n",
       "      <td>1/05/2023 0:42</td>\n",
       "      <td>1/05/2023 1:04</td>\n",
       "      <td>1</td>\n",
       "      <td>5.6</td>\n",
       "      <td>Standard rate</td>\n",
       "      <td>Credit card</td>\n",
       "      <td>19.5</td>\n",
       "      <td>3.0</td>\n",
       "      <td>0.5</td>\n",
       "      <td>2.00</td>\n",
       "      <td>0.0</td>\n",
       "      <td>0.3</td>\n",
       "      <td>25.30</td>\n",
       "      <td>2.5</td>\n",
       "      <td>Manhattan</td>\n",
       "      <td>East Village</td>\n",
       "      <td>Queens</td>\n",
       "      <td>Sunnyside</td>\n",
       "    </tr>\n",
       "    <tr>\n",
       "      <th>2</th>\n",
       "      <td>Creative Mobile Technologies LLC</td>\n",
       "      <td>1/05/2023 0:39</td>\n",
       "      <td>1/05/2023 0:49</td>\n",
       "      <td>1</td>\n",
       "      <td>2.3</td>\n",
       "      <td>Standard rate</td>\n",
       "      <td>Cash</td>\n",
       "      <td>10.0</td>\n",
       "      <td>0.5</td>\n",
       "      <td>0.5</td>\n",
       "      <td>0.00</td>\n",
       "      <td>0.0</td>\n",
       "      <td>0.3</td>\n",
       "      <td>11.30</td>\n",
       "      <td>0.0</td>\n",
       "      <td>Manhattan</td>\n",
       "      <td>Upper West Side North</td>\n",
       "      <td>Manhattan</td>\n",
       "      <td>Hamilton Heights</td>\n",
       "    </tr>\n",
       "    <tr>\n",
       "      <th>3</th>\n",
       "      <td>Creative Mobile Technologies LLC</td>\n",
       "      <td>1/05/2023 0:56</td>\n",
       "      <td>1/05/2023 1:11</td>\n",
       "      <td>1</td>\n",
       "      <td>5.3</td>\n",
       "      <td>Standard rate</td>\n",
       "      <td>Cash</td>\n",
       "      <td>17.5</td>\n",
       "      <td>3.0</td>\n",
       "      <td>0.5</td>\n",
       "      <td>0.00</td>\n",
       "      <td>0.0</td>\n",
       "      <td>0.3</td>\n",
       "      <td>21.30</td>\n",
       "      <td>2.5</td>\n",
       "      <td>Manhattan</td>\n",
       "      <td>Lenox Hill West</td>\n",
       "      <td>Manhattan</td>\n",
       "      <td>Hamilton Heights</td>\n",
       "    </tr>\n",
       "    <tr>\n",
       "      <th>4</th>\n",
       "      <td>Creative Mobile Technologies LLC</td>\n",
       "      <td>1/05/2023 0:16</td>\n",
       "      <td>1/05/2023 0:29</td>\n",
       "      <td>1</td>\n",
       "      <td>4.4</td>\n",
       "      <td>Standard rate</td>\n",
       "      <td>Credit card</td>\n",
       "      <td>14.5</td>\n",
       "      <td>3.0</td>\n",
       "      <td>0.5</td>\n",
       "      <td>3.65</td>\n",
       "      <td>0.0</td>\n",
       "      <td>0.3</td>\n",
       "      <td>21.95</td>\n",
       "      <td>2.5</td>\n",
       "      <td>Manhattan</td>\n",
       "      <td>Penn Station/Madison Sq West</td>\n",
       "      <td>Manhattan</td>\n",
       "      <td>East Harlem South</td>\n",
       "    </tr>\n",
       "  </tbody>\n",
       "</table>\n",
       "</div>"
      ],
      "text/plain": [
       "                        Tech_Vendor tpep_pickup_datetime  \\\n",
       "0  Creative Mobile Technologies LLC       1/05/2023 0:31   \n",
       "1  Creative Mobile Technologies LLC       1/05/2023 0:42   \n",
       "2  Creative Mobile Technologies LLC       1/05/2023 0:39   \n",
       "3  Creative Mobile Technologies LLC       1/05/2023 0:56   \n",
       "4  Creative Mobile Technologies LLC       1/05/2023 0:16   \n",
       "\n",
       "  tpep_dropoff_datetime  passenger_count  trip_distance       Ratecode  \\\n",
       "0        1/05/2023 0:49                1            3.6  Standard rate   \n",
       "1        1/05/2023 1:04                1            5.6  Standard rate   \n",
       "2        1/05/2023 0:49                1            2.3  Standard rate   \n",
       "3        1/05/2023 1:11                1            5.3  Standard rate   \n",
       "4        1/05/2023 0:29                1            4.4  Standard rate   \n",
       "\n",
       "  payment_type  fare_amount  extra  mta_tax  tip_amount  tolls_amount  \\\n",
       "0  Credit card         15.5    3.0      0.5        4.00           0.0   \n",
       "1  Credit card         19.5    3.0      0.5        2.00           0.0   \n",
       "2         Cash         10.0    0.5      0.5        0.00           0.0   \n",
       "3         Cash         17.5    3.0      0.5        0.00           0.0   \n",
       "4  Credit card         14.5    3.0      0.5        3.65           0.0   \n",
       "\n",
       "   improvement_surcharge  total_amount  congestion_surcharge  PUBorough  \\\n",
       "0                    0.3         23.30                   2.5  Manhattan   \n",
       "1                    0.3         25.30                   2.5  Manhattan   \n",
       "2                    0.3         11.30                   0.0  Manhattan   \n",
       "3                    0.3         21.30                   2.5  Manhattan   \n",
       "4                    0.3         21.95                   2.5  Manhattan   \n",
       "\n",
       "                         PUZone  DOBorough             DOZone  \n",
       "0               Lenox Hill East  Manhattan       East Chelsea  \n",
       "1                  East Village     Queens          Sunnyside  \n",
       "2         Upper West Side North  Manhattan   Hamilton Heights  \n",
       "3               Lenox Hill West  Manhattan   Hamilton Heights  \n",
       "4  Penn Station/Madison Sq West  Manhattan  East Harlem South  "
      ]
     },
     "execution_count": 4,
     "metadata": {},
     "output_type": "execute_result"
    }
   ],
   "source": [
    "data.head()"
   ]
  },
  {
   "cell_type": "markdown",
   "metadata": {},
   "source": [
    "**3. Xác định tự điển dữ liệu:**  \n",
    "    - Hours Studied : Tổng số giờ học của mỗi học sinh. --> Kiểu numeric   \n",
    "    - Previous Scores : Điểm số mà các sinh viên đạt được trong các bài kiểm tra trước. --> Kiểu numeric    \n",
    "    - Extracurricular Activities : Học sinh tham gia vào các hoạt động ngoại khóa (có hay không). --> Categorical ->Nominal  \n",
    "    - Sleep Hours : Số giờ ngủ trung bình mà học sinh có mỗi ngày. --> Kiểu numeric   \n",
    "    - Sample Question Papers Practiced : Số lượng câu hỏi mẫu mà học sinh thực hành.--> Kiểu numeric    \n",
    "    - Performance Index: Chỉ số thành tích thể hiện kết quả học tập của SV và đã được làm tròn đến số nguyên gần nhất. Chỉ số nằm trong khoảng từ 10 đến 100, với giá trị cao hơn cho thấy kết quả tốt hơn.--> Kiểu numeric  \n",
    "    - Gender : Giới tính học sinh --> Categorical ->Nominal   \n",
    "\n",
    "**==> Nếu kiểu dữ liệu trong dataframe không đúng với tự điển dữ liệu thì phải xử lý chuyển kiểu về cho đúng**"
   ]
  },
  {
   "cell_type": "code",
   "execution_count": 4,
   "metadata": {},
   "outputs": [
    {
     "data": {
      "text/html": [
       "<div>\n",
       "<style scoped>\n",
       "    .dataframe tbody tr th:only-of-type {\n",
       "        vertical-align: middle;\n",
       "    }\n",
       "\n",
       "    .dataframe tbody tr th {\n",
       "        vertical-align: top;\n",
       "    }\n",
       "\n",
       "    .dataframe thead th {\n",
       "        text-align: right;\n",
       "    }\n",
       "</style>\n",
       "<table border=\"1\" class=\"dataframe\">\n",
       "  <thead>\n",
       "    <tr style=\"text-align: right;\">\n",
       "      <th></th>\n",
       "      <th>Hours Studied</th>\n",
       "      <th>Previous Scores</th>\n",
       "      <th>Extracurricular Activities</th>\n",
       "      <th>Sleep Hours</th>\n",
       "      <th>Sample Question Papers Practiced</th>\n",
       "      <th>Performance Index</th>\n",
       "      <th>Gender</th>\n",
       "    </tr>\n",
       "  </thead>\n",
       "  <tbody>\n",
       "    <tr>\n",
       "      <th>0</th>\n",
       "      <td>5</td>\n",
       "      <td>73</td>\n",
       "      <td>Yes</td>\n",
       "      <td>9</td>\n",
       "      <td>3</td>\n",
       "      <td>60</td>\n",
       "      <td>Female</td>\n",
       "    </tr>\n",
       "    <tr>\n",
       "      <th>1</th>\n",
       "      <td>3</td>\n",
       "      <td>75</td>\n",
       "      <td>Yes</td>\n",
       "      <td>5</td>\n",
       "      <td>9</td>\n",
       "      <td>57</td>\n",
       "      <td>Male</td>\n",
       "    </tr>\n",
       "    <tr>\n",
       "      <th>2</th>\n",
       "      <td>1</td>\n",
       "      <td>82</td>\n",
       "      <td>No</td>\n",
       "      <td>8</td>\n",
       "      <td>7</td>\n",
       "      <td>58</td>\n",
       "      <td>Male</td>\n",
       "    </tr>\n",
       "    <tr>\n",
       "      <th>3</th>\n",
       "      <td>1</td>\n",
       "      <td>82</td>\n",
       "      <td>No</td>\n",
       "      <td>8</td>\n",
       "      <td>7</td>\n",
       "      <td>58</td>\n",
       "      <td>Male</td>\n",
       "    </tr>\n",
       "    <tr>\n",
       "      <th>4</th>\n",
       "      <td>3</td>\n",
       "      <td>62</td>\n",
       "      <td>No</td>\n",
       "      <td>5</td>\n",
       "      <td>1</td>\n",
       "      <td>43</td>\n",
       "      <td>Female</td>\n",
       "    </tr>\n",
       "  </tbody>\n",
       "</table>\n",
       "</div>"
      ],
      "text/plain": [
       "   Hours Studied  Previous Scores Extracurricular Activities  Sleep Hours  \\\n",
       "0              5               73                        Yes            9   \n",
       "1              3               75                        Yes            5   \n",
       "2              1               82                         No            8   \n",
       "3              1               82                         No            8   \n",
       "4              3               62                         No            5   \n",
       "\n",
       "   Sample Question Papers Practiced  Performance Index  Gender  \n",
       "0                                 3                 60  Female  \n",
       "1                                 9                 57    Male  \n",
       "2                                 7                 58    Male  \n",
       "3                                 7                 58    Male  \n",
       "4                                 1                 43  Female  "
      ]
     },
     "execution_count": 4,
     "metadata": {},
     "output_type": "execute_result"
    }
   ],
   "source": [
    "# Xem 5 dòng đầu tiên\n",
    "data.head()"
   ]
  },
  {
   "cell_type": "markdown",
   "metadata": {},
   "source": [
    "**4.Xác định kiểu dữ liệu của thuộc tính:**"
   ]
  },
  {
   "cell_type": "code",
   "execution_count": 5,
   "metadata": {},
   "outputs": [
    {
     "name": "stdout",
     "output_type": "stream",
     "text": [
      "Biến số: Index(['Hours Studied', 'Previous Scores', 'Sleep Hours',\n",
      "       'Sample Question Papers Practiced', 'Performance Index'],\n",
      "      dtype='object')\n",
      "Biến phân loại: Index(['Extracurricular Activities', 'Gender'], dtype='object')\n",
      "Biến thời gian: Index([], dtype='object')\n"
     ]
    }
   ],
   "source": [
    "numerical_vars = data.select_dtypes(include=['int64', 'float64']).columns\n",
    "categorical_vars = data.select_dtypes(include=['object']).columns\n",
    "datetime_vars = data.select_dtypes(include=['datetime64']).columns\n",
    "\n",
    "print(\"Biến số:\", numerical_vars)\n",
    "print(\"Biến phân loại:\", categorical_vars)\n",
    "print(\"Biến thời gian:\", datetime_vars)"
   ]
  },
  {
   "cell_type": "code",
   "execution_count": 6,
   "metadata": {},
   "outputs": [
    {
     "data": {
      "text/plain": [
       "array(['Yes', 'No', nan], dtype=object)"
      ]
     },
     "execution_count": 6,
     "metadata": {},
     "output_type": "execute_result"
    }
   ],
   "source": [
    "data['Extracurricular Activities'].unique()"
   ]
  },
  {
   "cell_type": "code",
   "execution_count": 7,
   "metadata": {},
   "outputs": [
    {
     "data": {
      "text/plain": [
       "array(['Female', 'Male'], dtype=object)"
      ]
     },
     "execution_count": 7,
     "metadata": {},
     "output_type": "execute_result"
    }
   ],
   "source": [
    "data['Gender'].unique()"
   ]
  },
  {
   "cell_type": "markdown",
   "metadata": {},
   "source": [
    "**5.Xác định các thuộc tính ‘object’ và số lượng giá trị duy nhất:**  "
   ]
  },
  {
   "cell_type": "code",
   "execution_count": 8,
   "metadata": {},
   "outputs": [
    {
     "data": {
      "text/plain": [
       "['Extracurricular Activities', 'Gender']"
      ]
     },
     "execution_count": 8,
     "metadata": {},
     "output_type": "execute_result"
    }
   ],
   "source": [
    "object_columns = list(data.select_dtypes(['object']).columns)\n",
    "object_columns"
   ]
  },
  {
   "cell_type": "code",
   "execution_count": 9,
   "metadata": {},
   "outputs": [
    {
     "name": "stdout",
     "output_type": "stream",
     "text": [
      "*, Column:  Extracurricular Activities\n",
      "3 unique values \t & \t 997 non-null values\t 99.7 % non-null\n",
      "*, Column:  Gender\n",
      "2 unique values \t & \t 1000 non-null values\t 100.0 % non-null\n"
     ]
    }
   ],
   "source": [
    "# Đếm số lượng giá trị duy nhất cho mỗi cột\n",
    "for column in object_columns: \n",
    "    print(\"*, Column: \", column)   \n",
    "    print(len(data[column].unique()), \"unique values\", \"\\t & \\t\", \n",
    "          data[column].notnull().sum(), \"non-null values\\t\", \n",
    "          round(100* data[column].notnull().sum()/len(data[column]),2), \"% non-null\")    "
   ]
  },
  {
   "cell_type": "code",
   "execution_count": 10,
   "metadata": {},
   "outputs": [
    {
     "data": {
      "text/html": [
       "<div>\n",
       "<style scoped>\n",
       "    .dataframe tbody tr th:only-of-type {\n",
       "        vertical-align: middle;\n",
       "    }\n",
       "\n",
       "    .dataframe tbody tr th {\n",
       "        vertical-align: top;\n",
       "    }\n",
       "\n",
       "    .dataframe thead th {\n",
       "        text-align: right;\n",
       "    }\n",
       "</style>\n",
       "<table border=\"1\" class=\"dataframe\">\n",
       "  <thead>\n",
       "    <tr style=\"text-align: right;\">\n",
       "      <th></th>\n",
       "      <th>Extracurricular Activities</th>\n",
       "      <th>Gender</th>\n",
       "    </tr>\n",
       "  </thead>\n",
       "  <tbody>\n",
       "    <tr>\n",
       "      <th>count</th>\n",
       "      <td>997</td>\n",
       "      <td>1000</td>\n",
       "    </tr>\n",
       "    <tr>\n",
       "      <th>unique</th>\n",
       "      <td>2</td>\n",
       "      <td>2</td>\n",
       "    </tr>\n",
       "    <tr>\n",
       "      <th>top</th>\n",
       "      <td>No</td>\n",
       "      <td>Female</td>\n",
       "    </tr>\n",
       "    <tr>\n",
       "      <th>freq</th>\n",
       "      <td>518</td>\n",
       "      <td>559</td>\n",
       "    </tr>\n",
       "  </tbody>\n",
       "</table>\n",
       "</div>"
      ],
      "text/plain": [
       "       Extracurricular Activities  Gender\n",
       "count                         997    1000\n",
       "unique                          2       2\n",
       "top                            No  Female\n",
       "freq                          518     559"
      ]
     },
     "execution_count": 10,
     "metadata": {},
     "output_type": "execute_result"
    }
   ],
   "source": [
    "# Hoặc sử dụng describe(include=\"O\") cho biến phân loại\n",
    "data.describe(include=\"O\")"
   ]
  },
  {
   "cell_type": "markdown",
   "metadata": {},
   "source": [
    "**6.Xác định biến kiểu numeric:**"
   ]
  },
  {
   "cell_type": "code",
   "execution_count": 11,
   "metadata": {},
   "outputs": [
    {
     "data": {
      "text/plain": [
       "['Hours Studied',\n",
       " 'Previous Scores',\n",
       " 'Sleep Hours',\n",
       " 'Sample Question Papers Practiced',\n",
       " 'Performance Index']"
      ]
     },
     "execution_count": 11,
     "metadata": {},
     "output_type": "execute_result"
    }
   ],
   "source": [
    "# Danh sách các cột kiểu numeric\n",
    "numeric_columns = list(data.select_dtypes(['number']).columns)\n",
    "numeric_columns"
   ]
  },
  {
   "cell_type": "code",
   "execution_count": 12,
   "metadata": {},
   "outputs": [
    {
     "name": "stdout",
     "output_type": "stream",
     "text": [
      "*, Column:  Hours Studied\n",
      "9 unique values \t & \t 1000 non-null values\t 100.0 % non-null\n",
      "*, Column:  Previous Scores\n",
      "61 unique values \t & \t 1000 non-null values\t 100.0 % non-null\n",
      "*, Column:  Sleep Hours\n",
      "8 unique values \t & \t 1000 non-null values\t 100.0 % non-null\n",
      "*, Column:  Sample Question Papers Practiced\n",
      "10 unique values \t & \t 1000 non-null values\t 100.0 % non-null\n",
      "*, Column:  Performance Index\n",
      "87 unique values \t & \t 1000 non-null values\t 100.0 % non-null\n"
     ]
    }
   ],
   "source": [
    "# Đếm số lượng giá trị duy nhất cho mỗi cột\n",
    "for column in numeric_columns: \n",
    "    print(\"*, Column: \", column)   \n",
    "    print(len(data[column].unique()), \"unique values\", \"\\t & \\t\", \n",
    "          data[column].notnull().sum(), \"non-null values\\t\", \n",
    "          round(100* data[column].notnull().sum()/len(data[column]),2), \"% non-null\")"
   ]
  },
  {
   "cell_type": "code",
   "execution_count": 13,
   "metadata": {},
   "outputs": [
    {
     "data": {
      "text/html": [
       "<div>\n",
       "<style scoped>\n",
       "    .dataframe tbody tr th:only-of-type {\n",
       "        vertical-align: middle;\n",
       "    }\n",
       "\n",
       "    .dataframe tbody tr th {\n",
       "        vertical-align: top;\n",
       "    }\n",
       "\n",
       "    .dataframe thead th {\n",
       "        text-align: right;\n",
       "    }\n",
       "</style>\n",
       "<table border=\"1\" class=\"dataframe\">\n",
       "  <thead>\n",
       "    <tr style=\"text-align: right;\">\n",
       "      <th></th>\n",
       "      <th>Hours Studied</th>\n",
       "      <th>Previous Scores</th>\n",
       "      <th>Sleep Hours</th>\n",
       "      <th>Sample Question Papers Practiced</th>\n",
       "      <th>Performance Index</th>\n",
       "    </tr>\n",
       "  </thead>\n",
       "  <tbody>\n",
       "    <tr>\n",
       "      <th>count</th>\n",
       "      <td>1000.000000</td>\n",
       "      <td>1000.000000</td>\n",
       "      <td>1000.000000</td>\n",
       "      <td>1000.000000</td>\n",
       "      <td>1000.000000</td>\n",
       "    </tr>\n",
       "    <tr>\n",
       "      <th>mean</th>\n",
       "      <td>5.018000</td>\n",
       "      <td>70.539000</td>\n",
       "      <td>6.578000</td>\n",
       "      <td>4.555000</td>\n",
       "      <td>56.409000</td>\n",
       "    </tr>\n",
       "    <tr>\n",
       "      <th>std</th>\n",
       "      <td>2.574549</td>\n",
       "      <td>17.265184</td>\n",
       "      <td>2.608586</td>\n",
       "      <td>2.872495</td>\n",
       "      <td>19.512469</td>\n",
       "    </tr>\n",
       "    <tr>\n",
       "      <th>min</th>\n",
       "      <td>1.000000</td>\n",
       "      <td>29.000000</td>\n",
       "      <td>4.000000</td>\n",
       "      <td>0.000000</td>\n",
       "      <td>11.000000</td>\n",
       "    </tr>\n",
       "    <tr>\n",
       "      <th>25%</th>\n",
       "      <td>3.000000</td>\n",
       "      <td>56.000000</td>\n",
       "      <td>5.000000</td>\n",
       "      <td>2.000000</td>\n",
       "      <td>41.000000</td>\n",
       "    </tr>\n",
       "    <tr>\n",
       "      <th>50%</th>\n",
       "      <td>5.000000</td>\n",
       "      <td>71.000000</td>\n",
       "      <td>6.500000</td>\n",
       "      <td>5.000000</td>\n",
       "      <td>57.000000</td>\n",
       "    </tr>\n",
       "    <tr>\n",
       "      <th>75%</th>\n",
       "      <td>7.000000</td>\n",
       "      <td>86.000000</td>\n",
       "      <td>8.000000</td>\n",
       "      <td>7.000000</td>\n",
       "      <td>72.000000</td>\n",
       "    </tr>\n",
       "    <tr>\n",
       "      <th>max</th>\n",
       "      <td>9.000000</td>\n",
       "      <td>99.000000</td>\n",
       "      <td>60.000000</td>\n",
       "      <td>9.000000</td>\n",
       "      <td>100.000000</td>\n",
       "    </tr>\n",
       "  </tbody>\n",
       "</table>\n",
       "</div>"
      ],
      "text/plain": [
       "       Hours Studied  Previous Scores  Sleep Hours  \\\n",
       "count    1000.000000      1000.000000  1000.000000   \n",
       "mean        5.018000        70.539000     6.578000   \n",
       "std         2.574549        17.265184     2.608586   \n",
       "min         1.000000        29.000000     4.000000   \n",
       "25%         3.000000        56.000000     5.000000   \n",
       "50%         5.000000        71.000000     6.500000   \n",
       "75%         7.000000        86.000000     8.000000   \n",
       "max         9.000000        99.000000    60.000000   \n",
       "\n",
       "       Sample Question Papers Practiced  Performance Index  \n",
       "count                       1000.000000        1000.000000  \n",
       "mean                           4.555000          56.409000  \n",
       "std                            2.872495          19.512469  \n",
       "min                            0.000000          11.000000  \n",
       "25%                            2.000000          41.000000  \n",
       "50%                            5.000000          57.000000  \n",
       "75%                            7.000000          72.000000  \n",
       "max                            9.000000         100.000000  "
      ]
     },
     "execution_count": 13,
     "metadata": {},
     "output_type": "execute_result"
    }
   ],
   "source": [
    "# Hoặc sử dụng describe() cho thuộc tính numeric\n",
    "data.describe()"
   ]
  },
  {
   "cell_type": "markdown",
   "metadata": {},
   "source": [
    "**7.Xác định biến mục tiêu (Biến Output):**  "
   ]
  },
  {
   "cell_type": "code",
   "execution_count": 14,
   "metadata": {},
   "outputs": [
    {
     "name": "stdout",
     "output_type": "stream",
     "text": [
      "Biến mục tiêu: Performance Index\n"
     ]
    }
   ],
   "source": [
    "# Thường căn cứ vào yêu cầu của bài toán\n",
    "target_var = \"Performance Index\"  \n",
    "print(\"Biến mục tiêu:\", target_var)"
   ]
  },
  {
   "cell_type": "markdown",
   "metadata": {},
   "source": [
    "**8.Xác định biến độc lập (Biến input):**  "
   ]
  },
  {
   "cell_type": "code",
   "execution_count": 15,
   "metadata": {},
   "outputs": [
    {
     "name": "stdout",
     "output_type": "stream",
     "text": [
      "Biến độc lập: ['Hours Studied', 'Previous Scores', 'Extracurricular Activities', 'Sleep Hours', 'Sample Question Papers Practiced', 'Gender']\n"
     ]
    }
   ],
   "source": [
    "independent_vars = [col for col in data.columns if col != target_var]\n",
    "print(\"Biến độc lập:\", independent_vars)"
   ]
  },
  {
   "attachments": {},
   "cell_type": "markdown",
   "metadata": {},
   "source": [
    "#### Bước 2:  Xử lý dữ liệu trùng, thiếu, ngoại lệ (Handle Missing Values):   \n",
    "Sau khi xác định các biến trong dữ liệu, bước tiếp theo của EDA là xử lý dữ liệu bị trùng, dữ liệu bị thiếu và dữ liệu ngoại lệ. Đây là một bước quan trọng để đảm bảo chất lượng dữ liệu trước khi phân tích hoặc xây dựng mô hình.  "
   ]
  },
  {
   "cell_type": "markdown",
   "metadata": {},
   "source": [
    "**1.Xử lý dữ liệu trùng (Duplicate Data):**  \n",
    "Dữ liệu trùng lặp xảy ra khi một hoặc nhiều dòng dữ liệu giống nhau hoàn toàn hoặc gần như giống nhau, gây ảnh hưởng đến kết quả phân tích.  \n",
    "Cú pháp : DataFrame.duplicated(subset=None, keep='first')  \n",
    "- subset : Tên cột (hoặc danh sách cột) để kiểm tra trùng lặp. Mặc định là None, nghĩa là kiểm tra tất cả các cột.\n",
    "- keep : Xác định giá trị nào được đánh dấu không trùng lặp:  \n",
    "    • 'first' (mặc định): đánh dấu bản ghi đầu tiên là không trùng, các bản ghi sau là trùng.  \n",
    "    • 'last': đánh dấu bản ghi cuối là không trùng, các bản ghi trước là trùng.  \n",
    "    • False: đánh dấu tất cả bản ghi trùng là True.\n",
    "    \n",
    "Giá trị trả về :  \n",
    "Trả về một Series boolean có cùng độ dài với DataFrame, đánh dấu True cho các bản ghi bị trùng lặp  \n",
    "\n",
    "Hàm drop_duplicates() trong Pandas dùng để loại bỏ các bản ghi trùng lặp trong một DataFrame hoặc Series.  \n",
    "DataFrame.drop_duplicates(subset=None, keep='first', inplace=False, ignore_index=False)  \n",
    " - subset : Tên cột (hoặc danh sách cột) để xác định trùng lặp. Nếu là None (mặc định), sử dụng tất cả các cột.\n",
    " - keep : Xác định bản ghi nào được giữ lại:    \n",
    "   • 'first' (mặc định): giữ lại bản ghi đầu tiên.  \n",
    "   • 'last': giữ bản ghi cuối.  \n",
    "   • False: loại bỏ tất cả bản ghi trùng lặp.  \n",
    " - inplace : Nếu là True, thay đổi trực tiếp trên DataFrame gốc mà không trả về bản sao mới.  \n",
    " - ignore_index : Nếu là True, đặt lại chỉ số (index) sau khi xóa trùng lặp.\n",
    "\n",
    "Giá trị trả về:  \n",
    "Trả về một DataFrame mới (trừ khi inplace=True) đã loại bỏ các dòng trùng lặp theo điều kiện.  \n",
    "\n"
   ]
  },
  {
   "cell_type": "markdown",
   "metadata": {},
   "source": [
    "#### Dữ liệu ví dụ:  "
   ]
  },
  {
   "cell_type": "code",
   "execution_count": 16,
   "metadata": {},
   "outputs": [
    {
     "data": {
      "text/html": [
       "<div>\n",
       "<style scoped>\n",
       "    .dataframe tbody tr th:only-of-type {\n",
       "        vertical-align: middle;\n",
       "    }\n",
       "\n",
       "    .dataframe tbody tr th {\n",
       "        vertical-align: top;\n",
       "    }\n",
       "\n",
       "    .dataframe thead th {\n",
       "        text-align: right;\n",
       "    }\n",
       "</style>\n",
       "<table border=\"1\" class=\"dataframe\">\n",
       "  <thead>\n",
       "    <tr style=\"text-align: right;\">\n",
       "      <th></th>\n",
       "      <th>name</th>\n",
       "      <th>age</th>\n",
       "    </tr>\n",
       "  </thead>\n",
       "  <tbody>\n",
       "    <tr>\n",
       "      <th>0</th>\n",
       "      <td>Alice</td>\n",
       "      <td>25</td>\n",
       "    </tr>\n",
       "    <tr>\n",
       "      <th>1</th>\n",
       "      <td>Bob</td>\n",
       "      <td>30</td>\n",
       "    </tr>\n",
       "    <tr>\n",
       "      <th>2</th>\n",
       "      <td>Alice</td>\n",
       "      <td>25</td>\n",
       "    </tr>\n",
       "    <tr>\n",
       "      <th>3</th>\n",
       "      <td>David</td>\n",
       "      <td>40</td>\n",
       "    </tr>\n",
       "    <tr>\n",
       "      <th>4</th>\n",
       "      <td>Bob</td>\n",
       "      <td>35</td>\n",
       "    </tr>\n",
       "  </tbody>\n",
       "</table>\n",
       "</div>"
      ],
      "text/plain": [
       "    name  age\n",
       "0  Alice   25\n",
       "1    Bob   30\n",
       "2  Alice   25\n",
       "3  David   40\n",
       "4    Bob   35"
      ]
     },
     "metadata": {},
     "output_type": "display_data"
    }
   ],
   "source": [
    "df = pd.DataFrame({\n",
    "    'name': ['Alice', 'Bob', 'Alice', 'David', 'Bob'],\n",
    "    'age': [25, 30, 25, 40, 35]\n",
    "})\n",
    "display(df)"
   ]
  },
  {
   "cell_type": "code",
   "execution_count": 17,
   "metadata": {},
   "outputs": [
    {
     "data": {
      "text/html": [
       "<div>\n",
       "<style scoped>\n",
       "    .dataframe tbody tr th:only-of-type {\n",
       "        vertical-align: middle;\n",
       "    }\n",
       "\n",
       "    .dataframe tbody tr th {\n",
       "        vertical-align: top;\n",
       "    }\n",
       "\n",
       "    .dataframe thead th {\n",
       "        text-align: right;\n",
       "    }\n",
       "</style>\n",
       "<table border=\"1\" class=\"dataframe\">\n",
       "  <thead>\n",
       "    <tr style=\"text-align: right;\">\n",
       "      <th></th>\n",
       "      <th>name</th>\n",
       "      <th>age</th>\n",
       "    </tr>\n",
       "  </thead>\n",
       "  <tbody>\n",
       "    <tr>\n",
       "      <th>2</th>\n",
       "      <td>Alice</td>\n",
       "      <td>25</td>\n",
       "    </tr>\n",
       "  </tbody>\n",
       "</table>\n",
       "</div>"
      ],
      "text/plain": [
       "    name  age\n",
       "2  Alice   25"
      ]
     },
     "execution_count": 17,
     "metadata": {},
     "output_type": "execute_result"
    }
   ],
   "source": [
    "# Đánh dấu bản ghi đầu tiên là không trùng, các bản ghi sau là trùng. ( Trùng tất cả các cột )\n",
    "df[df.duplicated(keep='first')]"
   ]
  },
  {
   "cell_type": "code",
   "execution_count": 18,
   "metadata": {},
   "outputs": [
    {
     "data": {
      "text/html": [
       "<div>\n",
       "<style scoped>\n",
       "    .dataframe tbody tr th:only-of-type {\n",
       "        vertical-align: middle;\n",
       "    }\n",
       "\n",
       "    .dataframe tbody tr th {\n",
       "        vertical-align: top;\n",
       "    }\n",
       "\n",
       "    .dataframe thead th {\n",
       "        text-align: right;\n",
       "    }\n",
       "</style>\n",
       "<table border=\"1\" class=\"dataframe\">\n",
       "  <thead>\n",
       "    <tr style=\"text-align: right;\">\n",
       "      <th></th>\n",
       "      <th>name</th>\n",
       "      <th>age</th>\n",
       "    </tr>\n",
       "  </thead>\n",
       "  <tbody>\n",
       "    <tr>\n",
       "      <th>0</th>\n",
       "      <td>Alice</td>\n",
       "      <td>25</td>\n",
       "    </tr>\n",
       "  </tbody>\n",
       "</table>\n",
       "</div>"
      ],
      "text/plain": [
       "    name  age\n",
       "0  Alice   25"
      ]
     },
     "execution_count": 18,
     "metadata": {},
     "output_type": "execute_result"
    }
   ],
   "source": [
    "# Đánh dấu bản ghi cuối là không trùng, các bản ghi trước là trùng. ( Trùng tất cả các cột )\n",
    "df[df.duplicated(keep='last')]"
   ]
  },
  {
   "cell_type": "code",
   "execution_count": 19,
   "metadata": {},
   "outputs": [
    {
     "data": {
      "text/html": [
       "<div>\n",
       "<style scoped>\n",
       "    .dataframe tbody tr th:only-of-type {\n",
       "        vertical-align: middle;\n",
       "    }\n",
       "\n",
       "    .dataframe tbody tr th {\n",
       "        vertical-align: top;\n",
       "    }\n",
       "\n",
       "    .dataframe thead th {\n",
       "        text-align: right;\n",
       "    }\n",
       "</style>\n",
       "<table border=\"1\" class=\"dataframe\">\n",
       "  <thead>\n",
       "    <tr style=\"text-align: right;\">\n",
       "      <th></th>\n",
       "      <th>name</th>\n",
       "      <th>age</th>\n",
       "    </tr>\n",
       "  </thead>\n",
       "  <tbody>\n",
       "    <tr>\n",
       "      <th>0</th>\n",
       "      <td>Alice</td>\n",
       "      <td>25</td>\n",
       "    </tr>\n",
       "    <tr>\n",
       "      <th>2</th>\n",
       "      <td>Alice</td>\n",
       "      <td>25</td>\n",
       "    </tr>\n",
       "  </tbody>\n",
       "</table>\n",
       "</div>"
      ],
      "text/plain": [
       "    name  age\n",
       "0  Alice   25\n",
       "2  Alice   25"
      ]
     },
     "execution_count": 19,
     "metadata": {},
     "output_type": "execute_result"
    }
   ],
   "source": [
    "# Đánh dấu tất cả bản ghi trùng là True.\n",
    "df[df.duplicated(keep=False)]"
   ]
  },
  {
   "cell_type": "code",
   "execution_count": 20,
   "metadata": {},
   "outputs": [
    {
     "data": {
      "text/html": [
       "<div>\n",
       "<style scoped>\n",
       "    .dataframe tbody tr th:only-of-type {\n",
       "        vertical-align: middle;\n",
       "    }\n",
       "\n",
       "    .dataframe tbody tr th {\n",
       "        vertical-align: top;\n",
       "    }\n",
       "\n",
       "    .dataframe thead th {\n",
       "        text-align: right;\n",
       "    }\n",
       "</style>\n",
       "<table border=\"1\" class=\"dataframe\">\n",
       "  <thead>\n",
       "    <tr style=\"text-align: right;\">\n",
       "      <th></th>\n",
       "      <th>name</th>\n",
       "      <th>age</th>\n",
       "    </tr>\n",
       "  </thead>\n",
       "  <tbody>\n",
       "    <tr>\n",
       "      <th>2</th>\n",
       "      <td>Alice</td>\n",
       "      <td>25</td>\n",
       "    </tr>\n",
       "  </tbody>\n",
       "</table>\n",
       "</div>"
      ],
      "text/plain": [
       "    name  age\n",
       "2  Alice   25"
      ]
     },
     "execution_count": 20,
     "metadata": {},
     "output_type": "execute_result"
    }
   ],
   "source": [
    "# Đánh dấu bản ghi đầu tiên là không trùng, các bản ghi sau là trùng. ( Trùng cột age )\n",
    "df[df.duplicated(subset='age',keep='first')]"
   ]
  },
  {
   "cell_type": "code",
   "execution_count": 21,
   "metadata": {},
   "outputs": [
    {
     "data": {
      "text/html": [
       "<div>\n",
       "<style scoped>\n",
       "    .dataframe tbody tr th:only-of-type {\n",
       "        vertical-align: middle;\n",
       "    }\n",
       "\n",
       "    .dataframe tbody tr th {\n",
       "        vertical-align: top;\n",
       "    }\n",
       "\n",
       "    .dataframe thead th {\n",
       "        text-align: right;\n",
       "    }\n",
       "</style>\n",
       "<table border=\"1\" class=\"dataframe\">\n",
       "  <thead>\n",
       "    <tr style=\"text-align: right;\">\n",
       "      <th></th>\n",
       "      <th>name</th>\n",
       "      <th>age</th>\n",
       "    </tr>\n",
       "  </thead>\n",
       "  <tbody>\n",
       "    <tr>\n",
       "      <th>0</th>\n",
       "      <td>Alice</td>\n",
       "      <td>25</td>\n",
       "    </tr>\n",
       "  </tbody>\n",
       "</table>\n",
       "</div>"
      ],
      "text/plain": [
       "    name  age\n",
       "0  Alice   25"
      ]
     },
     "execution_count": 21,
     "metadata": {},
     "output_type": "execute_result"
    }
   ],
   "source": [
    "# # Đánh dấu bản ghi cuối là không trùng, các bản ghi trước là trùng. ( Trùng cột age )\n",
    "df[df.duplicated(subset='age',keep='last')]"
   ]
  },
  {
   "cell_type": "code",
   "execution_count": 22,
   "metadata": {},
   "outputs": [
    {
     "data": {
      "text/html": [
       "<div>\n",
       "<style scoped>\n",
       "    .dataframe tbody tr th:only-of-type {\n",
       "        vertical-align: middle;\n",
       "    }\n",
       "\n",
       "    .dataframe tbody tr th {\n",
       "        vertical-align: top;\n",
       "    }\n",
       "\n",
       "    .dataframe thead th {\n",
       "        text-align: right;\n",
       "    }\n",
       "</style>\n",
       "<table border=\"1\" class=\"dataframe\">\n",
       "  <thead>\n",
       "    <tr style=\"text-align: right;\">\n",
       "      <th></th>\n",
       "      <th>name</th>\n",
       "      <th>age</th>\n",
       "    </tr>\n",
       "  </thead>\n",
       "  <tbody>\n",
       "    <tr>\n",
       "      <th>0</th>\n",
       "      <td>Alice</td>\n",
       "      <td>25</td>\n",
       "    </tr>\n",
       "    <tr>\n",
       "      <th>2</th>\n",
       "      <td>Alice</td>\n",
       "      <td>25</td>\n",
       "    </tr>\n",
       "  </tbody>\n",
       "</table>\n",
       "</div>"
      ],
      "text/plain": [
       "    name  age\n",
       "0  Alice   25\n",
       "2  Alice   25"
      ]
     },
     "execution_count": 22,
     "metadata": {},
     "output_type": "execute_result"
    }
   ],
   "source": [
    "# Đánh dấu tất cả bản ghi trùng là True. ( Trùng cột age )\n",
    "df[df.duplicated(subset='age',keep=False)]"
   ]
  },
  {
   "cell_type": "code",
   "execution_count": 23,
   "metadata": {},
   "outputs": [
    {
     "data": {
      "text/html": [
       "<div>\n",
       "<style scoped>\n",
       "    .dataframe tbody tr th:only-of-type {\n",
       "        vertical-align: middle;\n",
       "    }\n",
       "\n",
       "    .dataframe tbody tr th {\n",
       "        vertical-align: top;\n",
       "    }\n",
       "\n",
       "    .dataframe thead th {\n",
       "        text-align: right;\n",
       "    }\n",
       "</style>\n",
       "<table border=\"1\" class=\"dataframe\">\n",
       "  <thead>\n",
       "    <tr style=\"text-align: right;\">\n",
       "      <th></th>\n",
       "      <th>name</th>\n",
       "      <th>age</th>\n",
       "    </tr>\n",
       "  </thead>\n",
       "  <tbody>\n",
       "    <tr>\n",
       "      <th>0</th>\n",
       "      <td>Alice</td>\n",
       "      <td>25</td>\n",
       "    </tr>\n",
       "    <tr>\n",
       "      <th>1</th>\n",
       "      <td>Bob</td>\n",
       "      <td>30</td>\n",
       "    </tr>\n",
       "    <tr>\n",
       "      <th>3</th>\n",
       "      <td>David</td>\n",
       "      <td>40</td>\n",
       "    </tr>\n",
       "    <tr>\n",
       "      <th>4</th>\n",
       "      <td>Bob</td>\n",
       "      <td>35</td>\n",
       "    </tr>\n",
       "  </tbody>\n",
       "</table>\n",
       "</div>"
      ],
      "text/plain": [
       "    name  age\n",
       "0  Alice   25\n",
       "1    Bob   30\n",
       "3  David   40\n",
       "4    Bob   35"
      ]
     },
     "execution_count": 23,
     "metadata": {},
     "output_type": "execute_result"
    }
   ],
   "source": [
    "# Kết hợp với ~ để lọc ra các bản ghi không bị trùng:\n",
    "df_unique = df[~df.duplicated()]\n",
    "df_unique"
   ]
  },
  {
   "cell_type": "code",
   "execution_count": 24,
   "metadata": {},
   "outputs": [
    {
     "data": {
      "text/plain": [
       "1"
      ]
     },
     "execution_count": 24,
     "metadata": {},
     "output_type": "execute_result"
    }
   ],
   "source": [
    "# Phát hiện dữ liệu trùng\n",
    "df.duplicated().sum()"
   ]
  },
  {
   "cell_type": "code",
   "execution_count": 25,
   "metadata": {},
   "outputs": [
    {
     "name": "stdout",
     "output_type": "stream",
     "text": [
      "0    False\n",
      "1    False\n",
      "2     True\n",
      "3    False\n",
      "4    False\n",
      "dtype: bool\n"
     ]
    }
   ],
   "source": [
    "# Kiểm tra trùng lặp toàn bộ hàng (dựa vào tất cả các cột)\n",
    "print(df.duplicated())"
   ]
  },
  {
   "cell_type": "code",
   "execution_count": 26,
   "metadata": {},
   "outputs": [
    {
     "name": "stdout",
     "output_type": "stream",
     "text": [
      "Before: 5\n",
      "After: 4\n"
     ]
    },
    {
     "data": {
      "text/html": [
       "<div>\n",
       "<style scoped>\n",
       "    .dataframe tbody tr th:only-of-type {\n",
       "        vertical-align: middle;\n",
       "    }\n",
       "\n",
       "    .dataframe tbody tr th {\n",
       "        vertical-align: top;\n",
       "    }\n",
       "\n",
       "    .dataframe thead th {\n",
       "        text-align: right;\n",
       "    }\n",
       "</style>\n",
       "<table border=\"1\" class=\"dataframe\">\n",
       "  <thead>\n",
       "    <tr style=\"text-align: right;\">\n",
       "      <th></th>\n",
       "      <th>name</th>\n",
       "      <th>age</th>\n",
       "    </tr>\n",
       "  </thead>\n",
       "  <tbody>\n",
       "    <tr>\n",
       "      <th>0</th>\n",
       "      <td>Alice</td>\n",
       "      <td>25</td>\n",
       "    </tr>\n",
       "    <tr>\n",
       "      <th>1</th>\n",
       "      <td>Bob</td>\n",
       "      <td>30</td>\n",
       "    </tr>\n",
       "    <tr>\n",
       "      <th>3</th>\n",
       "      <td>David</td>\n",
       "      <td>40</td>\n",
       "    </tr>\n",
       "    <tr>\n",
       "      <th>4</th>\n",
       "      <td>Bob</td>\n",
       "      <td>35</td>\n",
       "    </tr>\n",
       "  </tbody>\n",
       "</table>\n",
       "</div>"
      ],
      "text/plain": [
       "    name  age\n",
       "0  Alice   25\n",
       "1    Bob   30\n",
       "3  David   40\n",
       "4    Bob   35"
      ]
     },
     "metadata": {},
     "output_type": "display_data"
    }
   ],
   "source": [
    "# Loại bỏ dữ liệu trùng\n",
    "print(\"Before:\", len(df))\n",
    "df = df.drop_duplicates()\n",
    "print(\"After:\", len(df))\n",
    "display(df)"
   ]
  },
  {
   "cell_type": "markdown",
   "metadata": {},
   "source": [
    "#### Dữ liệu bài học"
   ]
  },
  {
   "cell_type": "code",
   "execution_count": 14,
   "metadata": {},
   "outputs": [
    {
     "data": {
      "text/plain": [
       "2"
      ]
     },
     "execution_count": 14,
     "metadata": {},
     "output_type": "execute_result"
    }
   ],
   "source": [
    "# Phát hiện dữ liệu trùng\n",
    "data.duplicated().sum()"
   ]
  },
  {
   "cell_type": "code",
   "execution_count": 15,
   "metadata": {},
   "outputs": [
    {
     "name": "stdout",
     "output_type": "stream",
     "text": [
      "Before: 1000\n",
      "After: 998\n"
     ]
    }
   ],
   "source": [
    "# Loại bỏ dữ liệu trùng\n",
    "print(\"Before:\", len(data))\n",
    "data = data.drop_duplicates()\n",
    "print(\"After:\", len(data))"
   ]
  },
  {
   "attachments": {},
   "cell_type": "markdown",
   "metadata": {},
   "source": [
    "**2.Xử lý dữ liệu thiếu (Missing Data):**  \n",
    "Dữ liệu thiếu xảy ra khi một hoặc nhiều giá trị của biến không được ghi nhận, gây ảnh hưởng đến kết quả phân tích và mô hình.  \n",
    "Lý do xuất hiện các giá trị bị thiếu có thể xảy ra ở hai giai đoạn:  \n",
    "- Khai thác dữ liệu (Data Extraction): Có thể gặp vấn đề với quá trình trích xuất. Trong những trường hợp như vậy, chúng ta nên kiểm tra kỹ lại dữ liệu chính xác với người quản trị dữ liệu. Lỗi ở giai đoạn trích xuất dữ liệu thường dễ tìm và cũng có thể được sửa một cách dễ dàng.  \n",
    "- Thu thập dữ liệu (Data collection): Những lỗi xảy ra tại thời điểm thu thập dữ liệu khó sửa hơn. Ví dụ: Thiếu do không thu thập được thông tin (người dùng không cung cấp thông tin thu nhập, tuổi...) "
   ]
  },
  {
   "cell_type": "markdown",
   "metadata": {},
   "source": [
    "#### Các kiểu xử lý dữ liệu bị thiếu "
   ]
  },
  {
   "cell_type": "markdown",
   "metadata": {},
   "source": [
    "#### Dữ liệu ví dụ:  "
   ]
  },
  {
   "cell_type": "code",
   "execution_count": 16,
   "metadata": {},
   "outputs": [
    {
     "data": {
      "text/html": [
       "<div>\n",
       "<style scoped>\n",
       "    .dataframe tbody tr th:only-of-type {\n",
       "        vertical-align: middle;\n",
       "    }\n",
       "\n",
       "    .dataframe tbody tr th {\n",
       "        vertical-align: top;\n",
       "    }\n",
       "\n",
       "    .dataframe thead th {\n",
       "        text-align: right;\n",
       "    }\n",
       "</style>\n",
       "<table border=\"1\" class=\"dataframe\">\n",
       "  <thead>\n",
       "    <tr style=\"text-align: right;\">\n",
       "      <th></th>\n",
       "      <th>Gender</th>\n",
       "      <th>Manpower</th>\n",
       "      <th>Sales</th>\n",
       "    </tr>\n",
       "  </thead>\n",
       "  <tbody>\n",
       "    <tr>\n",
       "      <th>0</th>\n",
       "      <td>M</td>\n",
       "      <td>25.0</td>\n",
       "      <td>343.0</td>\n",
       "    </tr>\n",
       "    <tr>\n",
       "      <th>1</th>\n",
       "      <td>F</td>\n",
       "      <td>NaN</td>\n",
       "      <td>280.0</td>\n",
       "    </tr>\n",
       "    <tr>\n",
       "      <th>2</th>\n",
       "      <td>M</td>\n",
       "      <td>33.0</td>\n",
       "      <td>332.0</td>\n",
       "    </tr>\n",
       "    <tr>\n",
       "      <th>3</th>\n",
       "      <td>M</td>\n",
       "      <td>NaN</td>\n",
       "      <td>272.0</td>\n",
       "    </tr>\n",
       "    <tr>\n",
       "      <th>4</th>\n",
       "      <td>F</td>\n",
       "      <td>25.0</td>\n",
       "      <td>NaN</td>\n",
       "    </tr>\n",
       "    <tr>\n",
       "      <th>5</th>\n",
       "      <td>M</td>\n",
       "      <td>29.0</td>\n",
       "      <td>326.0</td>\n",
       "    </tr>\n",
       "    <tr>\n",
       "      <th>6</th>\n",
       "      <td>None</td>\n",
       "      <td>26.0</td>\n",
       "      <td>259.0</td>\n",
       "    </tr>\n",
       "    <tr>\n",
       "      <th>7</th>\n",
       "      <td>M</td>\n",
       "      <td>32.0</td>\n",
       "      <td>297.0</td>\n",
       "    </tr>\n",
       "  </tbody>\n",
       "</table>\n",
       "</div>"
      ],
      "text/plain": [
       "  Gender  Manpower  Sales\n",
       "0      M      25.0  343.0\n",
       "1      F       NaN  280.0\n",
       "2      M      33.0  332.0\n",
       "3      M       NaN  272.0\n",
       "4      F      25.0    NaN\n",
       "5      M      29.0  326.0\n",
       "6   None      26.0  259.0\n",
       "7      M      32.0  297.0"
      ]
     },
     "metadata": {},
     "output_type": "display_data"
    }
   ],
   "source": [
    "# Cho một dữ liệu ví dụ \n",
    "df = pd.DataFrame({\n",
    "    'Gender': ['M', 'F', 'M', 'M', 'F', 'M', None, 'M'],\n",
    "    'Manpower': [25, None, 33, None, 25, 29, 26, 32],\n",
    "    'Sales': [343, 280, 332, 272, None, 326, 259, 297]\n",
    "})\n",
    "display(df)"
   ]
  },
  {
   "cell_type": "markdown",
   "metadata": {
    "jp-MarkdownHeadingCollapsed": true
   },
   "source": [
    "**1- Loại bỏ dữ liệu bị thiếu (Drop missing value):**"
   ]
  },
  {
   "cell_type": "code",
   "execution_count": 17,
   "metadata": {},
   "outputs": [
    {
     "name": "stdout",
     "output_type": "stream",
     "text": [
      "(4, 3)\n"
     ]
    }
   ],
   "source": [
    "# Xoá dòng nào có giá trị bị thiếu\n",
    "# Tạo một DataFrame mới bỏ tất cả các hàng không đầy đủ\n",
    "no_missing_values_rows = df.dropna(how='any')\n",
    "print(no_missing_values_rows.shape)"
   ]
  },
  {
   "cell_type": "code",
   "execution_count": 18,
   "metadata": {},
   "outputs": [
    {
     "data": {
      "text/html": [
       "<div>\n",
       "<style scoped>\n",
       "    .dataframe tbody tr th:only-of-type {\n",
       "        vertical-align: middle;\n",
       "    }\n",
       "\n",
       "    .dataframe tbody tr th {\n",
       "        vertical-align: top;\n",
       "    }\n",
       "\n",
       "    .dataframe thead th {\n",
       "        text-align: right;\n",
       "    }\n",
       "</style>\n",
       "<table border=\"1\" class=\"dataframe\">\n",
       "  <thead>\n",
       "    <tr style=\"text-align: right;\">\n",
       "      <th></th>\n",
       "      <th>Gender</th>\n",
       "      <th>Manpower</th>\n",
       "      <th>Sales</th>\n",
       "    </tr>\n",
       "  </thead>\n",
       "  <tbody>\n",
       "    <tr>\n",
       "      <th>0</th>\n",
       "      <td>M</td>\n",
       "      <td>25.0</td>\n",
       "      <td>343.0</td>\n",
       "    </tr>\n",
       "    <tr>\n",
       "      <th>2</th>\n",
       "      <td>M</td>\n",
       "      <td>33.0</td>\n",
       "      <td>332.0</td>\n",
       "    </tr>\n",
       "    <tr>\n",
       "      <th>5</th>\n",
       "      <td>M</td>\n",
       "      <td>29.0</td>\n",
       "      <td>326.0</td>\n",
       "    </tr>\n",
       "    <tr>\n",
       "      <th>7</th>\n",
       "      <td>M</td>\n",
       "      <td>32.0</td>\n",
       "      <td>297.0</td>\n",
       "    </tr>\n",
       "  </tbody>\n",
       "</table>\n",
       "</div>"
      ],
      "text/plain": [
       "  Gender  Manpower  Sales\n",
       "0      M      25.0  343.0\n",
       "2      M      33.0  332.0\n",
       "5      M      29.0  326.0\n",
       "7      M      32.0  297.0"
      ]
     },
     "execution_count": 18,
     "metadata": {},
     "output_type": "execute_result"
    }
   ],
   "source": [
    "no_missing_values_rows"
   ]
  },
  {
   "cell_type": "code",
   "execution_count": 19,
   "metadata": {},
   "outputs": [
    {
     "name": "stdout",
     "output_type": "stream",
     "text": [
      "(8, 0)\n"
     ]
    }
   ],
   "source": [
    "# Tạo một DataFrame mới bỏ tất cả các cột với các hàng không đầy đủ\n",
    "no_missing_values_cols = df.dropna(how='any', axis=1)\n",
    "print(no_missing_values_cols.shape)"
   ]
  },
  {
   "cell_type": "code",
   "execution_count": 33,
   "metadata": {},
   "outputs": [
    {
     "data": {
      "text/html": [
       "<div>\n",
       "<style scoped>\n",
       "    .dataframe tbody tr th:only-of-type {\n",
       "        vertical-align: middle;\n",
       "    }\n",
       "\n",
       "    .dataframe tbody tr th {\n",
       "        vertical-align: top;\n",
       "    }\n",
       "\n",
       "    .dataframe thead th {\n",
       "        text-align: right;\n",
       "    }\n",
       "</style>\n",
       "<table border=\"1\" class=\"dataframe\">\n",
       "  <thead>\n",
       "    <tr style=\"text-align: right;\">\n",
       "      <th></th>\n",
       "    </tr>\n",
       "  </thead>\n",
       "  <tbody>\n",
       "    <tr>\n",
       "      <th>0</th>\n",
       "    </tr>\n",
       "    <tr>\n",
       "      <th>1</th>\n",
       "    </tr>\n",
       "    <tr>\n",
       "      <th>2</th>\n",
       "    </tr>\n",
       "    <tr>\n",
       "      <th>3</th>\n",
       "    </tr>\n",
       "    <tr>\n",
       "      <th>4</th>\n",
       "    </tr>\n",
       "    <tr>\n",
       "      <th>5</th>\n",
       "    </tr>\n",
       "    <tr>\n",
       "      <th>6</th>\n",
       "    </tr>\n",
       "    <tr>\n",
       "      <th>7</th>\n",
       "    </tr>\n",
       "  </tbody>\n",
       "</table>\n",
       "</div>"
      ],
      "text/plain": [
       "Empty DataFrame\n",
       "Columns: []\n",
       "Index: [0, 1, 2, 3, 4, 5, 6, 7]"
      ]
     },
     "execution_count": 33,
     "metadata": {},
     "output_type": "execute_result"
    }
   ],
   "source": [
    "no_missing_values_cols"
   ]
  },
  {
   "cell_type": "code",
   "execution_count": 20,
   "metadata": {},
   "outputs": [
    {
     "data": {
      "text/html": [
       "<div>\n",
       "<style scoped>\n",
       "    .dataframe tbody tr th:only-of-type {\n",
       "        vertical-align: middle;\n",
       "    }\n",
       "\n",
       "    .dataframe tbody tr th {\n",
       "        vertical-align: top;\n",
       "    }\n",
       "\n",
       "    .dataframe thead th {\n",
       "        text-align: right;\n",
       "    }\n",
       "</style>\n",
       "<table border=\"1\" class=\"dataframe\">\n",
       "  <thead>\n",
       "    <tr style=\"text-align: right;\">\n",
       "      <th></th>\n",
       "      <th>Gender</th>\n",
       "      <th>Manpower</th>\n",
       "      <th>Sales</th>\n",
       "    </tr>\n",
       "  </thead>\n",
       "  <tbody>\n",
       "    <tr>\n",
       "      <th>0</th>\n",
       "      <td>M</td>\n",
       "      <td>25.0</td>\n",
       "      <td>343.0</td>\n",
       "    </tr>\n",
       "    <tr>\n",
       "      <th>1</th>\n",
       "      <td>F</td>\n",
       "      <td>NaN</td>\n",
       "      <td>280.0</td>\n",
       "    </tr>\n",
       "    <tr>\n",
       "      <th>2</th>\n",
       "      <td>M</td>\n",
       "      <td>33.0</td>\n",
       "      <td>332.0</td>\n",
       "    </tr>\n",
       "    <tr>\n",
       "      <th>3</th>\n",
       "      <td>M</td>\n",
       "      <td>NaN</td>\n",
       "      <td>272.0</td>\n",
       "    </tr>\n",
       "    <tr>\n",
       "      <th>4</th>\n",
       "      <td>F</td>\n",
       "      <td>25.0</td>\n",
       "      <td>NaN</td>\n",
       "    </tr>\n",
       "    <tr>\n",
       "      <th>5</th>\n",
       "      <td>M</td>\n",
       "      <td>29.0</td>\n",
       "      <td>326.0</td>\n",
       "    </tr>\n",
       "    <tr>\n",
       "      <th>6</th>\n",
       "      <td>None</td>\n",
       "      <td>26.0</td>\n",
       "      <td>259.0</td>\n",
       "    </tr>\n",
       "    <tr>\n",
       "      <th>7</th>\n",
       "      <td>M</td>\n",
       "      <td>32.0</td>\n",
       "      <td>297.0</td>\n",
       "    </tr>\n",
       "  </tbody>\n",
       "</table>\n",
       "</div>"
      ],
      "text/plain": [
       "  Gender  Manpower  Sales\n",
       "0      M      25.0  343.0\n",
       "1      F       NaN  280.0\n",
       "2      M      33.0  332.0\n",
       "3      M       NaN  272.0\n",
       "4      F      25.0    NaN\n",
       "5      M      29.0  326.0\n",
       "6   None      26.0  259.0\n",
       "7      M      32.0  297.0"
      ]
     },
     "metadata": {},
     "output_type": "display_data"
    }
   ],
   "source": [
    "display(df)"
   ]
  },
  {
   "cell_type": "markdown",
   "metadata": {},
   "source": [
    "**2-Sử dụng Mean/ Mode/ Median Imputation (Generalizer imputation)**  \n",
    " - Sử dụng mode đối với dữ liệu kiểu số rời rạc (Discrete) hoặc kiểu phân loại (Categorical)\n",
    " - Sử dụng mean, median đối với dữ liệu kiểu số liên tục (Continuous) --> Nếu có outlier thì không dùng mean mà dùng median"
   ]
  },
  {
   "cell_type": "code",
   "execution_count": 35,
   "metadata": {},
   "outputs": [
    {
     "data": {
      "text/plain": [
       "'M'"
      ]
     },
     "execution_count": 35,
     "metadata": {},
     "output_type": "execute_result"
    }
   ],
   "source": [
    "# Giá trị phổ biến trong cột Gender\n",
    "Mode_gender = df.Gender.mode()[0]\n",
    "Mode_gender"
   ]
  },
  {
   "cell_type": "code",
   "execution_count": 36,
   "metadata": {},
   "outputs": [
    {
     "data": {
      "text/plain": [
       "0    False\n",
       "1    False\n",
       "2    False\n",
       "3    False\n",
       "4    False\n",
       "5    False\n",
       "6     True\n",
       "7    False\n",
       "Name: Gender, dtype: bool"
      ]
     },
     "execution_count": 36,
     "metadata": {},
     "output_type": "execute_result"
    }
   ],
   "source": [
    "df.Gender.isna()"
   ]
  },
  {
   "cell_type": "code",
   "execution_count": 37,
   "metadata": {},
   "outputs": [
    {
     "data": {
      "text/plain": [
       "Int64Index([6], dtype='int64')"
      ]
     },
     "execution_count": 37,
     "metadata": {},
     "output_type": "execute_result"
    }
   ],
   "source": [
    "# lấy index của dòng bị thiếu \n",
    "index_gender = df[df.Gender.isna()].index\n",
    "index_gender"
   ]
  },
  {
   "cell_type": "code",
   "execution_count": 38,
   "metadata": {},
   "outputs": [
    {
     "data": {
      "text/plain": [
       "6    None\n",
       "Name: Gender, dtype: object"
      ]
     },
     "execution_count": 38,
     "metadata": {},
     "output_type": "execute_result"
    }
   ],
   "source": [
    "df['Gender'][index_gender] "
   ]
  },
  {
   "cell_type": "code",
   "execution_count": 39,
   "metadata": {},
   "outputs": [
    {
     "data": {
      "text/html": [
       "<div>\n",
       "<style scoped>\n",
       "    .dataframe tbody tr th:only-of-type {\n",
       "        vertical-align: middle;\n",
       "    }\n",
       "\n",
       "    .dataframe tbody tr th {\n",
       "        vertical-align: top;\n",
       "    }\n",
       "\n",
       "    .dataframe thead th {\n",
       "        text-align: right;\n",
       "    }\n",
       "</style>\n",
       "<table border=\"1\" class=\"dataframe\">\n",
       "  <thead>\n",
       "    <tr style=\"text-align: right;\">\n",
       "      <th></th>\n",
       "      <th>Gender</th>\n",
       "      <th>Manpower</th>\n",
       "      <th>Sales</th>\n",
       "    </tr>\n",
       "  </thead>\n",
       "  <tbody>\n",
       "    <tr>\n",
       "      <th>0</th>\n",
       "      <td>M</td>\n",
       "      <td>25.0</td>\n",
       "      <td>343.0</td>\n",
       "    </tr>\n",
       "    <tr>\n",
       "      <th>1</th>\n",
       "      <td>F</td>\n",
       "      <td>NaN</td>\n",
       "      <td>280.0</td>\n",
       "    </tr>\n",
       "    <tr>\n",
       "      <th>2</th>\n",
       "      <td>M</td>\n",
       "      <td>33.0</td>\n",
       "      <td>332.0</td>\n",
       "    </tr>\n",
       "    <tr>\n",
       "      <th>3</th>\n",
       "      <td>M</td>\n",
       "      <td>NaN</td>\n",
       "      <td>272.0</td>\n",
       "    </tr>\n",
       "    <tr>\n",
       "      <th>4</th>\n",
       "      <td>F</td>\n",
       "      <td>25.0</td>\n",
       "      <td>NaN</td>\n",
       "    </tr>\n",
       "    <tr>\n",
       "      <th>5</th>\n",
       "      <td>M</td>\n",
       "      <td>29.0</td>\n",
       "      <td>326.0</td>\n",
       "    </tr>\n",
       "    <tr>\n",
       "      <th>6</th>\n",
       "      <td>M</td>\n",
       "      <td>26.0</td>\n",
       "      <td>259.0</td>\n",
       "    </tr>\n",
       "    <tr>\n",
       "      <th>7</th>\n",
       "      <td>M</td>\n",
       "      <td>32.0</td>\n",
       "      <td>297.0</td>\n",
       "    </tr>\n",
       "  </tbody>\n",
       "</table>\n",
       "</div>"
      ],
      "text/plain": [
       "  Gender  Manpower  Sales\n",
       "0      M      25.0  343.0\n",
       "1      F       NaN  280.0\n",
       "2      M      33.0  332.0\n",
       "3      M       NaN  272.0\n",
       "4      F      25.0    NaN\n",
       "5      M      29.0  326.0\n",
       "6      M      26.0  259.0\n",
       "7      M      32.0  297.0"
      ]
     },
     "execution_count": 39,
     "metadata": {},
     "output_type": "execute_result"
    }
   ],
   "source": [
    "# Cách 1\n",
    "df['Gender'][index_gender] =df['Gender'][index_gender].fillna(Mode_gender)\n",
    "df"
   ]
  },
  {
   "cell_type": "code",
   "execution_count": 40,
   "metadata": {
    "scrolled": true
   },
   "outputs": [
    {
     "data": {
      "text/plain": [
       "6    M\n",
       "Name: Gender, dtype: object"
      ]
     },
     "execution_count": 40,
     "metadata": {},
     "output_type": "execute_result"
    }
   ],
   "source": [
    "df.loc[index_gender,'Gender']"
   ]
  },
  {
   "cell_type": "code",
   "execution_count": 41,
   "metadata": {},
   "outputs": [
    {
     "data": {
      "text/html": [
       "<div>\n",
       "<style scoped>\n",
       "    .dataframe tbody tr th:only-of-type {\n",
       "        vertical-align: middle;\n",
       "    }\n",
       "\n",
       "    .dataframe tbody tr th {\n",
       "        vertical-align: top;\n",
       "    }\n",
       "\n",
       "    .dataframe thead th {\n",
       "        text-align: right;\n",
       "    }\n",
       "</style>\n",
       "<table border=\"1\" class=\"dataframe\">\n",
       "  <thead>\n",
       "    <tr style=\"text-align: right;\">\n",
       "      <th></th>\n",
       "      <th>Gender</th>\n",
       "      <th>Manpower</th>\n",
       "      <th>Sales</th>\n",
       "    </tr>\n",
       "  </thead>\n",
       "  <tbody>\n",
       "    <tr>\n",
       "      <th>0</th>\n",
       "      <td>M</td>\n",
       "      <td>25.0</td>\n",
       "      <td>343.0</td>\n",
       "    </tr>\n",
       "    <tr>\n",
       "      <th>1</th>\n",
       "      <td>F</td>\n",
       "      <td>NaN</td>\n",
       "      <td>280.0</td>\n",
       "    </tr>\n",
       "    <tr>\n",
       "      <th>2</th>\n",
       "      <td>M</td>\n",
       "      <td>33.0</td>\n",
       "      <td>332.0</td>\n",
       "    </tr>\n",
       "    <tr>\n",
       "      <th>3</th>\n",
       "      <td>M</td>\n",
       "      <td>NaN</td>\n",
       "      <td>272.0</td>\n",
       "    </tr>\n",
       "    <tr>\n",
       "      <th>4</th>\n",
       "      <td>F</td>\n",
       "      <td>25.0</td>\n",
       "      <td>NaN</td>\n",
       "    </tr>\n",
       "    <tr>\n",
       "      <th>5</th>\n",
       "      <td>M</td>\n",
       "      <td>29.0</td>\n",
       "      <td>326.0</td>\n",
       "    </tr>\n",
       "    <tr>\n",
       "      <th>6</th>\n",
       "      <td>M</td>\n",
       "      <td>26.0</td>\n",
       "      <td>259.0</td>\n",
       "    </tr>\n",
       "    <tr>\n",
       "      <th>7</th>\n",
       "      <td>M</td>\n",
       "      <td>32.0</td>\n",
       "      <td>297.0</td>\n",
       "    </tr>\n",
       "  </tbody>\n",
       "</table>\n",
       "</div>"
      ],
      "text/plain": [
       "  Gender  Manpower  Sales\n",
       "0      M      25.0  343.0\n",
       "1      F       NaN  280.0\n",
       "2      M      33.0  332.0\n",
       "3      M       NaN  272.0\n",
       "4      F      25.0    NaN\n",
       "5      M      29.0  326.0\n",
       "6      M      26.0  259.0\n",
       "7      M      32.0  297.0"
      ]
     },
     "execution_count": 41,
     "metadata": {},
     "output_type": "execute_result"
    }
   ],
   "source": [
    "# Cách 2 \n",
    "df.loc[index_gender,'Gender'] = Mode_gender\n",
    "df"
   ]
  },
  {
   "cell_type": "code",
   "execution_count": 42,
   "metadata": {},
   "outputs": [
    {
     "data": {
      "text/plain": [
       "0    M\n",
       "2    M\n",
       "3    M\n",
       "5    M\n",
       "6    M\n",
       "7    M\n",
       "Name: Gender, dtype: object"
      ]
     },
     "execution_count": 42,
     "metadata": {},
     "output_type": "execute_result"
    }
   ],
   "source": [
    "# Lấy index của Gender == 'M'\n",
    "index_M = df.Gender[df.Gender == 'M']\n",
    "index_M"
   ]
  },
  {
   "cell_type": "code",
   "execution_count": 43,
   "metadata": {},
   "outputs": [
    {
     "data": {
      "text/plain": [
       "0    25.0\n",
       "2    33.0\n",
       "3     NaN\n",
       "5    29.0\n",
       "6    26.0\n",
       "7    32.0\n",
       "Name: Manpower, dtype: float64"
      ]
     },
     "execution_count": 43,
     "metadata": {},
     "output_type": "execute_result"
    }
   ],
   "source": [
    "df['Manpower'][index_M.index]"
   ]
  },
  {
   "cell_type": "code",
   "execution_count": 44,
   "metadata": {},
   "outputs": [
    {
     "data": {
      "text/plain": [
       "29.0"
      ]
     },
     "execution_count": 44,
     "metadata": {},
     "output_type": "execute_result"
    }
   ],
   "source": [
    "# Giá trị trung bình của Manpower\n",
    "mean_M = df['Manpower'][index_M.index].mean()\n",
    "mean_M"
   ]
  },
  {
   "cell_type": "code",
   "execution_count": 45,
   "metadata": {},
   "outputs": [
    {
     "data": {
      "text/plain": [
       "1    F\n",
       "4    F\n",
       "Name: Gender, dtype: object"
      ]
     },
     "execution_count": 45,
     "metadata": {},
     "output_type": "execute_result"
    }
   ],
   "source": [
    "index_F = df.Gender[df.Gender == 'F']\n",
    "index_F"
   ]
  },
  {
   "cell_type": "code",
   "execution_count": 46,
   "metadata": {},
   "outputs": [
    {
     "data": {
      "text/plain": [
       "1     NaN\n",
       "4    25.0\n",
       "Name: Manpower, dtype: float64"
      ]
     },
     "execution_count": 46,
     "metadata": {},
     "output_type": "execute_result"
    }
   ],
   "source": [
    "df['Manpower'][index_F.index]"
   ]
  },
  {
   "cell_type": "code",
   "execution_count": 47,
   "metadata": {
    "scrolled": true
   },
   "outputs": [
    {
     "data": {
      "text/plain": [
       "25.0"
      ]
     },
     "execution_count": 47,
     "metadata": {},
     "output_type": "execute_result"
    }
   ],
   "source": [
    "mean_F = df['Manpower'][index_F.index].mean()\n",
    "mean_F"
   ]
  },
  {
   "cell_type": "code",
   "execution_count": 48,
   "metadata": {},
   "outputs": [
    {
     "data": {
      "text/plain": [
       "3   NaN\n",
       "Name: Manpower, dtype: float64"
      ]
     },
     "execution_count": 48,
     "metadata": {},
     "output_type": "execute_result"
    }
   ],
   "source": [
    "index_M_M = df.Manpower[(df.Gender == 'M') & (df.Manpower.isna())]\n",
    "index_M_M"
   ]
  },
  {
   "cell_type": "code",
   "execution_count": 49,
   "metadata": {},
   "outputs": [
    {
     "data": {
      "text/plain": [
       "1   NaN\n",
       "Name: Manpower, dtype: float64"
      ]
     },
     "execution_count": 49,
     "metadata": {},
     "output_type": "execute_result"
    }
   ],
   "source": [
    "index_F_M = df.Manpower[(df.Gender == 'F') & (df.Manpower.isna())]\n",
    "index_F_M"
   ]
  },
  {
   "cell_type": "code",
   "execution_count": 50,
   "metadata": {},
   "outputs": [
    {
     "data": {
      "text/html": [
       "<div>\n",
       "<style scoped>\n",
       "    .dataframe tbody tr th:only-of-type {\n",
       "        vertical-align: middle;\n",
       "    }\n",
       "\n",
       "    .dataframe tbody tr th {\n",
       "        vertical-align: top;\n",
       "    }\n",
       "\n",
       "    .dataframe thead th {\n",
       "        text-align: right;\n",
       "    }\n",
       "</style>\n",
       "<table border=\"1\" class=\"dataframe\">\n",
       "  <thead>\n",
       "    <tr style=\"text-align: right;\">\n",
       "      <th></th>\n",
       "      <th>Gender</th>\n",
       "      <th>Manpower</th>\n",
       "      <th>Sales</th>\n",
       "    </tr>\n",
       "  </thead>\n",
       "  <tbody>\n",
       "    <tr>\n",
       "      <th>0</th>\n",
       "      <td>M</td>\n",
       "      <td>25.0</td>\n",
       "      <td>343.0</td>\n",
       "    </tr>\n",
       "    <tr>\n",
       "      <th>1</th>\n",
       "      <td>F</td>\n",
       "      <td>25.0</td>\n",
       "      <td>280.0</td>\n",
       "    </tr>\n",
       "    <tr>\n",
       "      <th>2</th>\n",
       "      <td>M</td>\n",
       "      <td>33.0</td>\n",
       "      <td>332.0</td>\n",
       "    </tr>\n",
       "    <tr>\n",
       "      <th>3</th>\n",
       "      <td>M</td>\n",
       "      <td>29.0</td>\n",
       "      <td>272.0</td>\n",
       "    </tr>\n",
       "    <tr>\n",
       "      <th>4</th>\n",
       "      <td>F</td>\n",
       "      <td>25.0</td>\n",
       "      <td>NaN</td>\n",
       "    </tr>\n",
       "    <tr>\n",
       "      <th>5</th>\n",
       "      <td>M</td>\n",
       "      <td>29.0</td>\n",
       "      <td>326.0</td>\n",
       "    </tr>\n",
       "    <tr>\n",
       "      <th>6</th>\n",
       "      <td>M</td>\n",
       "      <td>26.0</td>\n",
       "      <td>259.0</td>\n",
       "    </tr>\n",
       "    <tr>\n",
       "      <th>7</th>\n",
       "      <td>M</td>\n",
       "      <td>32.0</td>\n",
       "      <td>297.0</td>\n",
       "    </tr>\n",
       "  </tbody>\n",
       "</table>\n",
       "</div>"
      ],
      "text/plain": [
       "  Gender  Manpower  Sales\n",
       "0      M      25.0  343.0\n",
       "1      F      25.0  280.0\n",
       "2      M      33.0  332.0\n",
       "3      M      29.0  272.0\n",
       "4      F      25.0    NaN\n",
       "5      M      29.0  326.0\n",
       "6      M      26.0  259.0\n",
       "7      M      32.0  297.0"
      ]
     },
     "execution_count": 50,
     "metadata": {},
     "output_type": "execute_result"
    }
   ],
   "source": [
    "df['Manpower'][index_M_M.index] = mean_M\n",
    "df['Manpower'][index_F_M.index] = mean_F\n",
    "df"
   ]
  },
  {
   "cell_type": "markdown",
   "metadata": {},
   "source": [
    "**3- Điền theo trường hợp tương tự (Similar case imputation)**"
   ]
  },
  {
   "cell_type": "code",
   "execution_count": 51,
   "metadata": {},
   "outputs": [
    {
     "data": {
      "text/plain": [
       "0    False\n",
       "1    False\n",
       "2    False\n",
       "3    False\n",
       "4    False\n",
       "5    False\n",
       "6    False\n",
       "7    False\n",
       "dtype: bool"
      ]
     },
     "execution_count": 51,
     "metadata": {},
     "output_type": "execute_result"
    }
   ],
   "source": [
    "(df['Sales'].isna()) & (df['Gender']=='M')"
   ]
  },
  {
   "cell_type": "code",
   "execution_count": 52,
   "metadata": {},
   "outputs": [
    {
     "data": {
      "text/plain": [
       "Int64Index([], dtype='int64')"
      ]
     },
     "execution_count": 52,
     "metadata": {},
     "output_type": "execute_result"
    }
   ],
   "source": [
    "# Similar case imputation for column Sales \n",
    "index_M = df[(df['Sales'].isna()) & (df['Gender']=='M')].index\n",
    "index_M"
   ]
  },
  {
   "cell_type": "code",
   "execution_count": 53,
   "metadata": {},
   "outputs": [
    {
     "data": {
      "text/html": [
       "<div>\n",
       "<style scoped>\n",
       "    .dataframe tbody tr th:only-of-type {\n",
       "        vertical-align: middle;\n",
       "    }\n",
       "\n",
       "    .dataframe tbody tr th {\n",
       "        vertical-align: top;\n",
       "    }\n",
       "\n",
       "    .dataframe thead th {\n",
       "        text-align: right;\n",
       "    }\n",
       "</style>\n",
       "<table border=\"1\" class=\"dataframe\">\n",
       "  <thead>\n",
       "    <tr style=\"text-align: right;\">\n",
       "      <th></th>\n",
       "      <th>Manpower</th>\n",
       "      <th>Sales</th>\n",
       "    </tr>\n",
       "    <tr>\n",
       "      <th>Gender</th>\n",
       "      <th></th>\n",
       "      <th></th>\n",
       "    </tr>\n",
       "  </thead>\n",
       "  <tbody>\n",
       "    <tr>\n",
       "      <th>F</th>\n",
       "      <td>25.0</td>\n",
       "      <td>280.000000</td>\n",
       "    </tr>\n",
       "    <tr>\n",
       "      <th>M</th>\n",
       "      <td>29.0</td>\n",
       "      <td>304.833333</td>\n",
       "    </tr>\n",
       "  </tbody>\n",
       "</table>\n",
       "</div>"
      ],
      "text/plain": [
       "        Manpower       Sales\n",
       "Gender                      \n",
       "F           25.0  280.000000\n",
       "M           29.0  304.833333"
      ]
     },
     "execution_count": 53,
     "metadata": {},
     "output_type": "execute_result"
    }
   ],
   "source": [
    "df.groupby('Gender').mean()"
   ]
  },
  {
   "cell_type": "code",
   "execution_count": 54,
   "metadata": {},
   "outputs": [
    {
     "data": {
      "text/plain": [
       "304.8333333333333"
      ]
     },
     "execution_count": 54,
     "metadata": {},
     "output_type": "execute_result"
    }
   ],
   "source": [
    "# Giá trị trung bình Sales của Gender == M\n",
    "value_M = df.groupby('Gender').mean().iloc[1,1]\n",
    "value_M"
   ]
  },
  {
   "cell_type": "code",
   "execution_count": 55,
   "metadata": {},
   "outputs": [
    {
     "data": {
      "text/plain": [
       "280.0"
      ]
     },
     "execution_count": 55,
     "metadata": {},
     "output_type": "execute_result"
    }
   ],
   "source": [
    "# Giá trị trung bình Sales của Gender == F\n",
    "value_F = df.groupby('Gender').mean().iloc[0,1]\n",
    "value_F"
   ]
  },
  {
   "cell_type": "code",
   "execution_count": 56,
   "metadata": {},
   "outputs": [],
   "source": [
    "# Vị trí index của M và F mà Sales là None\n",
    "index_M = df[(df['Sales'].isna()) & (df['Gender']=='M')].index\n",
    "index_F = df[(df['Sales'].isna()) & (df['Gender']=='F')].index"
   ]
  },
  {
   "cell_type": "code",
   "execution_count": 57,
   "metadata": {},
   "outputs": [
    {
     "data": {
      "text/plain": [
       "Int64Index([], dtype='int64')"
      ]
     },
     "execution_count": 57,
     "metadata": {},
     "output_type": "execute_result"
    }
   ],
   "source": [
    "index_M"
   ]
  },
  {
   "cell_type": "code",
   "execution_count": 58,
   "metadata": {
    "scrolled": true
   },
   "outputs": [
    {
     "data": {
      "text/plain": [
       "Int64Index([4], dtype='int64')"
      ]
     },
     "execution_count": 58,
     "metadata": {},
     "output_type": "execute_result"
    }
   ],
   "source": [
    "index_F"
   ]
  },
  {
   "cell_type": "code",
   "execution_count": 59,
   "metadata": {},
   "outputs": [],
   "source": [
    "# Điền giá trị M\n",
    "df['Sales'][index_M] = df['Sales'][index_M].fillna(value_M)"
   ]
  },
  {
   "cell_type": "code",
   "execution_count": 60,
   "metadata": {},
   "outputs": [],
   "source": [
    "# Điền giá trị F\n",
    "df['Sales'][index_F] = df['Sales'][index_F].fillna(value_F)"
   ]
  },
  {
   "cell_type": "code",
   "execution_count": 61,
   "metadata": {},
   "outputs": [
    {
     "data": {
      "text/html": [
       "<div>\n",
       "<style scoped>\n",
       "    .dataframe tbody tr th:only-of-type {\n",
       "        vertical-align: middle;\n",
       "    }\n",
       "\n",
       "    .dataframe tbody tr th {\n",
       "        vertical-align: top;\n",
       "    }\n",
       "\n",
       "    .dataframe thead th {\n",
       "        text-align: right;\n",
       "    }\n",
       "</style>\n",
       "<table border=\"1\" class=\"dataframe\">\n",
       "  <thead>\n",
       "    <tr style=\"text-align: right;\">\n",
       "      <th></th>\n",
       "      <th>Gender</th>\n",
       "      <th>Manpower</th>\n",
       "      <th>Sales</th>\n",
       "    </tr>\n",
       "  </thead>\n",
       "  <tbody>\n",
       "    <tr>\n",
       "      <th>0</th>\n",
       "      <td>M</td>\n",
       "      <td>25.0</td>\n",
       "      <td>343.0</td>\n",
       "    </tr>\n",
       "    <tr>\n",
       "      <th>1</th>\n",
       "      <td>F</td>\n",
       "      <td>25.0</td>\n",
       "      <td>280.0</td>\n",
       "    </tr>\n",
       "    <tr>\n",
       "      <th>2</th>\n",
       "      <td>M</td>\n",
       "      <td>33.0</td>\n",
       "      <td>332.0</td>\n",
       "    </tr>\n",
       "    <tr>\n",
       "      <th>3</th>\n",
       "      <td>M</td>\n",
       "      <td>29.0</td>\n",
       "      <td>272.0</td>\n",
       "    </tr>\n",
       "    <tr>\n",
       "      <th>4</th>\n",
       "      <td>F</td>\n",
       "      <td>25.0</td>\n",
       "      <td>280.0</td>\n",
       "    </tr>\n",
       "    <tr>\n",
       "      <th>5</th>\n",
       "      <td>M</td>\n",
       "      <td>29.0</td>\n",
       "      <td>326.0</td>\n",
       "    </tr>\n",
       "    <tr>\n",
       "      <th>6</th>\n",
       "      <td>M</td>\n",
       "      <td>26.0</td>\n",
       "      <td>259.0</td>\n",
       "    </tr>\n",
       "    <tr>\n",
       "      <th>7</th>\n",
       "      <td>M</td>\n",
       "      <td>32.0</td>\n",
       "      <td>297.0</td>\n",
       "    </tr>\n",
       "  </tbody>\n",
       "</table>\n",
       "</div>"
      ],
      "text/plain": [
       "  Gender  Manpower  Sales\n",
       "0      M      25.0  343.0\n",
       "1      F      25.0  280.0\n",
       "2      M      33.0  332.0\n",
       "3      M      29.0  272.0\n",
       "4      F      25.0  280.0\n",
       "5      M      29.0  326.0\n",
       "6      M      26.0  259.0\n",
       "7      M      32.0  297.0"
      ]
     },
     "execution_count": 61,
     "metadata": {},
     "output_type": "execute_result"
    }
   ],
   "source": [
    "df"
   ]
  },
  {
   "cell_type": "code",
   "execution_count": 62,
   "metadata": {},
   "outputs": [
    {
     "data": {
      "image/png": "[encoded data removed]",
      "text/plain": [
       "<Figure size 640x480 with 1 Axes>"
      ]
     },
     "metadata": {},
     "output_type": "display_data"
    }
   ],
   "source": [
    "# Vẽ biểu đồ box plot  cột Manpower\n",
    "df.Manpower.plot.box()\n",
    "plt.show()"
   ]
  },
  {
   "cell_type": "code",
   "execution_count": 63,
   "metadata": {},
   "outputs": [
    {
     "data": {
      "text/plain": [
       "<Axes: >"
      ]
     },
     "execution_count": 63,
     "metadata": {},
     "output_type": "execute_result"
    },
    {
     "data": {
      "image/png": "[encoded data removed]",
      "text/plain": [
       "<Figure size 640x480 with 1 Axes>"
      ]
     },
     "metadata": {},
     "output_type": "display_data"
    }
   ],
   "source": [
    "# Vẽ biểu đồ box plot  cột Sales\n",
    "df.Sales.plot.box()"
   ]
  },
  {
   "cell_type": "code",
   "execution_count": 64,
   "metadata": {},
   "outputs": [
    {
     "data": {
      "text/plain": [
       "<Axes: >"
      ]
     },
     "execution_count": 64,
     "metadata": {},
     "output_type": "execute_result"
    },
    {
     "data": {
      "image/png": "[encoded data removed]",
      "text/plain": [
       "<Figure size 640x480 with 1 Axes>"
      ]
     },
     "metadata": {},
     "output_type": "display_data"
    }
   ],
   "source": [
    "# Vẽ biểu đồ historam  cột Gender ( phân loại )\n",
    "df.Gender.hist()"
   ]
  },
  {
   "cell_type": "code",
   "execution_count": 65,
   "metadata": {},
   "outputs": [
    {
     "data": {
      "text/plain": [
       "<Axes: xlabel='Manpower', ylabel='Sales'>"
      ]
     },
     "execution_count": 65,
     "metadata": {},
     "output_type": "execute_result"
    },
    {
     "data": {
      "image/png": "[encoded data removed]",
      "text/plain": [
       "<Figure size 640x480 with 1 Axes>"
      ]
     },
     "metadata": {},
     "output_type": "display_data"
    }
   ],
   "source": [
    "# Vẽ biểu đồ scatter plot \n",
    "df.plot.scatter(x = 'Manpower', y='Sales')"
   ]
  },
  {
   "cell_type": "markdown",
   "metadata": {},
   "source": [
    "**4- Dùng Prediction Model để dự đoán giá trị bị thiếu ( Phương pháp cao cấp )**"
   ]
  },
  {
   "cell_type": "code",
   "execution_count": 66,
   "metadata": {},
   "outputs": [
    {
     "data": {
      "text/html": [
       "<div>\n",
       "<style scoped>\n",
       "    .dataframe tbody tr th:only-of-type {\n",
       "        vertical-align: middle;\n",
       "    }\n",
       "\n",
       "    .dataframe tbody tr th {\n",
       "        vertical-align: top;\n",
       "    }\n",
       "\n",
       "    .dataframe thead th {\n",
       "        text-align: right;\n",
       "    }\n",
       "</style>\n",
       "<table border=\"1\" class=\"dataframe\">\n",
       "  <thead>\n",
       "    <tr style=\"text-align: right;\">\n",
       "      <th></th>\n",
       "      <th>Manpower</th>\n",
       "      <th>Sales</th>\n",
       "    </tr>\n",
       "  </thead>\n",
       "  <tbody>\n",
       "    <tr>\n",
       "      <th>0</th>\n",
       "      <td>25.0</td>\n",
       "      <td>343.0</td>\n",
       "    </tr>\n",
       "    <tr>\n",
       "      <th>1</th>\n",
       "      <td>25.0</td>\n",
       "      <td>280.0</td>\n",
       "    </tr>\n",
       "    <tr>\n",
       "      <th>2</th>\n",
       "      <td>33.0</td>\n",
       "      <td>332.0</td>\n",
       "    </tr>\n",
       "    <tr>\n",
       "      <th>3</th>\n",
       "      <td>29.0</td>\n",
       "      <td>272.0</td>\n",
       "    </tr>\n",
       "    <tr>\n",
       "      <th>4</th>\n",
       "      <td>25.0</td>\n",
       "      <td>280.0</td>\n",
       "    </tr>\n",
       "    <tr>\n",
       "      <th>5</th>\n",
       "      <td>29.0</td>\n",
       "      <td>326.0</td>\n",
       "    </tr>\n",
       "    <tr>\n",
       "      <th>6</th>\n",
       "      <td>26.0</td>\n",
       "      <td>259.0</td>\n",
       "    </tr>\n",
       "    <tr>\n",
       "      <th>7</th>\n",
       "      <td>32.0</td>\n",
       "      <td>297.0</td>\n",
       "    </tr>\n",
       "  </tbody>\n",
       "</table>\n",
       "</div>"
      ],
      "text/plain": [
       "   Manpower  Sales\n",
       "0      25.0  343.0\n",
       "1      25.0  280.0\n",
       "2      33.0  332.0\n",
       "3      29.0  272.0\n",
       "4      25.0  280.0\n",
       "5      29.0  326.0\n",
       "6      26.0  259.0\n",
       "7      32.0  297.0"
      ]
     },
     "execution_count": 66,
     "metadata": {},
     "output_type": "execute_result"
    }
   ],
   "source": [
    "# Sử dụng interpolate() để nội suy tuyến tính cho các giá trị kiểu số đang thiếu , chỉ áp dụng trên cột số \n",
    "df.select_dtypes(include=['number']).interpolate()\n"
   ]
  },
  {
   "cell_type": "markdown",
   "metadata": {},
   "source": [
    "#### Xử lý dữ liệu bị thiếu trong bài học"
   ]
  },
  {
   "cell_type": "markdown",
   "metadata": {},
   "source": [
    "#### Loại bỏ dữ liệu bị thiếu  "
   ]
  },
  {
   "cell_type": "code",
   "execution_count": 67,
   "metadata": {},
   "outputs": [
    {
     "name": "stdout",
     "output_type": "stream",
     "text": [
      "Hours Studied                       0\n",
      "Previous Scores                     0\n",
      "Extracurricular Activities          3\n",
      "Sleep Hours                         0\n",
      "Sample Question Papers Practiced    0\n",
      "Performance Index                   0\n",
      "Gender                              0\n",
      "dtype: int64\n"
     ]
    }
   ],
   "source": [
    "print(data.isnull().sum())"
   ]
  },
  {
   "cell_type": "code",
   "execution_count": 68,
   "metadata": {},
   "outputs": [
    {
     "name": "stdout",
     "output_type": "stream",
     "text": [
      "3\n"
     ]
    }
   ],
   "source": [
    "# Dữ liệu ở cột Extracurricular Activities bị thiếu (3 null)\n",
    "print(data['Extracurricular Activities'].isnull().sum())"
   ]
  },
  {
   "cell_type": "code",
   "execution_count": 69,
   "metadata": {},
   "outputs": [
    {
     "name": "stdout",
     "output_type": "stream",
     "text": [
      "Before: 998\n",
      "After: 995\n"
     ]
    }
   ],
   "source": [
    "# Xóa mẫu (dòng) có dữ liệu thiếu ( trên bảng view chưa xoá bản gốc)\n",
    "print(\"Before:\", len(data))\n",
    "data_no_missing = data.dropna()\n",
    "print(\"After:\", len(data_no_missing))"
   ]
  },
  {
   "cell_type": "code",
   "execution_count": 70,
   "metadata": {},
   "outputs": [
    {
     "name": "stdout",
     "output_type": "stream",
     "text": [
      "Hours Studied                       0\n",
      "Previous Scores                     0\n",
      "Extracurricular Activities          3\n",
      "Sleep Hours                         0\n",
      "Sample Question Papers Practiced    0\n",
      "Performance Index                   0\n",
      "Gender                              0\n",
      "dtype: int64\n"
     ]
    }
   ],
   "source": [
    "print(data.isnull().sum())"
   ]
  },
  {
   "cell_type": "code",
   "execution_count": 71,
   "metadata": {},
   "outputs": [
    {
     "data": {
      "text/plain": [
       "array(['Yes', 'No', nan], dtype=object)"
      ]
     },
     "execution_count": 71,
     "metadata": {},
     "output_type": "execute_result"
    }
   ],
   "source": [
    "# Các giá trị duy nhất \n",
    "data['Extracurricular Activities'].unique()"
   ]
  },
  {
   "cell_type": "code",
   "execution_count": 72,
   "metadata": {},
   "outputs": [
    {
     "data": {
      "text/plain": [
       "No     517\n",
       "Yes    478\n",
       "Name: Extracurricular Activities, dtype: int64"
      ]
     },
     "execution_count": 72,
     "metadata": {},
     "output_type": "execute_result"
    }
   ],
   "source": [
    "# Đếm các giá trị \n",
    "data['Extracurricular Activities'].value_counts()"
   ]
  },
  {
   "cell_type": "code",
   "execution_count": 73,
   "metadata": {},
   "outputs": [
    {
     "data": {
      "text/plain": [
       "count     995\n",
       "unique      2\n",
       "top        No\n",
       "freq      517\n",
       "Name: Extracurricular Activities, dtype: object"
      ]
     },
     "execution_count": 73,
     "metadata": {},
     "output_type": "execute_result"
    }
   ],
   "source": [
    "data['Extracurricular Activities'].describe()"
   ]
  },
  {
   "cell_type": "code",
   "execution_count": 74,
   "metadata": {},
   "outputs": [
    {
     "data": {
      "text/plain": [
       "'No'"
      ]
     },
     "execution_count": 74,
     "metadata": {},
     "output_type": "execute_result"
    }
   ],
   "source": [
    "# Tìm loại xuất hiện nhiều nhất\n",
    "mode_EA = data['Extracurricular Activities'].describe().top\n",
    "mode_EA"
   ]
  },
  {
   "cell_type": "code",
   "execution_count": 75,
   "metadata": {},
   "outputs": [],
   "source": [
    "# Điền giá trị này vào cho các cell đang thiếu của cột\n",
    "data['Extracurricular Activities'] = data['Extracurricular Activities'].fillna(mode_EA)"
   ]
  },
  {
   "cell_type": "code",
   "execution_count": 76,
   "metadata": {},
   "outputs": [
    {
     "name": "stdout",
     "output_type": "stream",
     "text": [
      "Hours Studied                       0\n",
      "Previous Scores                     0\n",
      "Extracurricular Activities          0\n",
      "Sleep Hours                         0\n",
      "Sample Question Papers Practiced    0\n",
      "Performance Index                   0\n",
      "Gender                              0\n",
      "dtype: int64\n"
     ]
    }
   ],
   "source": [
    "print(data.isnull().sum())"
   ]
  },
  {
   "cell_type": "code",
   "execution_count": 77,
   "metadata": {},
   "outputs": [
    {
     "data": {
      "text/plain": [
       "count     998\n",
       "unique      2\n",
       "top        No\n",
       "freq      520\n",
       "Name: Extracurricular Activities, dtype: object"
      ]
     },
     "execution_count": 77,
     "metadata": {},
     "output_type": "execute_result"
    }
   ],
   "source": [
    "# Xem thống kê dữ liệu của cột vừa điền \n",
    "data['Extracurricular Activities'].describe()"
   ]
  },
  {
   "attachments": {},
   "cell_type": "markdown",
   "metadata": {},
   "source": [
    "**3.Xử lý dữ liệu ngoại lệ:**  \n",
    "- Ngoại lệ là mẫu ở xa, tách khỏi tổng thể\n",
    "- Có thể có 2 loại ngoại lệ  \n",
    "  + Ngoại lệ đơn biến (Univariate) : Có thể được tìm thấy khi chúng ta xem xét phân phối của một biến duy nhất --> thấy nằm xa với tổng thể  \n",
    "  + Ngoại lệ đa biến (Multivariate): Là ngoại lệ trong không gian n chiều, ta phải xem xét bản phân phối nhiều chiều mới tìm thấy được ( ví dụ kết hợp cột giới tính : nam , và cột tình trạng - mang thai ==> là một ngoại lệ nếu xét riêng lẻ một biến thì không nhìn thấy....)\n",
    "- Nguyên nhân ngoại lệ :\n",
    "  + Các ngoại lệ có thể bị gây ra bởi lỗi thu thập hoặc xử lý dữ liệu : Nhập liệu 100.000 USD thành 1.000.000 USD....\n",
    "  + Có thể là các phép đo chính xác nhưng dụng cụ đo lường bị lỗi : 10 máy cân có 1 máy bị lỗi...\n",
    "  + Ngoại lệ do thử nghiệm : Cuộc chạy đua nước rút tại điểm xuất phát, có VĐV mất tập trung xuất phát sau --> thành tích kém...\n",
    "  + Ngoại lệ có chủ ý : Điều tra thanh niên uống rượu nhưng bị che dấu số liệu thực sự, giấu thành tích....\n",
    "  + Lỗi do xử lý dữ liệu : Lỗi trong quá trình trích xuất dữ liệu từ nghiều nguồn khác nhau....\n",
    "  + Lỗi do lấy mẫu : Đo chiều cao vận động viên thường chung với VĐV bóng rổ .....\n",
    "  + Ngoại lệ tự nhiên không do con người tạo ra (nhân viên công ty 80 tuổi vẫn còn làm việc do là bảo vệ.....)\n",
    "\n",
    "Trong những trường hợp mà bạn không nên bỏ ngoại lệ, bạn sẽ làm gì?  \n",
    "Một lựa chọn là thử chuyển đổi. Biến đổi căn bậc hai và log đều kéo theo số lượng cao. Điều này có thể làm cho các giả định hoạt động tốt hơn nếu ngoại lệ là biến phụ thuộc và có thể giảm tác động của một điểm nếu ngoại lệ là biến độc lập.  \n",
    "\n",
    "Một lựa chọn khác là thử một mô hình khác. Điều này nên được thực hiện một cách thận trọng, nhưng có thể là một mô hình phi tuyến tính phù hợp hơn. Ví dụ, trong ví dụ 3, có lẽ một đường cong hàm mũ phù hợp với dữ liệu còn nguyên vẹn.  \n",
    "\n",
    "Bất cứ cách tiếp cận nào bạn thực hiện, bạn cần biết rõ dữ liệu của mình và khu vực nghiên cứu của bạn. Hãy thử các cách tiếp cận khác nhau, và xem cái nào có ý nghĩa lý thuyết.  \n"
   ]
  },
  {
   "cell_type": "code",
   "execution_count": 21,
   "metadata": {},
   "outputs": [
    {
     "data": {
      "text/plain": [
       "['Hours Studied',\n",
       " 'Previous Scores',\n",
       " 'Sleep Hours',\n",
       " 'Sample Question Papers Practiced',\n",
       " 'Performance Index']"
      ]
     },
     "execution_count": 21,
     "metadata": {},
     "output_type": "execute_result"
    }
   ],
   "source": [
    "numeric_columns"
   ]
  },
  {
   "cell_type": "code",
   "execution_count": 79,
   "metadata": {},
   "outputs": [
    {
     "data": {
      "text/plain": [
       "<Axes: >"
      ]
     },
     "execution_count": 79,
     "metadata": {},
     "output_type": "execute_result"
    },
    {
     "data": {
      "image/png": "[encoded data removed]",
      "text/plain": [
       "<Figure size 640x480 with 1 Axes>"
      ]
     },
     "metadata": {},
     "output_type": "display_data"
    }
   ],
   "source": [
    "data.boxplot('Hours Studied')"
   ]
  },
  {
   "cell_type": "code",
   "execution_count": 80,
   "metadata": {},
   "outputs": [
    {
     "data": {
      "image/png": "[encoded data removed]",
      "text/plain": [
       "<Figure size 640x480 with 1 Axes>"
      ]
     },
     "metadata": {},
     "output_type": "display_data"
    }
   ],
   "source": [
    "data.boxplot('Previous Scores')\n",
    "plt.show()"
   ]
  },
  {
   "cell_type": "code",
   "execution_count": 81,
   "metadata": {},
   "outputs": [
    {
     "data": {
      "image/png": "[encoded data removed]",
      "text/plain": [
       "<Figure size 640x480 with 1 Axes>"
      ]
     },
     "metadata": {},
     "output_type": "display_data"
    }
   ],
   "source": [
    "data.boxplot('Sleep Hours')\n",
    "plt.show()"
   ]
  },
  {
   "cell_type": "code",
   "execution_count": 82,
   "metadata": {},
   "outputs": [
    {
     "data": {
      "text/plain": [
       "['Hours Studied',\n",
       " 'Previous Scores',\n",
       " 'Sleep Hours',\n",
       " 'Sample Question Papers Practiced',\n",
       " 'Performance Index']"
      ]
     },
     "execution_count": 82,
     "metadata": {},
     "output_type": "execute_result"
    }
   ],
   "source": [
    "numeric_columns"
   ]
  },
  {
   "cell_type": "code",
   "execution_count": 22,
   "metadata": {
    "scrolled": true
   },
   "outputs": [
    {
     "data": {
      "image/png": "[encoded data removed]",
      "text/plain": [
       "<Figure size 640x480 with 1 Axes>"
      ]
     },
     "metadata": {},
     "output_type": "display_data"
    },
    {
     "data": {
      "image/png": "[encoded data removed]",
      "text/plain": [
       "<Figure size 640x480 with 1 Axes>"
      ]
     },
     "metadata": {},
     "output_type": "display_data"
    },
    {
     "data": {
      "image/png": "[encoded data removed]",
      "text/plain": [
       "<Figure size 640x480 with 1 Axes>"
      ]
     },
     "metadata": {},
     "output_type": "display_data"
    },
    {
     "data": {
      "image/png": "[encoded data removed]",
      "text/plain": [
       "<Figure size 640x480 with 1 Axes>"
      ]
     },
     "metadata": {},
     "output_type": "display_data"
    },
    {
     "data": {
      "image/png": "[encoded data removed]",
      "text/plain": [
       "<Figure size 640x480 with 1 Axes>"
      ]
     },
     "metadata": {},
     "output_type": "display_data"
    }
   ],
   "source": [
    "for column in numeric_columns:\n",
    "    data.boxplot(column)\n",
    "    plt.show()"
   ]
  },
  {
   "cell_type": "code",
   "execution_count": 23,
   "metadata": {},
   "outputs": [
    {
     "name": "stdout",
     "output_type": "stream",
     "text": [
      "<class 'pandas.core.frame.DataFrame'>\n",
      "Int64Index: 998 entries, 0 to 999\n",
      "Data columns (total 7 columns):\n",
      " #   Column                            Non-Null Count  Dtype \n",
      "---  ------                            --------------  ----- \n",
      " 0   Hours Studied                     998 non-null    int64 \n",
      " 1   Previous Scores                   998 non-null    int64 \n",
      " 2   Extracurricular Activities        995 non-null    object\n",
      " 3   Sleep Hours                       998 non-null    int64 \n",
      " 4   Sample Question Papers Practiced  998 non-null    int64 \n",
      " 5   Performance Index                 998 non-null    int64 \n",
      " 6   Gender                            998 non-null    object\n",
      "dtypes: int64(5), object(2)\n",
      "memory usage: 62.4+ KB\n"
     ]
    }
   ],
   "source": [
    "data.info()"
   ]
  },
  {
   "cell_type": "code",
   "execution_count": 85,
   "metadata": {},
   "outputs": [],
   "source": [
    "from scipy.stats import stats\n",
    "import numpy as np"
   ]
  },
  {
   "cell_type": "markdown",
   "metadata": {},
   "source": [
    "#### Tìm ngoại lệ bằng IQR"
   ]
  },
  {
   "cell_type": "code",
   "execution_count": 86,
   "metadata": {},
   "outputs": [],
   "source": [
    "Q1 = data['Sleep Hours'].quantile(0.25)\n",
    "Q3 = data['Sleep Hours'].quantile(0.75)\n",
    "IQR = Q3 - Q1"
   ]
  },
  {
   "cell_type": "code",
   "execution_count": 87,
   "metadata": {},
   "outputs": [
    {
     "name": "stdout",
     "output_type": "stream",
     "text": [
      "Q1: 5.0 Q3: 8.0 IQR: 3.0\n"
     ]
    }
   ],
   "source": [
    "print(\"Q1:\", Q1, \"Q3:\", Q3, \"IQR:\", IQR)"
   ]
  },
  {
   "cell_type": "code",
   "execution_count": 88,
   "metadata": {},
   "outputs": [
    {
     "data": {
      "text/html": [
       "<div>\n",
       "<style scoped>\n",
       "    .dataframe tbody tr th:only-of-type {\n",
       "        vertical-align: middle;\n",
       "    }\n",
       "\n",
       "    .dataframe tbody tr th {\n",
       "        vertical-align: top;\n",
       "    }\n",
       "\n",
       "    .dataframe thead th {\n",
       "        text-align: right;\n",
       "    }\n",
       "</style>\n",
       "<table border=\"1\" class=\"dataframe\">\n",
       "  <thead>\n",
       "    <tr style=\"text-align: right;\">\n",
       "      <th></th>\n",
       "      <th>Hours Studied</th>\n",
       "      <th>Previous Scores</th>\n",
       "      <th>Extracurricular Activities</th>\n",
       "      <th>Sleep Hours</th>\n",
       "      <th>Sample Question Papers Practiced</th>\n",
       "      <th>Performance Index</th>\n",
       "      <th>Gender</th>\n",
       "    </tr>\n",
       "  </thead>\n",
       "  <tbody>\n",
       "    <tr>\n",
       "      <th>0</th>\n",
       "      <td>5</td>\n",
       "      <td>73</td>\n",
       "      <td>Yes</td>\n",
       "      <td>9</td>\n",
       "      <td>3</td>\n",
       "      <td>60</td>\n",
       "      <td>Female</td>\n",
       "    </tr>\n",
       "    <tr>\n",
       "      <th>1</th>\n",
       "      <td>3</td>\n",
       "      <td>75</td>\n",
       "      <td>Yes</td>\n",
       "      <td>5</td>\n",
       "      <td>9</td>\n",
       "      <td>57</td>\n",
       "      <td>Male</td>\n",
       "    </tr>\n",
       "    <tr>\n",
       "      <th>2</th>\n",
       "      <td>1</td>\n",
       "      <td>82</td>\n",
       "      <td>No</td>\n",
       "      <td>8</td>\n",
       "      <td>7</td>\n",
       "      <td>58</td>\n",
       "      <td>Male</td>\n",
       "    </tr>\n",
       "    <tr>\n",
       "      <th>4</th>\n",
       "      <td>3</td>\n",
       "      <td>62</td>\n",
       "      <td>No</td>\n",
       "      <td>5</td>\n",
       "      <td>1</td>\n",
       "      <td>43</td>\n",
       "      <td>Female</td>\n",
       "    </tr>\n",
       "    <tr>\n",
       "      <th>5</th>\n",
       "      <td>2</td>\n",
       "      <td>76</td>\n",
       "      <td>Yes</td>\n",
       "      <td>6</td>\n",
       "      <td>7</td>\n",
       "      <td>56</td>\n",
       "      <td>Female</td>\n",
       "    </tr>\n",
       "    <tr>\n",
       "      <th>...</th>\n",
       "      <td>...</td>\n",
       "      <td>...</td>\n",
       "      <td>...</td>\n",
       "      <td>...</td>\n",
       "      <td>...</td>\n",
       "      <td>...</td>\n",
       "      <td>...</td>\n",
       "    </tr>\n",
       "    <tr>\n",
       "      <th>995</th>\n",
       "      <td>4</td>\n",
       "      <td>76</td>\n",
       "      <td>Yes</td>\n",
       "      <td>9</td>\n",
       "      <td>1</td>\n",
       "      <td>57</td>\n",
       "      <td>Female</td>\n",
       "    </tr>\n",
       "    <tr>\n",
       "      <th>996</th>\n",
       "      <td>2</td>\n",
       "      <td>57</td>\n",
       "      <td>No</td>\n",
       "      <td>5</td>\n",
       "      <td>5</td>\n",
       "      <td>35</td>\n",
       "      <td>Male</td>\n",
       "    </tr>\n",
       "    <tr>\n",
       "      <th>997</th>\n",
       "      <td>2</td>\n",
       "      <td>87</td>\n",
       "      <td>Yes</td>\n",
       "      <td>8</td>\n",
       "      <td>7</td>\n",
       "      <td>62</td>\n",
       "      <td>Female</td>\n",
       "    </tr>\n",
       "    <tr>\n",
       "      <th>998</th>\n",
       "      <td>1</td>\n",
       "      <td>53</td>\n",
       "      <td>No</td>\n",
       "      <td>8</td>\n",
       "      <td>0</td>\n",
       "      <td>24</td>\n",
       "      <td>Male</td>\n",
       "    </tr>\n",
       "    <tr>\n",
       "      <th>999</th>\n",
       "      <td>7</td>\n",
       "      <td>95</td>\n",
       "      <td>Yes</td>\n",
       "      <td>5</td>\n",
       "      <td>6</td>\n",
       "      <td>89</td>\n",
       "      <td>Female</td>\n",
       "    </tr>\n",
       "  </tbody>\n",
       "</table>\n",
       "<p>996 rows × 7 columns</p>\n",
       "</div>"
      ],
      "text/plain": [
       "     Hours Studied  Previous Scores Extracurricular Activities  Sleep Hours  \\\n",
       "0                5               73                        Yes            9   \n",
       "1                3               75                        Yes            5   \n",
       "2                1               82                         No            8   \n",
       "4                3               62                         No            5   \n",
       "5                2               76                        Yes            6   \n",
       "..             ...              ...                        ...          ...   \n",
       "995              4               76                        Yes            9   \n",
       "996              2               57                         No            5   \n",
       "997              2               87                        Yes            8   \n",
       "998              1               53                         No            8   \n",
       "999              7               95                        Yes            5   \n",
       "\n",
       "     Sample Question Papers Practiced  Performance Index  Gender  \n",
       "0                                   3                 60  Female  \n",
       "1                                   9                 57    Male  \n",
       "2                                   7                 58    Male  \n",
       "4                                   1                 43  Female  \n",
       "5                                   7                 56  Female  \n",
       "..                                ...                ...     ...  \n",
       "995                                 1                 57  Female  \n",
       "996                                 5                 35    Male  \n",
       "997                                 7                 62  Female  \n",
       "998                                 0                 24    Male  \n",
       "999                                 6                 89  Female  \n",
       "\n",
       "[996 rows x 7 columns]"
      ]
     },
     "execution_count": 88,
     "metadata": {},
     "output_type": "execute_result"
    }
   ],
   "source": [
    "# Cách 1 :\n",
    "# Khoảng dữ liệu không có outliers ==> đã loại outliers ra khỏi df \n",
    "df = data[(Q1 - 1.5 * IQR <= data['Sleep Hours']) & (data['Sleep Hours']<=Q3 + 1.5 * IQR)]\n",
    "df"
   ]
  },
  {
   "cell_type": "code",
   "execution_count": 89,
   "metadata": {},
   "outputs": [
    {
     "data": {
      "image/png": "[encoded data removed]",
      "text/plain": [
       "<Figure size 640x480 with 1 Axes>"
      ]
     },
     "metadata": {},
     "output_type": "display_data"
    }
   ],
   "source": [
    "df.boxplot('Sleep Hours')\n",
    "plt.show()"
   ]
  },
  {
   "cell_type": "code",
   "execution_count": 90,
   "metadata": {},
   "outputs": [
    {
     "data": {
      "text/html": [
       "<div>\n",
       "<style scoped>\n",
       "    .dataframe tbody tr th:only-of-type {\n",
       "        vertical-align: middle;\n",
       "    }\n",
       "\n",
       "    .dataframe tbody tr th {\n",
       "        vertical-align: top;\n",
       "    }\n",
       "\n",
       "    .dataframe thead th {\n",
       "        text-align: right;\n",
       "    }\n",
       "</style>\n",
       "<table border=\"1\" class=\"dataframe\">\n",
       "  <thead>\n",
       "    <tr style=\"text-align: right;\">\n",
       "      <th></th>\n",
       "      <th>Hours Studied</th>\n",
       "      <th>Previous Scores</th>\n",
       "      <th>Extracurricular Activities</th>\n",
       "      <th>Sleep Hours</th>\n",
       "      <th>Sample Question Papers Practiced</th>\n",
       "      <th>Performance Index</th>\n",
       "      <th>Gender</th>\n",
       "    </tr>\n",
       "  </thead>\n",
       "  <tbody>\n",
       "    <tr>\n",
       "      <th>7</th>\n",
       "      <td>4</td>\n",
       "      <td>97</td>\n",
       "      <td>No</td>\n",
       "      <td>40</td>\n",
       "      <td>1</td>\n",
       "      <td>81</td>\n",
       "      <td>Male</td>\n",
       "    </tr>\n",
       "    <tr>\n",
       "      <th>35</th>\n",
       "      <td>5</td>\n",
       "      <td>91</td>\n",
       "      <td>Yes</td>\n",
       "      <td>60</td>\n",
       "      <td>9</td>\n",
       "      <td>79</td>\n",
       "      <td>Male</td>\n",
       "    </tr>\n",
       "  </tbody>\n",
       "</table>\n",
       "</div>"
      ],
      "text/plain": [
       "    Hours Studied  Previous Scores Extracurricular Activities  Sleep Hours  \\\n",
       "7               4               97                         No           40   \n",
       "35              5               91                        Yes           60   \n",
       "\n",
       "    Sample Question Papers Practiced  Performance Index Gender  \n",
       "7                                  1                 81   Male  \n",
       "35                                 9                 79   Male  "
      ]
     },
     "execution_count": 90,
     "metadata": {},
     "output_type": "execute_result"
    }
   ],
   "source": [
    "# Khoảng dữ liệu có chứa outliers ==> tách riêng outliers \n",
    "outliers = data[(Q1 - 1.5 * IQR > data['Sleep Hours']) | (data['Sleep Hours'] > Q3 + 1.5 * IQR)]\n",
    "outliers"
   ]
  },
  {
   "cell_type": "code",
   "execution_count": 91,
   "metadata": {},
   "outputs": [
    {
     "name": "stdout",
     "output_type": "stream",
     "text": [
      "Kích thước dữ liệu không có outliers :  996\n",
      "    Hours Studied  Previous Scores Extracurricular Activities  Sleep Hours  \\\n",
      "7               4               97                         No           40   \n",
      "35              5               91                        Yes           60   \n",
      "\n",
      "    Sample Question Papers Practiced  Performance Index Gender  \n",
      "7                                  1                 81   Male  \n",
      "35                                 9                 79   Male  \n"
     ]
    }
   ],
   "source": [
    "# Cách 2 : Sử dụng hàm kiểm tra số lượng outlier\n",
    "import numpy as np\n",
    "\n",
    "def detect_outliers_iqr(data, column):\n",
    "    Q1 = data[column].quantile(0.25)\n",
    "    Q3 = data[column].quantile(0.75)\n",
    "    IQR = Q3 - Q1\n",
    "    lower_bound = Q1 - 1.5 * IQR\n",
    "    upper_bound = Q3 + 1.5 * IQR\n",
    "    # Đếm ngoại lệ\n",
    "    print('Kích thước dữ liệu không có outliers : ',len(data[(data[column] >= lower_bound) & (data[column] <= upper_bound)]))\n",
    "    return data[(data[column] < lower_bound) | (data[column] > upper_bound)] # Trả về dữ liệu có chưa outlier\n",
    "\n",
    "outliers = detect_outliers_iqr(data, \"Sleep Hours\")\n",
    "print(outliers)"
   ]
  },
  {
   "cell_type": "code",
   "execution_count": 92,
   "metadata": {},
   "outputs": [
    {
     "name": "stdout",
     "output_type": "stream",
     "text": [
      "Kích thước dữ liệu không có outliers :  998\n",
      "Coloumn :  Hours Studied \n",
      " Outliers Empty DataFrame\n",
      "Columns: [Hours Studied, Previous Scores, Extracurricular Activities, Sleep Hours, Sample Question Papers Practiced, Performance Index, Gender]\n",
      "Index: []\n",
      "Kích thước dữ liệu không có outliers :  998\n",
      "Coloumn :  Previous Scores \n",
      " Outliers Empty DataFrame\n",
      "Columns: [Hours Studied, Previous Scores, Extracurricular Activities, Sleep Hours, Sample Question Papers Practiced, Performance Index, Gender]\n",
      "Index: []\n",
      "Kích thước dữ liệu không có outliers :  996\n",
      "Coloumn :  Sleep Hours \n",
      " Outliers     Hours Studied  Previous Scores Extracurricular Activities  Sleep Hours  \\\n",
      "7               4               97                         No           40   \n",
      "35              5               91                        Yes           60   \n",
      "\n",
      "    Sample Question Papers Practiced  Performance Index Gender  \n",
      "7                                  1                 81   Male  \n",
      "35                                 9                 79   Male  \n",
      "Kích thước dữ liệu không có outliers :  998\n",
      "Coloumn :  Sample Question Papers Practiced \n",
      " Outliers Empty DataFrame\n",
      "Columns: [Hours Studied, Previous Scores, Extracurricular Activities, Sleep Hours, Sample Question Papers Practiced, Performance Index, Gender]\n",
      "Index: []\n",
      "Kích thước dữ liệu không có outliers :  998\n",
      "Coloumn :  Performance Index \n",
      " Outliers Empty DataFrame\n",
      "Columns: [Hours Studied, Previous Scores, Extracurricular Activities, Sleep Hours, Sample Question Papers Practiced, Performance Index, Gender]\n",
      "Index: []\n"
     ]
    }
   ],
   "source": [
    "# Kiểm tra outlier cho toàn bộ các biếm kiểu số \n",
    "for column in numeric_columns:\n",
    "    outliers = detect_outliers_iqr(data,column)\n",
    "    print('Coloumn : ', column ,'\\n Outliers', outliers)"
   ]
  },
  {
   "cell_type": "code",
   "execution_count": 93,
   "metadata": {},
   "outputs": [
    {
     "name": "stdout",
     "output_type": "stream",
     "text": [
      "Kích thước dữ liệu không có outliers :  996\n",
      "     Hours Studied  Previous Scores Extracurricular Activities  Sleep Hours  \\\n",
      "0                5               73                        Yes            9   \n",
      "1                3               75                        Yes            5   \n",
      "2                1               82                         No            8   \n",
      "4                3               62                         No            5   \n",
      "5                2               76                        Yes            6   \n",
      "..             ...              ...                        ...          ...   \n",
      "995              4               76                        Yes            9   \n",
      "996              2               57                         No            5   \n",
      "997              2               87                        Yes            8   \n",
      "998              1               53                         No            8   \n",
      "999              7               95                        Yes            5   \n",
      "\n",
      "     Sample Question Papers Practiced  Performance Index  Gender  \n",
      "0                                   3                 60  Female  \n",
      "1                                   9                 57    Male  \n",
      "2                                   7                 58    Male  \n",
      "4                                   1                 43  Female  \n",
      "5                                   7                 56  Female  \n",
      "..                                ...                ...     ...  \n",
      "995                                 1                 57  Female  \n",
      "996                                 5                 35    Male  \n",
      "997                                 7                 62  Female  \n",
      "998                                 0                 24    Male  \n",
      "999                                 6                 89  Female  \n",
      "\n",
      "[996 rows x 7 columns]\n"
     ]
    }
   ],
   "source": [
    "# Cách 2 : Sử dụng hàm để loại bỏ outlier \n",
    "import numpy as np\n",
    "\n",
    "def delete_outliers_iqr(data, column):\n",
    "    Q1 = data[column].quantile(0.25)\n",
    "    Q3 = data[column].quantile(0.75)\n",
    "    IQR = Q3 - Q1\n",
    "    lower_bound = Q1 - 1.5 * IQR\n",
    "    upper_bound = Q3 + 1.5 * IQR\n",
    "    # Loại bỏ ngoại lệ\n",
    "    print('Kích thước dữ liệu không có outliers : ',len(data[(data[column] >= lower_bound) & (data[column] <= upper_bound)]))\n",
    "    return data[(data[column] >= lower_bound) & (data[column] <= upper_bound)] # Trả về dữ liệu đã loại bỏ outlier\n",
    "\n",
    "deleted_outlier = delete_outliers_iqr(data, \"Sleep Hours\")\n",
    "print(deleted_outlier)"
   ]
  },
  {
   "cell_type": "code",
   "execution_count": 94,
   "metadata": {},
   "outputs": [
    {
     "name": "stdout",
     "output_type": "stream",
     "text": [
      "998\n",
      "Index of outliers [6, 34]\n",
      "Outlier values [40 60]\n"
     ]
    }
   ],
   "source": [
    "# Cách 3 : \n",
    "# sh = Sleep Hours\n",
    "sh = data['Sleep Hours'].values\n",
    "print(len(sh))\n",
    "outliers_ = np.unique(sh[[(n < Q1-1.5*IQR) | (n > Q3+1.5*IQR) for n in sh]])\n",
    "indexes_ = [sh.tolist().index(i) for i in outliers_]\n",
    "print(\"Index of outliers\", indexes_)\n",
    "print(\"Outlier values\", sh[indexes_])\n"
   ]
  },
  {
   "cell_type": "code",
   "execution_count": 95,
   "metadata": {},
   "outputs": [],
   "source": [
    "# [(n < Q1-1.5*IQR) | (n > Q3+1.5*IQR) for n in sh]"
   ]
  },
  {
   "cell_type": "code",
   "execution_count": 96,
   "metadata": {},
   "outputs": [
    {
     "data": {
      "text/plain": [
       "[6, 34]"
      ]
     },
     "execution_count": 96,
     "metadata": {},
     "output_type": "execute_result"
    }
   ],
   "source": [
    "indexes_"
   ]
  },
  {
   "cell_type": "code",
   "execution_count": 97,
   "metadata": {},
   "outputs": [
    {
     "name": "stdout",
     "output_type": "stream",
     "text": [
      "Before: 998\n",
      "After: 996\n"
     ]
    }
   ],
   "source": [
    "# Xử lý ngoại lệ được tìm ra ở cách dùng IQR\n",
    "print(\"Before:\", len(sh))\n",
    "# Dữ liệu Sleep Hours không có chưa outliers\n",
    "sh_now = [sh[i] for i in range(len(sh)) if i not in indexes_]\n",
    "print(\"After:\", len(sh_now))"
   ]
  },
  {
   "cell_type": "markdown",
   "metadata": {},
   "source": [
    "#### Bước 3: Phân tích đơn biến, hai biến"
   ]
  },
  {
   "cell_type": "markdown",
   "metadata": {},
   "source": [
    "#### Phân tích đơn biến\n",
    "(Univariate Analysis) trong EDA\n",
    "Phân tích đơn biến (Univariate Analysis) là quá trình phân tích từng biến độc lập trong tập dữ liệu để hiểu được đặc điểm, phân bố và các giá trị bất thường của chúng. Mục tiêu của phân tích đơn biến là:  \n",
    "\n",
    "* Kiểm tra sự phân bố dữ liệu  \n",
    "* Xác định giá trị trung tâm và độ biến thiên  \n",
    "* Nhận diện dữ liệu ngoại lệ (outliers)  \n",
    "* Xác định kiểu dữ liệu (số hay phân loại) và ý nghĩa của chúng  \n"
   ]
  },
  {
   "cell_type": "markdown",
   "metadata": {},
   "source": [
    "#### Xu hướng trung tâm  "
   ]
  },
  {
   "cell_type": "code",
   "execution_count": 98,
   "metadata": {},
   "outputs": [
    {
     "name": "stdout",
     "output_type": "stream",
     "text": [
      "Biến liên tục: Index(['Hours Studied', 'Previous Scores', 'Sleep Hours',\n",
      "       'Sample Question Papers Practiced', 'Performance Index'],\n",
      "      dtype='object')\n",
      "Biến phân loại: Index(['Extracurricular Activities', 'Gender'], dtype='object')\n",
      "Biến thời gian: Index([], dtype='object')\n"
     ]
    }
   ],
   "source": [
    "# Xác định các biến (đã có ở bước trên) \n",
    "numerical_vars = data.select_dtypes(include=['int64', 'float64']).columns\n",
    "categorical_vars = data.select_dtypes(include=['object']).columns\n",
    "datetime_vars = data.select_dtypes(include=['datetime64']).columns\n",
    "\n",
    "print(\"Biến liên tục:\", numerical_vars)\n",
    "print(\"Biến phân loại:\", categorical_vars)\n",
    "print(\"Biến thời gian:\", datetime_vars)"
   ]
  },
  {
   "cell_type": "markdown",
   "metadata": {},
   "source": [
    "#### a/ Biến liên tục :  \n",
    "Phân tích từng biến trong danh sách Index(['Hours Studied', 'Previous Scores', 'Sleep Hours',\n",
    "       'Sample Question Papers Practiced', 'Performance Index']  \n",
    "\n",
    "==> Viết hàm tái sử dụng , đưa từng biến vào để phân tích  "
   ]
  },
  {
   "cell_type": "code",
   "execution_count": 99,
   "metadata": {},
   "outputs": [
    {
     "data": {
      "text/plain": [
       "count    998.000000\n",
       "mean      70.528056\n",
       "std       17.278668\n",
       "min       29.000000\n",
       "25%       56.000000\n",
       "50%       71.000000\n",
       "75%       86.000000\n",
       "max       99.000000\n",
       "Name: Previous Scores, dtype: float64"
      ]
     },
     "execution_count": 99,
     "metadata": {},
     "output_type": "execute_result"
    }
   ],
   "source": [
    "# Previous Scores\n",
    "data['Previous Scores'].describe()"
   ]
  },
  {
   "cell_type": "code",
   "execution_count": 100,
   "metadata": {},
   "outputs": [
    {
     "name": "stdout",
     "output_type": "stream",
     "text": [
      "Q1: 56.0 Q3: 86.0 IQR: 30.0\n"
     ]
    }
   ],
   "source": [
    "# Tứ phân vị \n",
    "# Q1 = np.quantile(data['Previous Scores'].dropna(), 0.25)\n",
    "# Q3 = np.quantile(data['Previous Scores'].dropna(), 0.75)\n",
    "\n",
    "Q1 = data['Previous Scores'].quantile(0.25)\n",
    "Q3 = data['Previous Scores'].quantile(0.75)\n",
    "IQR = Q3 - Q1\n",
    "print(\"Q1:\", Q1, \"Q3:\", Q3, \"IQR:\", IQR)"
   ]
  },
  {
   "cell_type": "code",
   "execution_count": 101,
   "metadata": {},
   "outputs": [
    {
     "data": {
      "text/plain": [
       "99"
      ]
     },
     "execution_count": 101,
     "metadata": {},
     "output_type": "execute_result"
    }
   ],
   "source": [
    "# Giá trị lớn nhất   \n",
    "data['Previous Scores'].max()"
   ]
  },
  {
   "cell_type": "code",
   "execution_count": 102,
   "metadata": {},
   "outputs": [
    {
     "data": {
      "text/plain": [
       "29"
      ]
     },
     "execution_count": 102,
     "metadata": {},
     "output_type": "execute_result"
    }
   ],
   "source": [
    "# Giá trị nhỏ nhất   \n",
    "data['Previous Scores'].min()"
   ]
  },
  {
   "cell_type": "code",
   "execution_count": 103,
   "metadata": {},
   "outputs": [
    {
     "data": {
      "text/plain": [
       "298.55237154348816"
      ]
     },
     "execution_count": 103,
     "metadata": {},
     "output_type": "execute_result"
    }
   ],
   "source": [
    "# Phương sai \n",
    "data['Previous Scores'].var()"
   ]
  },
  {
   "cell_type": "code",
   "execution_count": 104,
   "metadata": {},
   "outputs": [
    {
     "data": {
      "text/plain": [
       "17.27866810675777"
      ]
     },
     "execution_count": 104,
     "metadata": {},
     "output_type": "execute_result"
    }
   ],
   "source": [
    "# Độ lệch chuẩn \n",
    "data['Previous Scores'].std()"
   ]
  },
  {
   "cell_type": "code",
   "execution_count": 105,
   "metadata": {},
   "outputs": [
    {
     "data": {
      "image/png": "[encoded data removed]",
      "text/plain": [
       "<Figure size 640x480 with 1 Axes>"
      ]
     },
     "metadata": {},
     "output_type": "display_data"
    }
   ],
   "source": [
    "data.boxplot('Previous Scores')\n",
    "plt.show()"
   ]
  },
  {
   "cell_type": "code",
   "execution_count": 106,
   "metadata": {},
   "outputs": [
    {
     "data": {
      "image/png": "[encoded data removed]",
      "text/plain": [
       "<Figure size 640x480 with 1 Axes>"
      ]
     },
     "metadata": {},
     "output_type": "display_data"
    }
   ],
   "source": [
    "data.hist('Previous Scores')\n",
    "plt.show()"
   ]
  },
  {
   "cell_type": "code",
   "execution_count": 107,
   "metadata": {},
   "outputs": [
    {
     "data": {
      "image/png": "[encoded data removed]",
      "text/plain": [
       "<Figure size 640x480 with 1 Axes>"
      ]
     },
     "metadata": {},
     "output_type": "display_data"
    }
   ],
   "source": [
    "data['Previous Scores'].plot.kde()\n",
    "plt.show()"
   ]
  },
  {
   "cell_type": "markdown",
   "metadata": {},
   "source": [
    "#### Xu hướng phân tán  \n",
    "Skewness đo lường mức độ lệch của phân phối dữ liệu so với phân phối chuẩn (normal distribution – đối xứng hoàn toàn).  \n",
    "Skewness = 0: Dữ liệu đối xứng, phân phối chuẩn.  \n",
    "Skewness > 0 (Lệch phải): Đuôi bên phải dài hơn, nhiều giá trị nhỏ, trung bình > trung vị.  \n",
    "Skewness < 0 (Lệch trái): Đuôi bên trái dài hơn, nhiều giá trị lớn, trung bình < trung vị.  \n",
    "Kurtosis đo mức độ tập trung của giá trị dữ liệu xung quanh trung tâm và mức độ nặng/nhẹ của các đuôi phân phối so với phân phối chuẩn.  \n",
    "Kurtosis = 3 (hoặc 0 nếu tính theo excess kurtosis): Phân phối chuẩn.  \n",
    "Kurtosis > 3: Phân phối nhọn (Leptokurtic) – nhiều giá trị gần trung tâm, đuôi dài → có nhiều ngoại lệ (outliers).  \n",
    "Kurtosis < 3: Phân phối bè (Platykurtic) – dữ liệu phân tán, ít giá trị tập trung, đuôi ngắn.  "
   ]
  },
  {
   "cell_type": "code",
   "execution_count": 138,
   "metadata": {},
   "outputs": [
    {
     "data": {
      "text/plain": [
       "-0.060033895152476965"
      ]
     },
     "execution_count": 138,
     "metadata": {},
     "output_type": "execute_result"
    }
   ],
   "source": [
    "# Độ lệch \n",
    "stats.skew(data['Previous Scores']) # Phân phối hơi lệch trái"
   ]
  },
  {
   "cell_type": "code",
   "execution_count": 109,
   "metadata": {},
   "outputs": [
    {
     "data": {
      "text/plain": [
       "-1.2116688130267925"
      ]
     },
     "execution_count": 109,
     "metadata": {},
     "output_type": "execute_result"
    }
   ],
   "source": [
    "stats.kurtosis(data['Previous Scores']) # Độ nhọn phân phối , Phân phối thấp hơn phân phối chuẩn "
   ]
  },
  {
   "cell_type": "code",
   "execution_count": 110,
   "metadata": {},
   "outputs": [
    {
     "data": {
      "image/png": "[encoded data removed]",
      "text/plain": [
       "<Figure size 640x480 with 1 Axes>"
      ]
     },
     "metadata": {},
     "output_type": "display_data"
    }
   ],
   "source": [
    "import seaborn as sns\n",
    "sns.distplot(data['Previous Scores'].dropna())\n",
    "plt.show()"
   ]
  },
  {
   "cell_type": "code",
   "execution_count": 25,
   "metadata": {
    "scrolled": true
   },
   "outputs": [
    {
     "name": "stdout",
     "output_type": "stream",
     "text": [
      "count    998.000000\n",
      "mean       5.022044\n",
      "std        2.573984\n",
      "min        1.000000\n",
      "25%        3.000000\n",
      "50%        5.000000\n",
      "75%        7.000000\n",
      "max        9.000000\n",
      "Name: Hours Studied, dtype: float64\n",
      "Q1: 3.0 Q3: 7.0 IQR: 4.0\n",
      "99\n",
      "29\n"
     ]
    },
    {
     "data": {
      "image/png": "[encoded data removed]",
      "text/plain": [
       "<Figure size 640x480 with 1 Axes>"
      ]
     },
     "metadata": {},
     "output_type": "display_data"
    },
    {
     "name": "stdout",
     "output_type": "stream",
     "text": [
      "count    998.000000\n",
      "mean      70.528056\n",
      "std       17.278668\n",
      "min       29.000000\n",
      "25%       56.000000\n",
      "50%       71.000000\n",
      "75%       86.000000\n",
      "max       99.000000\n",
      "Name: Previous Scores, dtype: float64\n",
      "Q1: 56.0 Q3: 86.0 IQR: 30.0\n",
      "99\n",
      "29\n"
     ]
    },
    {
     "data": {
      "image/png": "[encoded data removed]",
      "text/plain": [
       "<Figure size 640x480 with 1 Axes>"
      ]
     },
     "metadata": {},
     "output_type": "display_data"
    },
    {
     "name": "stdout",
     "output_type": "stream",
     "text": [
      "count    998.000000\n",
      "mean       6.575150\n",
      "std        2.610423\n",
      "min        4.000000\n",
      "25%        5.000000\n",
      "50%        6.000000\n",
      "75%        8.000000\n",
      "max       60.000000\n",
      "Name: Sleep Hours, dtype: float64\n",
      "Q1: 5.0 Q3: 8.0 IQR: 3.0\n",
      "99\n",
      "29\n"
     ]
    },
    {
     "data": {
      "image/png": "[encoded data removed]",
      "text/plain": [
       "<Figure size 640x480 with 1 Axes>"
      ]
     },
     "metadata": {},
     "output_type": "display_data"
    },
    {
     "name": "stdout",
     "output_type": "stream",
     "text": [
      "count    998.000000\n",
      "mean       4.557114\n",
      "std        2.870709\n",
      "min        0.000000\n",
      "25%        2.000000\n",
      "50%        5.000000\n",
      "75%        7.000000\n",
      "max        9.000000\n",
      "Name: Sample Question Papers Practiced, dtype: float64\n",
      "Q1: 2.0 Q3: 7.0 IQR: 5.0\n",
      "99\n",
      "29\n"
     ]
    },
    {
     "data": {
      "image/png": "[encoded data removed]",
      "text/plain": [
       "<Figure size 640x480 with 1 Axes>"
      ]
     },
     "metadata": {},
     "output_type": "display_data"
    },
    {
     "name": "stdout",
     "output_type": "stream",
     "text": [
      "count    998.000000\n",
      "mean      56.405812\n",
      "std       19.531900\n",
      "min       11.000000\n",
      "25%       41.000000\n",
      "50%       57.000000\n",
      "75%       72.000000\n",
      "max      100.000000\n",
      "Name: Performance Index, dtype: float64\n",
      "Q1: 41.0 Q3: 72.0 IQR: 31.0\n",
      "99\n",
      "29\n"
     ]
    },
    {
     "data": {
      "image/png": "[encoded data removed]",
      "text/plain": [
       "<Figure size 640x480 with 1 Axes>"
      ]
     },
     "metadata": {},
     "output_type": "display_data"
    }
   ],
   "source": [
    "for column in numeric_columns:\n",
    "    print(data[column].describe()) \n",
    "    Q1 = data[column].quantile(0.25)\n",
    "    Q3 = data[column].quantile(0.75)\n",
    "    IQR = Q3 - Q1\n",
    "    print(\"Q1:\", Q1, \"Q3:\", Q3, \"IQR:\", IQR)\n",
    "    # Giá trị lớn nhất   \n",
    "    print(data['Previous Scores'].max())\n",
    "    print(data['Previous Scores'].min())\n",
    "    data.boxplot('Previous Scores')\n",
    "    plt.show()"
   ]
  },
  {
   "cell_type": "markdown",
   "metadata": {},
   "source": [
    "#### b/ Biến phân loại  \n",
    "Phân tích từng biến trong danh sách Index(['Extracurricular Activities', 'Gender']  \n",
    "Dùng value_counts() và plot.bar() để phân tích  "
   ]
  },
  {
   "cell_type": "code",
   "execution_count": 26,
   "metadata": {},
   "outputs": [
    {
     "data": {
      "text/plain": [
       "No     517\n",
       "Yes    478\n",
       "Name: Extracurricular Activities, dtype: int64"
      ]
     },
     "execution_count": 26,
     "metadata": {},
     "output_type": "execute_result"
    }
   ],
   "source": [
    "data['Extracurricular Activities'].value_counts()"
   ]
  },
  {
   "cell_type": "code",
   "execution_count": 27,
   "metadata": {},
   "outputs": [
    {
     "data": {
      "image/png": "[encoded data removed]",
      "text/plain": [
       "<Figure size 640x480 with 1 Axes>"
      ]
     },
     "metadata": {},
     "output_type": "display_data"
    }
   ],
   "source": [
    "data['Extracurricular Activities'].value_counts().plot.bar()\n",
    "plt.show()"
   ]
  },
  {
   "cell_type": "code",
   "execution_count": 113,
   "metadata": {},
   "outputs": [],
   "source": [
    "# ==> Số lượng No nhiều hơn Yes "
   ]
  },
  {
   "cell_type": "code",
   "execution_count": 28,
   "metadata": {},
   "outputs": [
    {
     "data": {
      "text/plain": [
       "Female    558\n",
       "Male      440\n",
       "Name: Gender, dtype: int64"
      ]
     },
     "execution_count": 28,
     "metadata": {},
     "output_type": "execute_result"
    }
   ],
   "source": [
    "# Biến 'Gender'\n",
    "data['Gender'].value_counts()"
   ]
  },
  {
   "cell_type": "code",
   "execution_count": 29,
   "metadata": {},
   "outputs": [
    {
     "data": {
      "image/png": "[encoded data removed]",
      "text/plain": [
       "<Figure size 640x480 with 1 Axes>"
      ]
     },
     "metadata": {},
     "output_type": "display_data"
    }
   ],
   "source": [
    "data['Gender'].value_counts().plot.bar()\n",
    "plt.show()\n",
    "# Số lượng Female nhiều hơn Male"
   ]
  },
  {
   "cell_type": "markdown",
   "metadata": {},
   "source": [
    "#### c/ Biến mục tiêu:    \n",
    "Phân tích biến mục tiêu Performance Index kiểu numeric như biến liên tục  "
   ]
  },
  {
   "cell_type": "code",
   "execution_count": 116,
   "metadata": {},
   "outputs": [
    {
     "data": {
      "text/plain": [
       "count    998.000000\n",
       "mean      56.405812\n",
       "std       19.531900\n",
       "min       11.000000\n",
       "25%       41.000000\n",
       "50%       57.000000\n",
       "75%       72.000000\n",
       "max      100.000000\n",
       "Name: Performance Index, dtype: float64"
      ]
     },
     "execution_count": 116,
     "metadata": {},
     "output_type": "execute_result"
    }
   ],
   "source": [
    "# Performance Index\n",
    "data['Performance Index'].describe()"
   ]
  },
  {
   "cell_type": "code",
   "execution_count": 117,
   "metadata": {},
   "outputs": [],
   "source": [
    "# Giá trị lớn nhất   \n",
    "_max = data['Performance Index'].max()\n",
    "# Giá nhỏ lớn nhất\n",
    "_min = data['Performance Index'].min()\n",
    "# Phương sai \n",
    "_var = data['Performance Index'].var()\n",
    "# Độ lệch chuẩn \n",
    "_std = data['Performance Index'].std()\n",
    "# Độ lệch phân phối \n",
    "_skew = stats.skew(data['Performance Index']) # Phân phối hơi lệch trái\n",
    "# Độ nhọn phân phối \n",
    "_kur = stats.kurtosis(data['Performance Index']) # Phân phối thấp hơn phân phối chuẩn "
   ]
  },
  {
   "cell_type": "code",
   "execution_count": 118,
   "metadata": {},
   "outputs": [
    {
     "name": "stdout",
     "output_type": "stream",
     "text": [
      "Giá trị lớn nhất : 100\n",
      "Giá trị nhỏ nhất : 11\n",
      "Phương sai : 381.4951316876481\n",
      "Độ lệch chuẩn : 19.531900360375793\n",
      "Độ lệch phân phối : -0.09036867596247455\n",
      "Độ nhọn phân phối : -0.8954261920381517\n"
     ]
    }
   ],
   "source": [
    "print(f'Giá trị lớn nhất : {_max}')\n",
    "print(f'Giá trị nhỏ nhất : {_min}')\n",
    "print(f'Phương sai : {_var}')\n",
    "print(f'Độ lệch chuẩn : {_std}')\n",
    "print(f'Độ lệch phân phối : {_skew}')\n",
    "print(f'Độ nhọn phân phối : {_kur}')"
   ]
  },
  {
   "cell_type": "code",
   "execution_count": 119,
   "metadata": {},
   "outputs": [
    {
     "data": {
      "image/png": "[encoded data removed]",
      "text/plain": [
       "<Figure size 640x480 with 1 Axes>"
      ]
     },
     "metadata": {},
     "output_type": "display_data"
    }
   ],
   "source": [
    "data.hist('Performance Index')\n",
    "plt.show()"
   ]
  },
  {
   "cell_type": "markdown",
   "metadata": {},
   "source": [
    "### Phân tích hai biến (Bivariate Analysis) trong EDA  \n",
    "Phân tích hai biến (Bivariate Analysis) là quá trình kiểm tra mối quan hệ giữa hai biến trong tập dữ liệu. Mục tiêu của bước này là:  \n",
    "✅ Xác định xem hai biến có mối quan hệ với nhau hay không  \n",
    "✅ Xác định mức độ tương quan giữa hai biến  \n",
    "✅ Kiểm tra xem sự thay đổi của một biến có ảnh hưởng đến biến kia không  \n",
    "\n",
    "Tùy vào loại biến (số hoặc phân loại), ta sẽ sử dụng các phương pháp phân tích khác nhau.  "
   ]
  },
  {
   "cell_type": "markdown",
   "metadata": {},
   "source": [
    "#### Liên tục với Liên tục"
   ]
  },
  {
   "cell_type": "code",
   "execution_count": 120,
   "metadata": {},
   "outputs": [
    {
     "name": "stdout",
     "output_type": "stream",
     "text": [
      "Biến liên tục: Index(['Hours Studied', 'Previous Scores', 'Sleep Hours',\n",
      "       'Sample Question Papers Practiced', 'Performance Index'],\n",
      "      dtype='object')\n"
     ]
    }
   ],
   "source": [
    "print(\"Biến liên tục:\", numerical_vars)"
   ]
  },
  {
   "cell_type": "code",
   "execution_count": 30,
   "metadata": {},
   "outputs": [
    {
     "data": {
      "text/html": [
       "<div>\n",
       "<style scoped>\n",
       "    .dataframe tbody tr th:only-of-type {\n",
       "        vertical-align: middle;\n",
       "    }\n",
       "\n",
       "    .dataframe tbody tr th {\n",
       "        vertical-align: top;\n",
       "    }\n",
       "\n",
       "    .dataframe thead th {\n",
       "        text-align: right;\n",
       "    }\n",
       "</style>\n",
       "<table border=\"1\" class=\"dataframe\">\n",
       "  <thead>\n",
       "    <tr style=\"text-align: right;\">\n",
       "      <th></th>\n",
       "      <th>Previous Scores</th>\n",
       "      <th>Performance Index</th>\n",
       "    </tr>\n",
       "  </thead>\n",
       "  <tbody>\n",
       "    <tr>\n",
       "      <th>Previous Scores</th>\n",
       "      <td>1.000000</td>\n",
       "      <td>0.918304</td>\n",
       "    </tr>\n",
       "    <tr>\n",
       "      <th>Performance Index</th>\n",
       "      <td>0.918304</td>\n",
       "      <td>1.000000</td>\n",
       "    </tr>\n",
       "  </tbody>\n",
       "</table>\n",
       "</div>"
      ],
      "text/plain": [
       "                   Previous Scores  Performance Index\n",
       "Previous Scores           1.000000           0.918304\n",
       "Performance Index         0.918304           1.000000"
      ]
     },
     "execution_count": 30,
     "metadata": {},
     "output_type": "execute_result"
    }
   ],
   "source": [
    "### Biến liên tục với biến liên tục \n",
    "data[['Previous Scores', 'Performance Index']].corr()"
   ]
  },
  {
   "cell_type": "markdown",
   "metadata": {},
   "source": [
    "### 📊 Ý nghĩa hệ số tương quan (Correlation Coefficient)\n",
    "\n",
    "| Hệ số tương quan (r) | Mức độ tương quan            | Giải thích ngắn gọn                                    |\n",
    "|----------------------|-------------------------------|--------------------------------------------------------|\n",
    "| r ≈ +1               | Tương quan dương rất mạnh     | Khi biến X tăng thì biến Y cũng tăng gần như tuyệt đối |\n",
    "| 0.7 ≤ r < 1          | Tương quan dương mạnh         | X và Y tăng cùng nhau rõ rệt                           |\n",
    "| 0.3 ≤ r < 0.7        | Tương quan dương trung bình   | Có xu hướng tăng cùng nhau, nhưng không chặt chẽ       |\n",
    "| 0.0 < r < 0.3        | Tương quan dương yếu          | Mối liên hệ rất yếu, gần như không đáng kể             |\n",
    "| r = 0                | Không có tương quan           | Hai biến không liên hệ tuyến tính                      |\n",
    "| -0.3 < r < 0.0       | Tương quan âm yếu             | Khi X tăng thì Y hơi giảm, nhưng rất yếu               |\n",
    "| -0.7 < r ≤ -0.3      | Tương quan âm trung bình      | Có xu hướng ngược chiều nhau                           |\n",
    "| -1 < r ≤ -0.7        | Tương quan âm mạnh            | X tăng thì Y giảm rõ rệt                               |\n",
    "| r ≈ -1              | Tương quan âm rất mạnh        | Quan hệ nghịch biến gần như tuyệt đối                  |\n"
   ]
  },
  {
   "cell_type": "code",
   "execution_count": 122,
   "metadata": {},
   "outputs": [],
   "source": [
    "# Nhận xét: Có sự tương quan mạnh giữa 'Previous Scores‘ và 'Performance Index' r > 0.9 "
   ]
  },
  {
   "cell_type": "markdown",
   "metadata": {},
   "source": [
    "#### Phân loại với Phân loại"
   ]
  },
  {
   "cell_type": "code",
   "execution_count": 33,
   "metadata": {},
   "outputs": [
    {
     "name": "stdout",
     "output_type": "stream",
     "text": [
      "Biến phân loại: Index(['Extracurricular Activities', 'Gender'], dtype='object')\n"
     ]
    }
   ],
   "source": [
    "print(\"Biến phân loại:\", categorical_vars)"
   ]
  },
  {
   "cell_type": "code",
   "execution_count": 34,
   "metadata": {},
   "outputs": [
    {
     "data": {
      "text/html": [
       "<div>\n",
       "<style scoped>\n",
       "    .dataframe tbody tr th:only-of-type {\n",
       "        vertical-align: middle;\n",
       "    }\n",
       "\n",
       "    .dataframe tbody tr th {\n",
       "        vertical-align: top;\n",
       "    }\n",
       "\n",
       "    .dataframe thead th {\n",
       "        text-align: right;\n",
       "    }\n",
       "</style>\n",
       "<table border=\"1\" class=\"dataframe\">\n",
       "  <thead>\n",
       "    <tr style=\"text-align: right;\">\n",
       "      <th>Gender</th>\n",
       "      <th>Female</th>\n",
       "      <th>Male</th>\n",
       "    </tr>\n",
       "    <tr>\n",
       "      <th>Extracurricular Activities</th>\n",
       "      <th></th>\n",
       "      <th></th>\n",
       "    </tr>\n",
       "  </thead>\n",
       "  <tbody>\n",
       "    <tr>\n",
       "      <th>No</th>\n",
       "      <td>285</td>\n",
       "      <td>232</td>\n",
       "    </tr>\n",
       "    <tr>\n",
       "      <th>Yes</th>\n",
       "      <td>271</td>\n",
       "      <td>207</td>\n",
       "    </tr>\n",
       "  </tbody>\n",
       "</table>\n",
       "</div>"
      ],
      "text/plain": [
       "Gender                      Female  Male\n",
       "Extracurricular Activities              \n",
       "No                             285   232\n",
       "Yes                            271   207"
      ]
     },
     "execution_count": 34,
     "metadata": {},
     "output_type": "execute_result"
    }
   ],
   "source": [
    "table = pd.crosstab(data['Extracurricular Activities'], data['Gender'])\n",
    "table"
   ]
  },
  {
   "cell_type": "code",
   "execution_count": 35,
   "metadata": {},
   "outputs": [
    {
     "data": {
      "image/png": "[encoded data removed]",
      "text/plain": [
       "<Figure size 640x480 with 1 Axes>"
      ]
     },
     "metadata": {},
     "output_type": "display_data"
    }
   ],
   "source": [
    "table.plot.bar()\n",
    "plt.show()"
   ]
  },
  {
   "cell_type": "code",
   "execution_count": 126,
   "metadata": {},
   "outputs": [],
   "source": [
    "# Nhận xét: Có sự khác biệt nhỏ về số lượng Male và Female giữa Extracurricular Activities No/Yes ,  \n",
    "# Nữ hoạt động ngoại khoá và không hoạt động ngoại khoá nhiều hơn nam"
   ]
  },
  {
   "cell_type": "code",
   "execution_count": 36,
   "metadata": {},
   "outputs": [
    {
     "data": {
      "image/png": "[encoded data removed]",
      "text/plain": [
       "<Figure size 640x480 with 1 Axes>"
      ]
     },
     "metadata": {},
     "output_type": "display_data"
    }
   ],
   "source": [
    "table.plot(kind='bar', stacked=True)\n",
    "plt.show()"
   ]
  },
  {
   "cell_type": "code",
   "execution_count": 37,
   "metadata": {},
   "outputs": [
    {
     "data": {
      "text/plain": [
       "Extracurricular Activities\n",
       "No     517\n",
       "Yes    478\n",
       "dtype: int64"
      ]
     },
     "execution_count": 37,
     "metadata": {},
     "output_type": "execute_result"
    }
   ],
   "source": [
    "table.sum(axis=1)"
   ]
  },
  {
   "cell_type": "code",
   "execution_count": 129,
   "metadata": {},
   "outputs": [
    {
     "data": {
      "text/html": [
       "<div>\n",
       "<style scoped>\n",
       "    .dataframe tbody tr th:only-of-type {\n",
       "        vertical-align: middle;\n",
       "    }\n",
       "\n",
       "    .dataframe tbody tr th {\n",
       "        vertical-align: top;\n",
       "    }\n",
       "\n",
       "    .dataframe thead th {\n",
       "        text-align: right;\n",
       "    }\n",
       "</style>\n",
       "<table border=\"1\" class=\"dataframe\">\n",
       "  <thead>\n",
       "    <tr style=\"text-align: right;\">\n",
       "      <th>Gender</th>\n",
       "      <th>Female</th>\n",
       "      <th>Male</th>\n",
       "    </tr>\n",
       "    <tr>\n",
       "      <th>Extracurricular Activities</th>\n",
       "      <th></th>\n",
       "      <th></th>\n",
       "    </tr>\n",
       "  </thead>\n",
       "  <tbody>\n",
       "    <tr>\n",
       "      <th>No</th>\n",
       "      <td>0.551923</td>\n",
       "      <td>0.448077</td>\n",
       "    </tr>\n",
       "    <tr>\n",
       "      <th>Yes</th>\n",
       "      <td>0.566946</td>\n",
       "      <td>0.433054</td>\n",
       "    </tr>\n",
       "  </tbody>\n",
       "</table>\n",
       "</div>"
      ],
      "text/plain": [
       "Gender                        Female      Male\n",
       "Extracurricular Activities                    \n",
       "No                          0.551923  0.448077\n",
       "Yes                         0.566946  0.433054"
      ]
     },
     "execution_count": 129,
     "metadata": {},
     "output_type": "execute_result"
    }
   ],
   "source": [
    "# (để mỗi thanh tăng tới 1 hoặc 100%)\n",
    "# table.sum(axis=1) tính tổng các giá trị theo hàng.\n",
    "# table.div(...) thực hiện phép chia từng giá trị trong table cho tổng tương ứng của hàng.\n",
    "table_normalized = table.div(table.sum(axis=1), axis=0)\n",
    "table_normalized"
   ]
  },
  {
   "cell_type": "code",
   "execution_count": 130,
   "metadata": {},
   "outputs": [
    {
     "data": {
      "image/png": "[encoded data removed]",
      "text/plain": [
       "<Figure size 640x480 with 1 Axes>"
      ]
     },
     "metadata": {},
     "output_type": "display_data"
    }
   ],
   "source": [
    "# Plot\n",
    "table_normalized.plot(kind='bar', stacked=True)\n",
    "plt.show()"
   ]
  },
  {
   "cell_type": "code",
   "execution_count": 131,
   "metadata": {},
   "outputs": [
    {
     "data": {
      "image/png": "[encoded data removed]",
      "text/plain": [
       "<Figure size 640x480 with 1 Axes>"
      ]
     },
     "metadata": {},
     "output_type": "display_data"
    }
   ],
   "source": [
    "# # Female\n",
    "data_female = data[data['Gender'] == 'Female']\n",
    "# Count of each Extracurricular Activities\n",
    "EA_counts = data_female['Extracurricular Activities'].value_counts()\n",
    "EA_counts.plot(kind='pie', autopct='%1.1f%%')\n",
    "plt.show()"
   ]
  },
  {
   "cell_type": "code",
   "execution_count": 132,
   "metadata": {},
   "outputs": [
    {
     "data": {
      "image/png": "[encoded data removed]",
      "text/plain": [
       "<Figure size 640x480 with 1 Axes>"
      ]
     },
     "metadata": {},
     "output_type": "display_data"
    }
   ],
   "source": [
    "# # Male\n",
    "data_male = data[data['Gender'] == 'Male']\n",
    "# Count of each Extracurricular Activities\n",
    "EA_counts = data_male['Extracurricular Activities'].value_counts()\n",
    "EA_counts.plot(kind='pie', autopct='%1.1f%%')\n",
    "plt.show()"
   ]
  },
  {
   "cell_type": "markdown",
   "metadata": {},
   "source": [
    "#### Liên tục và phân loại"
   ]
  },
  {
   "cell_type": "code",
   "execution_count": 133,
   "metadata": {},
   "outputs": [
    {
     "data": {
      "image/png": "[encoded data removed]",
      "text/plain": [
       "<Figure size 640x480 with 1 Axes>"
      ]
     },
     "metadata": {},
     "output_type": "display_data"
    }
   ],
   "source": [
    "# Performance Index & Extracurricular Activities\n",
    "data.boxplot(column='Performance Index', by='Extracurricular Activities')\n",
    "plt.show()\n"
   ]
  },
  {
   "cell_type": "code",
   "execution_count": 134,
   "metadata": {},
   "outputs": [],
   "source": [
    "# Có sự khác biệt nhỏ ở boxplot của Performance Index theo Extracurricular Activitie No và Yes  Extracurricular Activities sẽ ảnh hưởng ít đến Performance Index \n",
    "# Từ boxplot, chúng ta có thể thấy:\n",
    "# Performance Index cho cả Extracurricular Activitie No và Yes không khác biệt nhiều, như được biểu thị bằng đường line trong mỗi hộp.\n",
    "# Phạm vi Performance Index (từ tối thiểu đến tối đa trong phạm vi 1,5*IQR) cho cả Extracurricular Activitie No và Yes khác nhau ít\n",
    "# Phạm vi box (IQR) không khác biệt nhiều.\n",
    "# Những quan sát này cung cấp hiểu biết chung về phân phối Performance Index theo Extracurricular Activitie trong bộ dữ liệu này. \n",
    "# Chú ý: những thông tin chi tiết này dựa trên tập dữ liệu được cung cấp, không đại diện cho tổng thể lớn hơn.\n"
   ]
  },
  {
   "cell_type": "code",
   "execution_count": 135,
   "metadata": {},
   "outputs": [
    {
     "data": {
      "image/png": "[encoded data removed]",
      "text/plain": [
       "<Figure size 640x480 with 1 Axes>"
      ]
     },
     "metadata": {},
     "output_type": "display_data"
    }
   ],
   "source": [
    "# Performance Index & Gender\n",
    "data.boxplot(column='Performance Index', by='Gender')\n",
    "plt.show()"
   ]
  },
  {
   "cell_type": "code",
   "execution_count": 144,
   "metadata": {},
   "outputs": [
    {
     "data": {
      "text/plain": [
       "Hours Studied                       998\n",
       "Previous Scores                     998\n",
       "Extracurricular Activities          998\n",
       "Sleep Hours                         998\n",
       "Sample Question Papers Practiced    998\n",
       "Performance Index                   998\n",
       "Gender                              998\n",
       "dtype: int64"
      ]
     },
     "execution_count": 144,
     "metadata": {},
     "output_type": "execute_result"
    }
   ],
   "source": [
    "data.count()"
   ]
  },
  {
   "cell_type": "markdown",
   "metadata": {},
   "source": [
    "#### Lưu dữ liệu đã xử lý "
   ]
  },
  {
   "cell_type": "code",
   "execution_count": 137,
   "metadata": {},
   "outputs": [],
   "source": [
    "data.to_csv('./data_da_xuly.csv')"
   ]
  }
 ],
 "metadata": {
  "kernelspec": {
   "display_name": "Python 3 (ipykernel)",
   "language": "python",
   "name": "python3"
  },
  "language_info": {
   "codemirror_mode": {
    "name": "ipython",
    "version": 3
   },
   "file_extension": ".py",
   "mimetype": "text/x-python",
   "name": "python",
   "nbconvert_exporter": "python",
   "pygments_lexer": "ipython3",
   "version": "3.10.4"
  }
 },
 "nbformat": 4,
 "nbformat_minor": 4
}
