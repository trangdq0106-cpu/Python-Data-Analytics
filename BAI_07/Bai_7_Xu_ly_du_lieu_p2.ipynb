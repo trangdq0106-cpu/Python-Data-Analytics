{
 "cells": [
  {
   "attachments": {},
   "cell_type": "markdown",
   "id": "24411097-27dc-40a0-b47e-90e74f1ece44",
   "metadata": {},
   "source": [
    "### 4. Các phương thức thao tác trên chuỗi trong pandas\n",
    "\n",
    "Trong **pandas**, thao tác trên chuỗi được thực hiện thông qua **`.str`**, một thuộc tính đặc biệt của **Series** chứa kiểu dữ liệu **chuỗi (string)**. Các phương thức này giúp xử lý dữ liệu dạng chuỗi một cách dễ dàng và hiệu quả.\n"
   ]
  },
  {
   "cell_type": "code",
   "execution_count": 1,
   "id": "49e7a06c-d646-4173-b402-45f40efd84da",
   "metadata": {},
   "outputs": [],
   "source": [
    "import pandas as pd\n",
    "import warnings\n",
    "warnings.filterwarnings('ignore')"
   ]
  },
  {
   "cell_type": "code",
   "execution_count": 4,
   "id": "e12e0bbc-57f9-4e3f-98bb-a4cdb05e7f39",
   "metadata": {},
   "outputs": [
    {
     "data": {
      "text/html": [
       "<div>\n",
       "<style scoped>\n",
       "    .dataframe tbody tr th:only-of-type {\n",
       "        vertical-align: middle;\n",
       "    }\n",
       "\n",
       "    .dataframe tbody tr th {\n",
       "        vertical-align: top;\n",
       "    }\n",
       "\n",
       "    .dataframe thead th {\n",
       "        text-align: right;\n",
       "    }\n",
       "</style>\n",
       "<table border=\"1\" class=\"dataframe\">\n",
       "  <thead>\n",
       "    <tr style=\"text-align: right;\">\n",
       "      <th></th>\n",
       "      <th>Company</th>\n",
       "      <th>Product</th>\n",
       "      <th>TypeName</th>\n",
       "      <th>Inches</th>\n",
       "      <th>ScreenResolution</th>\n",
       "      <th>Cpu</th>\n",
       "      <th>Ram</th>\n",
       "      <th>Memory</th>\n",
       "      <th>Gpu</th>\n",
       "      <th>OpSys</th>\n",
       "      <th>Weight</th>\n",
       "      <th>Price_euros</th>\n",
       "      <th>received_date</th>\n",
       "    </tr>\n",
       "  </thead>\n",
       "  <tbody>\n",
       "    <tr>\n",
       "      <th>0</th>\n",
       "      <td>Apple</td>\n",
       "      <td>MacBook Pro</td>\n",
       "      <td>Ultrabook</td>\n",
       "      <td>13.3</td>\n",
       "      <td>IPS Panel Retina Display 2560x1600</td>\n",
       "      <td>Intel Core i5 2.3GHz</td>\n",
       "      <td>8GB</td>\n",
       "      <td>128GB SSD</td>\n",
       "      <td>Intel Iris Plus Graphics 640</td>\n",
       "      <td>macOS</td>\n",
       "      <td>1.37kg</td>\n",
       "      <td>1339.69</td>\n",
       "      <td>7/19/2022</td>\n",
       "    </tr>\n",
       "    <tr>\n",
       "      <th>1</th>\n",
       "      <td>Apple</td>\n",
       "      <td>Macbook Air</td>\n",
       "      <td>Ultrabook</td>\n",
       "      <td>13.3</td>\n",
       "      <td>1440x900</td>\n",
       "      <td>Intel Core i5 1.8GHz</td>\n",
       "      <td>8GB</td>\n",
       "      <td>128GB Flash Storage</td>\n",
       "      <td>Intel HD Graphics 6000</td>\n",
       "      <td>macOS</td>\n",
       "      <td>1.34kg</td>\n",
       "      <td>898.94</td>\n",
       "      <td>4/1/2021</td>\n",
       "    </tr>\n",
       "    <tr>\n",
       "      <th>2</th>\n",
       "      <td>HP</td>\n",
       "      <td>250 G6</td>\n",
       "      <td>Notebook</td>\n",
       "      <td>15.6</td>\n",
       "      <td>Full HD 1920x1080</td>\n",
       "      <td>Intel Core i5 7200U 2.5GHz</td>\n",
       "      <td>8GB</td>\n",
       "      <td>256GB SSD</td>\n",
       "      <td>Intel HD Graphics 620</td>\n",
       "      <td>No OS</td>\n",
       "      <td>1.86kg</td>\n",
       "      <td>575.00</td>\n",
       "      <td>2/18/2022</td>\n",
       "    </tr>\n",
       "    <tr>\n",
       "      <th>3</th>\n",
       "      <td>Apple</td>\n",
       "      <td>MacBook Pro</td>\n",
       "      <td>Ultrabook</td>\n",
       "      <td>15.4</td>\n",
       "      <td>IPS Panel Retina Display 2880x1800</td>\n",
       "      <td>Intel Core i7 2.7GHz</td>\n",
       "      <td>16GB</td>\n",
       "      <td>512GB SSD</td>\n",
       "      <td>AMD Radeon Pro 455</td>\n",
       "      <td>macOS</td>\n",
       "      <td>1.83kg</td>\n",
       "      <td>2537.45</td>\n",
       "      <td>11/23/2021</td>\n",
       "    </tr>\n",
       "    <tr>\n",
       "      <th>4</th>\n",
       "      <td>Apple</td>\n",
       "      <td>MacBook Pro</td>\n",
       "      <td>Ultrabook</td>\n",
       "      <td>13.3</td>\n",
       "      <td>IPS Panel Retina Display 2560x1600</td>\n",
       "      <td>Intel Core i5 3.1GHz</td>\n",
       "      <td>8GB</td>\n",
       "      <td>256GB SSD</td>\n",
       "      <td>Intel Iris Plus Graphics 650</td>\n",
       "      <td>macOS</td>\n",
       "      <td>1.37kg</td>\n",
       "      <td>1803.60</td>\n",
       "      <td>11/14/2021</td>\n",
       "    </tr>\n",
       "  </tbody>\n",
       "</table>\n",
       "</div>"
      ],
      "text/plain": [
       "  Company      Product   TypeName  Inches                    ScreenResolution  \\\n",
       "0   Apple  MacBook Pro  Ultrabook    13.3  IPS Panel Retina Display 2560x1600   \n",
       "1   Apple  Macbook Air  Ultrabook    13.3                            1440x900   \n",
       "2      HP       250 G6   Notebook    15.6                   Full HD 1920x1080   \n",
       "3   Apple  MacBook Pro  Ultrabook    15.4  IPS Panel Retina Display 2880x1800   \n",
       "4   Apple  MacBook Pro  Ultrabook    13.3  IPS Panel Retina Display 2560x1600   \n",
       "\n",
       "                          Cpu   Ram               Memory  \\\n",
       "0        Intel Core i5 2.3GHz   8GB            128GB SSD   \n",
       "1        Intel Core i5 1.8GHz   8GB  128GB Flash Storage   \n",
       "2  Intel Core i5 7200U 2.5GHz   8GB            256GB SSD   \n",
       "3        Intel Core i7 2.7GHz  16GB            512GB SSD   \n",
       "4        Intel Core i5 3.1GHz   8GB            256GB SSD   \n",
       "\n",
       "                            Gpu  OpSys  Weight  Price_euros received_date  \n",
       "0  Intel Iris Plus Graphics 640  macOS  1.37kg      1339.69     7/19/2022  \n",
       "1        Intel HD Graphics 6000  macOS  1.34kg       898.94      4/1/2021  \n",
       "2         Intel HD Graphics 620  No OS  1.86kg       575.00     2/18/2022  \n",
       "3            AMD Radeon Pro 455  macOS  1.83kg      2537.45    11/23/2021  \n",
       "4  Intel Iris Plus Graphics 650  macOS  1.37kg      1803.60    11/14/2021  "
      ]
     },
     "execution_count": 4,
     "metadata": {},
     "output_type": "execute_result"
    }
   ],
   "source": [
    "# Đọc dữ liệu \n",
    "laptop = pd.read_csv('data_bai_7/laptop.csv')\n",
    "laptop.head()"
   ]
  },
  {
   "cell_type": "code",
   "execution_count": 6,
   "id": "ee28944b-7582-43f7-9e9c-7825020f0905",
   "metadata": {},
   "outputs": [
    {
     "name": "stdout",
     "output_type": "stream",
     "text": [
      "<class 'pandas.core.frame.DataFrame'>\n",
      "RangeIndex: 20 entries, 0 to 19\n",
      "Data columns (total 13 columns):\n",
      " #   Column            Non-Null Count  Dtype  \n",
      "---  ------            --------------  -----  \n",
      " 0   Company           20 non-null     object \n",
      " 1   Product           20 non-null     object \n",
      " 2   TypeName          20 non-null     object \n",
      " 3   Inches            20 non-null     float64\n",
      " 4   ScreenResolution  20 non-null     object \n",
      " 5   Cpu               20 non-null     object \n",
      " 6   Ram               20 non-null     object \n",
      " 7   Memory            20 non-null     object \n",
      " 8   Gpu               20 non-null     object \n",
      " 9   OpSys             20 non-null     object \n",
      " 10  Weight            20 non-null     object \n",
      " 11  Price_euros       20 non-null     float64\n",
      " 12  received_date     20 non-null     object \n",
      "dtypes: float64(2), object(11)\n",
      "memory usage: 2.2+ KB\n"
     ]
    }
   ],
   "source": [
    "laptop.info()"
   ]
  },
  {
   "cell_type": "code",
   "execution_count": 8,
   "id": "8cb7ccf6-0fe0-4574-9d44-bdbce467e252",
   "metadata": {},
   "outputs": [
    {
     "data": {
      "text/plain": [
       "0            MacBook Pro\n",
       "1            Macbook Air\n",
       "2                 250 G6\n",
       "3            MacBook Pro\n",
       "4            MacBook Pro\n",
       "5            MacBook Pro\n",
       "6            Macbook Air\n",
       "7        ZenBook UX430UN\n",
       "8                Swift 3\n",
       "9                 250 G6\n",
       "10                250 G6\n",
       "11           MacBook Pro\n",
       "12         Inspiron 3567\n",
       "13           MacBook 12\"\n",
       "14           MacBook Pro\n",
       "15         Inspiron 3567\n",
       "16           MacBook Pro\n",
       "17     IdeaPad 320-15IKB\n",
       "18                XPS 13\n",
       "19    Legion Y520-15IKBN\n",
       "Name: Product, dtype: object"
      ]
     },
     "execution_count": 8,
     "metadata": {},
     "output_type": "execute_result"
    }
   ],
   "source": [
    "laptop['Product']"
   ]
  },
  {
   "cell_type": "code",
   "execution_count": 9,
   "id": "bdfada8b-277e-4a2d-82b0-f19a31ba1107",
   "metadata": {},
   "outputs": [
    {
     "data": {
      "text/plain": [
       "0    macbook pro\n",
       "1    macbook air\n",
       "2         250 g6\n",
       "3    macbook pro\n",
       "4    macbook pro\n",
       "Name: Product, dtype: object"
      ]
     },
     "execution_count": 9,
     "metadata": {},
     "output_type": "execute_result"
    }
   ],
   "source": [
    "laptop['Product'].str.lower().head()"
   ]
  },
  {
   "cell_type": "markdown",
   "id": "dfaa8ed5-b564-4296-a56c-fe8ed7a1d138",
   "metadata": {},
   "source": [
    "#### 1. Các phương thức cơ bản để xử lý chuỗi  \n",
    "#### 1.1. Chuyển đổi chữ hoa, chữ thường  \n",
    "\n",
    "| Phương thức | Mô tả |\n",
    "|------------|-------|\n",
    "| `.str.lower()` | Chuyển tất cả ký tự thành chữ thường |\n",
    "| `.str.upper()` | Chuyển tất cả ký tự thành chữ hoa |\n",
    "| `.str.title()` | Viết hoa chữ cái đầu của mỗi từ |\n",
    "| `.str.capitalize()` | Viết hoa chữ cái đầu tiên của chuỗi |\n",
    "| `.str.swapcase()` | Đảo ngược hoa/thường của ký tự |"
   ]
  },
  {
   "cell_type": "code",
   "execution_count": 14,
   "id": "c1e11f23-d190-4142-8aaa-60eb5b5dcac8",
   "metadata": {},
   "outputs": [
    {
     "name": "stdout",
     "output_type": "stream",
     "text": [
      "0    macbook pro\n",
      "1    macbook air\n",
      "2         250 g6\n",
      "3    macbook pro\n",
      "4    macbook pro\n",
      "Name: Product, dtype: object \n",
      "\n",
      "0    MACBOOK PRO\n",
      "1    MACBOOK AIR\n",
      "2         250 G6\n",
      "3    MACBOOK PRO\n",
      "4    MACBOOK PRO\n",
      "Name: Product, dtype: object \n",
      "\n",
      "0    Macbook Pro\n",
      "1    Macbook Air\n",
      "2         250 G6\n",
      "3    Macbook Pro\n",
      "4    Macbook Pro\n",
      "Name: Product, dtype: object \n",
      "\n",
      "0    Macbook pro\n",
      "1    Macbook air\n",
      "2         250 g6\n",
      "3    Macbook pro\n",
      "4    Macbook pro\n",
      "Name: Product, dtype: object \n",
      "\n",
      "0    mACbOOK pRO\n",
      "1    mACBOOK aIR\n",
      "2         250 g6\n",
      "3    mACbOOK pRO\n",
      "4    mACbOOK pRO\n",
      "Name: Product, dtype: object \n",
      "\n"
     ]
    }
   ],
   "source": [
    "print(laptop['Product'].str.lower().head(),'\\n')      # Chuyển thành chữ thường\n",
    "print(laptop['Product'].str.upper().head(),'\\n')      # Chuyển thành chữ hoa\n",
    "print(laptop['Product'].str.title().head(),'\\n')      # Viết hoa chữ cái đầu mỗi từ\n",
    "print(laptop['Product'].str.capitalize().head(),'\\n') # Chỉ viết hoa chữ cái đầu chuỗi\n",
    "print(laptop['Product'].str.swapcase().head(),'\\n')   # Đảo ngược chữ hoa/thường"
   ]
  },
  {
   "cell_type": "markdown",
   "id": "e99e6110-7506-43e5-9968-83e8ef6bb16d",
   "metadata": {},
   "source": [
    "#### 2. Cắt chuỗi, thay thế và tách chuỗi\n",
    "#### 2.1. Tách chuỗi  \n",
    "\n",
    "| Phương thức | Mô tả |\n",
    "|------------|-------|\n",
    "| `.str.split(sep)` | Tách chuỗi theo ký tự `sep`, trả về danh sách |\n",
    "| `.str.rsplit(sep)` | Tương tự `.split()`, nhưng tách từ cuối chuỗi |\n",
    "| `.str.partition(sep)` | Tách chuỗi thành ba phần: phần trước, `sep`, phần sau |\n",
    "| `.str.rpartition(sep)` | Tách từ cuối chuỗi |\n"
   ]
  },
  {
   "cell_type": "code",
   "execution_count": 16,
   "id": "9d52c98b-df6c-49a2-841e-f8f5167aae00",
   "metadata": {},
   "outputs": [
    {
     "name": "stdout",
     "output_type": "stream",
     "text": [
      "0    [MacBook, Pro]\n",
      "1    [Macbook, Air]\n",
      "2         [250, G6]\n",
      "3    [MacBook, Pro]\n",
      "4    [MacBook, Pro]\n",
      "Name: Product, dtype: object \n",
      "\n",
      "          0  1                               2\n",
      "0       IPS     Panel Retina Display 2560x1600\n",
      "1  1440x900                                   \n",
      "2      Full                       HD 1920x1080\n",
      "3       IPS     Panel Retina Display 2880x1800\n",
      "4       IPS     Panel Retina Display 2560x1600 \n",
      "\n"
     ]
    }
   ],
   "source": [
    "print(laptop['Product'].str.split(\" \").head(),'\\n')              # Tách chuỗi thành danh sách các phần tử theo khoảng trắng \n",
    "print(laptop['ScreenResolution'].str.partition(\" \").head(),'\\n') # Tách theo khoảng trắng thành 3 phần\n"
   ]
  },
  {
   "cell_type": "markdown",
   "id": "487b4aeb-732e-4546-b1b7-4f3a1bdd9afa",
   "metadata": {},
   "source": [
    "#### 2.2. Thay thế chuỗi  \n",
    "\n",
    "| Phương thức | Mô tả |\n",
    "|------------|-------|\n",
    "| `.str.replace(old, new)` | Thay thế chuỗi con `old` thành `new` |\n",
    "\n"
   ]
  },
  {
   "cell_type": "code",
   "execution_count": 18,
   "id": "7e0fc2d2-16e7-405a-a436-0fdd6b9fefd1",
   "metadata": {},
   "outputs": [
    {
     "name": "stdout",
     "output_type": "stream",
     "text": [
      "0    MacBook Profestional\n",
      "1             Macbook Air\n",
      "2                  250 G6\n",
      "3    MacBook Profestional\n",
      "4    MacBook Profestional\n",
      "Name: Product, dtype: object\n"
     ]
    }
   ],
   "source": [
    "print(laptop['Product'].str.replace(\"Pro\", \"Profestional\").head()) # Thay thế \"Pro\" bằng \"Profestional\"\n"
   ]
  },
  {
   "cell_type": "code",
   "execution_count": 78,
   "id": "7200aca4-0ccd-4c94-b399-eba6f193af01",
   "metadata": {},
   "outputs": [
    {
     "data": {
      "text/html": [
       "<div>\n",
       "<style scoped>\n",
       "    .dataframe tbody tr th:only-of-type {\n",
       "        vertical-align: middle;\n",
       "    }\n",
       "\n",
       "    .dataframe tbody tr th {\n",
       "        vertical-align: top;\n",
       "    }\n",
       "\n",
       "    .dataframe thead th {\n",
       "        text-align: right;\n",
       "    }\n",
       "</style>\n",
       "<table border=\"1\" class=\"dataframe\">\n",
       "  <thead>\n",
       "    <tr style=\"text-align: right;\">\n",
       "      <th></th>\n",
       "      <th>Company</th>\n",
       "      <th>Product</th>\n",
       "      <th>TypeName</th>\n",
       "      <th>Inches</th>\n",
       "      <th>ScreenResolution</th>\n",
       "      <th>Cpu</th>\n",
       "      <th>Ram</th>\n",
       "      <th>Memory</th>\n",
       "      <th>Gpu</th>\n",
       "      <th>OpSys</th>\n",
       "      <th>Weight</th>\n",
       "      <th>Price_euros</th>\n",
       "      <th>received_date</th>\n",
       "    </tr>\n",
       "  </thead>\n",
       "  <tbody>\n",
       "    <tr>\n",
       "      <th>0</th>\n",
       "      <td>Apple</td>\n",
       "      <td>MacBook Pro</td>\n",
       "      <td>Ultrabook</td>\n",
       "      <td>13.3</td>\n",
       "      <td>IPS Panel Retina Display 2560x1600</td>\n",
       "      <td>Intel Core i5 2.3GHz</td>\n",
       "      <td>8GB</td>\n",
       "      <td>128GB SSD</td>\n",
       "      <td>Intel Iris Plus Graphics 640</td>\n",
       "      <td>macOS</td>\n",
       "      <td>1.37kg</td>\n",
       "      <td>1339.69</td>\n",
       "      <td>7/19/2022</td>\n",
       "    </tr>\n",
       "    <tr>\n",
       "      <th>1</th>\n",
       "      <td>Apple</td>\n",
       "      <td>Macbook Air</td>\n",
       "      <td>Ultrabook</td>\n",
       "      <td>13.3</td>\n",
       "      <td>1440x900</td>\n",
       "      <td>Intel Core i5 1.8GHz</td>\n",
       "      <td>8GB</td>\n",
       "      <td>128GB Flash Storage</td>\n",
       "      <td>Intel HD Graphics 6000</td>\n",
       "      <td>macOS</td>\n",
       "      <td>1.34kg</td>\n",
       "      <td>898.94</td>\n",
       "      <td>4/1/2021</td>\n",
       "    </tr>\n",
       "    <tr>\n",
       "      <th>2</th>\n",
       "      <td>HP</td>\n",
       "      <td>250 G6</td>\n",
       "      <td>Notebook</td>\n",
       "      <td>15.6</td>\n",
       "      <td>Full HD 1920x1080</td>\n",
       "      <td>Intel Core i5 7200U 2.5GHz</td>\n",
       "      <td>8GB</td>\n",
       "      <td>256GB SSD</td>\n",
       "      <td>Intel HD Graphics 620</td>\n",
       "      <td>No OS</td>\n",
       "      <td>1.86kg</td>\n",
       "      <td>575.00</td>\n",
       "      <td>2/18/2022</td>\n",
       "    </tr>\n",
       "    <tr>\n",
       "      <th>3</th>\n",
       "      <td>Apple</td>\n",
       "      <td>MacBook Pro</td>\n",
       "      <td>Ultrabook</td>\n",
       "      <td>15.4</td>\n",
       "      <td>IPS Panel Retina Display 2880x1800</td>\n",
       "      <td>Intel Core i7 2.7GHz</td>\n",
       "      <td>16GB</td>\n",
       "      <td>512GB SSD</td>\n",
       "      <td>AMD Radeon Pro 455</td>\n",
       "      <td>macOS</td>\n",
       "      <td>1.83kg</td>\n",
       "      <td>2537.45</td>\n",
       "      <td>11/23/2021</td>\n",
       "    </tr>\n",
       "    <tr>\n",
       "      <th>4</th>\n",
       "      <td>Apple</td>\n",
       "      <td>MacBook Pro</td>\n",
       "      <td>Ultrabook</td>\n",
       "      <td>13.3</td>\n",
       "      <td>IPS Panel Retina Display 2560x1600</td>\n",
       "      <td>Intel Core i5 3.1GHz</td>\n",
       "      <td>8GB</td>\n",
       "      <td>256GB SSD</td>\n",
       "      <td>Intel Iris Plus Graphics 650</td>\n",
       "      <td>macOS</td>\n",
       "      <td>1.37kg</td>\n",
       "      <td>1803.60</td>\n",
       "      <td>11/14/2021</td>\n",
       "    </tr>\n",
       "  </tbody>\n",
       "</table>\n",
       "</div>"
      ],
      "text/plain": [
       "  Company      Product   TypeName  Inches                    ScreenResolution  \\\n",
       "0   Apple  MacBook Pro  Ultrabook    13.3  IPS Panel Retina Display 2560x1600   \n",
       "1   Apple  Macbook Air  Ultrabook    13.3                            1440x900   \n",
       "2      HP       250 G6   Notebook    15.6                   Full HD 1920x1080   \n",
       "3   Apple  MacBook Pro  Ultrabook    15.4  IPS Panel Retina Display 2880x1800   \n",
       "4   Apple  MacBook Pro  Ultrabook    13.3  IPS Panel Retina Display 2560x1600   \n",
       "\n",
       "                          Cpu   Ram               Memory  \\\n",
       "0        Intel Core i5 2.3GHz   8GB            128GB SSD   \n",
       "1        Intel Core i5 1.8GHz   8GB  128GB Flash Storage   \n",
       "2  Intel Core i5 7200U 2.5GHz   8GB            256GB SSD   \n",
       "3        Intel Core i7 2.7GHz  16GB            512GB SSD   \n",
       "4        Intel Core i5 3.1GHz   8GB            256GB SSD   \n",
       "\n",
       "                            Gpu  OpSys  Weight  Price_euros received_date  \n",
       "0  Intel Iris Plus Graphics 640  macOS  1.37kg      1339.69     7/19/2022  \n",
       "1        Intel HD Graphics 6000  macOS  1.34kg       898.94      4/1/2021  \n",
       "2         Intel HD Graphics 620  No OS  1.86kg       575.00     2/18/2022  \n",
       "3            AMD Radeon Pro 455  macOS  1.83kg      2537.45    11/23/2021  \n",
       "4  Intel Iris Plus Graphics 650  macOS  1.37kg      1803.60    11/14/2021  "
      ]
     },
     "execution_count": 78,
     "metadata": {},
     "output_type": "execute_result"
    }
   ],
   "source": [
    "laptop.head()"
   ]
  },
  {
   "cell_type": "markdown",
   "id": "a58ef980-df37-4881-82ac-c7bd299f3797",
   "metadata": {},
   "source": [
    "#### 2.3. Cắt chuỗi (Substring)  \n",
    "\n",
    "| Phương thức | Mô tả |\n",
    "|------------|-------|\n",
    "| `.str.slice(start, stop, step)` | Cắt chuỗi theo khoảng từ `start` đến `stop` |\n",
    "| `.str[:n]` | Lấy `n` ký tự đầu tiên |\n",
    "| `.str[-n:]` | Lấy `n` ký tự cuối cùng |\n"
   ]
  },
  {
   "cell_type": "code",
   "execution_count": 20,
   "id": "4459ac10-4e20-4005-b2f4-4025be43752b",
   "metadata": {},
   "outputs": [
    {
     "name": "stdout",
     "output_type": "stream",
     "text": [
      "0            IPS Panel Retina Display 2560x1600\n",
      "1                                      1440x900\n",
      "2                             Full HD 1920x1080\n",
      "3            IPS Panel Retina Display 2880x1800\n",
      "4            IPS Panel Retina Display 2560x1600\n",
      "5            IPS Panel Retina Display 2880x1800\n",
      "6                                      1440x900\n",
      "7                             Full HD 1920x1080\n",
      "8                   IPS Panel Full HD 1920x1080\n",
      "9                                      1366x768\n",
      "10                            Full HD 1920x1080\n",
      "11           IPS Panel Retina Display 2880x1800\n",
      "12                            Full HD 1920x1080\n",
      "13           IPS Panel Retina Display 2304x1440\n",
      "14           IPS Panel Retina Display 2560x1600\n",
      "15                            Full HD 1920x1080\n",
      "16           IPS Panel Retina Display 2880x1800\n",
      "17                            Full HD 1920x1080\n",
      "18    IPS Panel Full HD / Touchscreen 1920x1080\n",
      "19                  IPS Panel Full HD 1920x1080\n",
      "Name: ScreenResolution, dtype: object\n",
      "0    Panel\n",
      "1     x900\n",
      "2     HD 1\n",
      "3    Panel\n",
      "4    Panel\n",
      "Name: ScreenResolution, dtype: object\n",
      "0    IPS Panel \n",
      "1      1440x900\n",
      "2    Full HD 19\n",
      "3    IPS Panel \n",
      "4    IPS Panel \n",
      "Name: ScreenResolution, dtype: object\n",
      "0    600\n",
      "1    900\n",
      "2    080\n",
      "3    800\n",
      "4    600\n",
      "Name: ScreenResolution, dtype: object\n"
     ]
    }
   ],
   "source": [
    "s = laptop['ScreenResolution']\t\n",
    "print(s)\n",
    "print(s.str.slice(4, 9).head()) # Cắt từ vị trí 4 đến 9\n",
    "print(s.str[:10].head())        # Lấy 10 ký tự đầu tiên (0->9)\n",
    "print(s.str[-3:].head())        # Lấy 3 ký tự cuối cùng (-1 ->-3)"
   ]
  },
  {
   "cell_type": "markdown",
   "id": "ad5b5f1e-1c3f-4d3b-a872-bf24ee9b91cb",
   "metadata": {},
   "source": [
    "#### 3. Kiểm tra chuỗi  \n",
    "\n",
    "| Phương thức | Mô tả |\n",
    "|------------|-------|\n",
    "| `.str.startswith(sub)` | Kiểm tra chuỗi có bắt đầu bằng `sub` không |\n",
    "| `.str.endswith(sub)` | Kiểm tra chuỗi có kết thúc bằng `sub` không |\n",
    "| `.str.contains(sub)` | Kiểm tra chuỗi có chứa `sub` không |\n",
    "| `.str.isalpha()` | Kiểm tra chuỗi chỉ chứa chữ cái |\n",
    "| `.str.isnumeric()` | Kiểm tra chuỗi chỉ chứa số |\n",
    "| `.str.isdigit()` | Kiểm tra chuỗi chỉ chứa chữ số (0-9) |\n",
    "| `.str.isspace()` | Kiểm tra chuỗi chỉ chứa khoảng trắng |\n",
    "| `.str.islower()` | Kiểm tra chuỗi có toàn bộ là chữ thường không |\n",
    "| `.str.isupper()` | Kiểm tra chuỗi có toàn bộ là chữ hoa không |"
   ]
  },
  {
   "cell_type": "code",
   "execution_count": 21,
   "id": "acf9a9c2-73ca-4927-abf4-6a7bfa526a10",
   "metadata": {},
   "outputs": [
    {
     "data": {
      "text/html": [
       "<div>\n",
       "<style scoped>\n",
       "    .dataframe tbody tr th:only-of-type {\n",
       "        vertical-align: middle;\n",
       "    }\n",
       "\n",
       "    .dataframe tbody tr th {\n",
       "        vertical-align: top;\n",
       "    }\n",
       "\n",
       "    .dataframe thead th {\n",
       "        text-align: right;\n",
       "    }\n",
       "</style>\n",
       "<table border=\"1\" class=\"dataframe\">\n",
       "  <thead>\n",
       "    <tr style=\"text-align: right;\">\n",
       "      <th></th>\n",
       "      <th>Company</th>\n",
       "      <th>Product</th>\n",
       "      <th>TypeName</th>\n",
       "      <th>Inches</th>\n",
       "      <th>ScreenResolution</th>\n",
       "      <th>Cpu</th>\n",
       "      <th>Ram</th>\n",
       "      <th>Memory</th>\n",
       "      <th>Gpu</th>\n",
       "      <th>OpSys</th>\n",
       "      <th>Weight</th>\n",
       "      <th>Price_euros</th>\n",
       "      <th>received_date</th>\n",
       "    </tr>\n",
       "  </thead>\n",
       "  <tbody>\n",
       "    <tr>\n",
       "      <th>0</th>\n",
       "      <td>Apple</td>\n",
       "      <td>MacBook Pro</td>\n",
       "      <td>Ultrabook</td>\n",
       "      <td>13.3</td>\n",
       "      <td>IPS Panel Retina Display 2560x1600</td>\n",
       "      <td>Intel Core i5 2.3GHz</td>\n",
       "      <td>8GB</td>\n",
       "      <td>128GB SSD</td>\n",
       "      <td>Intel Iris Plus Graphics 640</td>\n",
       "      <td>macOS</td>\n",
       "      <td>1.37kg</td>\n",
       "      <td>1339.69</td>\n",
       "      <td>7/19/2022</td>\n",
       "    </tr>\n",
       "    <tr>\n",
       "      <th>1</th>\n",
       "      <td>Apple</td>\n",
       "      <td>Macbook Air</td>\n",
       "      <td>Ultrabook</td>\n",
       "      <td>13.3</td>\n",
       "      <td>1440x900</td>\n",
       "      <td>Intel Core i5 1.8GHz</td>\n",
       "      <td>8GB</td>\n",
       "      <td>128GB Flash Storage</td>\n",
       "      <td>Intel HD Graphics 6000</td>\n",
       "      <td>macOS</td>\n",
       "      <td>1.34kg</td>\n",
       "      <td>898.94</td>\n",
       "      <td>4/1/2021</td>\n",
       "    </tr>\n",
       "    <tr>\n",
       "      <th>2</th>\n",
       "      <td>HP</td>\n",
       "      <td>250 G6</td>\n",
       "      <td>Notebook</td>\n",
       "      <td>15.6</td>\n",
       "      <td>Full HD 1920x1080</td>\n",
       "      <td>Intel Core i5 7200U 2.5GHz</td>\n",
       "      <td>8GB</td>\n",
       "      <td>256GB SSD</td>\n",
       "      <td>Intel HD Graphics 620</td>\n",
       "      <td>No OS</td>\n",
       "      <td>1.86kg</td>\n",
       "      <td>575.00</td>\n",
       "      <td>2/18/2022</td>\n",
       "    </tr>\n",
       "    <tr>\n",
       "      <th>3</th>\n",
       "      <td>Apple</td>\n",
       "      <td>MacBook Pro</td>\n",
       "      <td>Ultrabook</td>\n",
       "      <td>15.4</td>\n",
       "      <td>IPS Panel Retina Display 2880x1800</td>\n",
       "      <td>Intel Core i7 2.7GHz</td>\n",
       "      <td>16GB</td>\n",
       "      <td>512GB SSD</td>\n",
       "      <td>AMD Radeon Pro 455</td>\n",
       "      <td>macOS</td>\n",
       "      <td>1.83kg</td>\n",
       "      <td>2537.45</td>\n",
       "      <td>11/23/2021</td>\n",
       "    </tr>\n",
       "    <tr>\n",
       "      <th>4</th>\n",
       "      <td>Apple</td>\n",
       "      <td>MacBook Pro</td>\n",
       "      <td>Ultrabook</td>\n",
       "      <td>13.3</td>\n",
       "      <td>IPS Panel Retina Display 2560x1600</td>\n",
       "      <td>Intel Core i5 3.1GHz</td>\n",
       "      <td>8GB</td>\n",
       "      <td>256GB SSD</td>\n",
       "      <td>Intel Iris Plus Graphics 650</td>\n",
       "      <td>macOS</td>\n",
       "      <td>1.37kg</td>\n",
       "      <td>1803.60</td>\n",
       "      <td>11/14/2021</td>\n",
       "    </tr>\n",
       "  </tbody>\n",
       "</table>\n",
       "</div>"
      ],
      "text/plain": [
       "  Company      Product   TypeName  Inches                    ScreenResolution  \\\n",
       "0   Apple  MacBook Pro  Ultrabook    13.3  IPS Panel Retina Display 2560x1600   \n",
       "1   Apple  Macbook Air  Ultrabook    13.3                            1440x900   \n",
       "2      HP       250 G6   Notebook    15.6                   Full HD 1920x1080   \n",
       "3   Apple  MacBook Pro  Ultrabook    15.4  IPS Panel Retina Display 2880x1800   \n",
       "4   Apple  MacBook Pro  Ultrabook    13.3  IPS Panel Retina Display 2560x1600   \n",
       "\n",
       "                          Cpu   Ram               Memory  \\\n",
       "0        Intel Core i5 2.3GHz   8GB            128GB SSD   \n",
       "1        Intel Core i5 1.8GHz   8GB  128GB Flash Storage   \n",
       "2  Intel Core i5 7200U 2.5GHz   8GB            256GB SSD   \n",
       "3        Intel Core i7 2.7GHz  16GB            512GB SSD   \n",
       "4        Intel Core i5 3.1GHz   8GB            256GB SSD   \n",
       "\n",
       "                            Gpu  OpSys  Weight  Price_euros received_date  \n",
       "0  Intel Iris Plus Graphics 640  macOS  1.37kg      1339.69     7/19/2022  \n",
       "1        Intel HD Graphics 6000  macOS  1.34kg       898.94      4/1/2021  \n",
       "2         Intel HD Graphics 620  No OS  1.86kg       575.00     2/18/2022  \n",
       "3            AMD Radeon Pro 455  macOS  1.83kg      2537.45    11/23/2021  \n",
       "4  Intel Iris Plus Graphics 650  macOS  1.37kg      1803.60    11/14/2021  "
      ]
     },
     "execution_count": 21,
     "metadata": {},
     "output_type": "execute_result"
    }
   ],
   "source": [
    "laptop.head()"
   ]
  },
  {
   "cell_type": "code",
   "execution_count": 22,
   "id": "0efa8782-03f9-42ef-b2d9-1f7dd351dd3b",
   "metadata": {},
   "outputs": [
    {
     "data": {
      "text/plain": [
       "0     False\n",
       "1     False\n",
       "2     False\n",
       "3      True\n",
       "4     False\n",
       "5     False\n",
       "6     False\n",
       "7     False\n",
       "8     False\n",
       "9     False\n",
       "10    False\n",
       "11     True\n",
       "12     True\n",
       "13    False\n",
       "14    False\n",
       "15     True\n",
       "16     True\n",
       "17    False\n",
       "18    False\n",
       "19    False\n",
       "Name: Gpu, dtype: bool"
      ]
     },
     "execution_count": 22,
     "metadata": {},
     "output_type": "execute_result"
    }
   ],
   "source": [
    "laptop.Gpu.str.startswith('AMD')"
   ]
  },
  {
   "cell_type": "markdown",
   "id": "ae33a40e-d599-4db8-aa33-2c9504410991",
   "metadata": {},
   "source": [
    "#### 3. Kiểm tra chuỗi  \n",
    "\n",
    "| Phương thức | Mô tả |\n",
    "|------------|-------|\n",
    "| `.str.startswith(sub)` | Kiểm tra chuỗi có bắt đầu bằng `sub` không |\n",
    "| `.str.endswith(sub)` | Kiểm tra chuỗi có kết thúc bằng `sub` không |\n",
    "| `.str.contains(sub)` | Kiểm tra chuỗi có chứa `sub` không |\n",
    "| `.str.isalpha()` | Kiểm tra chuỗi chỉ chứa chữ cái |\n",
    "| `.str.isnumeric()` | Kiểm tra chuỗi chỉ chứa số |\n",
    "| `.str.isdigit()` | Kiểm tra chuỗi chỉ chứa chữ số (0-9) |\n",
    "| `.str.isspace()` | Kiểm tra chuỗi chỉ chứa khoảng trắng |\n",
    "| `.str.islower()` | Kiểm tra chuỗi có toàn bộ là chữ thường không |\n",
    "| `.str.isupper()` | Kiểm tra chuỗi có toàn bộ là chữ hoa không |"
   ]
  },
  {
   "cell_type": "code",
   "execution_count": 23,
   "id": "6eb13fc9",
   "metadata": {},
   "outputs": [
    {
     "data": {
      "text/html": [
       "<div>\n",
       "<style scoped>\n",
       "    .dataframe tbody tr th:only-of-type {\n",
       "        vertical-align: middle;\n",
       "    }\n",
       "\n",
       "    .dataframe tbody tr th {\n",
       "        vertical-align: top;\n",
       "    }\n",
       "\n",
       "    .dataframe thead th {\n",
       "        text-align: right;\n",
       "    }\n",
       "</style>\n",
       "<table border=\"1\" class=\"dataframe\">\n",
       "  <thead>\n",
       "    <tr style=\"text-align: right;\">\n",
       "      <th></th>\n",
       "      <th>Company</th>\n",
       "      <th>Product</th>\n",
       "      <th>TypeName</th>\n",
       "      <th>Inches</th>\n",
       "      <th>ScreenResolution</th>\n",
       "      <th>Cpu</th>\n",
       "      <th>Ram</th>\n",
       "      <th>Memory</th>\n",
       "      <th>Gpu</th>\n",
       "      <th>OpSys</th>\n",
       "      <th>Weight</th>\n",
       "      <th>Price_euros</th>\n",
       "      <th>received_date</th>\n",
       "    </tr>\n",
       "  </thead>\n",
       "  <tbody>\n",
       "    <tr>\n",
       "      <th>3</th>\n",
       "      <td>Apple</td>\n",
       "      <td>MacBook Pro</td>\n",
       "      <td>Ultrabook</td>\n",
       "      <td>15.4</td>\n",
       "      <td>IPS Panel Retina Display 2880x1800</td>\n",
       "      <td>Intel Core i7 2.7GHz</td>\n",
       "      <td>16GB</td>\n",
       "      <td>512GB SSD</td>\n",
       "      <td>AMD Radeon Pro 455</td>\n",
       "      <td>macOS</td>\n",
       "      <td>1.83kg</td>\n",
       "      <td>2537.45</td>\n",
       "      <td>11/23/2021</td>\n",
       "    </tr>\n",
       "    <tr>\n",
       "      <th>11</th>\n",
       "      <td>Apple</td>\n",
       "      <td>MacBook Pro</td>\n",
       "      <td>Ultrabook</td>\n",
       "      <td>15.4</td>\n",
       "      <td>IPS Panel Retina Display 2880x1800</td>\n",
       "      <td>Intel Core i7 2.8GHz</td>\n",
       "      <td>16GB</td>\n",
       "      <td>256GB SSD</td>\n",
       "      <td>AMD Radeon Pro 555</td>\n",
       "      <td>macOS</td>\n",
       "      <td>1.83kg</td>\n",
       "      <td>2439.97</td>\n",
       "      <td>12/13/2022</td>\n",
       "    </tr>\n",
       "    <tr>\n",
       "      <th>12</th>\n",
       "      <td>Dell</td>\n",
       "      <td>Inspiron 3567</td>\n",
       "      <td>Notebook</td>\n",
       "      <td>15.6</td>\n",
       "      <td>Full HD 1920x1080</td>\n",
       "      <td>Intel Core i3 6006U 2GHz</td>\n",
       "      <td>4GB</td>\n",
       "      <td>256GB SSD</td>\n",
       "      <td>AMD Radeon R5 M430</td>\n",
       "      <td>Windows 10</td>\n",
       "      <td>2.2kg</td>\n",
       "      <td>498.90</td>\n",
       "      <td>4/11/2022</td>\n",
       "    </tr>\n",
       "    <tr>\n",
       "      <th>15</th>\n",
       "      <td>Dell</td>\n",
       "      <td>Inspiron 3567</td>\n",
       "      <td>Notebook</td>\n",
       "      <td>15.6</td>\n",
       "      <td>Full HD 1920x1080</td>\n",
       "      <td>Intel Core i7 7500U 2.7GHz</td>\n",
       "      <td>8GB</td>\n",
       "      <td>256GB SSD</td>\n",
       "      <td>AMD Radeon R5 M430</td>\n",
       "      <td>Windows 10</td>\n",
       "      <td>2.2kg</td>\n",
       "      <td>745.00</td>\n",
       "      <td>3/27/2022</td>\n",
       "    </tr>\n",
       "    <tr>\n",
       "      <th>16</th>\n",
       "      <td>Apple</td>\n",
       "      <td>MacBook Pro</td>\n",
       "      <td>Ultrabook</td>\n",
       "      <td>15.4</td>\n",
       "      <td>IPS Panel Retina Display 2880x1800</td>\n",
       "      <td>Intel Core i7 2.9GHz</td>\n",
       "      <td>16GB</td>\n",
       "      <td>512GB SSD</td>\n",
       "      <td>AMD Radeon Pro 560</td>\n",
       "      <td>macOS</td>\n",
       "      <td>1.83kg</td>\n",
       "      <td>2858.00</td>\n",
       "      <td>6/17/2022</td>\n",
       "    </tr>\n",
       "  </tbody>\n",
       "</table>\n",
       "</div>"
      ],
      "text/plain": [
       "   Company        Product   TypeName  Inches  \\\n",
       "3    Apple    MacBook Pro  Ultrabook    15.4   \n",
       "11   Apple    MacBook Pro  Ultrabook    15.4   \n",
       "12    Dell  Inspiron 3567   Notebook    15.6   \n",
       "15    Dell  Inspiron 3567   Notebook    15.6   \n",
       "16   Apple    MacBook Pro  Ultrabook    15.4   \n",
       "\n",
       "                      ScreenResolution                         Cpu   Ram  \\\n",
       "3   IPS Panel Retina Display 2880x1800        Intel Core i7 2.7GHz  16GB   \n",
       "11  IPS Panel Retina Display 2880x1800        Intel Core i7 2.8GHz  16GB   \n",
       "12                   Full HD 1920x1080    Intel Core i3 6006U 2GHz   4GB   \n",
       "15                   Full HD 1920x1080  Intel Core i7 7500U 2.7GHz   8GB   \n",
       "16  IPS Panel Retina Display 2880x1800        Intel Core i7 2.9GHz  16GB   \n",
       "\n",
       "       Memory                 Gpu       OpSys  Weight  Price_euros  \\\n",
       "3   512GB SSD  AMD Radeon Pro 455       macOS  1.83kg      2537.45   \n",
       "11  256GB SSD  AMD Radeon Pro 555       macOS  1.83kg      2439.97   \n",
       "12  256GB SSD  AMD Radeon R5 M430  Windows 10   2.2kg       498.90   \n",
       "15  256GB SSD  AMD Radeon R5 M430  Windows 10   2.2kg       745.00   \n",
       "16  512GB SSD  AMD Radeon Pro 560       macOS  1.83kg      2858.00   \n",
       "\n",
       "   received_date  \n",
       "3     11/23/2021  \n",
       "11    12/13/2022  \n",
       "12     4/11/2022  \n",
       "15     3/27/2022  \n",
       "16     6/17/2022  "
      ]
     },
     "execution_count": 23,
     "metadata": {},
     "output_type": "execute_result"
    }
   ],
   "source": [
    "# lọc ra các laptop có chuỗi có bắt đầu AMD trong cột Gpu \n",
    "laptop[laptop.Gpu.str.startswith('AMD')]"
   ]
  },
  {
   "cell_type": "code",
   "execution_count": 24,
   "id": "13fb2577",
   "metadata": {},
   "outputs": [
    {
     "data": {
      "text/html": [
       "<div>\n",
       "<style scoped>\n",
       "    .dataframe tbody tr th:only-of-type {\n",
       "        vertical-align: middle;\n",
       "    }\n",
       "\n",
       "    .dataframe tbody tr th {\n",
       "        vertical-align: top;\n",
       "    }\n",
       "\n",
       "    .dataframe thead th {\n",
       "        text-align: right;\n",
       "    }\n",
       "</style>\n",
       "<table border=\"1\" class=\"dataframe\">\n",
       "  <thead>\n",
       "    <tr style=\"text-align: right;\">\n",
       "      <th></th>\n",
       "      <th>Company</th>\n",
       "      <th>Product</th>\n",
       "      <th>TypeName</th>\n",
       "      <th>Inches</th>\n",
       "      <th>ScreenResolution</th>\n",
       "      <th>Cpu</th>\n",
       "      <th>Ram</th>\n",
       "      <th>Memory</th>\n",
       "      <th>Gpu</th>\n",
       "      <th>OpSys</th>\n",
       "      <th>Weight</th>\n",
       "      <th>Price_euros</th>\n",
       "      <th>received_date</th>\n",
       "    </tr>\n",
       "  </thead>\n",
       "  <tbody>\n",
       "    <tr>\n",
       "      <th>2</th>\n",
       "      <td>HP</td>\n",
       "      <td>250 G6</td>\n",
       "      <td>Notebook</td>\n",
       "      <td>15.6</td>\n",
       "      <td>Full HD 1920x1080</td>\n",
       "      <td>Intel Core i5 7200U 2.5GHz</td>\n",
       "      <td>8GB</td>\n",
       "      <td>256GB SSD</td>\n",
       "      <td>Intel HD Graphics 620</td>\n",
       "      <td>No OS</td>\n",
       "      <td>1.86kg</td>\n",
       "      <td>575.00</td>\n",
       "      <td>2/18/2022</td>\n",
       "    </tr>\n",
       "    <tr>\n",
       "      <th>7</th>\n",
       "      <td>Asus</td>\n",
       "      <td>ZenBook UX430UN</td>\n",
       "      <td>Ultrabook</td>\n",
       "      <td>14.0</td>\n",
       "      <td>Full HD 1920x1080</td>\n",
       "      <td>Intel Core i7 8550U 1.8GHz</td>\n",
       "      <td>16GB</td>\n",
       "      <td>512GB SSD</td>\n",
       "      <td>Nvidia GeForce MX150</td>\n",
       "      <td>Windows 10</td>\n",
       "      <td>1.3kg</td>\n",
       "      <td>1495.00</td>\n",
       "      <td>1/21/2022</td>\n",
       "    </tr>\n",
       "    <tr>\n",
       "      <th>8</th>\n",
       "      <td>Acer</td>\n",
       "      <td>Swift 3</td>\n",
       "      <td>Ultrabook</td>\n",
       "      <td>14.0</td>\n",
       "      <td>IPS Panel Full HD 1920x1080</td>\n",
       "      <td>Intel Core i5 8250U 1.6GHz</td>\n",
       "      <td>8GB</td>\n",
       "      <td>256GB SSD</td>\n",
       "      <td>Intel UHD Graphics 620</td>\n",
       "      <td>Windows 10</td>\n",
       "      <td>1.6kg</td>\n",
       "      <td>770.00</td>\n",
       "      <td>5/30/2021</td>\n",
       "    </tr>\n",
       "    <tr>\n",
       "      <th>10</th>\n",
       "      <td>HP</td>\n",
       "      <td>250 G6</td>\n",
       "      <td>Notebook</td>\n",
       "      <td>15.6</td>\n",
       "      <td>Full HD 1920x1080</td>\n",
       "      <td>Intel Core i3 6006U 2GHz</td>\n",
       "      <td>4GB</td>\n",
       "      <td>500GB HDD</td>\n",
       "      <td>Intel HD Graphics 520</td>\n",
       "      <td>No OS</td>\n",
       "      <td>1.86kg</td>\n",
       "      <td>344.99</td>\n",
       "      <td>7/18/2022</td>\n",
       "    </tr>\n",
       "    <tr>\n",
       "      <th>12</th>\n",
       "      <td>Dell</td>\n",
       "      <td>Inspiron 3567</td>\n",
       "      <td>Notebook</td>\n",
       "      <td>15.6</td>\n",
       "      <td>Full HD 1920x1080</td>\n",
       "      <td>Intel Core i3 6006U 2GHz</td>\n",
       "      <td>4GB</td>\n",
       "      <td>256GB SSD</td>\n",
       "      <td>AMD Radeon R5 M430</td>\n",
       "      <td>Windows 10</td>\n",
       "      <td>2.2kg</td>\n",
       "      <td>498.90</td>\n",
       "      <td>4/11/2022</td>\n",
       "    </tr>\n",
       "    <tr>\n",
       "      <th>15</th>\n",
       "      <td>Dell</td>\n",
       "      <td>Inspiron 3567</td>\n",
       "      <td>Notebook</td>\n",
       "      <td>15.6</td>\n",
       "      <td>Full HD 1920x1080</td>\n",
       "      <td>Intel Core i7 7500U 2.7GHz</td>\n",
       "      <td>8GB</td>\n",
       "      <td>256GB SSD</td>\n",
       "      <td>AMD Radeon R5 M430</td>\n",
       "      <td>Windows 10</td>\n",
       "      <td>2.2kg</td>\n",
       "      <td>745.00</td>\n",
       "      <td>3/27/2022</td>\n",
       "    </tr>\n",
       "    <tr>\n",
       "      <th>17</th>\n",
       "      <td>Lenovo</td>\n",
       "      <td>IdeaPad 320-15IKB</td>\n",
       "      <td>Notebook</td>\n",
       "      <td>15.6</td>\n",
       "      <td>Full HD 1920x1080</td>\n",
       "      <td>Intel Core i3 7100U 2.4GHz</td>\n",
       "      <td>8GB</td>\n",
       "      <td>1TB HDD</td>\n",
       "      <td>Nvidia GeForce 940MX</td>\n",
       "      <td>No OS</td>\n",
       "      <td>2.2kg</td>\n",
       "      <td>499.00</td>\n",
       "      <td>9/25/2022</td>\n",
       "    </tr>\n",
       "    <tr>\n",
       "      <th>18</th>\n",
       "      <td>Dell</td>\n",
       "      <td>XPS 13</td>\n",
       "      <td>Ultrabook</td>\n",
       "      <td>13.3</td>\n",
       "      <td>IPS Panel Full HD / Touchscreen 1920x1080</td>\n",
       "      <td>Intel Core i5 8250U 1.6GHz</td>\n",
       "      <td>8GB</td>\n",
       "      <td>128GB SSD</td>\n",
       "      <td>Intel UHD Graphics 620</td>\n",
       "      <td>Windows 10</td>\n",
       "      <td>1.22kg</td>\n",
       "      <td>979.00</td>\n",
       "      <td>12/13/2022</td>\n",
       "    </tr>\n",
       "    <tr>\n",
       "      <th>19</th>\n",
       "      <td>Lenovo</td>\n",
       "      <td>Legion Y520-15IKBN</td>\n",
       "      <td>Gaming</td>\n",
       "      <td>15.6</td>\n",
       "      <td>IPS Panel Full HD 1920x1080</td>\n",
       "      <td>Intel Core i5 7300HQ 2.5GHz</td>\n",
       "      <td>8GB</td>\n",
       "      <td>128GB SSD +  1TB HDD</td>\n",
       "      <td>Nvidia GeForce GTX 1050</td>\n",
       "      <td>Windows 10</td>\n",
       "      <td>2.5kg</td>\n",
       "      <td>999.00</td>\n",
       "      <td>7/17/2021</td>\n",
       "    </tr>\n",
       "  </tbody>\n",
       "</table>\n",
       "</div>"
      ],
      "text/plain": [
       "   Company             Product   TypeName  Inches  \\\n",
       "2       HP              250 G6   Notebook    15.6   \n",
       "7     Asus     ZenBook UX430UN  Ultrabook    14.0   \n",
       "8     Acer             Swift 3  Ultrabook    14.0   \n",
       "10      HP              250 G6   Notebook    15.6   \n",
       "12    Dell       Inspiron 3567   Notebook    15.6   \n",
       "15    Dell       Inspiron 3567   Notebook    15.6   \n",
       "17  Lenovo   IdeaPad 320-15IKB   Notebook    15.6   \n",
       "18    Dell              XPS 13  Ultrabook    13.3   \n",
       "19  Lenovo  Legion Y520-15IKBN     Gaming    15.6   \n",
       "\n",
       "                             ScreenResolution                          Cpu  \\\n",
       "2                           Full HD 1920x1080   Intel Core i5 7200U 2.5GHz   \n",
       "7                           Full HD 1920x1080   Intel Core i7 8550U 1.8GHz   \n",
       "8                 IPS Panel Full HD 1920x1080   Intel Core i5 8250U 1.6GHz   \n",
       "10                          Full HD 1920x1080     Intel Core i3 6006U 2GHz   \n",
       "12                          Full HD 1920x1080     Intel Core i3 6006U 2GHz   \n",
       "15                          Full HD 1920x1080   Intel Core i7 7500U 2.7GHz   \n",
       "17                          Full HD 1920x1080   Intel Core i3 7100U 2.4GHz   \n",
       "18  IPS Panel Full HD / Touchscreen 1920x1080   Intel Core i5 8250U 1.6GHz   \n",
       "19                IPS Panel Full HD 1920x1080  Intel Core i5 7300HQ 2.5GHz   \n",
       "\n",
       "     Ram                Memory                      Gpu       OpSys  Weight  \\\n",
       "2    8GB             256GB SSD    Intel HD Graphics 620       No OS  1.86kg   \n",
       "7   16GB             512GB SSD     Nvidia GeForce MX150  Windows 10   1.3kg   \n",
       "8    8GB             256GB SSD   Intel UHD Graphics 620  Windows 10   1.6kg   \n",
       "10   4GB             500GB HDD    Intel HD Graphics 520       No OS  1.86kg   \n",
       "12   4GB             256GB SSD       AMD Radeon R5 M430  Windows 10   2.2kg   \n",
       "15   8GB             256GB SSD       AMD Radeon R5 M430  Windows 10   2.2kg   \n",
       "17   8GB               1TB HDD     Nvidia GeForce 940MX       No OS   2.2kg   \n",
       "18   8GB             128GB SSD   Intel UHD Graphics 620  Windows 10  1.22kg   \n",
       "19   8GB  128GB SSD +  1TB HDD  Nvidia GeForce GTX 1050  Windows 10   2.5kg   \n",
       "\n",
       "    Price_euros received_date  \n",
       "2        575.00     2/18/2022  \n",
       "7       1495.00     1/21/2022  \n",
       "8        770.00     5/30/2021  \n",
       "10       344.99     7/18/2022  \n",
       "12       498.90     4/11/2022  \n",
       "15       745.00     3/27/2022  \n",
       "17       499.00     9/25/2022  \n",
       "18       979.00    12/13/2022  \n",
       "19       999.00     7/17/2021  "
      ]
     },
     "execution_count": 24,
     "metadata": {},
     "output_type": "execute_result"
    }
   ],
   "source": [
    "# lọc ra các laptop có màn hình Full HD\n",
    "laptop[laptop.ScreenResolution.str.contains('Full HD')]"
   ]
  },
  {
   "cell_type": "markdown",
   "id": "312f1ee3-6b11-49f3-92f7-b4ef81f079d4",
   "metadata": {},
   "source": [
    "#### 4. Xử lý khoảng trắng và ký tự đặc biệt  \n",
    "\n",
    "| Phương thức | Mô tả |\n",
    "|------------|-------|\n",
    "| `.str.strip()` | Xóa khoảng trắng ở đầu và cuối chuỗi |\n",
    "| `.str.lstrip()` | Xóa khoảng trắng bên trái |\n",
    "| `.str.rstrip()` | Xóa khoảng trắng bên phải |\n",
    "| `.str.zfill(width)` | Thêm số 0 vào đầu chuỗi để đủ `width` ký tự |\n",
    "| `.str.pad(width, side, fillchar)` | Thêm ký tự để đạt độ dài `width` |"
   ]
  },
  {
   "cell_type": "code",
   "execution_count": 25,
   "id": "bef362ea-f774-4ded-8ec1-e272069275b4",
   "metadata": {},
   "outputs": [
    {
     "name": "stdout",
     "output_type": "stream",
     "text": [
      "0    IPS Panel Retina Display 2560x1600\n",
      "1                              1440x900\n",
      "2                     Full HD 1920x1080\n",
      "3    IPS Panel Retina Display 2880x1800\n",
      "4    IPS Panel Retina Display 2560x1600\n",
      "Name: ScreenResolution, dtype: object \n",
      "\n",
      "0    IPS Panel Retina Display 2560x1600\n",
      "1                  0000000000001440x900\n",
      "2                  000Full HD 1920x1080\n",
      "3    IPS Panel Retina Display 2880x1800\n",
      "4    IPS Panel Retina Display 2560x1600\n",
      "Name: ScreenResolution, dtype: object\n"
     ]
    }
   ],
   "source": [
    "print(laptop['ScreenResolution'].str.strip().head(),'\\n')   # Xóa khoảng trắng hai bên\n",
    "print(laptop['ScreenResolution'].str.zfill(20).head()) # Thêm số 0 vào đầu chuỗi\n"
   ]
  },
  {
   "cell_type": "markdown",
   "id": "f71f73a0-3714-431c-a043-f2dc8b717146",
   "metadata": {},
   "source": [
    "#### 5. Ghép chuỗi  \n",
    "\n",
    "| Phương thức | Mô tả |\n",
    "|------------|-------|\n",
    "| `.str.cat(sep)` | Ghép các phần tử với nhau, phân tách bằng `sep` |\n",
    "| `.str.repeat(n)` | Lặp lại chuỗi `n` lần |"
   ]
  },
  {
   "cell_type": "code",
   "execution_count": 27,
   "id": "a9ff9185-207a-4874-b265-4544d03222cc",
   "metadata": {},
   "outputs": [
    {
     "name": "stdout",
     "output_type": "stream",
     "text": [
      "MacBook Pro Macbook Air 250 G6 MacBook Pro MacBook Pro MacBook Pro Macbook Air ZenBook UX430UN Swift 3 250 G6 250 G6 MacBook Pro Inspiron 3567 MacBook 12\" MacBook Pro Inspiron 3567 MacBook Pro IdeaPad 320-15IKB XPS 13 Legion Y520-15IKBN \n",
      "\n",
      "0    MacBook ProMacBook Pro\n",
      "1    Macbook AirMacbook Air\n",
      "2              250 G6250 G6\n",
      "3    MacBook ProMacBook Pro\n",
      "4    MacBook ProMacBook Pro\n",
      "Name: Product, dtype: object\n"
     ]
    }
   ],
   "source": [
    "print(laptop['Product'].str.cat(sep=\" \"),'\\n')    # Ghép chuỗi \n",
    "print(laptop['Product'].str.repeat(2).head())     # Nhân đôi chuỗi\n"
   ]
  },
  {
   "attachments": {},
   "cell_type": "markdown",
   "id": "094787b4-45a0-480f-87f6-4b3219312f47",
   "metadata": {},
   "source": [
    "#### 6. Biểu thức chính quy Regular Expressions (Regex)  \n",
    "Regular Expressions (Regex) là một công cụ mạnh mẽ giúp thao tác với chuỗi, cho phép tìm kiếm, so khớp, trích xuất và thay thế dữ liệu một cách hiệu quả.  \n",
    "✅ 1. Giới thiệu về Regex  \n",
    "Trong pandas, Regex thường được sử dụng kết hợp với các phương thức của .str, như:  \n",
    "* .str.contains()  – Kiểm tra chuỗi có chứa mẫu không   \n",
    "* .str.extract()   – Trích xuất dữ liệu theo nhóm  \n",
    "* .str.findall()   – Tìm tất cả mẫu khớp  \n",
    "* .str.replace()   – Thay thế chuỗi  \n",
    "* .str.match()     – Kiểm tra chuỗi có khớp toàn bộ mẫu không  \n",
    "* .str.split()     – Chia chuỗi thành các phần tử  \n",
    "\n",
    "✅ 2. Các ký hiệu và cú pháp cơ bản của Regex  \n",
    "\n",
    "| Ký hiệu | Ý nghĩa | Ví dụ |\n",
    "|---------|--------|-------|\n",
    "| `.` | Bất kỳ ký tự nào ngoại trừ xuống dòng | `a.c` khớp với `\"abc\"`, `\"aac\"` nhưng không khớp `\"ac\"` |\n",
    "| `^` | Bắt đầu chuỗi | `^Hello` khớp với `\"Hello world\"` nhưng không khớp `\"world Hello\"` |\n",
    "| `$` | Kết thúc chuỗi | `world$` khớp với `\"Hello world\"` nhưng không khớp `\"world Hello\"` |\n",
    "| `*` | Lặp lại ký tự trước đó **0 hoặc nhiều lần** | `ab*c` khớp với `\"ac\"`, `\"abc\"`, `\"abbc\"` |\n",
    "| `+` | Lặp lại ký tự trước đó **1 hoặc nhiều lần** | `ab+c` khớp với `\"abc\"`, `\"abbc\"` nhưng không khớp `\"ac\"` |\n",
    "| `?` | Ký tự trước đó xuất hiện **0 hoặc 1 lần** | `colou?r` khớp với `\"color\"` và `\"colour\"` |\n",
    "| `{n}` | Ký tự trước đó lặp lại đúng **n lần** | `a{3}` khớp với `\"aaa\"` nhưng không khớp `\"aa\"` |\n",
    "| `{n,}` | Ký tự trước đó lặp lại **ít nhất n lần** | `a{2,}` khớp với `\"aa\"`, `\"aaa\"`, `\"aaaa\"` |\n",
    "| `{n,m}` | Ký tự trước đó lặp lại từ **n đến m lần** | `a{2,4}` khớp với `\"aa\"`, `\"aaa\"`, `\"aaaa\"` nhưng không khớp `\"a\"` hoặc `\"aaaaa\"` |\n",
    "| `[]` | Một tập hợp các ký tự có thể khớp | `[aeiou]` khớp với bất kỳ nguyên âm nào |\n",
    "| `[^]` | Phủ định tập hợp ký tự | `[^aeiou]` khớp với bất kỳ ký tự nào không phải nguyên âm |\n",
    "| `\\d` | Bất kỳ chữ số nào (**0-9**) | `\\d+` khớp với `\"123\"`, `\"456\"` |\n",
    "| `\\D` | Bất kỳ ký tự nào **không phải số** | `\\D+` khớp với `\"abc\"`, `\"Hello\"` |\n",
    "| `\\w` | Bất kỳ ký tự chữ cái, số hoặc dấu gạch dưới (**A-Z, a-z, 0-9, _**) | `\\w+` khớp với `\"hello_123\"` |\n",
    "| `\\W` | Bất kỳ ký tự nào **không phải chữ, số, gạch dưới** | `\\W+` khớp với `\"@!# $\"` |\n",
    "| `\\s` | Khoảng trắng (space, tab, xuống dòng) | `\\s+` khớp với `\"   \"` |\n",
    "| `\\S` | Bất kỳ ký tự nào **không phải khoảng trắng** | `\\S+` khớp với `\"hello123\"` |\n",
    "| `|` | Hoặc (OR) | `cat|dog` khớp với `\"cat\"` hoặc `\"dog\"` |\n",
    "| `()` | Nhóm lại để áp dụng toán tử | `(ab)+` khớp với `\"ab\"`, `\"abab\"`, `\"ababab\"` |\n",
    "\n",
    "([\\w\\.-]+@[\\w\\.-]+\\.\\w+)\n"
   ]
  },
  {
   "cell_type": "markdown",
   "id": "a2aae7af-6d51-4410-85c8-876f5fc86397",
   "metadata": {},
   "source": [
    "✅ 3. Sử dụng Regex trong pandas  \n",
    "🔹 3.1. str.contains() – Kiểm tra chuỗi có chứa mẫu không  \n",
    "\n",
    "Trong Python, việc đặt chữ r trước một chuỗi (ví dụ: r'...') có nghĩa là raw string (chuỗi thô).  \n",
    "Khi sử dụng raw string, Python không xử lý ký tự escape (\\) mà giữ nguyên chúng. Điều này đặc biệt hữu ích khi làm việc với Regular Expressions (Regex), vì Regex sử dụng nhiều ký tự \\.  "
   ]
  },
  {
   "cell_type": "code",
   "execution_count": 12,
   "id": "46dda183-777f-45a0-aeca-f9532cd029be",
   "metadata": {},
   "outputs": [
    {
     "data": {
      "text/plain": [
       "0      8GB\n",
       "1      8GB\n",
       "2      8GB\n",
       "3     16GB\n",
       "4      8GB\n",
       "5     16GB\n",
       "6      8GB\n",
       "7     16GB\n",
       "8      8GB\n",
       "9      4GB\n",
       "10     4GB\n",
       "11    16GB\n",
       "12     4GB\n",
       "13     8GB\n",
       "14     8GB\n",
       "15     8GB\n",
       "16    16GB\n",
       "17     8GB\n",
       "18     8GB\n",
       "19     8GB\n",
       "Name: Ram, dtype: object"
      ]
     },
     "execution_count": 12,
     "metadata": {},
     "output_type": "execute_result"
    }
   ],
   "source": [
    "laptop['Ram']"
   ]
  },
  {
   "cell_type": "code",
   "execution_count": 13,
   "id": "a414bea7-6285-43b5-9fbf-77ce56c46f09",
   "metadata": {},
   "outputs": [
    {
     "data": {
      "text/plain": [
       "0     False\n",
       "1     False\n",
       "2     False\n",
       "3      True\n",
       "4     False\n",
       "5      True\n",
       "6     False\n",
       "7      True\n",
       "8     False\n",
       "9     False\n",
       "10    False\n",
       "11     True\n",
       "12    False\n",
       "13    False\n",
       "14    False\n",
       "15    False\n",
       "16     True\n",
       "17    False\n",
       "18    False\n",
       "19    False\n",
       "Name: Ram, dtype: bool"
      ]
     },
     "execution_count": 13,
     "metadata": {},
     "output_type": "execute_result"
    }
   ],
   "source": [
    "laptop['Ram'].str.contains(r'\\d{2}[A-Z]{2}')"
   ]
  },
  {
   "cell_type": "code",
   "execution_count": 29,
   "id": "6ab4f1c3-4812-4f1c-b32c-bf31ea202eaf",
   "metadata": {},
   "outputs": [
    {
     "data": {
      "text/html": [
       "<div>\n",
       "<style scoped>\n",
       "    .dataframe tbody tr th:only-of-type {\n",
       "        vertical-align: middle;\n",
       "    }\n",
       "\n",
       "    .dataframe tbody tr th {\n",
       "        vertical-align: top;\n",
       "    }\n",
       "\n",
       "    .dataframe thead th {\n",
       "        text-align: right;\n",
       "    }\n",
       "</style>\n",
       "<table border=\"1\" class=\"dataframe\">\n",
       "  <thead>\n",
       "    <tr style=\"text-align: right;\">\n",
       "      <th></th>\n",
       "      <th>Company</th>\n",
       "      <th>Product</th>\n",
       "      <th>TypeName</th>\n",
       "      <th>Inches</th>\n",
       "      <th>ScreenResolution</th>\n",
       "      <th>Cpu</th>\n",
       "      <th>Ram</th>\n",
       "      <th>Memory</th>\n",
       "      <th>Gpu</th>\n",
       "      <th>OpSys</th>\n",
       "      <th>Weight</th>\n",
       "      <th>Price_euros</th>\n",
       "      <th>received_date</th>\n",
       "      <th>width</th>\n",
       "      <th>height</th>\n",
       "    </tr>\n",
       "  </thead>\n",
       "  <tbody>\n",
       "    <tr>\n",
       "      <th>3</th>\n",
       "      <td>Apple</td>\n",
       "      <td>MacBook Pro</td>\n",
       "      <td>Ultrabook</td>\n",
       "      <td>15.4</td>\n",
       "      <td>IPS Panel Retina Display 2880x1800</td>\n",
       "      <td>Intel Core i7 2.7GHz</td>\n",
       "      <td>16GB</td>\n",
       "      <td>512GB SSD</td>\n",
       "      <td>AMD Radeon Pro 455</td>\n",
       "      <td>macOS</td>\n",
       "      <td>1.83kg</td>\n",
       "      <td>2537.45</td>\n",
       "      <td>11/23/2021</td>\n",
       "      <td>2880</td>\n",
       "      <td>1800</td>\n",
       "    </tr>\n",
       "    <tr>\n",
       "      <th>5</th>\n",
       "      <td>Apple</td>\n",
       "      <td>MacBook Pro</td>\n",
       "      <td>Ultrabook</td>\n",
       "      <td>15.4</td>\n",
       "      <td>IPS Panel Retina Display 2880x1800</td>\n",
       "      <td>Intel Core i7 2.2GHz</td>\n",
       "      <td>16GB</td>\n",
       "      <td>256GB Flash Storage</td>\n",
       "      <td>Intel Iris Pro Graphics</td>\n",
       "      <td>Mac OS X</td>\n",
       "      <td>2.04kg</td>\n",
       "      <td>2139.97</td>\n",
       "      <td>7/8/2021</td>\n",
       "      <td>2880</td>\n",
       "      <td>1800</td>\n",
       "    </tr>\n",
       "    <tr>\n",
       "      <th>7</th>\n",
       "      <td>Asus</td>\n",
       "      <td>ZenBook UX430UN</td>\n",
       "      <td>Ultrabook</td>\n",
       "      <td>14.0</td>\n",
       "      <td>Full HD 1920x1080</td>\n",
       "      <td>Intel Core i7 8550U 1.8GHz</td>\n",
       "      <td>16GB</td>\n",
       "      <td>512GB SSD</td>\n",
       "      <td>Nvidia GeForce MX150</td>\n",
       "      <td>Windows 10</td>\n",
       "      <td>1.3kg</td>\n",
       "      <td>1495.00</td>\n",
       "      <td>1/21/2022</td>\n",
       "      <td>1920</td>\n",
       "      <td>1080</td>\n",
       "    </tr>\n",
       "    <tr>\n",
       "      <th>11</th>\n",
       "      <td>Apple</td>\n",
       "      <td>MacBook Pro</td>\n",
       "      <td>Ultrabook</td>\n",
       "      <td>15.4</td>\n",
       "      <td>IPS Panel Retina Display 2880x1800</td>\n",
       "      <td>Intel Core i7 2.8GHz</td>\n",
       "      <td>16GB</td>\n",
       "      <td>256GB SSD</td>\n",
       "      <td>AMD Radeon Pro 555</td>\n",
       "      <td>macOS</td>\n",
       "      <td>1.83kg</td>\n",
       "      <td>2439.97</td>\n",
       "      <td>12/13/2022</td>\n",
       "      <td>2880</td>\n",
       "      <td>1800</td>\n",
       "    </tr>\n",
       "    <tr>\n",
       "      <th>16</th>\n",
       "      <td>Apple</td>\n",
       "      <td>MacBook Pro</td>\n",
       "      <td>Ultrabook</td>\n",
       "      <td>15.4</td>\n",
       "      <td>IPS Panel Retina Display 2880x1800</td>\n",
       "      <td>Intel Core i7 2.9GHz</td>\n",
       "      <td>16GB</td>\n",
       "      <td>512GB SSD</td>\n",
       "      <td>AMD Radeon Pro 560</td>\n",
       "      <td>macOS</td>\n",
       "      <td>1.83kg</td>\n",
       "      <td>2858.00</td>\n",
       "      <td>6/17/2022</td>\n",
       "      <td>2880</td>\n",
       "      <td>1800</td>\n",
       "    </tr>\n",
       "  </tbody>\n",
       "</table>\n",
       "</div>"
      ],
      "text/plain": [
       "   Company          Product   TypeName  Inches  \\\n",
       "3    Apple      MacBook Pro  Ultrabook    15.4   \n",
       "5    Apple      MacBook Pro  Ultrabook    15.4   \n",
       "7     Asus  ZenBook UX430UN  Ultrabook    14.0   \n",
       "11   Apple      MacBook Pro  Ultrabook    15.4   \n",
       "16   Apple      MacBook Pro  Ultrabook    15.4   \n",
       "\n",
       "                      ScreenResolution                         Cpu   Ram  \\\n",
       "3   IPS Panel Retina Display 2880x1800        Intel Core i7 2.7GHz  16GB   \n",
       "5   IPS Panel Retina Display 2880x1800        Intel Core i7 2.2GHz  16GB   \n",
       "7                    Full HD 1920x1080  Intel Core i7 8550U 1.8GHz  16GB   \n",
       "11  IPS Panel Retina Display 2880x1800        Intel Core i7 2.8GHz  16GB   \n",
       "16  IPS Panel Retina Display 2880x1800        Intel Core i7 2.9GHz  16GB   \n",
       "\n",
       "                 Memory                      Gpu       OpSys  Weight  \\\n",
       "3             512GB SSD       AMD Radeon Pro 455       macOS  1.83kg   \n",
       "5   256GB Flash Storage  Intel Iris Pro Graphics    Mac OS X  2.04kg   \n",
       "7             512GB SSD     Nvidia GeForce MX150  Windows 10   1.3kg   \n",
       "11            256GB SSD       AMD Radeon Pro 555       macOS  1.83kg   \n",
       "16            512GB SSD       AMD Radeon Pro 560       macOS  1.83kg   \n",
       "\n",
       "    Price_euros received_date  width  height  \n",
       "3       2537.45    11/23/2021   2880    1800  \n",
       "5       2139.97      7/8/2021   2880    1800  \n",
       "7       1495.00     1/21/2022   1920    1080  \n",
       "11      2439.97    12/13/2022   2880    1800  \n",
       "16      2858.00     6/17/2022   2880    1800  "
      ]
     },
     "execution_count": 29,
     "metadata": {},
     "output_type": "execute_result"
    }
   ],
   "source": [
    "# Lọc ra Ram có dung lượng 2 số trở lên \n",
    "laptop[laptop['Ram'].str.contains(r'\\d{2}[A-Z]{2}')]\n"
   ]
  },
  {
   "cell_type": "markdown",
   "id": "08a7498b-1eab-4cba-be91-6760dfae6fb1",
   "metadata": {},
   "source": [
    "🔹 3.2. str.extract() – Trích xuất dữ liệu theo nhóm"
   ]
  },
  {
   "cell_type": "code",
   "execution_count": 34,
   "id": "e4674718",
   "metadata": {},
   "outputs": [
    {
     "data": {
      "text/html": [
       "<div>\n",
       "<style scoped>\n",
       "    .dataframe tbody tr th:only-of-type {\n",
       "        vertical-align: middle;\n",
       "    }\n",
       "\n",
       "    .dataframe tbody tr th {\n",
       "        vertical-align: top;\n",
       "    }\n",
       "\n",
       "    .dataframe thead th {\n",
       "        text-align: right;\n",
       "    }\n",
       "</style>\n",
       "<table border=\"1\" class=\"dataframe\">\n",
       "  <thead>\n",
       "    <tr style=\"text-align: right;\">\n",
       "      <th></th>\n",
       "      <th>ScreenResolution</th>\n",
       "      <th>width</th>\n",
       "      <th>height</th>\n",
       "    </tr>\n",
       "  </thead>\n",
       "  <tbody>\n",
       "    <tr>\n",
       "      <th>0</th>\n",
       "      <td>IPS Panel Retina Display 2560x1600</td>\n",
       "      <td>2560</td>\n",
       "      <td>1600</td>\n",
       "    </tr>\n",
       "    <tr>\n",
       "      <th>1</th>\n",
       "      <td>1440x900</td>\n",
       "      <td>1440</td>\n",
       "      <td>900</td>\n",
       "    </tr>\n",
       "    <tr>\n",
       "      <th>2</th>\n",
       "      <td>Full HD 1920x1080</td>\n",
       "      <td>1920</td>\n",
       "      <td>1080</td>\n",
       "    </tr>\n",
       "    <tr>\n",
       "      <th>3</th>\n",
       "      <td>IPS Panel Retina Display 2880x1800</td>\n",
       "      <td>2880</td>\n",
       "      <td>1800</td>\n",
       "    </tr>\n",
       "    <tr>\n",
       "      <th>4</th>\n",
       "      <td>IPS Panel Retina Display 2560x1600</td>\n",
       "      <td>2560</td>\n",
       "      <td>1600</td>\n",
       "    </tr>\n",
       "  </tbody>\n",
       "</table>\n",
       "</div>"
      ],
      "text/plain": [
       "                     ScreenResolution  width  height\n",
       "0  IPS Panel Retina Display 2560x1600   2560    1600\n",
       "1                            1440x900   1440     900\n",
       "2                   Full HD 1920x1080   1920    1080\n",
       "3  IPS Panel Retina Display 2880x1800   2880    1800\n",
       "4  IPS Panel Retina Display 2560x1600   2560    1600"
      ]
     },
     "execution_count": 34,
     "metadata": {},
     "output_type": "execute_result"
    }
   ],
   "source": [
    "# Trích xuất dữ liệu theo nhóm .str.extract\n",
    "# Trích xuất thông tin \"width\" và \"height\" từ cột \"ScreenResolution\" và đưa vào hai cột mới  \n",
    "\n",
    "laptop['width'] = laptop['ScreenResolution'].str.extract(r'(\\d+)x\\d+').astype('int')\n",
    "laptop['height'] = laptop['ScreenResolution'].str.extract(r'\\d+x(\\d+)').astype('int')\n",
    "laptop[['ScreenResolution', 'width', 'height']].head()"
   ]
  },
  {
   "cell_type": "code",
   "execution_count": 32,
   "id": "097965e7-de55-45e5-a535-d73745c62f32",
   "metadata": {},
   "outputs": [
    {
     "name": "stdout",
     "output_type": "stream",
     "text": [
      "<class 'pandas.core.frame.DataFrame'>\n",
      "RangeIndex: 20 entries, 0 to 19\n",
      "Data columns (total 15 columns):\n",
      " #   Column            Non-Null Count  Dtype  \n",
      "---  ------            --------------  -----  \n",
      " 0   Company           20 non-null     object \n",
      " 1   Product           20 non-null     object \n",
      " 2   TypeName          20 non-null     object \n",
      " 3   Inches            20 non-null     float64\n",
      " 4   ScreenResolution  20 non-null     object \n",
      " 5   Cpu               20 non-null     object \n",
      " 6   Ram               20 non-null     object \n",
      " 7   Memory            20 non-null     object \n",
      " 8   Gpu               20 non-null     object \n",
      " 9   OpSys             20 non-null     object \n",
      " 10  Weight            20 non-null     object \n",
      " 11  Price_euros       20 non-null     float64\n",
      " 12  received_date     20 non-null     object \n",
      " 13  width             20 non-null     int64  \n",
      " 14  height            20 non-null     int64  \n",
      "dtypes: float64(2), int64(2), object(11)\n",
      "memory usage: 2.5+ KB\n"
     ]
    }
   ],
   "source": [
    "laptop.info()"
   ]
  },
  {
   "cell_type": "code",
   "execution_count": 35,
   "id": "b016d8ab-4642-43c9-a07e-12d576f1dbff",
   "metadata": {},
   "outputs": [
    {
     "data": {
      "text/html": [
       "<div>\n",
       "<style scoped>\n",
       "    .dataframe tbody tr th:only-of-type {\n",
       "        vertical-align: middle;\n",
       "    }\n",
       "\n",
       "    .dataframe tbody tr th {\n",
       "        vertical-align: top;\n",
       "    }\n",
       "\n",
       "    .dataframe thead th {\n",
       "        text-align: right;\n",
       "    }\n",
       "</style>\n",
       "<table border=\"1\" class=\"dataframe\">\n",
       "  <thead>\n",
       "    <tr style=\"text-align: right;\">\n",
       "      <th></th>\n",
       "      <th>ScreenResolution</th>\n",
       "      <th>width</th>\n",
       "      <th>height</th>\n",
       "    </tr>\n",
       "  </thead>\n",
       "  <tbody>\n",
       "    <tr>\n",
       "      <th>0</th>\n",
       "      <td>IPS Panel Retina Display 2560x1600</td>\n",
       "      <td>2560</td>\n",
       "      <td>1600</td>\n",
       "    </tr>\n",
       "    <tr>\n",
       "      <th>1</th>\n",
       "      <td>1440x900</td>\n",
       "      <td>1440</td>\n",
       "      <td>900</td>\n",
       "    </tr>\n",
       "    <tr>\n",
       "      <th>2</th>\n",
       "      <td>Full HD 1920x1080</td>\n",
       "      <td>1920</td>\n",
       "      <td>1080</td>\n",
       "    </tr>\n",
       "    <tr>\n",
       "      <th>3</th>\n",
       "      <td>IPS Panel Retina Display 2880x1800</td>\n",
       "      <td>2880</td>\n",
       "      <td>1800</td>\n",
       "    </tr>\n",
       "    <tr>\n",
       "      <th>4</th>\n",
       "      <td>IPS Panel Retina Display 2560x1600</td>\n",
       "      <td>2560</td>\n",
       "      <td>1600</td>\n",
       "    </tr>\n",
       "  </tbody>\n",
       "</table>\n",
       "</div>"
      ],
      "text/plain": [
       "                     ScreenResolution  width  height\n",
       "0  IPS Panel Retina Display 2560x1600   2560    1600\n",
       "1                            1440x900   1440     900\n",
       "2                   Full HD 1920x1080   1920    1080\n",
       "3  IPS Panel Retina Display 2880x1800   2880    1800\n",
       "4  IPS Panel Retina Display 2560x1600   2560    1600"
      ]
     },
     "execution_count": 35,
     "metadata": {},
     "output_type": "execute_result"
    }
   ],
   "source": [
    "laptop[['width', 'height']] = laptop['ScreenResolution'].str.extract(r'(\\d+)x(\\d+)').astype(int)\n",
    "laptop[['ScreenResolution', 'width', 'height']].head()"
   ]
  },
  {
   "cell_type": "code",
   "execution_count": 94,
   "id": "8b5ba27d",
   "metadata": {},
   "outputs": [
    {
     "data": {
      "text/html": [
       "<div>\n",
       "<style scoped>\n",
       "    .dataframe tbody tr th:only-of-type {\n",
       "        vertical-align: middle;\n",
       "    }\n",
       "\n",
       "    .dataframe tbody tr th {\n",
       "        vertical-align: top;\n",
       "    }\n",
       "\n",
       "    .dataframe thead th {\n",
       "        text-align: right;\n",
       "    }\n",
       "</style>\n",
       "<table border=\"1\" class=\"dataframe\">\n",
       "  <thead>\n",
       "    <tr style=\"text-align: right;\">\n",
       "      <th></th>\n",
       "      <th>Cpu</th>\n",
       "      <th>Speed(GHz)</th>\n",
       "      <th>cpu_type</th>\n",
       "    </tr>\n",
       "  </thead>\n",
       "  <tbody>\n",
       "    <tr>\n",
       "      <th>0</th>\n",
       "      <td>Intel Core i5 2.3GHz</td>\n",
       "      <td>2.3</td>\n",
       "      <td>Intel Core i5</td>\n",
       "    </tr>\n",
       "    <tr>\n",
       "      <th>1</th>\n",
       "      <td>Intel Core i5 1.8GHz</td>\n",
       "      <td>1.8</td>\n",
       "      <td>Intel Core i5</td>\n",
       "    </tr>\n",
       "    <tr>\n",
       "      <th>2</th>\n",
       "      <td>Intel Core i5 7200U 2.5GHz</td>\n",
       "      <td>2.5</td>\n",
       "      <td>Intel Core i5</td>\n",
       "    </tr>\n",
       "    <tr>\n",
       "      <th>3</th>\n",
       "      <td>Intel Core i7 2.7GHz</td>\n",
       "      <td>2.7</td>\n",
       "      <td>Intel Core i7</td>\n",
       "    </tr>\n",
       "    <tr>\n",
       "      <th>4</th>\n",
       "      <td>Intel Core i5 3.1GHz</td>\n",
       "      <td>3.1</td>\n",
       "      <td>Intel Core i5</td>\n",
       "    </tr>\n",
       "  </tbody>\n",
       "</table>\n",
       "</div>"
      ],
      "text/plain": [
       "                          Cpu  Speed(GHz)       cpu_type\n",
       "0        Intel Core i5 2.3GHz         2.3  Intel Core i5\n",
       "1        Intel Core i5 1.8GHz         1.8  Intel Core i5\n",
       "2  Intel Core i5 7200U 2.5GHz         2.5  Intel Core i5\n",
       "3        Intel Core i7 2.7GHz         2.7  Intel Core i7\n",
       "4        Intel Core i5 3.1GHz         3.1  Intel Core i5"
      ]
     },
     "execution_count": 94,
     "metadata": {},
     "output_type": "execute_result"
    }
   ],
   "source": [
    "laptop['Speed(GHz)']=laptop['Cpu'].str.extract(r\"(\\d\\.?\\d?)GHz\").astype('float')\n",
    "laptop['cpu_type'] = laptop['Cpu'].str.extract(r\"(.+\\d)\\s\\d+\")\n",
    "laptop[['Cpu', 'Speed(GHz)', 'cpu_type']].head()"
   ]
  },
  {
   "cell_type": "code",
   "execution_count": 95,
   "id": "fbfd97c7-8ba2-498a-a384-85bbd09df7d5",
   "metadata": {},
   "outputs": [
    {
     "name": "stdout",
     "output_type": "stream",
     "text": [
      "                              text\n",
      "0  Contact me at example@email.com\n",
      "1                    No email here\n"
     ]
    }
   ],
   "source": [
    "# Trích xuất địa chỉ email từ văn bản \n",
    "df = pd.DataFrame({'text': ['Contact me at example@email.com', 'No email here']})\n",
    "print(df)\n"
   ]
  },
  {
   "cell_type": "code",
   "execution_count": 96,
   "id": "9c151f20-50f2-473f-b440-68f68fd09c5f",
   "metadata": {},
   "outputs": [
    {
     "name": "stdout",
     "output_type": "stream",
     "text": [
      "                              text              email\n",
      "0  Contact me at example@email.com  example@email.com\n",
      "1                    No email here                NaN\n"
     ]
    }
   ],
   "source": [
    "# Trích xuất email\n",
    "df['email'] = df['text'].str.extract(r'([\\w\\.-]+@[\\w\\.-]+\\.\\w+)')\n",
    "print(df)\n"
   ]
  },
  {
   "cell_type": "code",
   "execution_count": 97,
   "id": "80c150a4-32ec-48e5-abb9-96545d58d0d5",
   "metadata": {},
   "outputs": [
    {
     "name": "stdout",
     "output_type": "stream",
     "text": [
      "                                                text\n",
      "0  Contact john.doe@email.com and jane123@domain.org\n",
      "1                          Send to admin@company.com\n",
      "2                                      No email here\n"
     ]
    }
   ],
   "source": [
    "import pandas as pd\n",
    "\n",
    "df = pd.DataFrame({\n",
    "    'text': [\n",
    "        'Contact john.doe@email.com and jane123@domain.org',\n",
    "        'Send to admin@company.com',\n",
    "        'No email here'\n",
    "    ]\n",
    "})\n",
    "print(df)"
   ]
  },
  {
   "cell_type": "code",
   "execution_count": 98,
   "id": "ae8557b6-02ad-4a58-9af9-b85d20cd3919",
   "metadata": {},
   "outputs": [
    {
     "name": "stdout",
     "output_type": "stream",
     "text": [
      "                                                text  \\\n",
      "0  Contact john.doe@email.com and jane123@domain.org   \n",
      "1                          Send to admin@company.com   \n",
      "2                                      No email here   \n",
      "\n",
      "                                     emails  \n",
      "0  [john.doe@email.com, jane123@domain.org]  \n",
      "1                       [admin@company.com]  \n",
      "2                                        []  \n"
     ]
    }
   ],
   "source": [
    "# Trích xuất tất cả email có trong mỗi chuỗi\n",
    "df['emails'] = df['text'].str.findall(r'[\\w\\.-]+@[\\w\\.-]+\\.\\w+')\n",
    "print(df)\n"
   ]
  },
  {
   "cell_type": "markdown",
   "id": "a0d2e26b-fe67-4b21-9241-346b3f2a44e5",
   "metadata": {},
   "source": [
    "🔹 3.3. str.split() – Chia chuỗi thành các phần tử"
   ]
  },
  {
   "cell_type": "code",
   "execution_count": 99,
   "id": "09f0ac55-3a36-457d-99af-4847e0d7adee",
   "metadata": {},
   "outputs": [
    {
     "data": {
      "text/html": [
       "<div>\n",
       "<style scoped>\n",
       "    .dataframe tbody tr th:only-of-type {\n",
       "        vertical-align: middle;\n",
       "    }\n",
       "\n",
       "    .dataframe tbody tr th {\n",
       "        vertical-align: top;\n",
       "    }\n",
       "\n",
       "    .dataframe thead th {\n",
       "        text-align: right;\n",
       "    }\n",
       "</style>\n",
       "<table border=\"1\" class=\"dataframe\">\n",
       "  <thead>\n",
       "    <tr style=\"text-align: right;\">\n",
       "      <th></th>\n",
       "      <th>order_id</th>\n",
       "    </tr>\n",
       "  </thead>\n",
       "  <tbody>\n",
       "    <tr>\n",
       "      <th>0</th>\n",
       "      <td>20230209-TT*CV#0001</td>\n",
       "    </tr>\n",
       "    <tr>\n",
       "      <th>1</th>\n",
       "      <td>20230208-DT*LT#0010</td>\n",
       "    </tr>\n",
       "    <tr>\n",
       "      <th>2</th>\n",
       "      <td>20230207-CT*BA#0012</td>\n",
       "    </tr>\n",
       "  </tbody>\n",
       "</table>\n",
       "</div>"
      ],
      "text/plain": [
       "              order_id\n",
       "0  20230209-TT*CV#0001\n",
       "1  20230208-DT*LT#0010\n",
       "2  20230207-CT*BA#0012"
      ]
     },
     "execution_count": 99,
     "metadata": {},
     "output_type": "execute_result"
    }
   ],
   "source": [
    "# Tạo DataFrame\n",
    "order = pd.DataFrame({'order_id': ['20230209-TT*CV#0001', '20230208-DT*LT#0010', '20230207-CT*BA#0012']})\n",
    "order"
   ]
  },
  {
   "cell_type": "code",
   "execution_count": 100,
   "id": "2580a2e7-1972-4853-a023-ad72dbbdf7c6",
   "metadata": {},
   "outputs": [
    {
     "name": "stdout",
     "output_type": "stream",
     "text": [
      "          0   1   2     3\n",
      "0  20230209  TT  CV  0001\n",
      "1  20230208  DT  LT  0010\n",
      "2  20230207  CT  BA  0012\n"
     ]
    }
   ],
   "source": [
    "# \\W là bất kỳ ký tự nào không phải là chữ, số, gạch dưới\n",
    "reg = order['order_id'].str.split(r'\\W', expand=True)\n",
    "print(reg)"
   ]
  },
  {
   "cell_type": "code",
   "execution_count": 101,
   "id": "00c93481-1386-4538-bffd-9fcd10dd7bfa",
   "metadata": {},
   "outputs": [
    {
     "data": {
      "text/plain": [
       "0    20230209\n",
       "1    20230208\n",
       "2    20230207\n",
       "Name: 0, dtype: object"
      ]
     },
     "execution_count": 101,
     "metadata": {},
     "output_type": "execute_result"
    }
   ],
   "source": [
    "reg[0]"
   ]
  },
  {
   "cell_type": "code",
   "execution_count": 102,
   "id": "9b0e5116-539c-49d3-81fb-4bde3b0dca34",
   "metadata": {},
   "outputs": [
    {
     "data": {
      "text/html": [
       "<div>\n",
       "<style scoped>\n",
       "    .dataframe tbody tr th:only-of-type {\n",
       "        vertical-align: middle;\n",
       "    }\n",
       "\n",
       "    .dataframe tbody tr th {\n",
       "        vertical-align: top;\n",
       "    }\n",
       "\n",
       "    .dataframe thead th {\n",
       "        text-align: right;\n",
       "    }\n",
       "</style>\n",
       "<table border=\"1\" class=\"dataframe\">\n",
       "  <thead>\n",
       "    <tr style=\"text-align: right;\">\n",
       "      <th></th>\n",
       "      <th>order_id</th>\n",
       "      <th>order_date</th>\n",
       "      <th>category</th>\n",
       "      <th>product</th>\n",
       "      <th>item</th>\n",
       "    </tr>\n",
       "  </thead>\n",
       "  <tbody>\n",
       "    <tr>\n",
       "      <th>0</th>\n",
       "      <td>20230209-TT*CV#0001</td>\n",
       "      <td>2023-02-09</td>\n",
       "      <td>TT</td>\n",
       "      <td>CV</td>\n",
       "      <td>0001</td>\n",
       "    </tr>\n",
       "    <tr>\n",
       "      <th>1</th>\n",
       "      <td>20230208-DT*LT#0010</td>\n",
       "      <td>2023-02-08</td>\n",
       "      <td>DT</td>\n",
       "      <td>LT</td>\n",
       "      <td>0010</td>\n",
       "    </tr>\n",
       "    <tr>\n",
       "      <th>2</th>\n",
       "      <td>20230207-CT*BA#0012</td>\n",
       "      <td>2023-02-07</td>\n",
       "      <td>CT</td>\n",
       "      <td>BA</td>\n",
       "      <td>0012</td>\n",
       "    </tr>\n",
       "  </tbody>\n",
       "</table>\n",
       "</div>"
      ],
      "text/plain": [
       "              order_id order_date category product  item\n",
       "0  20230209-TT*CV#0001 2023-02-09       TT      CV  0001\n",
       "1  20230208-DT*LT#0010 2023-02-08       DT      LT  0010\n",
       "2  20230207-CT*BA#0012 2023-02-07       CT      BA  0012"
      ]
     },
     "execution_count": 102,
     "metadata": {},
     "output_type": "execute_result"
    }
   ],
   "source": [
    "order['order_date'] = pd.to_datetime(reg[0])\n",
    "order['category'] = reg[1]\n",
    "order['product'] = reg[2]\n",
    "order['item'] = reg[3]\n",
    "order"
   ]
  },
  {
   "cell_type": "code",
   "execution_count": 103,
   "id": "8b83eb5e-2c93-4f5f-996a-1f3f849b79bf",
   "metadata": {},
   "outputs": [],
   "source": [
    "# Gán tên trước chuỷen kiểu sau \n",
    "# order['order_date'] = reg[0]\n",
    "# order['order_date'] = pd.to_datetime(order['order_date'])\n",
    "# order"
   ]
  },
  {
   "cell_type": "markdown",
   "id": "bfa69ed0-9329-4d34-bb16-7d0f038ec896",
   "metadata": {},
   "source": [
    "🔹 3.4. str.replace() – Thay thế chuỗi"
   ]
  },
  {
   "cell_type": "code",
   "execution_count": 104,
   "id": "432e146c-c0ae-4ee4-b335-4b8033a67852",
   "metadata": {},
   "outputs": [
    {
     "name": "stdout",
     "output_type": "stream",
     "text": [
      "                        text               clean_text\n",
      "0    Call me at 123-456-7890    Call me at 1234567890\n",
      "1  My number is 987-654-3210  My number is 9876543210\n",
      "2              No phone here            No phone here\n"
     ]
    }
   ],
   "source": [
    "# Loại bỏ ký tự đặc biệt khỏi văn bản\n",
    "# [^] Phủ định của tập hợp ký tự\n",
    "# \\w\tBất kỳ ký tự chữ cái, số hoặc dấu gạch dưới (A-Z, a-z, 0-9, _)\n",
    "# \\s\tKhoảng trắng (space, tab, xuống dòng)\t\\s+ khớp với \"   \"\n",
    "# Tham số regex=True cho replace() của Pandas có nghĩa là:\n",
    "# Chuỗi được truyền vào (ở đây là '[^\\w\\s]') sẽ được xử lý như một biểu thức chính quy (regex), chứ không phải là một chuỗi thuần túy.\n",
    "\n",
    "df1 = pd.DataFrame({'text': ['Call me at 123-456-7890', 'My number is 987-654-3210', 'No phone here']})\n",
    "df1['clean_text'] = df1['text'].str.replace(r'[^\\w\\s]', '', regex=True)\n",
    "print(df1)\n"
   ]
  },
  {
   "cell_type": "code",
   "execution_count": 105,
   "id": "5523c768-e258-4f5e-85bf-c600cfab3fc0",
   "metadata": {},
   "outputs": [
    {
     "data": {
      "text/html": [
       "<div>\n",
       "<style scoped>\n",
       "    .dataframe tbody tr th:only-of-type {\n",
       "        vertical-align: middle;\n",
       "    }\n",
       "\n",
       "    .dataframe tbody tr th {\n",
       "        vertical-align: top;\n",
       "    }\n",
       "\n",
       "    .dataframe thead th {\n",
       "        text-align: right;\n",
       "    }\n",
       "</style>\n",
       "<table border=\"1\" class=\"dataframe\">\n",
       "  <thead>\n",
       "    <tr style=\"text-align: right;\">\n",
       "      <th></th>\n",
       "      <th>P</th>\n",
       "    </tr>\n",
       "  </thead>\n",
       "  <tbody>\n",
       "    <tr>\n",
       "      <th>0</th>\n",
       "      <td>$40,000*</td>\n",
       "    </tr>\n",
       "    <tr>\n",
       "      <th>1</th>\n",
       "      <td>$40000 conditions attached</td>\n",
       "    </tr>\n",
       "  </tbody>\n",
       "</table>\n",
       "</div>"
      ],
      "text/plain": [
       "                            P\n",
       "0                    $40,000*\n",
       "1  $40000 conditions attached"
      ]
     },
     "execution_count": 105,
     "metadata": {},
     "output_type": "execute_result"
    }
   ],
   "source": [
    "# Tạo DataFrame\n",
    "df2 = pd.DataFrame({'P': ['$40,000*', '$40000 conditions attached']})\n",
    "df2"
   ]
  },
  {
   "cell_type": "code",
   "execution_count": 106,
   "id": "4557d5b9-e979-4505-b503-1e5ddf3d542d",
   "metadata": {},
   "outputs": [
    {
     "data": {
      "text/html": [
       "<div>\n",
       "<style scoped>\n",
       "    .dataframe tbody tr th:only-of-type {\n",
       "        vertical-align: middle;\n",
       "    }\n",
       "\n",
       "    .dataframe tbody tr th {\n",
       "        vertical-align: top;\n",
       "    }\n",
       "\n",
       "    .dataframe thead th {\n",
       "        text-align: right;\n",
       "    }\n",
       "</style>\n",
       "<table border=\"1\" class=\"dataframe\">\n",
       "  <thead>\n",
       "    <tr style=\"text-align: right;\">\n",
       "      <th></th>\n",
       "      <th>P</th>\n",
       "    </tr>\n",
       "  </thead>\n",
       "  <tbody>\n",
       "    <tr>\n",
       "      <th>0</th>\n",
       "      <td>40000</td>\n",
       "    </tr>\n",
       "    <tr>\n",
       "      <th>1</th>\n",
       "      <td>40000</td>\n",
       "    </tr>\n",
       "  </tbody>\n",
       "</table>\n",
       "</div>"
      ],
      "text/plain": [
       "       P\n",
       "0  40000\n",
       "1  40000"
      ]
     },
     "execution_count": 106,
     "metadata": {},
     "output_type": "execute_result"
    }
   ],
   "source": [
    "df2['P'] = df2['P'].str.replace(r'\\D+','',regex = True).astype('int')\n",
    "df2"
   ]
  },
  {
   "cell_type": "code",
   "execution_count": 107,
   "id": "2c4a53dc-5fd8-4b85-b39c-6a26d1d3b6ef",
   "metadata": {},
   "outputs": [
    {
     "name": "stdout",
     "output_type": "stream",
     "text": [
      "            phone standard_phone\n",
      "0    123.456.7890   123-456-7890\n",
      "1  (123) 456-7890   123-456-7890\n",
      "2    123-456-7890   123-456-7890\n"
     ]
    }
   ],
   "source": [
    "# Chuyển đổi số điện thoại từ nhiều định dạng khác nhau về dạng chuẩn (123-456-7890)\n",
    "df = pd.DataFrame({'phone': ['123.456.7890', '(123) 456-7890', '123-456-7890']})\n",
    "\n",
    "# Chuẩn hóa về định dạng 123-456-7890\n",
    "df['standard_phone'] = df['phone'].str.replace(r'\\D', '', regex=True).str.replace(r'(\\d{3})(\\d{3})(\\d{4})', r'\\1-\\2-\\3', regex=True)\n",
    "\n",
    "print(df)\n"
   ]
  },
  {
   "cell_type": "markdown",
   "id": "4abcfaba-7899-4711-a956-02091d507f1f",
   "metadata": {},
   "source": [
    "🔹 3.5.Tạo cột mới từ cột chứa dữ liệu chuỗi  "
   ]
  },
  {
   "cell_type": "code",
   "execution_count": 108,
   "id": "31d7d1fc-9bbe-4300-9d7b-fd07d5c53bbe",
   "metadata": {},
   "outputs": [
    {
     "data": {
      "text/html": [
       "<div>\n",
       "<style scoped>\n",
       "    .dataframe tbody tr th:only-of-type {\n",
       "        vertical-align: middle;\n",
       "    }\n",
       "\n",
       "    .dataframe tbody tr th {\n",
       "        vertical-align: top;\n",
       "    }\n",
       "\n",
       "    .dataframe thead th {\n",
       "        text-align: right;\n",
       "    }\n",
       "</style>\n",
       "<table border=\"1\" class=\"dataframe\">\n",
       "  <thead>\n",
       "    <tr style=\"text-align: right;\">\n",
       "      <th></th>\n",
       "      <th>Cap_bac_cong_viec</th>\n",
       "      <th>Luong_trung_binh</th>\n",
       "    </tr>\n",
       "  </thead>\n",
       "  <tbody>\n",
       "    <tr>\n",
       "      <th>0</th>\n",
       "      <td>Quản lý/Trưởng phòng</td>\n",
       "      <td>30.000.000 VNĐ</td>\n",
       "    </tr>\n",
       "    <tr>\n",
       "      <th>1</th>\n",
       "      <td>Trưởng nhóm/Giám sát</td>\n",
       "      <td>20.000.000 đ</td>\n",
       "    </tr>\n",
       "    <tr>\n",
       "      <th>2</th>\n",
       "      <td>NV có kinh nghiệm</td>\n",
       "      <td>15.600.000 vnđ</td>\n",
       "    </tr>\n",
       "    <tr>\n",
       "      <th>3</th>\n",
       "      <td>Mới ra trường</td>\n",
       "      <td>7.500.000 VNĐ</td>\n",
       "    </tr>\n",
       "  </tbody>\n",
       "</table>\n",
       "</div>"
      ],
      "text/plain": [
       "      Cap_bac_cong_viec Luong_trung_binh\n",
       "0  Quản lý/Trưởng phòng   30.000.000 VNĐ\n",
       "1  Trưởng nhóm/Giám sát     20.000.000 đ\n",
       "2     NV có kinh nghiệm   15.600.000 vnđ\n",
       "3         Mới ra trường    7.500.000 VNĐ"
      ]
     },
     "execution_count": 108,
     "metadata": {},
     "output_type": "execute_result"
    }
   ],
   "source": [
    "dict = {'Cap_bac_cong_viec': ['Quản lý/Trưởng phòng','Trưởng nhóm/Giám sát','NV có kinh nghiệm','Mới ra trường'],\n",
    "        'Luong_trung_binh' : ['30.000.000 VNĐ','20.000.000 đ','15.600.000 vnđ','7.500.000 VNĐ']\n",
    "       }\n",
    "khoang_luong_IT = pd.DataFrame(dict)\n",
    "khoang_luong_IT"
   ]
  },
  {
   "cell_type": "code",
   "execution_count": 109,
   "id": "555ad891-5648-4253-8cb2-1e859a8578e7",
   "metadata": {},
   "outputs": [
    {
     "name": "stdout",
     "output_type": "stream",
     "text": [
      "<class 'pandas.core.frame.DataFrame'>\n",
      "RangeIndex: 4 entries, 0 to 3\n",
      "Data columns (total 2 columns):\n",
      " #   Column             Non-Null Count  Dtype \n",
      "---  ------             --------------  ----- \n",
      " 0   Cap_bac_cong_viec  4 non-null      object\n",
      " 1   Luong_trung_binh   4 non-null      object\n",
      "dtypes: object(2)\n",
      "memory usage: 196.0+ bytes\n"
     ]
    }
   ],
   "source": [
    "khoang_luong_IT.info()"
   ]
  },
  {
   "cell_type": "code",
   "execution_count": 110,
   "id": "737e35d4-bfb4-459b-901d-5e109288de6b",
   "metadata": {},
   "outputs": [
    {
     "data": {
      "text/html": [
       "<div>\n",
       "<style scoped>\n",
       "    .dataframe tbody tr th:only-of-type {\n",
       "        vertical-align: middle;\n",
       "    }\n",
       "\n",
       "    .dataframe tbody tr th {\n",
       "        vertical-align: top;\n",
       "    }\n",
       "\n",
       "    .dataframe thead th {\n",
       "        text-align: right;\n",
       "    }\n",
       "</style>\n",
       "<table border=\"1\" class=\"dataframe\">\n",
       "  <thead>\n",
       "    <tr style=\"text-align: right;\">\n",
       "      <th></th>\n",
       "      <th>Cap_bac_cong_viec</th>\n",
       "      <th>Luong_trung_binh</th>\n",
       "      <th>Luong_trung_binh_new</th>\n",
       "    </tr>\n",
       "  </thead>\n",
       "  <tbody>\n",
       "    <tr>\n",
       "      <th>0</th>\n",
       "      <td>Quản lý/Trưởng phòng</td>\n",
       "      <td>30.000.000 VNĐ</td>\n",
       "      <td>30000000.0</td>\n",
       "    </tr>\n",
       "    <tr>\n",
       "      <th>1</th>\n",
       "      <td>Trưởng nhóm/Giám sát</td>\n",
       "      <td>20.000.000 đ</td>\n",
       "      <td>20000000.0</td>\n",
       "    </tr>\n",
       "    <tr>\n",
       "      <th>2</th>\n",
       "      <td>NV có kinh nghiệm</td>\n",
       "      <td>15.600.000 vnđ</td>\n",
       "      <td>15600000.0</td>\n",
       "    </tr>\n",
       "    <tr>\n",
       "      <th>3</th>\n",
       "      <td>Mới ra trường</td>\n",
       "      <td>7.500.000 VNĐ</td>\n",
       "      <td>7500000.0</td>\n",
       "    </tr>\n",
       "  </tbody>\n",
       "</table>\n",
       "</div>"
      ],
      "text/plain": [
       "      Cap_bac_cong_viec Luong_trung_binh  Luong_trung_binh_new\n",
       "0  Quản lý/Trưởng phòng   30.000.000 VNĐ            30000000.0\n",
       "1  Trưởng nhóm/Giám sát     20.000.000 đ            20000000.0\n",
       "2     NV có kinh nghiệm   15.600.000 vnđ            15600000.0\n",
       "3         Mới ra trường    7.500.000 VNĐ             7500000.0"
      ]
     },
     "execution_count": 110,
     "metadata": {},
     "output_type": "execute_result"
    }
   ],
   "source": [
    "khoang_luong_IT['Luong_trung_binh_new'] = khoang_luong_IT['Luong_trung_binh'].str.lower().str.replace('.','').str.replace(' đ','').str.replace(' vnđ','').astype('float')\n",
    "khoang_luong_IT"
   ]
  },
  {
   "attachments": {},
   "cell_type": "markdown",
   "id": "213ef875-49f3-400d-8f52-c7c7c95d40c5",
   "metadata": {},
   "source": [
    "🔹 3.6. Tạo cột mới từ cột chứa dữ liệu chuỗi  "
   ]
  },
  {
   "cell_type": "code",
   "execution_count": 111,
   "id": "4f9513b5-d028-442e-a561-5c9b13ee50b9",
   "metadata": {},
   "outputs": [
    {
     "data": {
      "text/html": [
       "<div>\n",
       "<style scoped>\n",
       "    .dataframe tbody tr th:only-of-type {\n",
       "        vertical-align: middle;\n",
       "    }\n",
       "\n",
       "    .dataframe tbody tr th {\n",
       "        vertical-align: top;\n",
       "    }\n",
       "\n",
       "    .dataframe thead th {\n",
       "        text-align: right;\n",
       "    }\n",
       "</style>\n",
       "<table border=\"1\" class=\"dataframe\">\n",
       "  <thead>\n",
       "    <tr style=\"text-align: right;\">\n",
       "      <th></th>\n",
       "      <th>Cap_bac_cong_viec</th>\n",
       "      <th>Luong_trung_binh</th>\n",
       "      <th>Luong_trung_binh_new</th>\n",
       "      <th>Muc_luong</th>\n",
       "    </tr>\n",
       "  </thead>\n",
       "  <tbody>\n",
       "    <tr>\n",
       "      <th>0</th>\n",
       "      <td>Quản lý/Trưởng phòng</td>\n",
       "      <td>30.000.000 VNĐ</td>\n",
       "      <td>30000000.0</td>\n",
       "      <td>Cao</td>\n",
       "    </tr>\n",
       "    <tr>\n",
       "      <th>1</th>\n",
       "      <td>Trưởng nhóm/Giám sát</td>\n",
       "      <td>20.000.000 đ</td>\n",
       "      <td>20000000.0</td>\n",
       "      <td>Trung bình</td>\n",
       "    </tr>\n",
       "    <tr>\n",
       "      <th>2</th>\n",
       "      <td>NV có kinh nghiệm</td>\n",
       "      <td>15.600.000 vnđ</td>\n",
       "      <td>15600000.0</td>\n",
       "      <td>Trung bình</td>\n",
       "    </tr>\n",
       "    <tr>\n",
       "      <th>3</th>\n",
       "      <td>Mới ra trường</td>\n",
       "      <td>7.500.000 VNĐ</td>\n",
       "      <td>7500000.0</td>\n",
       "      <td>Thấp</td>\n",
       "    </tr>\n",
       "  </tbody>\n",
       "</table>\n",
       "</div>"
      ],
      "text/plain": [
       "      Cap_bac_cong_viec Luong_trung_binh  Luong_trung_binh_new   Muc_luong\n",
       "0  Quản lý/Trưởng phòng   30.000.000 VNĐ            30000000.0         Cao\n",
       "1  Trưởng nhóm/Giám sát     20.000.000 đ            20000000.0  Trung bình\n",
       "2     NV có kinh nghiệm   15.600.000 vnđ            15600000.0  Trung bình\n",
       "3         Mới ra trường    7.500.000 VNĐ             7500000.0        Thấp"
      ]
     },
     "execution_count": 111,
     "metadata": {},
     "output_type": "execute_result"
    }
   ],
   "source": [
    "khoang_luong_IT['Muc_luong'] = khoang_luong_IT['Luong_trung_binh_new'].apply(lambda x : \"Cao\" if x>=30000000 else \"Trung bình\" if x>=15000000 else \"Thấp\")\n",
    "khoang_luong_IT"
   ]
  },
  {
   "cell_type": "markdown",
   "id": "d902a0d4-7d2b-4f2f-850f-a8f39bd0d7cf",
   "metadata": {},
   "source": [
    "#### 7. Sử dụng thư viện re trong Python"
   ]
  },
  {
   "cell_type": "markdown",
   "id": "a7083e32",
   "metadata": {},
   "source": [
    "**Kiểm tra tính hợp lệ của password:** <br>\n",
    "1. Có ít nhất 1 chữ viết thường\n",
    "2. Có ít nhất 1 chữ viết hoa\n",
    "3. Có ít nhất 1 số\n",
    "4. Có ít nhất 1 ký tự đặc biệt (@$!%*#?&)\n",
    "5. Độ dài từ 6-20 ký tự"
   ]
  },
  {
   "cell_type": "code",
   "execution_count": 112,
   "id": "d6e2da67",
   "metadata": {},
   "outputs": [],
   "source": [
    "import re\n",
    " \n",
    "def check_pass(passwd):\n",
    "    reg = \"^(?=.*[a-z])(?=.*[A-Z])(?=.*\\d)(?=.*[@$!%*#?&])[A-Za-z\\d@$!#%*?&]{6,20}$\"\n",
    "     \n",
    "    # compiling regex\n",
    "    pat = re.compile(reg)\n",
    "     \n",
    "    # searching regex                \n",
    "    mat = re.search(pat, passwd)\n",
    "     \n",
    "    # validating conditions\n",
    "    if mat:\n",
    "        print(\"Password is valid.\")\n",
    "    else:\n",
    "        print(\"Password invalid !!\")"
   ]
  },
  {
   "cell_type": "code",
   "execution_count": 65,
   "id": "7ba6e426",
   "metadata": {},
   "outputs": [],
   "source": [
    "passwd = 'QaF@1234'"
   ]
  },
  {
   "cell_type": "code",
   "execution_count": 66,
   "id": "57876120",
   "metadata": {},
   "outputs": [
    {
     "name": "stdout",
     "output_type": "stream",
     "text": [
      "Password is valid.\n"
     ]
    }
   ],
   "source": [
    "check_pass(passwd)"
   ]
  },
  {
   "cell_type": "markdown",
   "id": "2dc0e4ba-3bb3-48fb-885e-31897b3f0171",
   "metadata": {},
   "source": [
    "### 5. Các phương thức thao tác trên dữ liệu thời gian trong pandas "
   ]
  },
  {
   "cell_type": "code",
   "execution_count": 67,
   "id": "dbd88072",
   "metadata": {},
   "outputs": [
    {
     "name": "stdout",
     "output_type": "stream",
     "text": [
      "<class 'pandas.core.frame.DataFrame'>\n",
      "RangeIndex: 20 entries, 0 to 19\n",
      "Data columns (total 17 columns):\n",
      " #   Column            Non-Null Count  Dtype  \n",
      "---  ------            --------------  -----  \n",
      " 0   Company           20 non-null     object \n",
      " 1   Product           20 non-null     object \n",
      " 2   TypeName          20 non-null     object \n",
      " 3   Inches            20 non-null     float64\n",
      " 4   ScreenResolution  20 non-null     object \n",
      " 5   Cpu               20 non-null     object \n",
      " 6   Ram               20 non-null     object \n",
      " 7   Memory            20 non-null     object \n",
      " 8   Gpu               20 non-null     object \n",
      " 9   OpSys             20 non-null     object \n",
      " 10  Weight            20 non-null     object \n",
      " 11  Price_euros       20 non-null     float64\n",
      " 12  received_date     20 non-null     object \n",
      " 13  width             20 non-null     int64  \n",
      " 14  height            20 non-null     int64  \n",
      " 15  Speed(GHz)        20 non-null     float64\n",
      " 16  cpu_type          20 non-null     object \n",
      "dtypes: float64(3), int64(2), object(12)\n",
      "memory usage: 2.8+ KB\n"
     ]
    }
   ],
   "source": [
    "laptop.info()"
   ]
  },
  {
   "cell_type": "code",
   "execution_count": 68,
   "id": "b44c863c",
   "metadata": {},
   "outputs": [
    {
     "data": {
      "text/html": [
       "<div>\n",
       "<style scoped>\n",
       "    .dataframe tbody tr th:only-of-type {\n",
       "        vertical-align: middle;\n",
       "    }\n",
       "\n",
       "    .dataframe tbody tr th {\n",
       "        vertical-align: top;\n",
       "    }\n",
       "\n",
       "    .dataframe thead th {\n",
       "        text-align: right;\n",
       "    }\n",
       "</style>\n",
       "<table border=\"1\" class=\"dataframe\">\n",
       "  <thead>\n",
       "    <tr style=\"text-align: right;\">\n",
       "      <th></th>\n",
       "      <th>Company</th>\n",
       "      <th>Product</th>\n",
       "      <th>Gpu</th>\n",
       "      <th>received_date</th>\n",
       "    </tr>\n",
       "  </thead>\n",
       "  <tbody>\n",
       "    <tr>\n",
       "      <th>0</th>\n",
       "      <td>Apple</td>\n",
       "      <td>MacBook Pro</td>\n",
       "      <td>Intel Iris Plus Graphics 640</td>\n",
       "      <td>7/19/2022</td>\n",
       "    </tr>\n",
       "    <tr>\n",
       "      <th>1</th>\n",
       "      <td>Apple</td>\n",
       "      <td>Macbook Air</td>\n",
       "      <td>Intel HD Graphics 6000</td>\n",
       "      <td>4/1/2021</td>\n",
       "    </tr>\n",
       "    <tr>\n",
       "      <th>2</th>\n",
       "      <td>HP</td>\n",
       "      <td>250 G6</td>\n",
       "      <td>Intel HD Graphics 620</td>\n",
       "      <td>2/18/2022</td>\n",
       "    </tr>\n",
       "    <tr>\n",
       "      <th>3</th>\n",
       "      <td>Apple</td>\n",
       "      <td>MacBook Pro</td>\n",
       "      <td>AMD Radeon Pro 455</td>\n",
       "      <td>11/23/2021</td>\n",
       "    </tr>\n",
       "    <tr>\n",
       "      <th>4</th>\n",
       "      <td>Apple</td>\n",
       "      <td>MacBook Pro</td>\n",
       "      <td>Intel Iris Plus Graphics 650</td>\n",
       "      <td>11/14/2021</td>\n",
       "    </tr>\n",
       "    <tr>\n",
       "      <th>5</th>\n",
       "      <td>Apple</td>\n",
       "      <td>MacBook Pro</td>\n",
       "      <td>Intel Iris Pro Graphics</td>\n",
       "      <td>7/8/2021</td>\n",
       "    </tr>\n",
       "    <tr>\n",
       "      <th>6</th>\n",
       "      <td>Apple</td>\n",
       "      <td>Macbook Air</td>\n",
       "      <td>Intel HD Graphics 6000</td>\n",
       "      <td>5/28/2022</td>\n",
       "    </tr>\n",
       "    <tr>\n",
       "      <th>7</th>\n",
       "      <td>Asus</td>\n",
       "      <td>ZenBook UX430UN</td>\n",
       "      <td>Nvidia GeForce MX150</td>\n",
       "      <td>1/21/2022</td>\n",
       "    </tr>\n",
       "    <tr>\n",
       "      <th>8</th>\n",
       "      <td>Acer</td>\n",
       "      <td>Swift 3</td>\n",
       "      <td>Intel UHD Graphics 620</td>\n",
       "      <td>5/30/2021</td>\n",
       "    </tr>\n",
       "    <tr>\n",
       "      <th>9</th>\n",
       "      <td>HP</td>\n",
       "      <td>250 G6</td>\n",
       "      <td>Intel HD Graphics 620</td>\n",
       "      <td>3/15/2021</td>\n",
       "    </tr>\n",
       "  </tbody>\n",
       "</table>\n",
       "</div>"
      ],
      "text/plain": [
       "  Company          Product                           Gpu received_date\n",
       "0   Apple      MacBook Pro  Intel Iris Plus Graphics 640     7/19/2022\n",
       "1   Apple      Macbook Air        Intel HD Graphics 6000      4/1/2021\n",
       "2      HP           250 G6         Intel HD Graphics 620     2/18/2022\n",
       "3   Apple      MacBook Pro            AMD Radeon Pro 455    11/23/2021\n",
       "4   Apple      MacBook Pro  Intel Iris Plus Graphics 650    11/14/2021\n",
       "5   Apple      MacBook Pro       Intel Iris Pro Graphics      7/8/2021\n",
       "6   Apple      Macbook Air        Intel HD Graphics 6000     5/28/2022\n",
       "7    Asus  ZenBook UX430UN          Nvidia GeForce MX150     1/21/2022\n",
       "8    Acer          Swift 3        Intel UHD Graphics 620     5/30/2021\n",
       "9      HP           250 G6         Intel HD Graphics 620     3/15/2021"
      ]
     },
     "execution_count": 68,
     "metadata": {},
     "output_type": "execute_result"
    }
   ],
   "source": [
    "laptop[['Company', 'Product', 'Gpu', 'received_date']].head(10)"
   ]
  },
  {
   "cell_type": "code",
   "execution_count": 39,
   "id": "67eee0fb",
   "metadata": {},
   "outputs": [
    {
     "data": {
      "text/plain": [
       "Company              object\n",
       "Product              object\n",
       "TypeName             object\n",
       "Inches              float64\n",
       "ScreenResolution     object\n",
       "Cpu                  object\n",
       "Ram                  object\n",
       "Memory               object\n",
       "Gpu                  object\n",
       "OpSys                object\n",
       "Weight               object\n",
       "Price_euros         float64\n",
       "received_date        object\n",
       "width                 int32\n",
       "height                int32\n",
       "Speed(GHz)          float64\n",
       "cpu_type             object\n",
       "dtype: object"
      ]
     },
     "execution_count": 39,
     "metadata": {},
     "output_type": "execute_result"
    }
   ],
   "source": [
    "laptop.dtypes"
   ]
  },
  {
   "cell_type": "code",
   "execution_count": 70,
   "id": "b2799242",
   "metadata": {},
   "outputs": [
    {
     "data": {
      "text/html": [
       "<div>\n",
       "<style scoped>\n",
       "    .dataframe tbody tr th:only-of-type {\n",
       "        vertical-align: middle;\n",
       "    }\n",
       "\n",
       "    .dataframe tbody tr th {\n",
       "        vertical-align: top;\n",
       "    }\n",
       "\n",
       "    .dataframe thead th {\n",
       "        text-align: right;\n",
       "    }\n",
       "</style>\n",
       "<table border=\"1\" class=\"dataframe\">\n",
       "  <thead>\n",
       "    <tr style=\"text-align: right;\">\n",
       "      <th></th>\n",
       "      <th>Company</th>\n",
       "      <th>Product</th>\n",
       "      <th>Gpu</th>\n",
       "      <th>received_date</th>\n",
       "    </tr>\n",
       "  </thead>\n",
       "  <tbody>\n",
       "    <tr>\n",
       "      <th>0</th>\n",
       "      <td>Apple</td>\n",
       "      <td>MacBook Pro</td>\n",
       "      <td>Intel Iris Plus Graphics 640</td>\n",
       "      <td>2022-07-19</td>\n",
       "    </tr>\n",
       "    <tr>\n",
       "      <th>1</th>\n",
       "      <td>Apple</td>\n",
       "      <td>Macbook Air</td>\n",
       "      <td>Intel HD Graphics 6000</td>\n",
       "      <td>2021-04-01</td>\n",
       "    </tr>\n",
       "    <tr>\n",
       "      <th>2</th>\n",
       "      <td>HP</td>\n",
       "      <td>250 G6</td>\n",
       "      <td>Intel HD Graphics 620</td>\n",
       "      <td>2022-02-18</td>\n",
       "    </tr>\n",
       "    <tr>\n",
       "      <th>3</th>\n",
       "      <td>Apple</td>\n",
       "      <td>MacBook Pro</td>\n",
       "      <td>AMD Radeon Pro 455</td>\n",
       "      <td>2021-11-23</td>\n",
       "    </tr>\n",
       "    <tr>\n",
       "      <th>4</th>\n",
       "      <td>Apple</td>\n",
       "      <td>MacBook Pro</td>\n",
       "      <td>Intel Iris Plus Graphics 650</td>\n",
       "      <td>2021-11-14</td>\n",
       "    </tr>\n",
       "    <tr>\n",
       "      <th>5</th>\n",
       "      <td>Apple</td>\n",
       "      <td>MacBook Pro</td>\n",
       "      <td>Intel Iris Pro Graphics</td>\n",
       "      <td>2021-07-08</td>\n",
       "    </tr>\n",
       "    <tr>\n",
       "      <th>6</th>\n",
       "      <td>Apple</td>\n",
       "      <td>Macbook Air</td>\n",
       "      <td>Intel HD Graphics 6000</td>\n",
       "      <td>2022-05-28</td>\n",
       "    </tr>\n",
       "    <tr>\n",
       "      <th>7</th>\n",
       "      <td>Asus</td>\n",
       "      <td>ZenBook UX430UN</td>\n",
       "      <td>Nvidia GeForce MX150</td>\n",
       "      <td>2022-01-21</td>\n",
       "    </tr>\n",
       "    <tr>\n",
       "      <th>8</th>\n",
       "      <td>Acer</td>\n",
       "      <td>Swift 3</td>\n",
       "      <td>Intel UHD Graphics 620</td>\n",
       "      <td>2021-05-30</td>\n",
       "    </tr>\n",
       "    <tr>\n",
       "      <th>9</th>\n",
       "      <td>HP</td>\n",
       "      <td>250 G6</td>\n",
       "      <td>Intel HD Graphics 620</td>\n",
       "      <td>2021-03-15</td>\n",
       "    </tr>\n",
       "  </tbody>\n",
       "</table>\n",
       "</div>"
      ],
      "text/plain": [
       "  Company          Product                           Gpu received_date\n",
       "0   Apple      MacBook Pro  Intel Iris Plus Graphics 640    2022-07-19\n",
       "1   Apple      Macbook Air        Intel HD Graphics 6000    2021-04-01\n",
       "2      HP           250 G6         Intel HD Graphics 620    2022-02-18\n",
       "3   Apple      MacBook Pro            AMD Radeon Pro 455    2021-11-23\n",
       "4   Apple      MacBook Pro  Intel Iris Plus Graphics 650    2021-11-14\n",
       "5   Apple      MacBook Pro       Intel Iris Pro Graphics    2021-07-08\n",
       "6   Apple      Macbook Air        Intel HD Graphics 6000    2022-05-28\n",
       "7    Asus  ZenBook UX430UN          Nvidia GeForce MX150    2022-01-21\n",
       "8    Acer          Swift 3        Intel UHD Graphics 620    2021-05-30\n",
       "9      HP           250 G6         Intel HD Graphics 620    2021-03-15"
      ]
     },
     "execution_count": 70,
     "metadata": {},
     "output_type": "execute_result"
    }
   ],
   "source": [
    "laptop['received_date'] = pd.to_datetime(laptop['received_date'])\n",
    "laptop[['Company', 'Product', 'Gpu', 'received_date']].head(10)"
   ]
  },
  {
   "cell_type": "code",
   "execution_count": 71,
   "id": "5addc745-c0b0-4ced-81e5-fa9eec9a6fa5",
   "metadata": {},
   "outputs": [
    {
     "data": {
      "text/plain": [
       "Company                     object\n",
       "Product                     object\n",
       "TypeName                    object\n",
       "Inches                     float64\n",
       "ScreenResolution            object\n",
       "Cpu                         object\n",
       "Ram                         object\n",
       "Memory                      object\n",
       "Gpu                         object\n",
       "OpSys                       object\n",
       "Weight                      object\n",
       "Price_euros                float64\n",
       "received_date       datetime64[ns]\n",
       "width                        int64\n",
       "height                       int64\n",
       "Speed(GHz)                 float64\n",
       "cpu_type                    object\n",
       "dtype: object"
      ]
     },
     "execution_count": 71,
     "metadata": {},
     "output_type": "execute_result"
    }
   ],
   "source": [
    "laptop.dtypes"
   ]
  },
  {
   "cell_type": "code",
   "execution_count": 72,
   "id": "dffbb876",
   "metadata": {},
   "outputs": [
    {
     "data": {
      "text/html": [
       "<div>\n",
       "<style scoped>\n",
       "    .dataframe tbody tr th:only-of-type {\n",
       "        vertical-align: middle;\n",
       "    }\n",
       "\n",
       "    .dataframe tbody tr th {\n",
       "        vertical-align: top;\n",
       "    }\n",
       "\n",
       "    .dataframe thead th {\n",
       "        text-align: right;\n",
       "    }\n",
       "</style>\n",
       "<table border=\"1\" class=\"dataframe\">\n",
       "  <thead>\n",
       "    <tr style=\"text-align: right;\">\n",
       "      <th></th>\n",
       "      <th>received_date</th>\n",
       "      <th>year</th>\n",
       "      <th>month</th>\n",
       "      <th>day</th>\n",
       "    </tr>\n",
       "  </thead>\n",
       "  <tbody>\n",
       "    <tr>\n",
       "      <th>0</th>\n",
       "      <td>2022-07-19</td>\n",
       "      <td>2022</td>\n",
       "      <td>7</td>\n",
       "      <td>19</td>\n",
       "    </tr>\n",
       "    <tr>\n",
       "      <th>1</th>\n",
       "      <td>2021-04-01</td>\n",
       "      <td>2021</td>\n",
       "      <td>4</td>\n",
       "      <td>1</td>\n",
       "    </tr>\n",
       "    <tr>\n",
       "      <th>2</th>\n",
       "      <td>2022-02-18</td>\n",
       "      <td>2022</td>\n",
       "      <td>2</td>\n",
       "      <td>18</td>\n",
       "    </tr>\n",
       "    <tr>\n",
       "      <th>3</th>\n",
       "      <td>2021-11-23</td>\n",
       "      <td>2021</td>\n",
       "      <td>11</td>\n",
       "      <td>23</td>\n",
       "    </tr>\n",
       "    <tr>\n",
       "      <th>4</th>\n",
       "      <td>2021-11-14</td>\n",
       "      <td>2021</td>\n",
       "      <td>11</td>\n",
       "      <td>14</td>\n",
       "    </tr>\n",
       "    <tr>\n",
       "      <th>5</th>\n",
       "      <td>2021-07-08</td>\n",
       "      <td>2021</td>\n",
       "      <td>7</td>\n",
       "      <td>8</td>\n",
       "    </tr>\n",
       "    <tr>\n",
       "      <th>6</th>\n",
       "      <td>2022-05-28</td>\n",
       "      <td>2022</td>\n",
       "      <td>5</td>\n",
       "      <td>28</td>\n",
       "    </tr>\n",
       "    <tr>\n",
       "      <th>7</th>\n",
       "      <td>2022-01-21</td>\n",
       "      <td>2022</td>\n",
       "      <td>1</td>\n",
       "      <td>21</td>\n",
       "    </tr>\n",
       "    <tr>\n",
       "      <th>8</th>\n",
       "      <td>2021-05-30</td>\n",
       "      <td>2021</td>\n",
       "      <td>5</td>\n",
       "      <td>30</td>\n",
       "    </tr>\n",
       "    <tr>\n",
       "      <th>9</th>\n",
       "      <td>2021-03-15</td>\n",
       "      <td>2021</td>\n",
       "      <td>3</td>\n",
       "      <td>15</td>\n",
       "    </tr>\n",
       "    <tr>\n",
       "      <th>10</th>\n",
       "      <td>2022-07-18</td>\n",
       "      <td>2022</td>\n",
       "      <td>7</td>\n",
       "      <td>18</td>\n",
       "    </tr>\n",
       "    <tr>\n",
       "      <th>11</th>\n",
       "      <td>2022-12-13</td>\n",
       "      <td>2022</td>\n",
       "      <td>12</td>\n",
       "      <td>13</td>\n",
       "    </tr>\n",
       "    <tr>\n",
       "      <th>12</th>\n",
       "      <td>2022-04-11</td>\n",
       "      <td>2022</td>\n",
       "      <td>4</td>\n",
       "      <td>11</td>\n",
       "    </tr>\n",
       "    <tr>\n",
       "      <th>13</th>\n",
       "      <td>2021-10-13</td>\n",
       "      <td>2021</td>\n",
       "      <td>10</td>\n",
       "      <td>13</td>\n",
       "    </tr>\n",
       "    <tr>\n",
       "      <th>14</th>\n",
       "      <td>2021-02-02</td>\n",
       "      <td>2021</td>\n",
       "      <td>2</td>\n",
       "      <td>2</td>\n",
       "    </tr>\n",
       "    <tr>\n",
       "      <th>15</th>\n",
       "      <td>2022-03-27</td>\n",
       "      <td>2022</td>\n",
       "      <td>3</td>\n",
       "      <td>27</td>\n",
       "    </tr>\n",
       "    <tr>\n",
       "      <th>16</th>\n",
       "      <td>2022-06-17</td>\n",
       "      <td>2022</td>\n",
       "      <td>6</td>\n",
       "      <td>17</td>\n",
       "    </tr>\n",
       "    <tr>\n",
       "      <th>17</th>\n",
       "      <td>2022-09-25</td>\n",
       "      <td>2022</td>\n",
       "      <td>9</td>\n",
       "      <td>25</td>\n",
       "    </tr>\n",
       "    <tr>\n",
       "      <th>19</th>\n",
       "      <td>2021-07-17</td>\n",
       "      <td>2021</td>\n",
       "      <td>7</td>\n",
       "      <td>17</td>\n",
       "    </tr>\n",
       "  </tbody>\n",
       "</table>\n",
       "</div>"
      ],
      "text/plain": [
       "   received_date  year  month  day\n",
       "0     2022-07-19  2022      7   19\n",
       "1     2021-04-01  2021      4    1\n",
       "2     2022-02-18  2022      2   18\n",
       "3     2021-11-23  2021     11   23\n",
       "4     2021-11-14  2021     11   14\n",
       "5     2021-07-08  2021      7    8\n",
       "6     2022-05-28  2022      5   28\n",
       "7     2022-01-21  2022      1   21\n",
       "8     2021-05-30  2021      5   30\n",
       "9     2021-03-15  2021      3   15\n",
       "10    2022-07-18  2022      7   18\n",
       "11    2022-12-13  2022     12   13\n",
       "12    2022-04-11  2022      4   11\n",
       "13    2021-10-13  2021     10   13\n",
       "14    2021-02-02  2021      2    2\n",
       "15    2022-03-27  2022      3   27\n",
       "16    2022-06-17  2022      6   17\n",
       "17    2022-09-25  2022      9   25\n",
       "19    2021-07-17  2021      7   17"
      ]
     },
     "execution_count": 72,
     "metadata": {},
     "output_type": "execute_result"
    }
   ],
   "source": [
    "laptop['year']= laptop['received_date'].dt.year\n",
    "laptop['month']= laptop['received_date'].dt.month\n",
    "laptop['day']= laptop['received_date'].dt.day\n",
    "\n",
    "laptop[['received_date', 'year', 'month', 'day']].drop_duplicates()"
   ]
  },
  {
   "cell_type": "code",
   "execution_count": 73,
   "id": "14abd24f",
   "metadata": {},
   "outputs": [
    {
     "data": {
      "text/plain": [
       "0   2016-10-16 20:30:00\n",
       "1   2016-01-27 19:45:30\n",
       "2   2013-12-10 04:05:01\n",
       "dtype: datetime64[ns]"
      ]
     },
     "execution_count": 73,
     "metadata": {},
     "output_type": "execute_result"
    }
   ],
   "source": [
    "ser = pd.Series(['2016-16-10 20:30:0', \n",
    "                '2016-27-1 19:45:30', \n",
    "                '2013-10-12 4:5:1'])\n",
    "\n",
    "# Định dạng ngày tháng trong dữ liệu không phải chuẩn YYYY-MM-DD.\n",
    "# Ở đây, %d và %m bị đảo vị trí so với chuẩn YYYY-MM-DD, do đó cần chỉ rõ \"%Y-%d-%m\" thay vì \"%Y-%m-%d\".\n",
    "# format=\"%Y-%d-%m %H:%M:%S\" là format gốc của dữ liệu cần đưa về dứ liệu chuẩn YYYY-MM-DD\n",
    "ser = pd.to_datetime(ser, format=\"%Y-%d-%m %H:%M:%S\")\n",
    "ser"
   ]
  },
  {
   "cell_type": "code",
   "execution_count": 74,
   "id": "c10b5ec9",
   "metadata": {},
   "outputs": [
    {
     "data": {
      "text/plain": [
       "0    2016-10-16\n",
       "1    2016-01-27\n",
       "2    2013-12-10\n",
       "dtype: object"
      ]
     },
     "execution_count": 74,
     "metadata": {},
     "output_type": "execute_result"
    }
   ],
   "source": [
    "ser.dt.date"
   ]
  },
  {
   "cell_type": "code",
   "execution_count": 75,
   "id": "c5ee9774",
   "metadata": {},
   "outputs": [
    {
     "data": {
      "text/plain": [
       "0    16/10/2016\n",
       "1    27/01/2016\n",
       "2    10/12/2013\n",
       "dtype: object"
      ]
     },
     "execution_count": 75,
     "metadata": {},
     "output_type": "execute_result"
    }
   ],
   "source": [
    "# Thay đổi định dạng\n",
    "ser = ser.dt.strftime(\"%d/%m/%Y\")\n",
    "ser"
   ]
  },
  {
   "cell_type": "code",
   "execution_count": 76,
   "id": "62fb5178",
   "metadata": {},
   "outputs": [
    {
     "data": {
      "text/plain": [
       "DatetimeIndex(['2021-01-01', '2021-01-02', '2021-01-03', '2021-01-04',\n",
       "               '2021-01-05', '2021-01-06', '2021-01-07', '2021-01-08'],\n",
       "              dtype='datetime64[ns]', freq='D')"
      ]
     },
     "execution_count": 76,
     "metadata": {},
     "output_type": "execute_result"
    }
   ],
   "source": [
    "pd.date_range(start='1/1/2021', end='1/8/2021')"
   ]
  },
  {
   "cell_type": "code",
   "execution_count": 77,
   "id": "9b4bfaec",
   "metadata": {},
   "outputs": [
    {
     "data": {
      "text/html": [
       "<div>\n",
       "<style scoped>\n",
       "    .dataframe tbody tr th:only-of-type {\n",
       "        vertical-align: middle;\n",
       "    }\n",
       "\n",
       "    .dataframe tbody tr th {\n",
       "        vertical-align: top;\n",
       "    }\n",
       "\n",
       "    .dataframe thead th {\n",
       "        text-align: right;\n",
       "    }\n",
       "</style>\n",
       "<table border=\"1\" class=\"dataframe\">\n",
       "  <thead>\n",
       "    <tr style=\"text-align: right;\">\n",
       "      <th></th>\n",
       "      <th>0</th>\n",
       "    </tr>\n",
       "  </thead>\n",
       "  <tbody>\n",
       "    <tr>\n",
       "      <th>0</th>\n",
       "      <td>2021-01-01</td>\n",
       "    </tr>\n",
       "    <tr>\n",
       "      <th>1</th>\n",
       "      <td>2021-01-02</td>\n",
       "    </tr>\n",
       "    <tr>\n",
       "      <th>2</th>\n",
       "      <td>2021-01-03</td>\n",
       "    </tr>\n",
       "    <tr>\n",
       "      <th>3</th>\n",
       "      <td>2021-01-04</td>\n",
       "    </tr>\n",
       "    <tr>\n",
       "      <th>4</th>\n",
       "      <td>2021-01-05</td>\n",
       "    </tr>\n",
       "    <tr>\n",
       "      <th>5</th>\n",
       "      <td>2021-01-06</td>\n",
       "    </tr>\n",
       "    <tr>\n",
       "      <th>6</th>\n",
       "      <td>2021-01-07</td>\n",
       "    </tr>\n",
       "    <tr>\n",
       "      <th>7</th>\n",
       "      <td>2021-01-08</td>\n",
       "    </tr>\n",
       "  </tbody>\n",
       "</table>\n",
       "</div>"
      ],
      "text/plain": [
       "           0\n",
       "0 2021-01-01\n",
       "1 2021-01-02\n",
       "2 2021-01-03\n",
       "3 2021-01-04\n",
       "4 2021-01-05\n",
       "5 2021-01-06\n",
       "6 2021-01-07\n",
       "7 2021-01-08"
      ]
     },
     "execution_count": 77,
     "metadata": {},
     "output_type": "execute_result"
    }
   ],
   "source": [
    "pd.DataFrame(pd.date_range(start='1/1/2021', end='1/8/2021'))"
   ]
  },
  {
   "cell_type": "code",
   "execution_count": 113,
   "id": "321f0923",
   "metadata": {},
   "outputs": [
    {
     "data": {
      "text/plain": [
       "DatetimeIndex(['2022-01-01', '2022-01-02', '2022-01-03', '2022-01-04',\n",
       "               '2022-01-05', '2022-01-06', '2022-01-07', '2022-01-08'],\n",
       "              dtype='datetime64[ns]', freq='D')"
      ]
     },
     "execution_count": 113,
     "metadata": {},
     "output_type": "execute_result"
    }
   ],
   "source": [
    "# Ngày bắt đầu start='1/1/2022' cộng thêm periods=8 ngày nữa \n",
    "pd.date_range(start='1/1/2022', periods=8)"
   ]
  },
  {
   "cell_type": "code",
   "execution_count": 114,
   "id": "40d19a8e",
   "metadata": {},
   "outputs": [
    {
     "data": {
      "text/plain": [
       "DatetimeIndex(['2022-01-01', '2022-02-01', '2022-03-01', '2022-04-01',\n",
       "               '2022-05-01'],\n",
       "              dtype='datetime64[ns]', freq='MS')"
      ]
     },
     "execution_count": 114,
     "metadata": {},
     "output_type": "execute_result"
    }
   ],
   "source": [
    "# Ngày bắt đầu start='1/1/2022' cộng thêm periods=5 ngày nữa, lấy ngày đầu tháng freq='MS'\n",
    "pd.date_range(start='1/1/2022', periods=5, freq='MS') # đầu tháng"
   ]
  },
  {
   "cell_type": "code",
   "execution_count": 115,
   "id": "b7a380df",
   "metadata": {},
   "outputs": [
    {
     "data": {
      "text/plain": [
       "DatetimeIndex(['2022-01-31', '2022-04-30', '2022-07-31', '2022-10-31',\n",
       "               '2023-01-31'],\n",
       "              dtype='datetime64[ns]', freq='3ME')"
      ]
     },
     "execution_count": 115,
     "metadata": {},
     "output_type": "execute_result"
    }
   ],
   "source": [
    "# 3M cách nhau 3 tháng - cuối mỗi tháng  \n",
    "pd.date_range(start='1/1/2022', periods=5, freq='3M') "
   ]
  },
  {
   "cell_type": "code",
   "execution_count": 116,
   "id": "d0bd29e5",
   "metadata": {},
   "outputs": [
    {
     "data": {
      "text/plain": [
       "DatetimeIndex(['2022-01-10', '2022-02-10', '2022-03-10', '2022-04-10',\n",
       "               '2022-05-10', '2022-06-10'],\n",
       "              dtype='datetime64[ns]', freq=None)"
      ]
     },
     "execution_count": 116,
     "metadata": {},
     "output_type": "execute_result"
    }
   ],
   "source": [
    "# Tạo date range là ngày 10 hàng tháng từ tháng 1/2022 - 6/2022\n",
    "pd.date_range(start = '1/1/2022', end ='6/30/2022', \n",
    "              freq='MS').shift(9, freq = 'd')"
   ]
  },
  {
   "cell_type": "code",
   "execution_count": 117,
   "id": "d2e5326d-291d-4aae-a50c-406d91fe08d1",
   "metadata": {},
   "outputs": [
    {
     "data": {
      "text/plain": [
       "DatetimeIndex(['2025-03-01', '2025-03-03', '2025-03-05', '2025-03-07',\n",
       "               '2025-03-09'],\n",
       "              dtype='datetime64[ns]', freq='2D')"
      ]
     },
     "execution_count": 117,
     "metadata": {},
     "output_type": "execute_result"
    }
   ],
   "source": [
    "# Cách tạo danh sách ngày cách nhau 2 ngày (freq='2D')\n",
    "pd.date_range(start=\"2025-03-01\", periods=5, freq=\"2D\")\n"
   ]
  },
  {
   "cell_type": "code",
   "execution_count": 118,
   "id": "bea8f1a4-586b-4c74-a96d-075d4ffbb279",
   "metadata": {},
   "outputs": [
    {
     "data": {
      "text/plain": [
       "DatetimeIndex(['2025-03-03', '2025-03-04', '2025-03-05', '2025-03-06',\n",
       "               '2025-03-07'],\n",
       "              dtype='datetime64[ns]', freq='B')"
      ]
     },
     "execution_count": 118,
     "metadata": {},
     "output_type": "execute_result"
    }
   ],
   "source": [
    "# Tạo danh sách ngày làm việc (B) \n",
    "pd.date_range(start=\"2025-03-01\", periods=5, freq=\"B\")\n"
   ]
  },
  {
   "cell_type": "code",
   "execution_count": 119,
   "id": "81e6d946",
   "metadata": {},
   "outputs": [
    {
     "data": {
      "text/html": [
       "<div>\n",
       "<style scoped>\n",
       "    .dataframe tbody tr th:only-of-type {\n",
       "        vertical-align: middle;\n",
       "    }\n",
       "\n",
       "    .dataframe tbody tr th {\n",
       "        vertical-align: top;\n",
       "    }\n",
       "\n",
       "    .dataframe thead th {\n",
       "        text-align: right;\n",
       "    }\n",
       "</style>\n",
       "<table border=\"1\" class=\"dataframe\">\n",
       "  <thead>\n",
       "    <tr style=\"text-align: right;\">\n",
       "      <th></th>\n",
       "      <th>ngay_muon</th>\n",
       "    </tr>\n",
       "  </thead>\n",
       "  <tbody>\n",
       "    <tr>\n",
       "      <th>0</th>\n",
       "      <td>2023-01-03</td>\n",
       "    </tr>\n",
       "    <tr>\n",
       "      <th>1</th>\n",
       "      <td>2023-02-06</td>\n",
       "    </tr>\n",
       "    <tr>\n",
       "      <th>2</th>\n",
       "      <td>2023-02-18</td>\n",
       "    </tr>\n",
       "  </tbody>\n",
       "</table>\n",
       "</div>"
      ],
      "text/plain": [
       "    ngay_muon\n",
       "0  2023-01-03\n",
       "1  2023-02-06\n",
       "2  2023-02-18"
      ]
     },
     "execution_count": 119,
     "metadata": {},
     "output_type": "execute_result"
    }
   ],
   "source": [
    "thu_vien = pd.DataFrame({'ngay_muon': ['2023-01-03', '2023-02-06', '2023-02-18']})\n",
    "thu_vien"
   ]
  },
  {
   "cell_type": "code",
   "execution_count": 120,
   "id": "776f059f",
   "metadata": {},
   "outputs": [
    {
     "data": {
      "text/html": [
       "<div>\n",
       "<style scoped>\n",
       "    .dataframe tbody tr th:only-of-type {\n",
       "        vertical-align: middle;\n",
       "    }\n",
       "\n",
       "    .dataframe tbody tr th {\n",
       "        vertical-align: top;\n",
       "    }\n",
       "\n",
       "    .dataframe thead th {\n",
       "        text-align: right;\n",
       "    }\n",
       "</style>\n",
       "<table border=\"1\" class=\"dataframe\">\n",
       "  <thead>\n",
       "    <tr style=\"text-align: right;\">\n",
       "      <th></th>\n",
       "      <th>ngay_muon</th>\n",
       "    </tr>\n",
       "  </thead>\n",
       "  <tbody>\n",
       "    <tr>\n",
       "      <th>0</th>\n",
       "      <td>2023-01-03</td>\n",
       "    </tr>\n",
       "    <tr>\n",
       "      <th>1</th>\n",
       "      <td>2023-02-06</td>\n",
       "    </tr>\n",
       "    <tr>\n",
       "      <th>2</th>\n",
       "      <td>2023-02-18</td>\n",
       "    </tr>\n",
       "  </tbody>\n",
       "</table>\n",
       "</div>"
      ],
      "text/plain": [
       "   ngay_muon\n",
       "0 2023-01-03\n",
       "1 2023-02-06\n",
       "2 2023-02-18"
      ]
     },
     "execution_count": 120,
     "metadata": {},
     "output_type": "execute_result"
    }
   ],
   "source": [
    "thu_vien.ngay_muon = pd.to_datetime(thu_vien.ngay_muon)\n",
    "thu_vien"
   ]
  },
  {
   "cell_type": "code",
   "execution_count": 121,
   "id": "d14b97c8",
   "metadata": {},
   "outputs": [],
   "source": [
    "from datetime import timedelta"
   ]
  },
  {
   "cell_type": "code",
   "execution_count": 122,
   "id": "96c33aff",
   "metadata": {},
   "outputs": [
    {
     "data": {
      "text/html": [
       "<div>\n",
       "<style scoped>\n",
       "    .dataframe tbody tr th:only-of-type {\n",
       "        vertical-align: middle;\n",
       "    }\n",
       "\n",
       "    .dataframe tbody tr th {\n",
       "        vertical-align: top;\n",
       "    }\n",
       "\n",
       "    .dataframe thead th {\n",
       "        text-align: right;\n",
       "    }\n",
       "</style>\n",
       "<table border=\"1\" class=\"dataframe\">\n",
       "  <thead>\n",
       "    <tr style=\"text-align: right;\">\n",
       "      <th></th>\n",
       "      <th>ngay_muon</th>\n",
       "      <th>ngay_het_han</th>\n",
       "    </tr>\n",
       "  </thead>\n",
       "  <tbody>\n",
       "    <tr>\n",
       "      <th>0</th>\n",
       "      <td>2023-01-03</td>\n",
       "      <td>2023-01-13</td>\n",
       "    </tr>\n",
       "    <tr>\n",
       "      <th>1</th>\n",
       "      <td>2023-02-06</td>\n",
       "      <td>2023-02-16</td>\n",
       "    </tr>\n",
       "    <tr>\n",
       "      <th>2</th>\n",
       "      <td>2023-02-18</td>\n",
       "      <td>2023-02-28</td>\n",
       "    </tr>\n",
       "  </tbody>\n",
       "</table>\n",
       "</div>"
      ],
      "text/plain": [
       "   ngay_muon ngay_het_han\n",
       "0 2023-01-03   2023-01-13\n",
       "1 2023-02-06   2023-02-16\n",
       "2 2023-02-18   2023-02-28"
      ]
     },
     "execution_count": 122,
     "metadata": {},
     "output_type": "execute_result"
    }
   ],
   "source": [
    "thu_vien['ngay_het_han'] = thu_vien.ngay_muon + timedelta(days = 10)\n",
    "thu_vien"
   ]
  },
  {
   "cell_type": "code",
   "execution_count": 123,
   "id": "24558e92",
   "metadata": {},
   "outputs": [
    {
     "data": {
      "text/html": [
       "<div>\n",
       "<style scoped>\n",
       "    .dataframe tbody tr th:only-of-type {\n",
       "        vertical-align: middle;\n",
       "    }\n",
       "\n",
       "    .dataframe tbody tr th {\n",
       "        vertical-align: top;\n",
       "    }\n",
       "\n",
       "    .dataframe thead th {\n",
       "        text-align: right;\n",
       "    }\n",
       "</style>\n",
       "<table border=\"1\" class=\"dataframe\">\n",
       "  <thead>\n",
       "    <tr style=\"text-align: right;\">\n",
       "      <th></th>\n",
       "      <th>ngay_muon</th>\n",
       "      <th>ngay_het_han</th>\n",
       "      <th>ngay_tra</th>\n",
       "    </tr>\n",
       "  </thead>\n",
       "  <tbody>\n",
       "    <tr>\n",
       "      <th>0</th>\n",
       "      <td>2023-01-03</td>\n",
       "      <td>2023-01-13</td>\n",
       "      <td>2023-01-10</td>\n",
       "    </tr>\n",
       "    <tr>\n",
       "      <th>1</th>\n",
       "      <td>2023-02-06</td>\n",
       "      <td>2023-02-16</td>\n",
       "      <td>2023-02-17</td>\n",
       "    </tr>\n",
       "    <tr>\n",
       "      <th>2</th>\n",
       "      <td>2023-02-18</td>\n",
       "      <td>2023-02-28</td>\n",
       "      <td>2023-02-28</td>\n",
       "    </tr>\n",
       "  </tbody>\n",
       "</table>\n",
       "</div>"
      ],
      "text/plain": [
       "   ngay_muon ngay_het_han   ngay_tra\n",
       "0 2023-01-03   2023-01-13 2023-01-10\n",
       "1 2023-02-06   2023-02-16 2023-02-17\n",
       "2 2023-02-18   2023-02-28 2023-02-28"
      ]
     },
     "execution_count": 123,
     "metadata": {},
     "output_type": "execute_result"
    }
   ],
   "source": [
    "thu_vien['ngay_tra'] = pd.to_datetime(pd.Series(['2023-01-10', '2023-02-17', '2023-02-28']))\n",
    "thu_vien"
   ]
  },
  {
   "cell_type": "code",
   "execution_count": 124,
   "id": "378bc1c8",
   "metadata": {},
   "outputs": [
    {
     "data": {
      "text/html": [
       "<div>\n",
       "<style scoped>\n",
       "    .dataframe tbody tr th:only-of-type {\n",
       "        vertical-align: middle;\n",
       "    }\n",
       "\n",
       "    .dataframe tbody tr th {\n",
       "        vertical-align: top;\n",
       "    }\n",
       "\n",
       "    .dataframe thead th {\n",
       "        text-align: right;\n",
       "    }\n",
       "</style>\n",
       "<table border=\"1\" class=\"dataframe\">\n",
       "  <thead>\n",
       "    <tr style=\"text-align: right;\">\n",
       "      <th></th>\n",
       "      <th>ngay_muon</th>\n",
       "      <th>ngay_het_han</th>\n",
       "      <th>ngay_tra</th>\n",
       "      <th>tra_cham</th>\n",
       "    </tr>\n",
       "  </thead>\n",
       "  <tbody>\n",
       "    <tr>\n",
       "      <th>0</th>\n",
       "      <td>2023-01-03</td>\n",
       "      <td>2023-01-13</td>\n",
       "      <td>2023-01-10</td>\n",
       "      <td>False</td>\n",
       "    </tr>\n",
       "    <tr>\n",
       "      <th>1</th>\n",
       "      <td>2023-02-06</td>\n",
       "      <td>2023-02-16</td>\n",
       "      <td>2023-02-17</td>\n",
       "      <td>True</td>\n",
       "    </tr>\n",
       "    <tr>\n",
       "      <th>2</th>\n",
       "      <td>2023-02-18</td>\n",
       "      <td>2023-02-28</td>\n",
       "      <td>2023-02-28</td>\n",
       "      <td>False</td>\n",
       "    </tr>\n",
       "  </tbody>\n",
       "</table>\n",
       "</div>"
      ],
      "text/plain": [
       "   ngay_muon ngay_het_han   ngay_tra  tra_cham\n",
       "0 2023-01-03   2023-01-13 2023-01-10     False\n",
       "1 2023-02-06   2023-02-16 2023-02-17      True\n",
       "2 2023-02-18   2023-02-28 2023-02-28     False"
      ]
     },
     "execution_count": 124,
     "metadata": {},
     "output_type": "execute_result"
    }
   ],
   "source": [
    "thu_vien['tra_cham'] = thu_vien.ngay_tra > thu_vien.ngay_het_han\n",
    "thu_vien"
   ]
  },
  {
   "cell_type": "code",
   "execution_count": 125,
   "id": "8ab3b1b5",
   "metadata": {},
   "outputs": [
    {
     "ename": "FileNotFoundError",
     "evalue": "[Errno 2] No such file or directory: 'data/movies.xlsx'",
     "output_type": "error",
     "traceback": [
      "\u001b[0;31m---------------------------------------------------------------------------\u001b[0m",
      "\u001b[0;31mFileNotFoundError\u001b[0m                         Traceback (most recent call last)",
      "Cell \u001b[0;32mIn[125], line 3\u001b[0m\n\u001b[1;32m      1\u001b[0m \u001b[38;5;66;03m# Timestamp ở dạng số Unix timestamp – một giá trị thường là số giây kể từ \"Epoch\" (1/1/1970 UTC)\u001b[39;00m\n\u001b[1;32m      2\u001b[0m \u001b[38;5;66;03m# Ví dụ Giá trị 1260759144 là một Unix timestamp. Nó biểu diễn số giây kể từ 00:00:00 UTC ngày 1/1/1970\u001b[39;00m\n\u001b[0;32m----> 3\u001b[0m ratings \u001b[38;5;241m=\u001b[39m pd\u001b[38;5;241m.\u001b[39mread_excel(\u001b[38;5;124m'\u001b[39m\u001b[38;5;124mdata/movies.xlsx\u001b[39m\u001b[38;5;124m'\u001b[39m, \u001b[38;5;124m'\u001b[39m\u001b[38;5;124mratings\u001b[39m\u001b[38;5;124m'\u001b[39m) \u001b[38;5;66;03m# Mở sheet ratings \u001b[39;00m\n\u001b[1;32m      4\u001b[0m ratings\u001b[38;5;241m.\u001b[39mhead()\n",
      "File \u001b[0;32m/opt/anaconda3/lib/python3.13/site-packages/pandas/io/excel/_base.py:495\u001b[0m, in \u001b[0;36mread_excel\u001b[0;34m(io, sheet_name, header, names, index_col, usecols, dtype, engine, converters, true_values, false_values, skiprows, nrows, na_values, keep_default_na, na_filter, verbose, parse_dates, date_parser, date_format, thousands, decimal, comment, skipfooter, storage_options, dtype_backend, engine_kwargs)\u001b[0m\n\u001b[1;32m    493\u001b[0m \u001b[38;5;28;01mif\u001b[39;00m \u001b[38;5;129;01mnot\u001b[39;00m \u001b[38;5;28misinstance\u001b[39m(io, ExcelFile):\n\u001b[1;32m    494\u001b[0m     should_close \u001b[38;5;241m=\u001b[39m \u001b[38;5;28;01mTrue\u001b[39;00m\n\u001b[0;32m--> 495\u001b[0m     io \u001b[38;5;241m=\u001b[39m ExcelFile(\n\u001b[1;32m    496\u001b[0m         io,\n\u001b[1;32m    497\u001b[0m         storage_options\u001b[38;5;241m=\u001b[39mstorage_options,\n\u001b[1;32m    498\u001b[0m         engine\u001b[38;5;241m=\u001b[39mengine,\n\u001b[1;32m    499\u001b[0m         engine_kwargs\u001b[38;5;241m=\u001b[39mengine_kwargs,\n\u001b[1;32m    500\u001b[0m     )\n\u001b[1;32m    501\u001b[0m \u001b[38;5;28;01melif\u001b[39;00m engine \u001b[38;5;129;01mand\u001b[39;00m engine \u001b[38;5;241m!=\u001b[39m io\u001b[38;5;241m.\u001b[39mengine:\n\u001b[1;32m    502\u001b[0m     \u001b[38;5;28;01mraise\u001b[39;00m \u001b[38;5;167;01mValueError\u001b[39;00m(\n\u001b[1;32m    503\u001b[0m         \u001b[38;5;124m\"\u001b[39m\u001b[38;5;124mEngine should not be specified when passing \u001b[39m\u001b[38;5;124m\"\u001b[39m\n\u001b[1;32m    504\u001b[0m         \u001b[38;5;124m\"\u001b[39m\u001b[38;5;124man ExcelFile - ExcelFile already has the engine set\u001b[39m\u001b[38;5;124m\"\u001b[39m\n\u001b[1;32m    505\u001b[0m     )\n",
      "File \u001b[0;32m/opt/anaconda3/lib/python3.13/site-packages/pandas/io/excel/_base.py:1550\u001b[0m, in \u001b[0;36mExcelFile.__init__\u001b[0;34m(self, path_or_buffer, engine, storage_options, engine_kwargs)\u001b[0m\n\u001b[1;32m   1548\u001b[0m     ext \u001b[38;5;241m=\u001b[39m \u001b[38;5;124m\"\u001b[39m\u001b[38;5;124mxls\u001b[39m\u001b[38;5;124m\"\u001b[39m\n\u001b[1;32m   1549\u001b[0m \u001b[38;5;28;01melse\u001b[39;00m:\n\u001b[0;32m-> 1550\u001b[0m     ext \u001b[38;5;241m=\u001b[39m inspect_excel_format(\n\u001b[1;32m   1551\u001b[0m         content_or_path\u001b[38;5;241m=\u001b[39mpath_or_buffer, storage_options\u001b[38;5;241m=\u001b[39mstorage_options\n\u001b[1;32m   1552\u001b[0m     )\n\u001b[1;32m   1553\u001b[0m     \u001b[38;5;28;01mif\u001b[39;00m ext \u001b[38;5;129;01mis\u001b[39;00m \u001b[38;5;28;01mNone\u001b[39;00m:\n\u001b[1;32m   1554\u001b[0m         \u001b[38;5;28;01mraise\u001b[39;00m \u001b[38;5;167;01mValueError\u001b[39;00m(\n\u001b[1;32m   1555\u001b[0m             \u001b[38;5;124m\"\u001b[39m\u001b[38;5;124mExcel file format cannot be determined, you must specify \u001b[39m\u001b[38;5;124m\"\u001b[39m\n\u001b[1;32m   1556\u001b[0m             \u001b[38;5;124m\"\u001b[39m\u001b[38;5;124man engine manually.\u001b[39m\u001b[38;5;124m\"\u001b[39m\n\u001b[1;32m   1557\u001b[0m         )\n",
      "File \u001b[0;32m/opt/anaconda3/lib/python3.13/site-packages/pandas/io/excel/_base.py:1402\u001b[0m, in \u001b[0;36minspect_excel_format\u001b[0;34m(content_or_path, storage_options)\u001b[0m\n\u001b[1;32m   1399\u001b[0m \u001b[38;5;28;01mif\u001b[39;00m \u001b[38;5;28misinstance\u001b[39m(content_or_path, \u001b[38;5;28mbytes\u001b[39m):\n\u001b[1;32m   1400\u001b[0m     content_or_path \u001b[38;5;241m=\u001b[39m BytesIO(content_or_path)\n\u001b[0;32m-> 1402\u001b[0m \u001b[38;5;28;01mwith\u001b[39;00m get_handle(\n\u001b[1;32m   1403\u001b[0m     content_or_path, \u001b[38;5;124m\"\u001b[39m\u001b[38;5;124mrb\u001b[39m\u001b[38;5;124m\"\u001b[39m, storage_options\u001b[38;5;241m=\u001b[39mstorage_options, is_text\u001b[38;5;241m=\u001b[39m\u001b[38;5;28;01mFalse\u001b[39;00m\n\u001b[1;32m   1404\u001b[0m ) \u001b[38;5;28;01mas\u001b[39;00m handle:\n\u001b[1;32m   1405\u001b[0m     stream \u001b[38;5;241m=\u001b[39m handle\u001b[38;5;241m.\u001b[39mhandle\n\u001b[1;32m   1406\u001b[0m     stream\u001b[38;5;241m.\u001b[39mseek(\u001b[38;5;241m0\u001b[39m)\n",
      "File \u001b[0;32m/opt/anaconda3/lib/python3.13/site-packages/pandas/io/common.py:882\u001b[0m, in \u001b[0;36mget_handle\u001b[0;34m(path_or_buf, mode, encoding, compression, memory_map, is_text, errors, storage_options)\u001b[0m\n\u001b[1;32m    873\u001b[0m         handle \u001b[38;5;241m=\u001b[39m \u001b[38;5;28mopen\u001b[39m(\n\u001b[1;32m    874\u001b[0m             handle,\n\u001b[1;32m    875\u001b[0m             ioargs\u001b[38;5;241m.\u001b[39mmode,\n\u001b[0;32m   (...)\u001b[0m\n\u001b[1;32m    878\u001b[0m             newline\u001b[38;5;241m=\u001b[39m\u001b[38;5;124m\"\u001b[39m\u001b[38;5;124m\"\u001b[39m,\n\u001b[1;32m    879\u001b[0m         )\n\u001b[1;32m    880\u001b[0m     \u001b[38;5;28;01melse\u001b[39;00m:\n\u001b[1;32m    881\u001b[0m         \u001b[38;5;66;03m# Binary mode\u001b[39;00m\n\u001b[0;32m--> 882\u001b[0m         handle \u001b[38;5;241m=\u001b[39m \u001b[38;5;28mopen\u001b[39m(handle, ioargs\u001b[38;5;241m.\u001b[39mmode)\n\u001b[1;32m    883\u001b[0m     handles\u001b[38;5;241m.\u001b[39mappend(handle)\n\u001b[1;32m    885\u001b[0m \u001b[38;5;66;03m# Convert BytesIO or file objects passed with an encoding\u001b[39;00m\n",
      "\u001b[0;31mFileNotFoundError\u001b[0m: [Errno 2] No such file or directory: 'data/movies.xlsx'"
     ]
    }
   ],
   "source": [
    "# Timestamp ở dạng số Unix timestamp – một giá trị thường là số giây kể từ \"Epoch\" (1/1/1970 UTC)\n",
    "# Ví dụ Giá trị 1260759144 là một Unix timestamp. Nó biểu diễn số giây kể từ 00:00:00 UTC ngày 1/1/1970\n",
    "ratings = pd.read_excel('data/movies.xlsx', 'ratings') # Mở sheet ratings \n",
    "ratings.head()"
   ]
  },
  {
   "cell_type": "code",
   "execution_count": 61,
   "id": "58969b7a",
   "metadata": {},
   "outputs": [
    {
     "data": {
      "text/plain": [
       "userId         int64\n",
       "movieId        int64\n",
       "rating       float64\n",
       "timestamp      int64\n",
       "dtype: object"
      ]
     },
     "execution_count": 61,
     "metadata": {},
     "output_type": "execute_result"
    }
   ],
   "source": [
    "ratings.dtypes"
   ]
  },
  {
   "cell_type": "code",
   "execution_count": 111,
   "id": "43a42f12-5706-499d-aa52-f3b4a70d1c8d",
   "metadata": {},
   "outputs": [
    {
     "data": {
      "text/html": [
       "<div>\n",
       "<style scoped>\n",
       "    .dataframe tbody tr th:only-of-type {\n",
       "        vertical-align: middle;\n",
       "    }\n",
       "\n",
       "    .dataframe tbody tr th {\n",
       "        vertical-align: top;\n",
       "    }\n",
       "\n",
       "    .dataframe thead th {\n",
       "        text-align: right;\n",
       "    }\n",
       "</style>\n",
       "<table border=\"1\" class=\"dataframe\">\n",
       "  <thead>\n",
       "    <tr style=\"text-align: right;\">\n",
       "      <th></th>\n",
       "      <th>userId</th>\n",
       "      <th>movieId</th>\n",
       "      <th>rating</th>\n",
       "      <th>timestamp</th>\n",
       "      <th>parsed_time</th>\n",
       "    </tr>\n",
       "  </thead>\n",
       "  <tbody>\n",
       "    <tr>\n",
       "      <th>52635</th>\n",
       "      <td>383</td>\n",
       "      <td>21</td>\n",
       "      <td>3.0</td>\n",
       "      <td>789652009</td>\n",
       "      <td>1995-01-09 11:46:49</td>\n",
       "    </tr>\n",
       "    <tr>\n",
       "      <th>52641</th>\n",
       "      <td>383</td>\n",
       "      <td>47</td>\n",
       "      <td>5.0</td>\n",
       "      <td>789652009</td>\n",
       "      <td>1995-01-09 11:46:49</td>\n",
       "    </tr>\n",
       "    <tr>\n",
       "      <th>52684</th>\n",
       "      <td>383</td>\n",
       "      <td>1079</td>\n",
       "      <td>3.0</td>\n",
       "      <td>789652009</td>\n",
       "      <td>1995-01-09 11:46:49</td>\n",
       "    </tr>\n",
       "    <tr>\n",
       "      <th>56907</th>\n",
       "      <td>409</td>\n",
       "      <td>21</td>\n",
       "      <td>5.0</td>\n",
       "      <td>828212412</td>\n",
       "      <td>1996-03-30 19:00:12</td>\n",
       "    </tr>\n",
       "    <tr>\n",
       "      <th>56909</th>\n",
       "      <td>409</td>\n",
       "      <td>25</td>\n",
       "      <td>4.0</td>\n",
       "      <td>828212412</td>\n",
       "      <td>1996-03-30 19:00:12</td>\n",
       "    </tr>\n",
       "  </tbody>\n",
       "</table>\n",
       "</div>"
      ],
      "text/plain": [
       "       userId  movieId  rating  timestamp         parsed_time\n",
       "52635     383       21     3.0  789652009 1995-01-09 11:46:49\n",
       "52641     383       47     5.0  789652009 1995-01-09 11:46:49\n",
       "52684     383     1079     3.0  789652009 1995-01-09 11:46:49\n",
       "56907     409       21     5.0  828212412 1996-03-30 19:00:12\n",
       "56909     409       25     4.0  828212412 1996-03-30 19:00:12"
      ]
     },
     "execution_count": 111,
     "metadata": {},
     "output_type": "execute_result"
    }
   ],
   "source": [
    "# Giá trị timestamp = 1260759144 là một UNIX timestamp, đại diện cho số giây kể từ 00:00:00 ngày 01/01/1970 (UTC).\n",
    "# Nghĩa là 1260759144 giây kể từ 01/01/1970 sẽ chuyển thành 2009-12-14 02:52:24 UTC.\n",
    "# 1260759144 giây sau ngày 1/1/1970 là thời điểm ngày 14 tháng 12 năm 2009 lúc 04:32:24 (UTC).\n",
    "# Tham số unit='s' nghĩa là timestamp này đang tính theo giây.\n",
    "# Cũng có thể gặp unit='ms' (mili-giây), us (microsecond), ns (nanosecond)...\n",
    "\n",
    "ratings['parsed_time'] = pd.to_datetime(ratings.timestamp, unit='s')\n",
    "ratings.head()"
   ]
  },
  {
   "cell_type": "code",
   "execution_count": 112,
   "id": "1fb44d00-93b3-46af-92c5-1a28b6cd026f",
   "metadata": {},
   "outputs": [
    {
     "data": {
      "text/html": [
       "<div>\n",
       "<style scoped>\n",
       "    .dataframe tbody tr th:only-of-type {\n",
       "        vertical-align: middle;\n",
       "    }\n",
       "\n",
       "    .dataframe tbody tr th {\n",
       "        vertical-align: top;\n",
       "    }\n",
       "\n",
       "    .dataframe thead th {\n",
       "        text-align: right;\n",
       "    }\n",
       "</style>\n",
       "<table border=\"1\" class=\"dataframe\">\n",
       "  <thead>\n",
       "    <tr style=\"text-align: right;\">\n",
       "      <th></th>\n",
       "      <th>userId</th>\n",
       "      <th>movieId</th>\n",
       "      <th>rating</th>\n",
       "      <th>timestamp</th>\n",
       "      <th>parsed_time</th>\n",
       "    </tr>\n",
       "  </thead>\n",
       "  <tbody>\n",
       "    <tr>\n",
       "      <th>52635</th>\n",
       "      <td>383</td>\n",
       "      <td>21</td>\n",
       "      <td>3.0</td>\n",
       "      <td>789652009</td>\n",
       "      <td>1995-01-09 11:46:49</td>\n",
       "    </tr>\n",
       "    <tr>\n",
       "      <th>52641</th>\n",
       "      <td>383</td>\n",
       "      <td>47</td>\n",
       "      <td>5.0</td>\n",
       "      <td>789652009</td>\n",
       "      <td>1995-01-09 11:46:49</td>\n",
       "    </tr>\n",
       "    <tr>\n",
       "      <th>52684</th>\n",
       "      <td>383</td>\n",
       "      <td>1079</td>\n",
       "      <td>3.0</td>\n",
       "      <td>789652009</td>\n",
       "      <td>1995-01-09 11:46:49</td>\n",
       "    </tr>\n",
       "    <tr>\n",
       "      <th>56917</th>\n",
       "      <td>409</td>\n",
       "      <td>85</td>\n",
       "      <td>5.0</td>\n",
       "      <td>828212412</td>\n",
       "      <td>1996-03-30 19:00:12</td>\n",
       "    </tr>\n",
       "    <tr>\n",
       "      <th>56913</th>\n",
       "      <td>409</td>\n",
       "      <td>35</td>\n",
       "      <td>4.0</td>\n",
       "      <td>828212412</td>\n",
       "      <td>1996-03-30 19:00:12</td>\n",
       "    </tr>\n",
       "  </tbody>\n",
       "</table>\n",
       "</div>"
      ],
      "text/plain": [
       "       userId  movieId  rating  timestamp         parsed_time\n",
       "52635     383       21     3.0  789652009 1995-01-09 11:46:49\n",
       "52641     383       47     5.0  789652009 1995-01-09 11:46:49\n",
       "52684     383     1079     3.0  789652009 1995-01-09 11:46:49\n",
       "56917     409       85     5.0  828212412 1996-03-30 19:00:12\n",
       "56913     409       35     4.0  828212412 1996-03-30 19:00:12"
      ]
     },
     "execution_count": 112,
     "metadata": {},
     "output_type": "execute_result"
    }
   ],
   "source": [
    "# Sắp xếp dữ liệu theo thời gian: df.sort_values(by=“tên_cột”)\n",
    "\n",
    "ratings = ratings.sort_values('parsed_time')\n",
    "ratings.head()"
   ]
  },
  {
   "cell_type": "code",
   "execution_count": 113,
   "id": "938fd2c9-64cd-4dad-ae1e-06e0ca7041ff",
   "metadata": {},
   "outputs": [
    {
     "data": {
      "text/plain": [
       "52635    False\n",
       "52641    False\n",
       "52684    False\n",
       "56917    False\n",
       "56913    False\n",
       "         ...  \n",
       "35125    False\n",
       "35172    False\n",
       "35140    False\n",
       "35096    False\n",
       "35069    False\n",
       "Name: parsed_time, Length: 100004, dtype: bool"
      ]
     },
     "execution_count": 113,
     "metadata": {},
     "output_type": "execute_result"
    }
   ],
   "source": [
    "(ratings['parsed_time']>='2003-06') & (ratings['parsed_time'] <='2003-12')"
   ]
  },
  {
   "cell_type": "code",
   "execution_count": 64,
   "id": "7574b3b7",
   "metadata": {},
   "outputs": [
    {
     "data": {
      "text/html": [
       "<div>\n",
       "<style scoped>\n",
       "    .dataframe tbody tr th:only-of-type {\n",
       "        vertical-align: middle;\n",
       "    }\n",
       "\n",
       "    .dataframe tbody tr th {\n",
       "        vertical-align: top;\n",
       "    }\n",
       "\n",
       "    .dataframe thead th {\n",
       "        text-align: right;\n",
       "    }\n",
       "</style>\n",
       "<table border=\"1\" class=\"dataframe\">\n",
       "  <thead>\n",
       "    <tr style=\"text-align: right;\">\n",
       "      <th></th>\n",
       "      <th>userId</th>\n",
       "      <th>movieId</th>\n",
       "      <th>rating</th>\n",
       "      <th>timestamp</th>\n",
       "      <th>parsed_time</th>\n",
       "    </tr>\n",
       "  </thead>\n",
       "  <tbody>\n",
       "    <tr>\n",
       "      <th>1955</th>\n",
       "      <td>15</td>\n",
       "      <td>5792</td>\n",
       "      <td>4.0</td>\n",
       "      <td>1054449327</td>\n",
       "      <td>2003-06-01 06:35:27</td>\n",
       "    </tr>\n",
       "    <tr>\n",
       "      <th>1876</th>\n",
       "      <td>15</td>\n",
       "      <td>5010</td>\n",
       "      <td>4.5</td>\n",
       "      <td>1054449333</td>\n",
       "      <td>2003-06-01 06:35:33</td>\n",
       "    </tr>\n",
       "    <tr>\n",
       "      <th>1856</th>\n",
       "      <td>15</td>\n",
       "      <td>4881</td>\n",
       "      <td>1.5</td>\n",
       "      <td>1054449340</td>\n",
       "      <td>2003-06-01 06:35:40</td>\n",
       "    </tr>\n",
       "    <tr>\n",
       "      <th>1853</th>\n",
       "      <td>15</td>\n",
       "      <td>4848</td>\n",
       "      <td>2.0</td>\n",
       "      <td>1054449351</td>\n",
       "      <td>2003-06-01 06:35:51</td>\n",
       "    </tr>\n",
       "    <tr>\n",
       "      <th>1858</th>\n",
       "      <td>15</td>\n",
       "      <td>4888</td>\n",
       "      <td>3.0</td>\n",
       "      <td>1054449355</td>\n",
       "      <td>2003-06-01 06:35:55</td>\n",
       "    </tr>\n",
       "    <tr>\n",
       "      <th>...</th>\n",
       "      <td>...</td>\n",
       "      <td>...</td>\n",
       "      <td>...</td>\n",
       "      <td>...</td>\n",
       "      <td>...</td>\n",
       "    </tr>\n",
       "    <tr>\n",
       "      <th>51621</th>\n",
       "      <td>380</td>\n",
       "      <td>5803</td>\n",
       "      <td>2.5</td>\n",
       "      <td>1069525416</td>\n",
       "      <td>2003-11-22 18:23:36</td>\n",
       "    </tr>\n",
       "    <tr>\n",
       "      <th>51623</th>\n",
       "      <td>380</td>\n",
       "      <td>5816</td>\n",
       "      <td>3.0</td>\n",
       "      <td>1069525444</td>\n",
       "      <td>2003-11-22 18:24:04</td>\n",
       "    </tr>\n",
       "    <tr>\n",
       "      <th>51614</th>\n",
       "      <td>380</td>\n",
       "      <td>5574</td>\n",
       "      <td>2.5</td>\n",
       "      <td>1069525481</td>\n",
       "      <td>2003-11-22 18:24:41</td>\n",
       "    </tr>\n",
       "    <tr>\n",
       "      <th>94183</th>\n",
       "      <td>624</td>\n",
       "      <td>4159</td>\n",
       "      <td>2.0</td>\n",
       "      <td>1070185956</td>\n",
       "      <td>2003-11-30 09:52:36</td>\n",
       "    </tr>\n",
       "    <tr>\n",
       "      <th>94305</th>\n",
       "      <td>624</td>\n",
       "      <td>5220</td>\n",
       "      <td>3.0</td>\n",
       "      <td>1070186007</td>\n",
       "      <td>2003-11-30 09:53:27</td>\n",
       "    </tr>\n",
       "  </tbody>\n",
       "</table>\n",
       "<p>1647 rows × 5 columns</p>\n",
       "</div>"
      ],
      "text/plain": [
       "       userId  movieId  rating   timestamp         parsed_time\n",
       "1955       15     5792     4.0  1054449327 2003-06-01 06:35:27\n",
       "1876       15     5010     4.5  1054449333 2003-06-01 06:35:33\n",
       "1856       15     4881     1.5  1054449340 2003-06-01 06:35:40\n",
       "1853       15     4848     2.0  1054449351 2003-06-01 06:35:51\n",
       "1858       15     4888     3.0  1054449355 2003-06-01 06:35:55\n",
       "...       ...      ...     ...         ...                 ...\n",
       "51621     380     5803     2.5  1069525416 2003-11-22 18:23:36\n",
       "51623     380     5816     3.0  1069525444 2003-11-22 18:24:04\n",
       "51614     380     5574     2.5  1069525481 2003-11-22 18:24:41\n",
       "94183     624     4159     2.0  1070185956 2003-11-30 09:52:36\n",
       "94305     624     5220     3.0  1070186007 2003-11-30 09:53:27\n",
       "\n",
       "[1647 rows x 5 columns]"
      ]
     },
     "execution_count": 64,
     "metadata": {},
     "output_type": "execute_result"
    }
   ],
   "source": [
    "# Lọc dữ liệu và thống kê\n",
    "ratings[(ratings['parsed_time']>='2003-06') & (ratings['parsed_time'] <='2003-12')]"
   ]
  },
  {
   "cell_type": "code",
   "execution_count": 65,
   "id": "a34a7473",
   "metadata": {},
   "outputs": [
    {
     "data": {
      "text/plain": [
       "3676"
      ]
     },
     "execution_count": 65,
     "metadata": {},
     "output_type": "execute_result"
    }
   ],
   "source": [
    "ratings.loc[ratings['parsed_time'].dt.year == 2008, 'rating'].count()"
   ]
  },
  {
   "cell_type": "code",
   "execution_count": 66,
   "id": "8da07662",
   "metadata": {},
   "outputs": [
    {
     "data": {
      "text/plain": [
       "3.505848748639826"
      ]
     },
     "execution_count": 66,
     "metadata": {},
     "output_type": "execute_result"
    }
   ],
   "source": [
    "ratings.loc[ratings['parsed_time'].dt.year == 2008, 'rating'].mean()"
   ]
  },
  {
   "cell_type": "code",
   "execution_count": 67,
   "id": "8f1118d9",
   "metadata": {},
   "outputs": [
    {
     "data": {
      "text/html": [
       "<div>\n",
       "<style scoped>\n",
       "    .dataframe tbody tr th:only-of-type {\n",
       "        vertical-align: middle;\n",
       "    }\n",
       "\n",
       "    .dataframe tbody tr th {\n",
       "        vertical-align: top;\n",
       "    }\n",
       "\n",
       "    .dataframe thead th {\n",
       "        text-align: right;\n",
       "    }\n",
       "</style>\n",
       "<table border=\"1\" class=\"dataframe\">\n",
       "  <thead>\n",
       "    <tr style=\"text-align: right;\">\n",
       "      <th></th>\n",
       "      <th>rating</th>\n",
       "    </tr>\n",
       "    <tr>\n",
       "      <th>movieId</th>\n",
       "      <th></th>\n",
       "    </tr>\n",
       "  </thead>\n",
       "  <tbody>\n",
       "    <tr>\n",
       "      <th>1</th>\n",
       "      <td>3.75</td>\n",
       "    </tr>\n",
       "    <tr>\n",
       "      <th>2</th>\n",
       "      <td>3.20</td>\n",
       "    </tr>\n",
       "    <tr>\n",
       "      <th>3</th>\n",
       "      <td>4.50</td>\n",
       "    </tr>\n",
       "    <tr>\n",
       "      <th>5</th>\n",
       "      <td>2.50</td>\n",
       "    </tr>\n",
       "    <tr>\n",
       "      <th>6</th>\n",
       "      <td>4.00</td>\n",
       "    </tr>\n",
       "    <tr>\n",
       "      <th>...</th>\n",
       "      <td>...</td>\n",
       "    </tr>\n",
       "    <tr>\n",
       "      <th>63393</th>\n",
       "      <td>1.75</td>\n",
       "    </tr>\n",
       "    <tr>\n",
       "      <th>63436</th>\n",
       "      <td>3.50</td>\n",
       "    </tr>\n",
       "    <tr>\n",
       "      <th>63540</th>\n",
       "      <td>0.50</td>\n",
       "    </tr>\n",
       "    <tr>\n",
       "      <th>64034</th>\n",
       "      <td>4.50</td>\n",
       "    </tr>\n",
       "    <tr>\n",
       "      <th>64338</th>\n",
       "      <td>2.50</td>\n",
       "    </tr>\n",
       "  </tbody>\n",
       "</table>\n",
       "<p>1610 rows × 1 columns</p>\n",
       "</div>"
      ],
      "text/plain": [
       "         rating\n",
       "movieId        \n",
       "1          3.75\n",
       "2          3.20\n",
       "3          4.50\n",
       "5          2.50\n",
       "6          4.00\n",
       "...         ...\n",
       "63393      1.75\n",
       "63436      3.50\n",
       "63540      0.50\n",
       "64034      4.50\n",
       "64338      2.50\n",
       "\n",
       "[1610 rows x 1 columns]"
      ]
     },
     "execution_count": 67,
     "metadata": {},
     "output_type": "execute_result"
    }
   ],
   "source": [
    "ratings.loc[ratings['parsed_time'].dt.year == 2008].groupby('movieId')[['rating']].mean()"
   ]
  },
  {
   "cell_type": "code",
   "execution_count": null,
   "id": "a3a197f6",
   "metadata": {},
   "outputs": [],
   "source": []
  },
  {
   "cell_type": "code",
   "execution_count": null,
   "id": "91b57783-aff3-4e8e-8fac-b413e3c8fd46",
   "metadata": {},
   "outputs": [],
   "source": []
  }
 ],
 "metadata": {
  "kernelspec": {
   "display_name": "Python [conda env:base] *",
   "language": "python",
   "name": "conda-base-py"
  },
  "language_info": {
   "codemirror_mode": {
    "name": "ipython",
    "version": 3
   },
   "file_extension": ".py",
   "mimetype": "text/x-python",
   "name": "python",
   "nbconvert_exporter": "python",
   "pygments_lexer": "ipython3",
   "version": "3.13.5"
  }
 },
 "nbformat": 4,
 "nbformat_minor": 5
}
