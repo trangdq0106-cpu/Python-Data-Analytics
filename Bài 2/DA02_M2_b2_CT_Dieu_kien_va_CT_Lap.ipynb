{
 "cells": [
  {
   "cell_type": "code",
   "execution_count": 13,
   "id": "d71a6f8e-3a07-472b-a9a0-1f8caedda35a",
   "metadata": {},
   "outputs": [
    {
     "name": "stdin",
     "output_type": "stream",
     "text": [
      "Nhập mức chi tiêu của người dùng:  50000000\n"
     ]
    },
    {
     "name": "stdout",
     "output_type": "stream",
     "text": [
      "50000000\n",
      "Với mức chi tiêu là 50,000,000VND, người dùng thuộc nhóm Vàng\n"
     ]
    }
   ],
   "source": [
    "#2.1. Phân loại người dùng dựa trên mức chi tiêu \n",
    "muc_chi_tieu = int(input(\"Nhập mức chi tiêu của người dùng: \"))\n",
    "print (muc_chi_tieu)\n",
    "if muc_chi_tieu >= 100000000:\n",
    "    print('Với mức chi tiêu là {:,}VND, người dùng thuộc nhóm Platinium'.format(muc_chi_tieu))\n",
    "elif muc_chi_tieu >= 50000000:\n",
    "    print('Với mức chi tiêu là {:,}VND, người dùng thuộc nhóm Vàng'.format(muc_chi_tieu))\n",
    "elif muc_chi_tieu >= 10000000: \n",
    "    print('Với mức chi tiêu là {:,}VND, người dùng thuộc nhóm Bạc'.format(muc_chi_tieu))\n",
    "else:\n",
    "    print('Với mức chi tiêu là {:,}VND, người dùng thuộc nhóm Tiêu chuẩn'.format(muc_chi_tieu))\n",
    "\n"
   ]
  },
  {
   "cell_type": "code",
   "execution_count": 6,
   "id": "b54393a7-228d-456b-be2a-f01fb0b2255f",
   "metadata": {},
   "outputs": [
    {
     "name": "stdin",
     "output_type": "stream",
     "text": [
      "Nhập giá trị giao dịch(Nhập 0 để dừng):  2000000\n",
      "Nhập giá trị giao dịch(Nhập 0 để dừng):  3500000\n",
      "Nhập giá trị giao dịch(Nhập 0 để dừng):  1800000\n",
      "Nhập giá trị giao dịch(Nhập 0 để dừng):  10000000\n",
      "Nhập giá trị giao dịch(Nhập 0 để dừng):  0\n"
     ]
    },
    {
     "name": "stdout",
     "output_type": "stream",
     "text": [
      "Tổng giao dịch: 17300000VND\n"
     ]
    }
   ],
   "source": [
    "#2.2. Tổng hợp các giao dịch\n",
    "tong_giao_dich = 0 \n",
    "while True:\n",
    "    try:\n",
    "        giao_dich = int(input(\"Nhập giá trị giao dịch(Nhập 0 để dừng): \"))\n",
    "        if giao_dich == 0:\n",
    "            break\n",
    "        tong_giao_dich += giao_dich      \n",
    "    except ValueError: \n",
    "        print(\"Nhập số không hợp lệ\")\n",
    "print (f\"Tổng giao dịch: {tong_giao_dich}VND\") \n",
    "    "
   ]
  },
  {
   "cell_type": "code",
   "execution_count": 41,
   "id": "2d59f380-eabf-4500-845a-4af1472fef78",
   "metadata": {},
   "outputs": [
    {
     "name": "stdin",
     "output_type": "stream",
     "text": [
      "Nhập loại phòng(từ 1 đến 8):  7\n",
      "Nhập số đêm:  5\n"
     ]
    },
    {
     "name": "stdout",
     "output_type": "stream",
     "text": [
      "Tên loại phòng: Beach Front Bungalow - Số Đêm: 5đêm - Thành Tiền: 8890000.0VND\n"
     ]
    }
   ],
   "source": [
    "#2.3 Tính tiền thuê phòng resort \n",
    "\n",
    "ma_phong_mang =  [1, 2, 3, 4, 5, 6, 7, 8]\n",
    "ten_phong_mang = [\"Standard\", \"Superior Garden View\", \"Superior Ocean View\", \"Garden View Bungalow\", \"Pool View Bungalow\", \"Family Room\", \"Beach Front Bungalow\", \"VIP Sea View\"]\n",
    "tien_phong_mang = [1260000, 1550000, 1830000, 1830000, 2120000, 2120000, 2540000, 4800000]\n",
    "try:\n",
    "    ma_phong_nhap = int(input(\"Nhập loại phòng(từ 1 đến 8): \"))\n",
    "    so_dem_nhap = int(input(\"Nhập số đêm: \"))\n",
    "    ma_index = ma_phong_mang.index(ma_phong_nhap)\n",
    "    ten_phong = ten_phong_mang[ma_index]\n",
    "    tien_phong = tien_phong_mang[ma_index]\n",
    "    tong_tien = tien_phong * so_dem_nhap\n",
    "    if so_dem_nhap <= 1:\n",
    "        thanh_tien = tong_tien \n",
    "    elif so_dem_nhap <= 4:\n",
    "        thanh_tien = tong_tien * 0.75\n",
    "    else:\n",
    "        thanh_tien = tong_tien * 0.70          \n",
    "        \n",
    "    print(f\"Tên loại phòng: {ten_phong} - Số Đêm: {so_dem_nhap}đêm - Thành Tiền: {thanh_tien}VND\")\n",
    "\n",
    "except ValueError: \n",
    "    print(f\"Nhập lỗi hợp lệ từ 0 đến 8\")\n",
    "\n",
    "\n",
    "\n",
    " "
   ]
  },
  {
   "cell_type": "code",
   "execution_count": 59,
   "id": "7d097ad4-fc33-44f0-a1fb-c1ba231f6c0b",
   "metadata": {
    "scrolled": true
   },
   "outputs": [
    {
     "ename": "_IncompleteInputError",
     "evalue": "incomplete input (1831755462.py, line 42)",
     "output_type": "error",
     "traceback": [
      "\u001b[0;36m  Cell \u001b[0;32mIn[59], line 42\u001b[0;36m\u001b[0m\n\u001b[0;31m    \u001b[0m\n\u001b[0m    ^\u001b[0m\n\u001b[0;31m_IncompleteInputError\u001b[0m\u001b[0;31m:\u001b[0m incomplete input\n"
     ]
    }
   ],
   "source": [
    "#2.4. Tính thuế thu nhập cá nhân \n",
    "\n",
    "#tinh so tien giam tru\n",
    "giam_ban_than = 11000000*12 \n",
    "giam_tru_phu_thuoc = 4400000*12\n",
    "def tinh_so_tien_giam_tru(so_nguoi_phu_thuoc):\n",
    "    so_tien_giam_tru = giam_ban_than + (giam_tru_phu_thuoc * so_nguoi_phu_thuoc)\n",
    "    return so_tien_giam_tru\n",
    "\n",
    "try:\n",
    "    so_nguoi_phu_thuoc = int(input(\"Hãy Nhập Số Người Phụ Thuộc: \"))\n",
    "    tien_giam_tru = tinh_so_tien_giam_tru(so_nguoi_phu_thuoc)\n",
    "    print(f\"Số tiền giảm trừ sẽ là: {tien_giam_tru: ,.0f}VND\")\n",
    "except ValueError:\n",
    "    print(\"Giá trị nhập bị lỗi\")\n",
    "    \n",
    "#tính số tiền chịu thuế\n",
    "def tien_chiu_thue(tong_thu_nhap, tien_giam_tru):\n",
    "    tien_dong_thue = tong_thu_nhap - tien_giam_tru\n",
    "    return tien_dong_thue\n",
    "\n",
    "try:\n",
    "    tong_thu_nhap = int(input(\"Hãy nhập số tiền tổng thu nhập năm: \"))\n",
    "    tien_nop_thue = tien_chiu_thue(tong_thu_nhap, tien_giam_tru)\n",
    "    print(f\"Số tiền chịu thuế sẽ là: {tien_nop_thue: ,.0f}VND\")\n",
    "except ValueError:\n",
    "    print(\"Giá trị nhập bị lỗi\")\n",
    "\n",
    "\n",
    "#tính tiền nộp thuế \n",
    "bac_thue = {\n",
    "    1 : {\"nguong\": 60000000, \"thue_suat\": 0.05},\n",
    "    2 : {\"nguong\": 120000000, \"thue_suat\": 0.1},\n",
    "    3 : {\"nguong\": 216000000, \"thue_suat\": 0.15},\n",
    "    4 : {\"nguong\": 384000000, \"thue_suat\": 0.2},\n",
    "    5 : {\"nguong\": 624000000, \"thue_suat\": 0.25},\n",
    "    6 : {\"nguong\": 960000000, \"thue_suat\": 0.3},\n",
    "    7 : {\"nguong\": float('inf'), \"thue_suat\": 0.35}\n",
    "}\n",
    "\n",
    "tien_thue_nha_nuoc = 0\n",
    "nguong = 0\n",
    "\n",
    "for i in bac_thue \n"
   ]
  },
  {
   "cell_type": "code",
   "execution_count": null,
   "id": "f9063d5f-b317-4e19-ac89-c64863d44d90",
   "metadata": {},
   "outputs": [],
   "source": []
  }
 ],
 "metadata": {
  "kernelspec": {
   "display_name": "Python [conda env:base] *",
   "language": "python",
   "name": "conda-base-py"
  },
  "language_info": {
   "codemirror_mode": {
    "name": "ipython",
    "version": 3
   },
   "file_extension": ".py",
   "mimetype": "text/x-python",
   "name": "python",
   "nbconvert_exporter": "python",
   "pygments_lexer": "ipython3",
   "version": "3.13.5"
  }
 },
 "nbformat": 4,
 "nbformat_minor": 5
}
