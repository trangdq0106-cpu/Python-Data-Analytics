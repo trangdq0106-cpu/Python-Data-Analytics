{
 "cells": [
  {
   "cell_type": "code",
   "execution_count": 7,
   "id": "71bbe78e-c290-48cb-a024-7913fbd0cace",
   "metadata": {},
   "outputs": [
    {
     "name": "stdin",
     "output_type": "stream",
     "text": [
      "Nhập Giá Bán Trên Mỗi Sản Phẩm:  50000\n"
     ]
    },
    {
     "name": "stdout",
     "output_type": "stream",
     "text": [
      "50000\n"
     ]
    },
    {
     "name": "stdin",
     "output_type": "stream",
     "text": [
      "Nhập Số Lượng Sản Phẩm Bán Ra:  1000\n"
     ]
    },
    {
     "name": "stdout",
     "output_type": "stream",
     "text": [
      "1000\n"
     ]
    },
    {
     "name": "stdin",
     "output_type": "stream",
     "text": [
      "Nhập Chi Phí Sản Xuất:  28000\n"
     ]
    },
    {
     "name": "stdout",
     "output_type": "stream",
     "text": [
      "28000\n",
      "Tổng Doanh Thu: 50000000 VND\n",
      "Tổng Lợi Nhuận : 22000000 VND\n"
     ]
    }
   ],
   "source": [
    "# 1.1. Tính doanh thu và lợi nhuận \n",
    "gia_ban = int(input(\"Nhập Giá Bán Trên Mỗi Sản Phẩm: \"))\n",
    "print(gia_ban)\n",
    "so_luong = int(input(\"Nhập Số Lượng Sản Phẩm Bán Ra: \"))\n",
    "print(so_luong)\n",
    "chi_phi = int(input(\"Nhập Chi Phí Sản Xuất: \"))\n",
    "print(chi_phi)\n",
    "doanh_thu = gia_ban * so_luong\n",
    "print(f\"Tổng Doanh Thu: {doanh_thu} VND\") \n",
    "loi_nhuan = (gia_ban - chi_phi) * so_luong\n",
    "print(f\"Tổng Lợi Nhuận : {loi_nhuan} VND\")\n",
    "\n",
    "\n"
   ]
  },
  {
   "cell_type": "code",
   "execution_count": 13,
   "id": "aba403d4-3778-4ff7-ab31-8c406a9561ed",
   "metadata": {},
   "outputs": [
    {
     "name": "stdin",
     "output_type": "stream",
     "text": [
      "Số tiền đầu tư ban đầu (P) (tính theo VND):  10000000\n"
     ]
    },
    {
     "name": "stdout",
     "output_type": "stream",
     "text": [
      "10000000\n"
     ]
    },
    {
     "name": "stdin",
     "output_type": "stream",
     "text": [
      "Nhập lãi suất hàng năm (r):  6\n"
     ]
    },
    {
     "name": "stdout",
     "output_type": "stream",
     "text": [
      "6.0\n"
     ]
    },
    {
     "name": "stdin",
     "output_type": "stream",
     "text": [
      "Nhập số năm đầu tư ban đầu:  5\n"
     ]
    },
    {
     "name": "stdout",
     "output_type": "stream",
     "text": [
      "5\n",
      "Số Tiền Nhận Được Trong Tương Lai A sau 5 năm:  13,382,255.78\n"
     ]
    }
   ],
   "source": [
    "#1.2. Tính lãi suất cộng dồn \n",
    "dau_tu = int(input(\"Số tiền đầu tư ban đầu (P) (tính theo VND): \"))\n",
    "print(dau_tu)\n",
    "lai_suat= float(input(\"Nhập lãi suất hàng năm (r): \"))\n",
    "print(lai_suat)\n",
    "so_nam = int(input(\"Nhập số năm đầu tư ban đầu: \"))\n",
    "print(so_nam)\n",
    "so_tien_A = dau_tu *( (1 + lai_suat/100) ** so_nam)\n",
    "print (f\"Số Tiền Nhận Được Trong Tương Lai A sau {so_nam} năm: {so_tien_A: ,.2f}\")"
   ]
  },
  {
   "cell_type": "code",
   "execution_count": 18,
   "id": "fb436562-a76e-454c-8542-a272d9a0ce45",
   "metadata": {},
   "outputs": [
    {
     "name": "stdin",
     "output_type": "stream",
     "text": [
      "Nhập giá trị giao dịch 1:  1500\n"
     ]
    },
    {
     "name": "stdout",
     "output_type": "stream",
     "text": [
      "1500\n"
     ]
    },
    {
     "name": "stdin",
     "output_type": "stream",
     "text": [
      "Nhập giá trị giao dịch 2:  350\n"
     ]
    },
    {
     "name": "stdout",
     "output_type": "stream",
     "text": [
      "350\n"
     ]
    },
    {
     "name": "stdin",
     "output_type": "stream",
     "text": [
      "Nhập giá trị giao dịch 3:  150\n"
     ]
    },
    {
     "name": "stdout",
     "output_type": "stream",
     "text": [
      "150\n"
     ]
    },
    {
     "name": "stdin",
     "output_type": "stream",
     "text": [
      "Nhập giá trị giao dịch 4:  2000\n"
     ]
    },
    {
     "name": "stdout",
     "output_type": "stream",
     "text": [
      "2000\n"
     ]
    },
    {
     "name": "stdin",
     "output_type": "stream",
     "text": [
      "Nhập tỉ giá ngoại tệ:  24000\n"
     ]
    },
    {
     "name": "stdout",
     "output_type": "stream",
     "text": [
      "24000\n",
      "Tổng Giá Trị Giao Dịch Bằng USD: 4000 USD\n",
      "Tổng Giá Trị Giao Dịch Sau Khi Quy Đổi Sang VND: 96000000 VND\n"
     ]
    }
   ],
   "source": [
    "## 1.3. Tính tổng giá trị giao dịch và chuyển đổi qua loại tiền tệ khác \n",
    "giao_dich_1 = int(input (\"Nhập giá trị giao dịch 1: \"))\n",
    "print(giao_dich_1)\n",
    "giao_dich_2 = int(input (\"Nhập giá trị giao dịch 2: \"))\n",
    "print(giao_dich_2)\n",
    "giao_dich_3 = int(input (\"Nhập giá trị giao dịch 3: \"))\n",
    "print(giao_dich_3)\n",
    "giao_dich_4 = int(input (\"Nhập giá trị giao dịch 4: \"))\n",
    "print(giao_dich_4)\n",
    "quy_doi = int(input(\"Nhập tỉ giá ngoại tệ: \"))\n",
    "print(quy_doi)\n",
    "tong_gia_tri = giao_dich_1 + giao_dich_2 + giao_dich_3 + giao_dich_4\n",
    "print(f\"Tổng Giá Trị Giao Dịch Bằng USD: {tong_gia_tri} USD\")\n",
    "tong_quy_doi = tong_gia_tri * quy_doi\n",
    "print(f\"Tổng Giá Trị Giao Dịch Sau Khi Quy Đổi Sang VND: {tong_quy_doi} VND\")\n",
    "\n",
    "\n",
    "\n",
    "\n",
    "\n",
    "\n",
    "\n"
   ]
  },
  {
   "cell_type": "code",
   "execution_count": 1,
   "id": "df59a7c2-53bc-41cc-9135-be76571fe519",
   "metadata": {},
   "outputs": [
    {
     "name": "stdin",
     "output_type": "stream",
     "text": [
      "Nhập số tiền gửi:  5000000\n"
     ]
    },
    {
     "name": "stdout",
     "output_type": "stream",
     "text": [
      "5000000\n"
     ]
    },
    {
     "name": "stdin",
     "output_type": "stream",
     "text": [
      "Nhập số tháng gửi:  60\n"
     ]
    },
    {
     "name": "stdout",
     "output_type": "stream",
     "text": [
      "60\n"
     ]
    },
    {
     "name": "stdin",
     "output_type": "stream",
     "text": [
      "Nhập lãi suất 1 năm (%):  7\n"
     ]
    },
    {
     "name": "stdout",
     "output_type": "stream",
     "text": [
      "7\n",
      "Tiền Lãi: 1750000.0 \n",
      "Tổng Tiền 5000000 + 1750000.0 =  6,750,000.0\n"
     ]
    }
   ],
   "source": [
    "#1.4. Tính tiền lãi gửi tiết kiệm \n",
    "tien_gui = int(input (\"Nhập số tiền gửi: \"))\n",
    "print(tien_gui)\n",
    "so_thang = int(input(\"Nhập số tháng gửi: \"))\n",
    "print(so_thang)\n",
    "lai_suat = int(input(\"Nhập lãi suất 1 năm (%): \"))\n",
    "print(lai_suat)\n",
    "tien_lai = (tien_gui*so_thang) * (lai_suat/100/12)\n",
    "print(f\"Tiền Lãi: {tien_lai:.1f} \")\n",
    "tong_tien = tien_gui + tien_lai\n",
    "print(f\"Tổng Tiền {tien_gui} + {tien_lai} = {tong_tien: ,.1f}\")\n",
    "\n",
    "\n"
   ]
  },
  {
   "cell_type": "code",
   "execution_count": 3,
   "id": "fef78e57-f268-44e7-ba5b-6bf26ad975c8",
   "metadata": {},
   "outputs": [
    {
     "name": "stdin",
     "output_type": "stream",
     "text": [
      "Nhập số tiền muốn đổi :  11325000\n"
     ]
    },
    {
     "name": "stdout",
     "output_type": "stream",
     "text": [
      "11325000\n",
      "Số tiền mệnh giá 500,000 : 22\n",
      "Tiền Còn Lại : 325000\n",
      "Số tiền mệnh giá 200,000 : 1\n",
      "Số tiền mệnh giá 100,000 : 0\n",
      "Số tiền mệnh giá 50,000 : 0\n",
      "Tiền Dư : 25000\n"
     ]
    }
   ],
   "source": [
    "# 1.5. Tính toán mệnh giá tiền \n",
    "\n",
    "nhap_tien = int(input(\"Nhập số tiền muốn đổi : \"))\n",
    "print(nhap_tien)\n",
    "gia_500000 = nhap_tien//500000\n",
    "print(f\"Số tiền mệnh giá 500,000 : {gia_500000}\")\n",
    "tien_con_lai_1 = nhap_tien % 500000\n",
    "print(f\"Tiền Còn Lại : {tien_con_lai_1}\")\n",
    "gia_200000 = tien_con_lai_1//200000\n",
    "print(f\"Số tiền mệnh giá 200,000 : {gia_200000}\")\n",
    "tien_con_lai_2 = tien_con_lai_1 % 200000\n",
    "gia_100000 = gia_200000//100000\n",
    "print(f\"Số tiền mệnh giá 100,000 : {gia_100000}\")\n",
    "tien_con_lai_3 = tien_con_lai_2 % 100000\n",
    "\n",
    "gia_50000 = gia_100000//50000\n",
    "print(f\"Số tiền mệnh giá 50,000 : {gia_50000}\")\n",
    "tien_con_lai_4 = tien_con_lai_3 % 100000\n",
    "print(f\"Tiền Dư : {tien_con_lai_4}\")\n"
   ]
  },
  {
   "cell_type": "code",
   "execution_count": null,
   "id": "245481d9-a6e8-46fa-b05b-7e18c77fc5a3",
   "metadata": {},
   "outputs": [],
   "source": []
  }
 ],
 "metadata": {
  "kernelspec": {
   "display_name": "Python [conda env:base] *",
   "language": "python",
   "name": "conda-base-py"
  },
  "language_info": {
   "codemirror_mode": {
    "name": "ipython",
    "version": 3
   },
   "file_extension": ".py",
   "mimetype": "text/x-python",
   "name": "python",
   "nbconvert_exporter": "python",
   "pygments_lexer": "ipython3",
   "version": "3.13.5"
  }
 },
 "nbformat": 4,
 "nbformat_minor": 5
}
