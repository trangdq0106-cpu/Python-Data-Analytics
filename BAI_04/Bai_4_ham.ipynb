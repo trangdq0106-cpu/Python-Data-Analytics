{
 "cells": [
  {
   "cell_type": "markdown",
   "id": "19722299-d581-49fc-921b-a2208faeb4f6",
   "metadata": {},
   "source": [
    "### Khái niệm Hàm trong Python  \n",
    "    Hàm (Function) trong Python là một khối mã có thể tái sử dụng, được thiết kế để thực hiện một nhiệm vụ cụ thể. Hàm giúp tổ chức chương trình một cách rõ ràng, tăng khả năng tái sử dụng và giảm lặp lại mã nguồn.  \n",
    "    Hàm còn được gọi là chương trình con ( subroutine )  \n",
    "* Nếu không viết hàm thì sẽ gặp những khó khăn gì ?  \n",
    "- Rất khó để viết chính xác khi các dự án lớn dần  \n",
    "- Rất khó để dò tìm lỗi ( Debug )\n",
    "- Rất khó mở rộng  \n",
    "==> Tốn thời gian, tốn chi phí  \n",
    "    Trong Python, có nhiều loại hàm khác nhau phục vụ các mục đích khác nhau. Dưới đây là phân loại chính:"
   ]
  },
  {
   "cell_type": "markdown",
   "id": "17a56596-3631-468e-b163-cae523a4d151",
   "metadata": {},
   "source": [
    "### 1. Hàm có sẵn - Hàm thư viện (Built-in Functions)\n",
    "Hàm có sẵn là những hàm đã được xây dựng sẵn. Muốn sử dụng chúng ta phải khai báo thư viện chứa nó trong phần khai báo from ..... import.....  \n",
    "- Dựng sẵn từ bản thân ngôn ngữ lập trình python ( Thông thường không cần import )\n",
    "- Dựng sẵn do bên thứ ba cung cấp , từ một cty nào đó, lập trình viên nào đó....\n",
    "Python cung cấp nhiều hàm có sẵn mà bạn có thể sử dụng ngay lập tức, chẳng hạn như:  \n",
    "\n",
    "* print(): In ra màn hình.  \n",
    "* len(): Trả về độ dài của một chuỗi, danh sách, hoặc bộ dữ liệu.  \n",
    "* type(): Kiểm tra kiểu dữ liệu của một biến.  \n",
    "* range(): Tạo một dãy số.  \n",
    "* sum(), max(), min(): Các hàm xử lý số học.  \n",
    "* ......"
   ]
  },
  {
   "cell_type": "code",
   "execution_count": 1,
   "id": "9f577817-13ad-44b6-93d8-fb0c6d68afca",
   "metadata": {},
   "outputs": [
    {
     "name": "stdout",
     "output_type": "stream",
     "text": [
      "6\n",
      "<class 'int'>\n"
     ]
    }
   ],
   "source": [
    "# Ví dụ\n",
    "print(len(\"Python\"))  # Output: 6\n",
    "print(type(10))       # Output: <class 'int'>\n"
   ]
  },
  {
   "attachments": {},
   "cell_type": "markdown",
   "id": "aa4cbf99-618a-4b2a-b635-1a8b4a743e3b",
   "metadata": {},
   "source": [
    "### 2. Hàm do người dùng định nghĩa (User-defined Functions)\n",
    "Đây là các hàm do lập trình viên tự viết bằng từ khóa def. Nếu ta biên dịch thành hàm thư viện dùng chung  thì sẽ trở thành hàm thư viện cho mọi người dùng.  \n",
    "Trong quá trình xây dựng hàm (UDF), có thể sử dụng Built-in function\n",
    "Có thể phân loại hàm UDF như sau :  \n",
    "- Hàm xử lý (không trả về giá trị)  \n",
    "- Hàm tính toán và trả về kết quả (có trả về giá trị)!  "
   ]
  },
  {
   "cell_type": "code",
   "execution_count": 2,
   "id": "803b4849-50b9-4403-89ec-ff84285cf821",
   "metadata": {},
   "outputs": [
    {
     "name": "stdout",
     "output_type": "stream",
     "text": [
      "Hello, Alice!\n",
      "Hello, Python!\n"
     ]
    }
   ],
   "source": [
    "def greet(name):\n",
    "    return f\"Hello, {name}!\"\n",
    "    \n",
    "print(greet(\"Alice\"))  # Output: Hello, Alice!\n",
    "print(greet(\"Python\"))  # Output: Hello, Alice!"
   ]
  },
  {
   "attachments": {},
   "cell_type": "markdown",
   "id": "db6c0a00-d683-4b92-a19c-77321ac4613f",
   "metadata": {},
   "source": [
    "### 3. Cách định nghĩa một hàm trong Python\n",
    "Hàm trong Python được khai báo bằng từ khóa def, theo sau là tên hàm và dấu ngoặc (). Nếu hàm nhận tham số, chúng sẽ được đặt bên trong dấu ngoặc. Sau dấu : là phần thân hàm, chứa các dòng lệnh thực thi.  \n",
    "def ten_ham(tham_so1, tham_so2, ...):  \n",
    "    <blockquote>\n",
    "    \"\"\"\"Các nội dung mô tả chức năng của hàm \"\"\"  \n",
    "    # Khối lệnh xử lý  \n",
    "    return gia_tri  # (Có thể có hoặc không)  \n",
    "    </blockquote>  \n",
    "\n",
    "Hàm ==> Dùng để làm gì ? ( đặt tên hàm là động từ/ngữ động từ) ==> Cần gì để xử lý ? ( Cung cấp tham số Parameters ) ==> Giải quyết như thế nào? ( Các dòng lệnh xử lý bên trong function ) ==> Kết quả giải quyết thế nào? (Return - Output )  \n",
    "\n",
    "Quy ước đặt tên trong Python\n",
    "    Python có một số quy ước đặt tên được khuyến nghị theo PEP 8 (Python Enhancement Proposal 8) nhằm giúp mã nguồn rõ ràng, dễ đọc và nhất quán. Dưới đây là các quy tắc quan trọng khi đặt tên hàm, biến, lớp, module, hằng số,... trong Python.  \n",
    "🔹 Tên Hàm  \n",
    "    Viết thường, dùng dấu gạch dưới _ để ngăn cách các từ (snake_case).  \n",
    "    Nên sử dụng động từ cho hàm.  \n",
    "\n",
    "✅ Nên :  \n",
    "def calculate_average(): # Tên hàm viết thường hết\n",
    "    <blockquote>\n",
    "    pass  \n",
    "    </blockquote>\n",
    "\n",
    "❌ Không nên :  \n",
    "def CalculateAverage(): # Không nên dùng PascalCase cho hàm  \n",
    "    <blockquote>\n",
    "    pass  \n",
    "    </blockquote>\n"
   ]
  },
  {
   "cell_type": "markdown",
   "id": "727e6d1c-0eee-4010-a2bb-8f2de69ef310",
   "metadata": {},
   "source": [
    "### 4. Tham số (Parameter)"
   ]
  },
  {
   "attachments": {},
   "cell_type": "markdown",
   "id": "2f55ff38-4980-461b-8751-2d7ae041070a",
   "metadata": {},
   "source": [
    "##### - Tham số bắt buộc (Required argument)"
   ]
  },
  {
   "cell_type": "code",
   "execution_count": 3,
   "id": "e46c5b29",
   "metadata": {},
   "outputs": [],
   "source": [
    "def tinh_bmi(can_nang, chieu_cao):\n",
    "    bmi = can_nang / chieu_cao ** 2\n",
    "    return bmi"
   ]
  },
  {
   "cell_type": "code",
   "execution_count": 5,
   "id": "f528b52a-35d0-4d2e-a59f-0631986171c2",
   "metadata": {},
   "outputs": [],
   "source": [
    "def danh_gia_bmi(bmi):\n",
    "    if bmi < 18.5:\n",
    "        return \"Gầy\"\n",
    "    elif bmi < 24.9:\n",
    "        return \"Bình thường\"\n",
    "    elif bmi < 29.9:\n",
    "        return \"Thừa cân\"\n",
    "    else:\n",
    "        return \"Béo phì\""
   ]
  },
  {
   "cell_type": "code",
   "execution_count": 6,
   "id": "221d14c8",
   "metadata": {},
   "outputs": [
    {
     "name": "stdout",
     "output_type": "stream",
     "text": [
      "Chỉ số BMI: 21.877551020408163\n",
      "Bình thường\n"
     ]
    }
   ],
   "source": [
    "chi_so_bmi = tinh_bmi(67, 1.75)\n",
    "print('Chỉ số BMI:', chi_so_bmi)\n",
    "print(danh_gia_bmi(chi_so_bmi))"
   ]
  },
  {
   "cell_type": "code",
   "execution_count": 5,
   "id": "75436dd7-0ea8-41db-aae6-506dd7d7906e",
   "metadata": {},
   "outputs": [
    {
     "name": "stdin",
     "output_type": "stream",
     "text": [
      "Nhập cân nặng (kg):  50\n",
      "Nhập chiều cao (m):  1.8\n"
     ]
    },
    {
     "name": "stdout",
     "output_type": "stream",
     "text": [
      "\n",
      "Chỉ số BMI của bạn là: 15.43\n",
      "Phân loại: Gầy\n"
     ]
    }
   ],
   "source": [
    "# Nhập từ người dùng\n",
    "can_nang = float(input(\"Nhập cân nặng (kg): \"))\n",
    "chieu_cao = float(input(\"Nhập chiều cao (m): \"))\n",
    "\n",
    "bmi = tinh_bmi(can_nang, chieu_cao)\n",
    "danh_gia = danh_gia_bmi(bmi)\n",
    "\n",
    "print(f\"\\nChỉ số BMI của bạn là: {bmi:.2f}\")\n",
    "print(f\"Phân loại: {danh_gia}\")"
   ]
  },
  {
   "cell_type": "code",
   "execution_count": 6,
   "id": "0c836c1f-512b-4a1c-8775-d85f9d645a32",
   "metadata": {},
   "outputs": [],
   "source": [
    "import math\n",
    "\n",
    "def giai_phuong_trinh_bac_2(a, b, c):\n",
    "    # Hàm dùng để giải phương trình bậc 2 \n",
    "    # Hàm nhận 3 tham số a,b,c...\n",
    "    if a == 0:\n",
    "        if b == 0:\n",
    "            if c == 0:\n",
    "                return \"Phương trình có vô số nghiệm.\"\n",
    "            else:\n",
    "                return \"Phương trình vô nghiệm.\"\n",
    "        else:\n",
    "            x = -c / b\n",
    "            return f\"Phương trình bậc nhất có nghiệm x = {x:.2f}\"\n",
    "    else:\n",
    "        delta = b**2 - 4*a*c\n",
    "        if delta > 0:\n",
    "            x1 = (-b + math.sqrt(delta)) / (2*a)\n",
    "            x2 = (-b - math.sqrt(delta)) / (2*a)\n",
    "            return f\"Phương trình có 2 nghiệm phân biệt:\\nx1 = {x1:.2f}, x2 = {x2:.2f}\"\n",
    "        elif delta == 0:\n",
    "            x = -b / (2*a)\n",
    "            return f\"Phương trình có nghiệm kép: x = {x:.2f}\"\n",
    "        else:\n",
    "            return \"Phương trình vô nghiệm (không có nghiệm thực).\""
   ]
  },
  {
   "cell_type": "code",
   "execution_count": 35,
   "id": "fbd61982-2fa4-47a2-9413-05700877af9b",
   "metadata": {},
   "outputs": [
    {
     "name": "stdin",
     "output_type": "stream",
     "text": [
      "Nhập hệ số a:  1\n",
      "Nhập hệ số b:  -3\n",
      "Nhập hệ số c:  2\n"
     ]
    },
    {
     "name": "stdout",
     "output_type": "stream",
     "text": [
      "\n",
      "Phương trình có 2 nghiệm phân biệt:\n",
      "x1 = 2.00, x2 = 1.00\n"
     ]
    }
   ],
   "source": [
    "# Nhập hệ số từ người dùng\n",
    "a = float(input(\"Nhập hệ số a: \"))\n",
    "b = float(input(\"Nhập hệ số b: \"))\n",
    "c = float(input(\"Nhập hệ số c: \"))\n",
    "\n",
    "ket_qua = giai_phuong_trinh_bac_2(a, b, c)\n",
    "print(\"\\n\" + ket_qua)\n"
   ]
  },
  {
   "cell_type": "markdown",
   "id": "eecf6f0a-73a0-4cb8-b3de-37e32f602a6b",
   "metadata": {},
   "source": [
    "##### - Hàm có tham số mặc định\n",
    "Hàm có thể có tham số mặc định nếu giá trị không được truyền vào."
   ]
  },
  {
   "cell_type": "code",
   "execution_count": 8,
   "id": "e32feb41-9d0c-42ba-8d80-8a3b4cbeb97a",
   "metadata": {},
   "outputs": [
    {
     "name": "stdout",
     "output_type": "stream",
     "text": [
      "Hello, Guest!\n",
      "Hello, John!\n"
     ]
    }
   ],
   "source": [
    "def greet(name=\"Guest\"):\n",
    "    return f\"Hello, {name}!\"\n",
    "\n",
    "print(greet())        # Output: Hello, Guest!\n",
    "print(greet(\"John\"))  # Output: Hello, John!"
   ]
  },
  {
   "cell_type": "code",
   "execution_count": 9,
   "id": "bdfc9488",
   "metadata": {},
   "outputs": [
    {
     "name": "stdout",
     "output_type": "stream",
     "text": [
      "Chỉ số BMI: 21.877551020408163\n"
     ]
    }
   ],
   "source": [
    "chi_so_bmi = tinh_bmi(chieu_cao=1.75, can_nang=67)\n",
    "print('Chỉ số BMI:', chi_so_bmi)"
   ]
  },
  {
   "cell_type": "code",
   "execution_count": 11,
   "id": "9bc5056e",
   "metadata": {},
   "outputs": [],
   "source": [
    "def in_thong_tin_nhan_vien(ho_ten, muc_luong, gt = \"Nữ\"):\n",
    "    thong_tin = f'Họ tên: {ho_ten}'\n",
    "    thong_tin += f'\\nGiới tính: {gt}'\n",
    "    thong_tin += f'\\nMức lương: {muc_luong:,}'\n",
    "    return thong_tin"
   ]
  },
  {
   "cell_type": "code",
   "execution_count": 12,
   "id": "8716d40b",
   "metadata": {},
   "outputs": [
    {
     "name": "stdout",
     "output_type": "stream",
     "text": [
      "Họ tên: Trần Trọng Đại\n",
      "Giới tính: Nam\n",
      "Mức lương: 15,000,000\n"
     ]
    }
   ],
   "source": [
    "thong_tin = in_thong_tin_nhan_vien('Trần Trọng Đại', 15000000, 'Nam')\n",
    "print(thong_tin)"
   ]
  },
  {
   "cell_type": "code",
   "execution_count": 13,
   "id": "13556c44",
   "metadata": {},
   "outputs": [
    {
     "name": "stdout",
     "output_type": "stream",
     "text": [
      "Họ tên: Ngô Kim Xuân\n",
      "Giới tính: Nữ\n",
      "Mức lương: 16,000,000\n"
     ]
    }
   ],
   "source": [
    "thong_tin = in_thong_tin_nhan_vien('Ngô Kim Xuân', 16000000)\n",
    "print(thong_tin)"
   ]
  },
  {
   "attachments": {},
   "cell_type": "markdown",
   "id": "f520226d-2429-4887-b356-723edc25417c",
   "metadata": {},
   "source": [
    "##### - Tham số thay đổi không xác định (Variable-length argument)\n",
    "Python hỗ trợ truyền tham số không giới hạn bằng *args và **kwargs.\n",
    "\n",
    "*args: Nhận nhiều đối số vị trí (positional arguments).  \n",
    "**kwargs: Nhận nhiều đối số từ khóa (keyword arguments)."
   ]
  },
  {
   "cell_type": "code",
   "execution_count": 15,
   "id": "4be2c6b6-359d-4266-83f4-905385b907e8",
   "metadata": {},
   "outputs": [
    {
     "name": "stdout",
     "output_type": "stream",
     "text": [
      "36\n"
     ]
    }
   ],
   "source": [
    "# Ví dụ với *args:\n",
    "\n",
    "def add(*numbers):\n",
    "    return sum(numbers)\n",
    "\n",
    "print(add(1, 2, 3, 4, 5, 6, 7 , 8))  # Output: 10\n"
   ]
  },
  {
   "cell_type": "code",
   "execution_count": 17,
   "id": "8b07910b-7f10-41e2-9f59-b02023c2b014",
   "metadata": {},
   "outputs": [
    {
     "name": "stdout",
     "output_type": "stream",
     "text": [
      "Xin chào Minh\n",
      "Xin chào Nam\n",
      "Xin chào Linh\n",
      "Xin chào Mai\n",
      "Xin chào Phương\n"
     ]
    }
   ],
   "source": [
    "def in_loi_chao(loi_chao,*danh_sach_ten):\n",
    "    for ten in danh_sach_ten:\n",
    "        print(loi_chao , ten)\n",
    "\n",
    "in_loi_chao(\"Xin chào\")\n",
    "in_loi_chao(\"Xin chào\",\"Minh\",\"Nam\",\"Linh\",\"Mai\",\"Phương\")"
   ]
  },
  {
   "cell_type": "code",
   "execution_count": null,
   "id": "aa778a38-864a-4b56-9c27-3f728eee18ef",
   "metadata": {},
   "outputs": [],
   "source": []
  },
  {
   "cell_type": "code",
   "execution_count": null,
   "id": "99d5cbec-4895-4160-a176-750e02ea6d9e",
   "metadata": {},
   "outputs": [],
   "source": []
  },
  {
   "cell_type": "code",
   "execution_count": null,
   "id": "e7f568eb-60b3-4e7d-b3a4-2751714f2d23",
   "metadata": {},
   "outputs": [],
   "source": []
  },
  {
   "cell_type": "code",
   "execution_count": 16,
   "id": "1c63c489-1f3e-45ec-88e0-7ee9a5216dde",
   "metadata": {},
   "outputs": [
    {
     "name": "stdout",
     "output_type": "stream",
     "text": [
      "name: Alice\n",
      "age: 25\n",
      "city: New York\n"
     ]
    }
   ],
   "source": [
    "# Ví dụ với **kwargs:\n",
    "\n",
    "def person_info(**info):\n",
    "    for key, value in info.items():\n",
    "        print(f\"{key}: {value}\")\n",
    "\n",
    "person_info(name=\"Alice\", age=25, city=\"New York\")\n"
   ]
  },
  {
   "cell_type": "markdown",
   "id": "b172e17b-6152-4e7c-9f93-aaeb99c19a7d",
   "metadata": {},
   "source": [
    "### 5. Hàm Lambda (Hàm ẩn danh)  \n",
    "Hàm lambda là hàm không có tên, được viết ngắn gọn trên một dòng.  \n",
    "\n",
    "lambda arguments: expression\n"
   ]
  },
  {
   "cell_type": "code",
   "execution_count": 1,
   "id": "152290dc-121f-4e7d-ac2b-47c7372adf5c",
   "metadata": {},
   "outputs": [
    {
     "name": "stdout",
     "output_type": "stream",
     "text": [
      "100\n"
     ]
    }
   ],
   "source": [
    "square = lambda x: x * x\n",
    "print(square(10))  # Output: 25"
   ]
  },
  {
   "cell_type": "code",
   "execution_count": 20,
   "id": "f9ffd2bd",
   "metadata": {},
   "outputs": [
    {
     "data": {
      "text/plain": [
       "23.437499999999996"
      ]
     },
     "execution_count": 20,
     "metadata": {},
     "output_type": "execute_result"
    }
   ],
   "source": [
    "tinh_bmi = lambda can_nang, chieu_cao : can_nang / chieu_cao ** 2\n",
    "bmi_An = tinh_bmi(60, 1.6)\n",
    "bmi_An"
   ]
  },
  {
   "cell_type": "code",
   "execution_count": 22,
   "id": "33186d5d",
   "metadata": {},
   "outputs": [],
   "source": [
    "ktra_ketqua = lambda diem: 'Đậu' if diem >= 5 else 'Rớt'"
   ]
  },
  {
   "cell_type": "code",
   "execution_count": 26,
   "id": "fb0d7e9a",
   "metadata": {},
   "outputs": [
    {
     "data": {
      "text/plain": [
       "'Đậu'"
      ]
     },
     "execution_count": 26,
     "metadata": {},
     "output_type": "execute_result"
    }
   ],
   "source": [
    "kq_An = ktra_ketqua(9)\n",
    "kq_An"
   ]
  },
  {
   "cell_type": "code",
   "execution_count": 25,
   "id": "3ef13c89",
   "metadata": {},
   "outputs": [
    {
     "data": {
      "text/plain": [
       "'Rớt'"
      ]
     },
     "execution_count": 25,
     "metadata": {},
     "output_type": "execute_result"
    }
   ],
   "source": [
    "kq_Hung = ktra_ketqua(4.5)\n",
    "kq_Hung"
   ]
  },
  {
   "cell_type": "code",
   "execution_count": 27,
   "id": "eaaddec1",
   "metadata": {},
   "outputs": [
    {
     "data": {
      "text/plain": [
       "2880000.0"
      ]
     },
     "execution_count": 27,
     "metadata": {},
     "output_type": "execute_result"
    }
   ],
   "source": [
    "# hàm tính tiền lãi\n",
    "tien_lai = lambda tien_gui, lai_suat, thoi_gian_gui: (tien_gui* lai_suat* thoi_gian_gui) / 100\n",
    "tien_lai(15000000, 6.4, 3)"
   ]
  },
  {
   "cell_type": "code",
   "execution_count": 30,
   "id": "c58c0fa2",
   "metadata": {},
   "outputs": [
    {
     "data": {
      "text/plain": [
       "'Like'"
      ]
     },
     "execution_count": 30,
     "metadata": {},
     "output_type": "execute_result"
    }
   ],
   "source": [
    "danh_gia = lambda rating: 'Like' if rating >= 4 else 'Neutral' if rating >= 3 else 'Dislike'\n",
    "danh_gia_mv1 = danh_gia(4.1)\n",
    "danh_gia_mv1"
   ]
  },
  {
   "cell_type": "code",
   "execution_count": 31,
   "id": "478e2331",
   "metadata": {},
   "outputs": [
    {
     "data": {
      "text/plain": [
       "'Dislike'"
      ]
     },
     "execution_count": 31,
     "metadata": {},
     "output_type": "execute_result"
    }
   ],
   "source": [
    "danh_gia_mv2 = danh_gia(2.6)\n",
    "danh_gia_mv2"
   ]
  },
  {
   "cell_type": "code",
   "execution_count": 32,
   "id": "72032d0d",
   "metadata": {},
   "outputs": [
    {
     "data": {
      "text/plain": [
       "'Neutral'"
      ]
     },
     "execution_count": 32,
     "metadata": {},
     "output_type": "execute_result"
    }
   ],
   "source": [
    "danh_gia_mv3 = danh_gia(3.5)\n",
    "danh_gia_mv3"
   ]
  },
  {
   "cell_type": "code",
   "execution_count": 26,
   "id": "5d962c76-6ca3-4a91-96dc-f4637af3fa4e",
   "metadata": {},
   "outputs": [],
   "source": [
    "# pt_bac_2 = lambda a, b, c: (\n",
    "#     \"Vô nghiệm\" if (b**2 - 4*a*c) < 0 else\n",
    "#     (\"Nghiệm kép:\", -b / (2*a)) if (b**2 - 4*a*c) == 0 else\n",
    "#     (\"Hai nghiệm:\", (-b - (b**2 - 4*a*c)**0.5)/(2*a), (-b + (b**2 - 4*a*c)**0.5)/(2*a))\n",
    "# )"
   ]
  },
  {
   "cell_type": "code",
   "execution_count": 33,
   "id": "1cee9e80-0e92-4631-94bc-ebcc2a7661ca",
   "metadata": {},
   "outputs": [],
   "source": [
    "# Hàm lambda giải phương trình bậc 2\n",
    "# Ghi chú:\n",
    "# Biến delta được gán bằng toán tử := (gọi là walrus operator, cần Python >= 3.8).\n",
    "# Hàm trả về chuỗi hoặc tuple chứa nghiệm của phương trình.\n",
    "\n",
    "pt_bac_2 = lambda a, b, c: (\n",
    "    \"Vô nghiệm\" if (delta := b**2 - 4*a*c) < 0 else\n",
    "    (\"Nghiệm kép:\", -b / (2*a)) if (delta) == 0 else\n",
    "    (\"Hai nghiệm:\", (-b - delta**0.5)/(2*a), (-b + delta**0.5)/(2*a))\n",
    ")"
   ]
  },
  {
   "cell_type": "code",
   "execution_count": 34,
   "id": "39aa8495-8a93-41a6-a43f-927b8eb8bccd",
   "metadata": {},
   "outputs": [
    {
     "name": "stdout",
     "output_type": "stream",
     "text": [
      "('Hai nghiệm:', 1.0, 2.0)\n",
      "('Nghiệm kép:', -1.0)\n",
      "Vô nghiệm\n"
     ]
    }
   ],
   "source": [
    "print(pt_bac_2(1, -3, 2))   # a = 1, b = -3, c = 2 → nghiệm: 1 và 2\n",
    "print(pt_bac_2(1, 2, 1))    # nghiệm kép: -1\n",
    "print(pt_bac_2(1, 1, 1))    # vô nghiệm\n"
   ]
  },
  {
   "cell_type": "code",
   "execution_count": 36,
   "id": "cb44a8be-0ea6-41bb-adc5-a9003eea5c5e",
   "metadata": {},
   "outputs": [],
   "source": [
    "# Hàm lambda giải phương trình bậc 1\n",
    "pt_bac_1 = lambda a, b: (\n",
    "    \"Vô số nghiệm\" if a == 0 and b == 0 else\n",
    "    \"Vô nghiệm\" if a == 0 else\n",
    "    -b / a\n",
    ")"
   ]
  },
  {
   "cell_type": "code",
   "execution_count": 37,
   "id": "47c6ebdd-c369-413d-bb35-81130fe2c444",
   "metadata": {},
   "outputs": [
    {
     "name": "stdout",
     "output_type": "stream",
     "text": [
      "2.0\n",
      "Vô số nghiệm\n",
      "Vô nghiệm\n"
     ]
    }
   ],
   "source": [
    "print(pt_bac_1(2, -4))   # -> 2.0\n",
    "print(pt_bac_1(0, 0))    # -> Vô số nghiệm\n",
    "print(pt_bac_1(0, 5))    # -> Vô nghiệm\n"
   ]
  },
  {
   "cell_type": "markdown",
   "id": "bacdbb0c-e1c1-4d3f-864d-bada11eec15e",
   "metadata": {},
   "source": [
    "### 6. Tầm vực của biến\n",
    "1. Biến toàn cục (Global Scope)  \n",
    "Là biến được khai báo ngoài tất cả các hàm.  \n",
    "\n",
    "Có thể được truy cập ở bất kỳ đâu trong file, trong hàm, nhưng để gán giá trị mới trong hàm thì phải dùng từ khóa global.\n"
   ]
  },
  {
   "cell_type": "code",
   "execution_count": 38,
   "id": "83c57d05-0609-4ca9-ad3a-77f164c3c487",
   "metadata": {},
   "outputs": [
    {
     "name": "stdout",
     "output_type": "stream",
     "text": [
      "5\n",
      "10\n"
     ]
    }
   ],
   "source": [
    "x = 10  # biến toàn cục\n",
    "\n",
    "def my_func():\n",
    "    x = 5\n",
    "    print(x)  # có thể truy cập\n",
    "\n",
    "my_func()\n",
    "print(x)"
   ]
  },
  {
   "cell_type": "code",
   "execution_count": 39,
   "id": "3a358a0a-e168-49e1-9b0a-102a67ad3e0f",
   "metadata": {},
   "outputs": [
    {
     "data": {
      "text/plain": [
       "10"
      ]
     },
     "execution_count": 39,
     "metadata": {},
     "output_type": "execute_result"
    }
   ],
   "source": [
    "x"
   ]
  },
  {
   "cell_type": "markdown",
   "id": "b00df5eb-b5ff-4ff7-be33-275fe6bff923",
   "metadata": {},
   "source": [
    "Nếu trong my_func bạn muốn thay đổi giá trị x, bạn cần khai báo global x."
   ]
  },
  {
   "cell_type": "code",
   "execution_count": 41,
   "id": "1eaac8fd-0cf0-4796-afdd-924cf9238f84",
   "metadata": {},
   "outputs": [
    {
     "data": {
      "text/plain": [
       "10"
      ]
     },
     "execution_count": 41,
     "metadata": {},
     "output_type": "execute_result"
    }
   ],
   "source": [
    "def change_global():\n",
    "    global x\n",
    "    x = 20\n",
    "# Tạo hàm nhưng chưa gọi\n",
    "x"
   ]
  },
  {
   "cell_type": "code",
   "execution_count": 42,
   "id": "deafe2ff-6439-43fe-9bdc-0d326a48f5e1",
   "metadata": {},
   "outputs": [
    {
     "data": {
      "text/plain": [
       "20"
      ]
     },
     "execution_count": 42,
     "metadata": {},
     "output_type": "execute_result"
    }
   ],
   "source": [
    "# Gọi hàm nên kết quả x đã thay đổi\n",
    "change_global()\n",
    "x"
   ]
  },
  {
   "cell_type": "markdown",
   "id": "fd2d42ef-879c-4ddf-8efd-c685ac7df8c8",
   "metadata": {},
   "source": [
    "2. Biến cục bộ (Local Scope)\n",
    "Là biến được khai báo bên trong một hàm.\n",
    "\n",
    "Chỉ có thể được sử dụng trong chính hàm đó."
   ]
  },
  {
   "cell_type": "code",
   "execution_count": 45,
   "id": "a8b2ba18-1934-417c-9cfb-6700cd45ea1a",
   "metadata": {},
   "outputs": [
    {
     "name": "stdout",
     "output_type": "stream",
     "text": [
      "5\n",
      "5\n"
     ]
    }
   ],
   "source": [
    "\n",
    "def my_func():\n",
    "    # global y \n",
    "    y = 5  # biến cục bộ\n",
    "    print(y)\n",
    "\n",
    "my_func()\n",
    "print(y)  # Lỗi: y không tồn tại ngoài hàm\n"
   ]
  },
  {
   "cell_type": "code",
   "execution_count": null,
   "id": "6295e43e-d573-43d1-bbbf-fc9724067766",
   "metadata": {},
   "outputs": [],
   "source": []
  }
 ],
 "metadata": {
  "kernelspec": {
   "display_name": "Python [conda env:base] *",
   "language": "python",
   "name": "conda-base-py"
  },
  "language_info": {
   "codemirror_mode": {
    "name": "ipython",
    "version": 3
   },
   "file_extension": ".py",
   "mimetype": "text/x-python",
   "name": "python",
   "nbconvert_exporter": "python",
   "pygments_lexer": "ipython3",
   "version": "3.13.5"
  }
 },
 "nbformat": 4,
 "nbformat_minor": 5
}
