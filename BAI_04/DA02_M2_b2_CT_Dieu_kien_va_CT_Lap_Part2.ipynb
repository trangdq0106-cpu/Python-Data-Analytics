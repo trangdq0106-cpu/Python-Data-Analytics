{
 "cells": [
  {
   "cell_type": "code",
   "execution_count": 30,
   "id": "d71a6f8e-3a07-472b-a9a0-1f8caedda35a",
   "metadata": {},
   "outputs": [
    {
     "name": "stdin",
     "output_type": "stream",
     "text": [
      "Nhập số tiền thu nhập trong năm:  300000000\n",
      "Nhập số người phụ thuộc:  3\n"
     ]
    },
    {
     "name": "stdout",
     "output_type": "stream",
     "text": [
      "Số tiền giảm trừ: 290400000 VND\n",
      "Số thu nhập tính thuế: 9600000 VND\n",
      "Tổng thuế phải nộp: 480000.0 VND\n"
     ]
    }
   ],
   "source": [
    "#2.4. Tính thuế thu nhập cá nhân \n",
    "tong_thu_nhap = int(input(\"Nhập số tiền thu nhập trong năm: \"))\n",
    "so_nguoi_phu_thuoc = int(input(\"Nhập số người phụ thuộc: \"))\n",
    "\n",
    "# Tính số tiền giảm trừ\n",
    "giam_ban_than = 11000000 * 12\n",
    "giam_nguoi_phu_thuoc = (4400000 * 12) * so_nguoi_phu_thuoc\n",
    "tien_giam_tru = giam_ban_than + giam_nguoi_phu_thuoc\n",
    "\n",
    "# Tính thu nhập tính thuế\n",
    "tntt = tong_thu_nhap - tien_giam_tru\n",
    "if tntt <= 0:\n",
    "    tntt = 0\n",
    "    \n",
    "# Tính thuế thu nhập cá nhân theo biểu lũy tiến\n",
    "bac_thue = [\n",
    "    (60000000, 0.05),\n",
    "    (120000000, 0.1),\n",
    "    (216000000, 0.15),\n",
    "    (384000000, 0.2),\n",
    "    (624000000, 0.25),\n",
    "    (960000000, 0.3),\n",
    "    (float('inf'), 0.35)\n",
    "]\n",
    "\n",
    "tong_thue_phai_nop = 0\n",
    "thunhap_conlai = tntt\n",
    "\n",
    "for gioi_han, muc_thue in bac_thue:\n",
    "    if thunhap_conlai > 0:\n",
    "        so_tien_tinh_thue = min(gioi_han, thunhap_conlai)\n",
    "        thue_bac_nay = so_tien_tinh_thue * muc_thue\n",
    "        tong_thue_phai_nop += thue_bac_nay\n",
    "        thunhap_conlai -= so_tien_tinh_thue\n",
    "    else:\n",
    "        break\n",
    "\n",
    "# Hiển thị lên màn hình\n",
    "print(f\"Số tiền giảm trừ: {tien_giam_xtru} VND\")\n",
    "print(f\"Số thu nhập tính thuế: {tntt} VND\")\n",
    "print(f\"Tổng thuế phải nộp: {tong_thue_phai_nop} VND\")"
   ]
  },
  {
   "cell_type": "code",
   "execution_count": 65,
   "id": "cb9a610f-37ab-4058-bf34-ce2f2c7fbc42",
   "metadata": {},
   "outputs": [
    {
     "name": "stdin",
     "output_type": "stream",
     "text": [
      "Vui lòng nhập mật khẩu:  123456@8\n"
     ]
    },
    {
     "name": "stdout",
     "output_type": "stream",
     "text": [
      "Mật khẩu sai. Mật khẩu phải bao gồm đúng 8 ký tự số. Bạn còn2lần thử\n"
     ]
    },
    {
     "name": "stdin",
     "output_type": "stream",
     "text": [
      "Vui lòng nhập mật khẩu:  6578554@\n"
     ]
    },
    {
     "name": "stdout",
     "output_type": "stream",
     "text": [
      "Mật khẩu sai. Mật khẩu phải bao gồm đúng 8 ký tự số. Bạn còn1lần thử\n"
     ]
    },
    {
     "name": "stdin",
     "output_type": "stream",
     "text": [
      "Vui lòng nhập mật khẩu:  12345678\n"
     ]
    },
    {
     "name": "stdout",
     "output_type": "stream",
     "text": [
      "Đăng nhập thành công\n"
     ]
    }
   ],
   "source": [
    "#2.5. Tính số lần nhập sai mật khẩu tài khoản\n",
    "mat_khau= input(\"Vui lòng nhập mật khẩu: \")\n",
    "\n",
    "#khởi tạo lần thử lại \n",
    "lan_thu_lai = 2\n",
    "while (len(mat_khau)!=8 or not mat_khau.isdigit()) and lan_thu_lai>0: \n",
    "    print (f\"Mật khẩu sai. Mật khẩu phải bao gồm đúng 8 ký tự số. Bạn còn {lan_thu_lai} lần thử\")\n",
    "    mat_khau=input(\"Vui lòng nhập mật khẩu: \")\n",
    "    lan_thu_lai -=1\n",
    "    \n",
    "# Kiểm tra kết quả sau khi vòng lặp kết thúc\n",
    "if len(mat_khau) ==8:\n",
    "    print(\"Đăng nhập thành công!\n",
    "    \")\n",
    "else:\n",
    "    print(\"Đăng nhập thất bại.\")\n",
    "    "
   ]
  },
  {
   "cell_type": "code",
   "execution_count": null,
   "id": "0dae01b2-6143-46b3-a035-8011db4ec992",
   "metadata": {},
   "outputs": [],
   "source": []
  },
  {
   "cell_type": "code",
   "execution_count": 98,
   "id": "eb74897a-06b2-464c-a68e-ed77dee37dfa",
   "metadata": {},
   "outputs": [
    {
     "name": "stdin",
     "output_type": "stream",
     "text": [
      "Nhập số tiền gửi vào:  10000000\n"
     ]
    },
    {
     "name": "stdout",
     "output_type": "stream",
     "text": [
      "\n",
      "Số tiền gửi ban đầu: 10,000,000.00 VND\n",
      "Tháng 1 - Tiền lãi: 50,000.00 VND - Tổng số tiền: 10,050,000.00 VND\n",
      "Tháng 2 - Tiền lãi: 50,250.00 VND - Tổng số tiền: 10,100,250.00 VND\n",
      "Tháng 3 - Tiền lãi: 50,501.25 VND - Tổng số tiền: 10,150,751.25 VND\n",
      "Tháng 4 - Tiền lãi: 50,753.76 VND - Tổng số tiền: 10,201,505.01 VND\n",
      "Tháng 5 - Tiền lãi: 51,007.53 VND - Tổng số tiền: 10,252,512.53 VND\n",
      "Tháng 6 - Tiền lãi: 51,262.56 VND - Tổng số tiền: 10,303,775.09 VND\n",
      "Tháng 7 - Tiền lãi: 51,518.88 VND - Tổng số tiền: 10,355,293.97 VND\n",
      "Tháng 8 - Tiền lãi: 51,776.47 VND - Tổng số tiền: 10,407,070.44 VND\n",
      "Tháng 9 - Tiền lãi: 52,035.35 VND - Tổng số tiền: 10,459,105.79 VND\n",
      "Tháng 10 - Tiền lãi: 52,295.53 VND - Tổng số tiền: 10,511,401.32 VND\n",
      "Tháng 11 - Tiền lãi: 52,557.01 VND - Tổng số tiền: 10,563,958.33 VND\n",
      "Tháng 12 - Tiền lãi: 52,819.79 VND - Tổng số tiền: 10,616,778.12 VND\n"
     ]
    }
   ],
   "source": [
    "#2.6. Tính lãi suất từng tháng trong năm\n",
    "\n",
    "tien_gui_vao = float(input(\"Nhập số tiền gửi vào: \"))\n",
    "lai_suat_thang = 0.06 / 12\n",
    "tong_so_tien = tien_gui_vao\n",
    "print(f\"\\nSố tiền gửi ban đầu: {tong_so_tien:,.2f} VND\")\n",
    "\n",
    "# Lặp qua 12 tháng để tính lãi suất\n",
    "for thang in range(1, 13):\n",
    "    # Tính tiền lãi của tháng hiện tại dựa trên tổng số tiền hiện có\n",
    "    tien_lai = tong_so_tien * lai_suat_thang\n",
    "    \n",
    "    # Cập nhật tổng số tiền bằng cách cộng thêm tiền lãi\n",
    "    tong_so_tien += tien_lai\n",
    "    \n",
    "    # Hiển thị kết quả cho từng tháng\n",
    "    print(f\"Tháng {thang} - Tiền lãi: {tien_lai:,.2f} VND - Tổng số tiền: {tong_so_tien:,.2f} VND\")"
   ]
  }
 ],
 "metadata": {
  "kernelspec": {
   "display_name": "Python [conda env:base] *",
   "language": "python",
   "name": "conda-base-py"
  },
  "language_info": {
   "codemirror_mode": {
    "name": "ipython",
    "version": 3
   },
   "file_extension": ".py",
   "mimetype": "text/x-python",
   "name": "python",
   "nbconvert_exporter": "python",
   "pygments_lexer": "ipython3",
   "version": "3.13.5"
  }
 },
 "nbformat": 4,
 "nbformat_minor": 5
}
