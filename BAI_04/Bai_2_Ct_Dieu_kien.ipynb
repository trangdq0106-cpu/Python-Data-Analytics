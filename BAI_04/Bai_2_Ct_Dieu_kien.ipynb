{
 "cells": [
  {
   "cell_type": "markdown",
   "id": "2ce8f96d-c223-463c-9e68-9cd4260f58fe",
   "metadata": {},
   "source": [
    "# 1.Cấu trúc điều kiện"
   ]
  },
  {
   "cell_type": "markdown",
   "id": "57190f05-f194-4012-b940-f5065728d0ff",
   "metadata": {},
   "source": [
    "### Cấu trúc điều kiện trong Python\n",
    "Cấu trúc điều kiện trong Python cho phép chương trình kiểm tra một điều kiện và thực hiện các lệnh tương ứng dựa trên kết quả của điều kiện đó. Điều này giúp chương trình có thể đưa ra quyết định và phản ứng linh hoạt với các tình huống khác nhau."
   ]
  },
  {
   "cell_type": "markdown",
   "id": "45ac3865",
   "metadata": {},
   "source": [
    "## Cú pháp 1: if\n",
    "Biểu thức if là một biểu thức điều kiện rất quan trọng và phổ biến trong python. Biểu thức if đứng một mình chỉ quan tâm tới điều kiện đúng (True). Khi điều kiện đúng thì khối lệnh bên trong sẽ được thực thi.  \n",
    "Cú pháp :  \n",
    "if condition :\n",
    "<blockquote>\n",
    "    block  \n",
    "</blockquote>\n",
    "\n",
    "if rồi đến khoản trắng , rồi đến biểu thức điều kiện và sau đó là dấu :    \n",
    "    block lệnh được đẩy vào bằng 1 khoảng tab ( hoặc khoảng trắng ), lưu ý python không dùng ngoặc nhọn để bao bọc các khối lệnh như C hay C++ mà dùng tab hoặc khoảng trắng.  "
   ]
  },
  {
   "cell_type": "code",
   "execution_count": 1,
   "id": "05a1dd8d-70e2-4865-b521-9b9237fa8167",
   "metadata": {},
   "outputs": [
    {
     "name": "stdin",
     "output_type": "stream",
     "text": [
      "Nhập điểm trung bình của bạn : 5\n"
     ]
    },
    {
     "name": "stdout",
     "output_type": "stream",
     "text": [
      "Hoan hô bạn!\n",
      "Bạn đã đậu!\n"
     ]
    }
   ],
   "source": [
    "# VD 1 : Điều kiện if\n",
    "\n",
    "dtb = float(input(\"Nhập điểm trung bình của bạn :\"))\n",
    "if dtb >=5 :\n",
    "    print(\"Hoan hô bạn!\")\n",
    "    print(\"Bạn đã đậu!\")\n",
    "        "
   ]
  },
  {
   "cell_type": "code",
   "execution_count": 3,
   "id": "879b04aa-9ebc-4d37-ab46-4b3d9e991418",
   "metadata": {},
   "outputs": [
    {
     "name": "stdout",
     "output_type": "stream",
     "text": [
      "Giảm giá: 25,000,000.24\n"
     ]
    }
   ],
   "source": [
    "# Cách in ra màn hình theo format số có dấu phân cách \n",
    "x =  25000000.24\n",
    "print('Giảm giá:', '{:,.2f}'.format(x))"
   ]
  },
  {
   "cell_type": "code",
   "execution_count": 2,
   "id": "2b18af8e",
   "metadata": {},
   "outputs": [
    {
     "name": "stdout",
     "output_type": "stream",
     "text": [
      "Giá gốc: 28,000,000 tiền trước bạ 100,000\n",
      "Giảm giá: 2,800,000\n",
      "TIỀN PHẢI TRẢ: 25,200,000\n",
      "Giá gốc: 28,000,000 tiền trước bạ 100,000\n",
      "Bạn có thể mua laptop này!\n"
     ]
    }
   ],
   "source": [
    "# VD 2 : Điều kiện mua laptop\n",
    "\n",
    "gia_goc = 28000000 # Giá gốc bán laptop\n",
    "ban_co = 27000000  # Số tiền bạn có\n",
    "giam_gia = 0.1     # Tỷ lệ giảm giá 10%\n",
    "tien_giam = gia_goc * giam_gia # 2800000\n",
    "tien_phai_tra = gia_goc - tien_giam # 28000000 - 2800000\n",
    "tien_truoc_ba =100000\n",
    "print('Giá gốc: {:,} tiền trước bạ {:,}'.format(gia_goc,tien_truoc_ba))\n",
    "print('Giảm giá:', '{:,.0f}'.format(tien_giam))\n",
    "print('TIỀN PHẢI TRẢ:', '{:,}'.format(int(tien_phai_tra)))\n",
    "print('Giá gốc:','{:,} tiền trước bạ {:,}'.format(gia_goc,tien_truoc_ba))\n",
    "\n",
    "if tien_phai_tra <= ban_co: #  ban_co >= tien_phai_tra\n",
    "    print('Bạn có thể mua laptop này!')"
   ]
  },
  {
   "cell_type": "markdown",
   "id": "83b24395",
   "metadata": {},
   "source": [
    "## Cú pháp 2: if...else\n",
    "Biểu thức if ... else là một biểu thức điều kiện rất quan trọng và phổ biến trong python.Biểu thức này quan tâm đến điều kiện đúng (True) và điều kiện sai (False). Nó phổ biến hơn biểu thức if đứng một mình.  \n",
    "Cú pháp :  \n",
    "if condition :\n",
    "<blockquote>\n",
    "    if-block  \n",
    "</blockquote>\n",
    "else:\n",
    "<blockquote>\n",
    "    else-block  \n",
    "</blockquote>\n",
    "    "
   ]
  },
  {
   "cell_type": "code",
   "execution_count": 8,
   "id": "6e8d1afb-d23e-4e89-9325-1b8270d53aea",
   "metadata": {},
   "outputs": [
    {
     "name": "stdin",
     "output_type": "stream",
     "text": [
      "Nhập điểm trung bình của bạn : 4.9\n"
     ]
    },
    {
     "name": "stdout",
     "output_type": "stream",
     "text": [
      "Chia buồn bạn!\n",
      "Bạn đã rớt!\n"
     ]
    }
   ],
   "source": [
    "# VD 1 : Điều kiện thi đậu hay thi rớt\n",
    "\n",
    "dtb = float(input(\"Nhập điểm trung bình của bạn :\"))\n",
    "if dtb >=5 :\n",
    "    print(\"Hoan hô bạn!\")\n",
    "    print(\"Bạn đã đậu!\")\n",
    "else:\n",
    "    print(\"Chia buồn bạn!\")\n",
    "    print(\"Bạn đã rớt!\")\n",
    "    "
   ]
  },
  {
   "cell_type": "code",
   "execution_count": 11,
   "id": "79d2ea48",
   "metadata": {},
   "outputs": [
    {
     "name": "stdout",
     "output_type": "stream",
     "text": [
      "Bạn cần thêm 150,000,000 để có thể mua xe\n"
     ]
    }
   ],
   "source": [
    "# VD 2 : Điều kiện mua xe ô tô\n",
    "\n",
    "tien_tiet_kiem = 400000000  # Số tiền tiết kiệm được\n",
    "gia_xe_oto = 550000000      # Giá xe ô tô đang bán\n",
    "\n",
    "if tien_tiet_kiem >= gia_xe_oto:\n",
    "    print('Bạn có thể mua chiếc xe này')\n",
    "else:\n",
    "    so_tien_con_lai = gia_xe_oto - tien_tiet_kiem  # Số tiền còn thiếu để mua xe\n",
    "    print('Bạn cần thêm {:,} để có thể mua xe'.format(so_tien_con_lai))"
   ]
  },
  {
   "cell_type": "markdown",
   "id": "18b3b8ec",
   "metadata": {},
   "source": [
    "## Cú pháp 3: if...elif...else\n",
    "Sử dụng elif (viết tắt của \"else if\") để kiểm tra nhiều điều kiện liên tiếp. Trong quá trình xử lý phần mềm không chỉ đơn thuần có một điều kiện if... else mà nó có rất nhiều điều kiện cần xử lý, không chỉ đơn thuần đúng hoặc sai mà còn có rất nhiều trường hợp, cho nên dẫn đến if... else lồng nhau."
   ]
  },
  {
   "cell_type": "code",
   "execution_count": null,
   "id": "a17ae9f4",
   "metadata": {},
   "outputs": [],
   "source": [
    "so_tien = int(input('Nhập số tiền mua hàng: '))\n",
    "tien_giam_gia = 0\n",
    "print('')\n",
    "if so_tien < 500000:\n",
    "    print('Bạn không được giảm giá')\n",
    "elif so_tien < 1000000:\n",
    "    print('Bạn được giảm giá 5%')\n",
    "    tien_giam_gia = so_tien * 0.05\n",
    "elif so_tien < 2000000:\n",
    "    print('Bạn được giảm giá 10%')\n",
    "    tien_giam_gia = so_tien * 0.1\n",
    "else:\n",
    "    print('Bạn được giảm giá 15%')\n",
    "    tien_giam_gia = so_tien * 0.15\n",
    "\n",
    "so_tien = so_tien - tien_giam_gia\n",
    "print('SỐ TIỀN GIẢM GIÁ:', '{:,}'.format(int(tien_giam_gia)))\n",
    "print('SỐ TIỀN PHẢI TRẢ:', '{:,}'.format(int(so_tien)))"
   ]
  },
  {
   "cell_type": "code",
   "execution_count": 15,
   "id": "6dda3bbc",
   "metadata": {},
   "outputs": [
    {
     "name": "stdout",
     "output_type": "stream",
     "text": [
      "50 < x < 70\n"
     ]
    }
   ],
   "source": [
    "# Chú ý mỗi điều kiện xét đúng thực hiện xong khối lệnh và kết thúc if\n",
    "x = 60\n",
    "if x < 40 :\n",
    "    print(\"x nhỏ hơn 100\")\n",
    "elif 50 < x < 70 :\n",
    "    print(\"50 < x < 70\")\n",
    "elif 60 < x < 102 :\n",
    "    print(\"60 < x < 100\")\n",
    "else:\n",
    "    print(\"Phần còn lại\")"
   ]
  },
  {
   "cell_type": "markdown",
   "id": "022169bf-b7f9-4706-a407-40430bdd25d6",
   "metadata": {},
   "source": [
    "## Toán tử điều kiện (if dạng rút gọn)\n",
    "Python hỗ trợ viết gọn câu lệnh if...else trên một dòng:"
   ]
  },
  {
   "cell_type": "code",
   "execution_count": 1,
   "id": "835a5a59-16cf-43ae-a0a7-74ad1b5711cd",
   "metadata": {},
   "outputs": [
    {
     "name": "stdout",
     "output_type": "stream",
     "text": [
      "Cách 1 : x không lớn hơn 5\n",
      "Cách 2 : x không lớn hơn 5\n"
     ]
    }
   ],
   "source": [
    "# Cách viết 1 \n",
    "x = 2\n",
    "\n",
    "print(\"Cách 1 : x lớn hơn 5\") if x > 5 else print(\"Cách 1 : x không lớn hơn 5\")\n",
    "\n",
    "# Cách viết 2\n",
    "if x > 5:\n",
    "    print(\"Cách 2 : x lớn hơn 5\")\n",
    "else :\n",
    "    print(\"Cách 2 : x không lớn hơn 5\")\n"
   ]
  },
  {
   "cell_type": "code",
   "execution_count": 3,
   "id": "98577ef3-e02a-4418-b62d-5cfda9b59de1",
   "metadata": {},
   "outputs": [
    {
     "name": "stdout",
     "output_type": "stream",
     "text": [
      "35\n"
     ]
    }
   ],
   "source": [
    "# Sử dụng toán tử if rút gọn như một phép gán biến\n",
    "a = 6 \n",
    "b = 5\n",
    "c = 35 if a != b else 40\n",
    "print(c)"
   ]
  },
  {
   "cell_type": "markdown",
   "id": "0ee8c260-1548-4158-ba05-7fd79fcd1ca1",
   "metadata": {},
   "source": [
    "## Câu lệnh pass trong điều kiện\n",
    "Khi một khối lệnh if chưa hoàn chỉnh, bạn có thể sử dụng pass để tránh lỗi:"
   ]
  },
  {
   "cell_type": "code",
   "execution_count": 6,
   "id": "26973119-ad23-4140-b66d-d9a94b1f3e3e",
   "metadata": {},
   "outputs": [],
   "source": [
    "x = 10\n",
    "if x > 5:\n",
    "    # print(\"Tui chưa làm gì cả\")\n",
    "    # pass # sễ báo lỗi\n",
    "    pass  # Chưa làm gì, nhưng không gây lỗi"
   ]
  },
  {
   "cell_type": "code",
   "execution_count": 7,
   "id": "78c8d8e7-3eed-47fc-aaf0-a78250116bcb",
   "metadata": {},
   "outputs": [
    {
     "name": "stdin",
     "output_type": "stream",
     "text": [
      "Mời bạn nhập vào hệ số a: 5\n",
      "Mời bạn nhập vào hệ số b: 7\n"
     ]
    },
    {
     "name": "stdout",
     "output_type": "stream",
     "text": [
      "Nghiệm của công thức là:  -1.4\n"
     ]
    }
   ],
   "source": [
    "# Viết chương trình python giải phương trình bậc 1 : ax + b = 0\n",
    "# Nhập giá trị a và b từ người dùng ==> input , eval , float\n",
    "# Kiểm tra nếu 𝑎 = 0 , b khác 0 để xác định phương trình vô nghiệm hoặc có vô số nghiệm ==> if \n",
    "# Nếu 𝑎 ≠ 0 tính nghiệm theo công thức 𝑥 =−𝑏/𝑎\n",
    "\n",
    "a = eval(input(\"Mời bạn nhập vào hệ số a:\"))\n",
    "b = eval(input(\"Mời bạn nhập vào hệ số b:\"))\n",
    "if a == 0 and b != 0:\n",
    "    print(\"Phương trình vô nghiệm\")\n",
    "elif a == 0 and b == 0:\n",
    "    print(\"Phương trình có vô số nghiệm\")\n",
    "else:\n",
    "    x=-b/a\n",
    "    print(\"Nghiệm của công thức là: \", x )\n"
   ]
  },
  {
   "cell_type": "code",
   "execution_count": 26,
   "id": "e81d304e-5982-4193-9749-2c2107952c49",
   "metadata": {},
   "outputs": [
    {
     "name": "stdin",
     "output_type": "stream",
     "text": [
      "Mời bạn nhập hệ số a của phương trình: 6\n",
      "Mời bạn nhập hệ số b của phương trình: 2\n"
     ]
    },
    {
     "name": "stdout",
     "output_type": "stream",
     "text": [
      "Phương trình này có nghiệm là: -0.33\n"
     ]
    }
   ],
   "source": [
    "a = eval(input(\"Mời bạn nhập hệ số a của phương trình:\"))\n",
    "b = eval(input(\"Mời bạn nhập hệ số b của phương trình:\"))\n",
    "if a == 0 and b != 0: \n",
    "    print(\"Phương trình này vô nghiệm\")\n",
    "elif a == 0 and b == 0: \n",
    "    print(\"Phương trình này vô số nghiệm\")\n",
    "else: \n",
    "    x = -b/a \n",
    "    print(\"Phương trình này có nghiệm là:\", '{:,.2f}'.format(x))"
   ]
  },
  {
   "cell_type": "code",
   "execution_count": null,
   "id": "d5aa80e6-d767-4215-89d2-d78ea7ab853f",
   "metadata": {},
   "outputs": [],
   "source": [
    "# Viết chương trình python giải phương trình bậc 2 : ax2 + bx + c = 0\n",
    "# Nhập giá trị a , b và c từ người dùng\n",
    "# Kiểm tra nếu 𝑎 = 0 phương trình về dạng bậc 1 xét bậc 1\n",
    "# Nếu 𝑎 ≠ 0 tính nghiệm delta = b*b - 4 a*c \n",
    "# Nếu delta > 0 ==> có 2 nghiệm x1 = -b+căn delta/2a , x2 = -b-căn delta/2a\n",
    "# Nếu delta = 0 ==> phương trình có nghiệm kép x = -b / (2 * a)\n",
    "# Còn lại ==> Phương trình vô nghiệm"
   ]
  },
  {
   "cell_type": "markdown",
   "id": "35e868b4-1fa4-4bba-b193-53781fcec15c",
   "metadata": {},
   "source": [
    "Thư viện math là thư viện chuẩn (built-in) của Python  \n",
    "math có sẵn trong Python, không cần cài đặt thêm.  \n",
    "Dùng để thực hiện các phép toán học thông dụng và nâng cao.  \n",
    "Là thư viện cấp thấp, chủ yếu làm việc với số thực (float).  \n",
    "\n",
    "##### 📘 Một số hàm cơ bản trong thư viện `math`\n",
    "\n",
    "| Hàm | Ý nghĩa | Ví dụ sử dụng | Kết quả |\n",
    "|------|--------|----------------|---------|\n",
    "| `math.sqrt(x)` | Tính căn bậc hai của `x` | `math.sqrt(16)` | `4.0` |\n",
    "| `math.pow(x, y)` | Tính `x` mũ `y` | `math.pow(2, 3)` | `8.0` |\n",
    "| `math.exp(x)` | Tính `e^x` | `math.exp(1)` | ≈ `2.718` |\n",
    "| `math.log(x, base)` | Logarit cơ số `base` của `x` | `math.log(100, 10)` | `2.0` |\n",
    "| `math.factorial(n)` | Giai thừa của `n` | `math.factorial(5)` | `120` |\n",
    "| `math.ceil(x)` | Làm tròn lên | `math.ceil(4.2)` | `5` |\n",
    "| `math.floor(x)` | Làm tròn xuống | `math.floor(4.9)` | `4` |\n",
    "| `math.pi` | Hằng số π (pi) | `math.pi` | ≈ `3.14159` |\n",
    "| `math.e` | Hằng số Euler (e) | `math.e` | ≈ `2.71828` |\n",
    "| `math.sin(x)` | Sin của `x` (radian) | `math.sin(math.pi/2)` | `1.0` |\n",
    "| `math.degrees(x)` | Đổi radian sang độ | `math.degrees(math.pi)` | `180.0` |\n",
    "| `math.radians(x)` | Đổi độ sang radian | `math.radians(90)` | ≈ `1.5708` |\n"
   ]
  },
  {
   "cell_type": "code",
   "execution_count": 10,
   "id": "9e42a971-6141-40fe-a182-ac29ce5174da",
   "metadata": {},
   "outputs": [
    {
     "data": {
      "text/plain": [
       "2.23606797749979"
      ]
     },
     "execution_count": 10,
     "metadata": {},
     "output_type": "execute_result"
    }
   ],
   "source": [
    "# Sử dụng thư viện thư viện chuẩn của python (built-in - không cần cài đặt pip ) \n",
    "import math # as mt \n",
    "x = 5\n",
    "math.sqrt(x)\n",
    "# mt.sqrt(x)"
   ]
  },
  {
   "cell_type": "code",
   "execution_count": 11,
   "id": "67e94d8c-393c-48e3-8775-ea524d313bf9",
   "metadata": {},
   "outputs": [
    {
     "data": {
      "text/plain": [
       "148.4131591025766"
      ]
     },
     "execution_count": 11,
     "metadata": {},
     "output_type": "execute_result"
    }
   ],
   "source": [
    "math.exp(x)"
   ]
  },
  {
   "cell_type": "code",
   "execution_count": 22,
   "id": "d4d7c4dd-a825-467e-be6e-4aeb9499e367",
   "metadata": {},
   "outputs": [
    {
     "name": "stdin",
     "output_type": "stream",
     "text": [
      "Mời bạn nhập hệ số a của phương trình: 2\n",
      "Mời bạn nhập hệ số b của phương trình: 5\n",
      "Mời bạn nhập hệ số c của phương trình: 2\n"
     ]
    },
    {
     "name": "stdout",
     "output_type": "stream",
     "text": [
      "Phương trình bậc hai này có 2 nghiệm lần lượt là: -0.50 và -2.00\n"
     ]
    }
   ],
   "source": [
    "import math \n",
    "# ax2 + bx + c = 0  ==> Tính delta \n",
    "a = eval(input(\"Mời bạn nhập hệ số a của phương trình:\"))\n",
    "b = eval(input(\"Mời bạn nhập hệ số b của phương trình:\"))\n",
    "c = eval(input(\"Mời bạn nhập hệ số c của phương trình:\"))\n",
    "\n",
    "delta = b**2 - 4 * a * c \n",
    "\n",
    "if a == 0: \n",
    "    if b == 0 and c != 0: \n",
    "        print(\"Phương trình này vô nghiệm\")\n",
    "    elif b == 0 and c == 0: \n",
    "        print(\"Phương trình này vô số nghiệm\")\n",
    "    else: \n",
    "        nghiem1 = (c / b)* -1 \n",
    "        print(\"Phương trình này có nghiệm là:\", '{:,.2f}'.format(nghiem1))\n",
    "elif delta > 0:\n",
    "    nghiem2 = (-b + math.sqrt(delta))/ (2*a)\n",
    "    nghiem3 = (-b - math.sqrt(delta))/ (2*a)\n",
    "    print(\"Phương trình bậc hai này có 2 nghiệm lần lượt là:\", '{:,.2f} và {:,.2f}'.format(nghiem2,nghiem3))\n",
    "elif delta == 0:\n",
    "    nghiemkep = -b / (2*a)\n",
    "    print(\"Phương trình này có nghiệm kép là:\", '{:,2f}'.format(nghiemkep))\n",
    "else:\n",
    "    print(\"Phương trình bậc hai này vô nghiệm\")"
   ]
  },
  {
   "cell_type": "code",
   "execution_count": null,
   "id": "3efd6987-44ac-42f7-b14e-c97f4c1444ee",
   "metadata": {},
   "outputs": [],
   "source": []
  }
 ],
 "metadata": {
  "kernelspec": {
   "display_name": "Python [conda env:base] *",
   "language": "python",
   "name": "conda-base-py"
  },
  "language_info": {
   "codemirror_mode": {
    "name": "ipython",
    "version": 3
   },
   "file_extension": ".py",
   "mimetype": "text/x-python",
   "name": "python",
   "nbconvert_exporter": "python",
   "pygments_lexer": "ipython3",
   "version": "3.13.5"
  }
 },
 "nbformat": 4,
 "nbformat_minor": 5
}
