{
 "cells": [
  {
   "cell_type": "code",
   "execution_count": 38,
   "id": "7f798cc5-7927-43fc-b2a1-5fd5bf56895a",
   "metadata": {},
   "outputs": [
    {
     "name": "stdin",
     "output_type": "stream",
     "text": [
      "Hãy nhập số tài khoản của bạn: 1234567890\n"
     ]
    },
    {
     "name": "stdout",
     "output_type": "stream",
     "text": [
      "True\n"
     ]
    }
   ],
   "source": [
    "#4.1. Kiểm tra sự hợp lệ của số tài khoản  \n",
    "account_number = input(\"Hãy nhập số tài khoản của bạn:\" )\n",
    "def check_account_number(account_number):\n",
    "    if isinstance(account_number,str) and account_number.isdigit():\n",
    "        if len(account_number)== 10:\n",
    "            return True        \n",
    "    else: \n",
    "        return False\n",
    "\n",
    "if check_account_number(account_number):\n",
    "    print(check_account_number(account_number))\n",
    "else: \n",
    "    print(\"Số tài khoản không hợp lệ\")    "
   ]
  },
  {
   "cell_type": "code",
   "execution_count": 11,
   "id": "e7023e57-a102-4be3-985c-667f283a44d1",
   "metadata": {},
   "outputs": [
    {
     "name": "stdin",
     "output_type": "stream",
     "text": [
      "Hãy nhập cân nặng (kg):  80\n",
      "Hãy nhập chiều cao (m):  1.76\n"
     ]
    },
    {
     "name": "stdout",
     "output_type": "stream",
     "text": [
      "Chỉ số BMI là: 25.826446280991735\n",
      "Đánh giá BMI: Béo phì độ I\n"
     ]
    }
   ],
   "source": [
    "# 4.2. Tính chỉ số BMI\n",
    "def tinh_bmi(can_nang,chieu_cao):\n",
    "    bmi = can_nang / (chieu_cao ** 2)\n",
    "    return bmi \n",
    "\n",
    "def danh_gia_bmi(bmi):\n",
    "    if bmi < 18.5:\n",
    "        return \"Thiếu Cân (Gầy)\"\n",
    "    elif bmi < 22.9:\n",
    "        return \"Bình thường\"\n",
    "    elif bmi < 24.9:\n",
    "        return \"Thừa Cân\"\n",
    "    elif bmi < 29.9: \n",
    "        return \"Béo phì độ I\"\n",
    "    elif bmi <= 40:\n",
    "        return \"Béo phì độ II\"\n",
    "    else: \n",
    "        return \"Béo phì độ III\"\n",
    "\n",
    "\n",
    "#Nhập từ người dùng \n",
    "can_nang = float(input(\"Hãy nhập cân nặng (kg): \"))\n",
    "chieu_cao = float(input(\"Hãy nhập chiều cao (m): \"))\n",
    "chi_so_bmi = tinh_bmi(can_nang,chieu_cao)\n",
    "danh_gia = danh_gia_bmi(chi_so_bmi)\n",
    "print(f\"Chỉ số BMI là: {chi_so_bmi}\")\n",
    "print(f\"Đánh giá BMI: {danh_gia}\")"
   ]
  },
  {
   "cell_type": "code",
   "execution_count": 18,
   "id": "e15acc32-60eb-4451-b233-29aaf296c472",
   "metadata": {},
   "outputs": [
    {
     "name": "stdin",
     "output_type": "stream",
     "text": [
      "Nhập vào thu nhập cả năm:  300000000\n"
     ]
    },
    {
     "name": "stdout",
     "output_type": "stream",
     "text": [
      "Dựa vào thu nhập cả năm là: 300000000 VND, khách hàng được xếp vào Nhóm Thu Nhập Ổn Định Và Cao\n"
     ]
    }
   ],
   "source": [
    "#4.3. Phân loại nhóm khách hàng dựa trên thu nhập hàng năm \n",
    "def phan_loai(doanh_thu):\n",
    "    if doanh_thu <= 50000000:\n",
    "        return \"Nhóm Thu Nhập Thấp\"\n",
    "    if doanh_thu <= 100000000:\n",
    "        return \"Nhóm Thu Nhập Trung Bình\"\n",
    "    if doanh_thu <= 500000000: \n",
    "        return \"Nhóm Thu Nhập Ổn Định Và Cao\"\n",
    "    if doanh_thu > 500000000:\n",
    "        return \"Nhóm Thu Nhập Rất Cao\"\n",
    "\n",
    "#Nhập từ người dùng\n",
    "doanh_thu = int(input(\"Nhập vào thu nhập cả năm: \"))\n",
    "ket_qua = phan_loai(doanh_thu)\n",
    "print(f\"Dựa vào thu nhập cả năm là: {doanh_thu} VND, khách hàng được xếp vào {ket_qua}\")\n",
    "\n",
    "\n"
   ]
  },
  {
   "cell_type": "code",
   "execution_count": 30,
   "id": "92b0d2a5-84d7-46e9-9ec3-bfeb2cd35345",
   "metadata": {},
   "outputs": [
    {
     "name": "stdin",
     "output_type": "stream",
     "text": [
      "Nhập lợi nhuận sau thuế:  1800\n",
      "Nhập doanh thu thuần:  12000\n"
     ]
    },
    {
     "name": "stdout",
     "output_type": "stream",
     "text": [
      "Tỷ suất lợi nhuận trên doanh thu: 15.0\n",
      "Mức độ: Đơn vị có lãi, phát triển tốt\n"
     ]
    }
   ],
   "source": [
    "#4.4. Tỷ suất lợi nhuận trên doanh thu (Return On Sales)\n",
    "\n",
    "ty_suat = lambda loi_nhuan, doanh_thu: 'Công ty thua lỗ nên chi phí bị âm' if (loi_nhuan/doanh_thu)*100 < 0 else 'Công ty đang trên đà phát triển' if (loi_nhuan/doanh_thu)*100 <= 0.1 else 'Đơn vị có lãi, phát triển tốt'\n",
    "\n",
    "\n",
    "#Nhập từ ngừoi dùng \n",
    "loi_nhuan = int(input(\"Nhập lợi nhuận sau thuế: \"))\n",
    "doanh_thu = int(input(\"Nhập doanh thu thuần: \"))\n",
    "ty_suat_loi_nhuan = (loi_nhuan/doanh_thu)*100\n",
    "muc_do = ty_suat(loi_nhuan, doanh_thu)\n",
    "print(f\"Tỷ suất lợi nhuận trên doanh thu: {ty_suat_loi_nhuan}\")\n",
    "print(f\"Mức độ: {muc_do}\")\n",
    "\n"
   ]
  }
 ],
 "metadata": {
  "kernelspec": {
   "display_name": "Python [conda env:base] *",
   "language": "python",
   "name": "conda-base-py"
  },
  "language_info": {
   "codemirror_mode": {
    "name": "ipython",
    "version": 3
   },
   "file_extension": ".py",
   "mimetype": "text/x-python",
   "name": "python",
   "nbconvert_exporter": "python",
   "pygments_lexer": "ipython3",
   "version": "3.13.5"
  }
 },
 "nbformat": 4,
 "nbformat_minor": 5
}
