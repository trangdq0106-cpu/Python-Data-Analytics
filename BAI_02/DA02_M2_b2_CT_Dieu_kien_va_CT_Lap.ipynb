{
 "cells": [
  {
   "cell_type": "code",
   "execution_count": 13,
   "id": "d71a6f8e-3a07-472b-a9a0-1f8caedda35a",
   "metadata": {},
   "outputs": [
    {
     "name": "stdin",
     "output_type": "stream",
     "text": [
      "Nhập mức chi tiêu của người dùng:  50000000\n"
     ]
    },
    {
     "name": "stdout",
     "output_type": "stream",
     "text": [
      "50000000\n",
      "Với mức chi tiêu là 50,000,000VND, người dùng thuộc nhóm Vàng\n"
     ]
    }
   ],
   "source": [
    "#2.1. Phân loại người dùng dựa trên mức chi tiêu \n",
    "muc_chi_tieu = int(input(\"Nhập mức chi tiêu của người dùng: \"))\n",
    "print (muc_chi_tieu)\n",
    "if muc_chi_tieu >= 100000000:\n",
    "    print('Với mức chi tiêu là {:,}VND, người dùng thuộc nhóm Platinium'.format(muc_chi_tieu))\n",
    "elif muc_chi_tieu >= 50000000:\n",
    "    print('Với mức chi tiêu là {:,}VND, người dùng thuộc nhóm Vàng'.format(muc_chi_tieu))\n",
    "elif muc_chi_tieu >= 10000000: \n",
    "    print('Với mức chi tiêu là {:,}VND, người dùng thuộc nhóm Bạc'.format(muc_chi_tieu))\n",
    "else:\n",
    "    print('Với mức chi tiêu là {:,}VND, người dùng thuộc nhóm Tiêu chuẩn'.format(muc_chi_tieu))\n",
    "\n"
   ]
  },
  {
   "cell_type": "code",
   "execution_count": 6,
   "id": "b54393a7-228d-456b-be2a-f01fb0b2255f",
   "metadata": {},
   "outputs": [
    {
     "name": "stdin",
     "output_type": "stream",
     "text": [
      "Nhập giá trị giao dịch(Nhập 0 để dừng):  2000000\n",
      "Nhập giá trị giao dịch(Nhập 0 để dừng):  3500000\n",
      "Nhập giá trị giao dịch(Nhập 0 để dừng):  1800000\n",
      "Nhập giá trị giao dịch(Nhập 0 để dừng):  10000000\n",
      "Nhập giá trị giao dịch(Nhập 0 để dừng):  0\n"
     ]
    },
    {
     "name": "stdout",
     "output_type": "stream",
     "text": [
      "Tổng giao dịch: 17300000VND\n"
     ]
    }
   ],
   "source": [
    "#2.2. Tổng hợp các giao dịch\n",
    "tong_giao_dich = 0 \n",
    "while True:\n",
    "    try:\n",
    "        giao_dich = int(input(\"Nhập giá trị giao dịch(Nhập 0 để dừng): \"))\n",
    "        if giao_dich == 0:\n",
    "            break\n",
    "        tong_giao_dich += giao_dich      \n",
    "    except ValueError: \n",
    "        print(\"Nhập số không hợp lệ\")\n",
    "print (f\"Tổng giao dịch: {tong_giao_dich}VND\") \n",
    "    "
   ]
  },
  {
   "cell_type": "code",
   "execution_count": null,
   "id": "2d59f380-eabf-4500-845a-4af1472fef78",
   "metadata": {},
   "outputs": [],
   "source": [
    "#2.3 Tính tiền thuê phòng resort \n",
    "\n",
    "ma_phong_mang =  [1, 2, 3, 4, 5, 6, 7, 8]\n",
    "ten_phong_mang = [\"Standard\", \"Superior Garden View\", \"Superior Ocean View\", \"Garden View Bungalow\", \"Pool View Bungalow\", \"Family Room\", \"Beach Front Bungalow\", \"VIP Sea View\"]\n",
    "tien_phong_mang = [1260000, 1550000, 1830000, 1830000, 2120000, 2120000, 2540000, 4800000]\n",
    "try:\n",
    "    ma_phong_nhap = int(input(\"Nhập loại phòng(từ 1 đến 8): \"))\n",
    "    so_dem_nhap = int(input(\"Nhập số đêm: \"))\n",
    "    ma_index = ma_phong_mang.index(ma_phong_nhap)\n",
    "    ten_phong = ten_phong_mang[ma_index]\n",
    "    tien_phong = tien_phong_mang[ma_index]\n",
    "    tong_tien = tien_phong * so_dem_nhap\n",
    "    if so_dem_nhap <= 1:\n",
    "        thanh_tien = tong_tien \n",
    "    elif so_dem_nhap <= 4:\n",
    "        thanh_tien = tong_tien * 0.75\n",
    "    else:\n",
    "        thanh_tien = tong_tien * 0.70          \n",
    "        \n",
    "    print(f\"Tên loại phòng: {ten_phong} - Số Đêm: {so_dem_nhap}đêm - Thành Tiền: {thanh_tien}VND\")\n",
    "\n",
    "except ValueError: \n",
    "    print(f\"Nhập lỗi hợp lệ từ 0 đến 8\")\n",
    "\n",
    "\n",
    "\n",
    " "
   ]
  },
  {
   "cell_type": "code",
   "execution_count": null,
   "id": "05492575-62d1-45a1-9782-33def82b2619",
   "metadata": {},
   "outputs": [],
   "source": [
    "tong_thu_nhap = int(input(\"Nhập số tiền thu nhập trong năm: \"))\n",
    "so_nguoi_phu_thuoc = int(input(\"Nhập số người phụ thuộc: \"))\n",
    "\n",
    "# Tính số tiền giảm trừ\n",
    "giam_ban_than = 11000000 * 12\n",
    "giam_nguoi_phu_thuoc = (4400000 * 12) * so_nguoi_phu_thuoc\n",
    "tien_giam_tru = giam_ban_than + giam_nguoi_phu_thuoc\n",
    "\n",
    "# Tính thu nhập tính thuế\n",
    "tntt = tong_thu_nhap - tien_giam_tru\n",
    "if tntt <= 0:\n",
    "    tntt = 0\n",
    "    \n",
    "# Tính thuế thu nhập cá nhân theo biểu lũy tiến\n",
    "bac_thue = [\n",
    "    (60000000, 0.05),\n",
    "    (120000000, 0.1),\n",
    "    (216000000, 0.15),\n",
    "    (384000000, 0.2),\n",
    "    (624000000, 0.25),\n",
    "    (960000000, 0.3),\n",
    "    (float('inf'), 0.35)\n",
    "]\n",
    "\n",
    "tong_thue_phai_nop = 0\n",
    "thunhap_conlai = tntt\n",
    "\n",
    "for gioi_han, muc_thue in bac_thue:\n",
    "    if thunhap_conlai > 0:\n",
    "        so_tien_tinh_thue = min(gioi_han, thunhap_conlai)\n",
    "        thue_bac_nay = so_tien_tinh_thue * muc_thue\n",
    "        tong_thue_phai_nop += thue_bac_nay\n",
    "        thunhap_conlai -= so_tien_tinh_thue\n",
    "    else:\n",
    "        break\n",
    "\n",
    "# Hiển thị lên màn hình\n",
    "print(f\"Số tiền giảm trừ: {tien_giam_xtru} VND\")\n",
    "print(f\"Số thu nhập tính thuế: {tntt} VND\")\n",
    "print(f\"Tổng thuế phải nộp: {tong_thue_phai_nop} VND\")"
   ]
  },
  {
   "cell_type": "code",
   "execution_count": null,
   "id": "41bfa9df-c6ab-47b3-a822-b059d5239751",
   "metadata": {},
   "outputs": [],
   "source": []
  },
  {
   "cell_type": "code",
   "execution_count": null,
   "id": "c04467b2-1025-4767-8563-b8f72709f32c",
   "metadata": {},
   "outputs": [],
   "source": []
  }
 ],
 "metadata": {
  "kernelspec": {
   "display_name": "Python [conda env:base] *",
   "language": "python",
   "name": "conda-base-py"
  },
  "language_info": {
   "codemirror_mode": {
    "name": "ipython",
    "version": 3
   },
   "file_extension": ".py",
   "mimetype": "text/x-python",
   "name": "python",
   "nbconvert_exporter": "python",
   "pygments_lexer": "ipython3",
   "version": "3.13.5"
  }
 },
 "nbformat": 4,
 "nbformat_minor": 5
}
