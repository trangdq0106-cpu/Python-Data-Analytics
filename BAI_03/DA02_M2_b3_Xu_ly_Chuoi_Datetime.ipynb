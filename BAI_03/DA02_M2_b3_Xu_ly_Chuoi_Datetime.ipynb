{
 "cells": [
  {
   "cell_type": "code",
   "execution_count": 16,
   "id": "515832f8-6860-4c08-8051-15f776399f53",
   "metadata": {},
   "outputs": [
    {
     "ename": "IndentationError",
     "evalue": "unexpected indent (1382420774.py, line 22)",
     "output_type": "error",
     "traceback": [
      "\u001b[0;36m  Cell \u001b[0;32mIn[16], line 22\u001b[0;36m\u001b[0m\n\u001b[0;31m    if nhap_tiep == \"0\":\u001b[0m\n\u001b[0m    ^\u001b[0m\n\u001b[0;31mIndentationError\u001b[0m\u001b[0;31m:\u001b[0m unexpected indent\n"
     ]
    }
   ],
   "source": [
    "\n",
    "danh_sach_email = []\n",
    "#nhập email đầu tiên\n",
    "email_khach = input(\"Hãy nhập email khách hàng: \")\n",
    "phan_tach = email_khach.split('@')\n",
    "if len(phan_tach)==2:\n",
    "    ten_khach = phan_tach[0]\n",
    "    ten_mien = phan_tach[1]\n",
    "    thong_tin_email = {\n",
    "        \"ten_khach\" : ten_khach,\n",
    "        \"ten_mien\" : ten_mien \n",
    "    }\n",
    "    danh_sach_email.append(thong_tin_email)\n",
    "else \n",
    "    print(\"Email không hợp lệ\")\n",
    "\n",
    "#Hỏi tiếp \n",
    "nhap_tiep = input(\"Bạn muốn tiếp tục nhập không? 1 để tiếp tục, 0 để dừng: \")    \n",
    "while nhap_tiep == \"1\":\n",
    "    email_khach = input(\"Hãy nhập email khách hàng: \")\n",
    "    phan_tach = email_khach.split('@')\n",
    "        if len(phan_tach)==2:\n",
    "        ten_khach = phan_tach[0]\n",
    "        ten_mien = phan_tach[1]\n",
    "        thong_tin_email = {\n",
    "            \"ten_khach\" : ten_khach,\n",
    "            \"ten_mien\" : ten_mien \n",
    "        }\n",
    "        danh_sach_email.append(thong_tin_email)\n",
    "        else \n",
    "            print(\"Email không hợp lệ\")\n",
    "\n",
    "nhap_tiep = input(\"Bạn muốn tiếp tục nhập không? 1 để tiếp tục, 0 để dừng: \")\n",
    "\n",
    "# In ra tất cả email đã nhập\n",
    "for email in danh_sach_email:\n",
    "    print(f\"Tên khách hàng: {email['ten_khach'], email['ten_mien']}\")\n",
    "\n",
    "    "
   ]
  },
  {
   "cell_type": "code",
   "execution_count": null,
   "id": "bc8f5028-16cb-46b5-8606-9cac1cde6899",
   "metadata": {},
   "outputs": [
    {
     "name": "stdout",
     "output_type": "stream",
     "text": [
      "Chào mừng bạn đến với chương trình phân tích email khách hàng.\n",
      "Nhập '0' để ngừng nhập và hiển thị danh sách.\n"
     ]
    },
    {
     "name": "stdin",
     "output_type": "stream",
     "text": [
      "Nhập địa chỉ email:  trang@yahoo.com\n"
     ]
    },
    {
     "name": "stdout",
     "output_type": "stream",
     "text": [
      "-> Đã thêm email vào danh sách.\n",
      "\n"
     ]
    },
    {
     "name": "stdin",
     "output_type": "stream",
     "text": [
      "Nhập địa chỉ email:  trang.com\n"
     ]
    },
    {
     "name": "stdout",
     "output_type": "stream",
     "text": [
      "Lỗi: Đây không phải là một địa chỉ email hợp lệ. Vui lòng thử lại.\n",
      "\n"
     ]
    },
    {
     "name": "stdin",
     "output_type": "stream",
     "text": [
      "Nhập địa chỉ email:  trang.com\n"
     ]
    },
    {
     "name": "stdout",
     "output_type": "stream",
     "text": [
      "Lỗi: Đây không phải là một địa chỉ email hợp lệ. Vui lòng thử lại.\n",
      "\n"
     ]
    },
    {
     "name": "stdin",
     "output_type": "stream",
     "text": [
      "Nhập địa chỉ email:  \n"
     ]
    },
    {
     "name": "stdout",
     "output_type": "stream",
     "text": [
      "Lỗi: Đây không phải là một địa chỉ email hợp lệ. Vui lòng thử lại.\n",
      "\n"
     ]
    }
   ],
   "source": [
    "# Tạo một danh sách rỗng để lưu trữ các email đã nhập\n",
    "danh_sach_email = []\n",
    "\n",
    "print(\"Chào mừng bạn đến với chương trình phân tích email khách hàng.\")\n",
    "print(\"Nhập '0' để ngừng nhập và hiển thị danh sách.\")\n",
    "\n",
    "# Vòng lặp vô hạn để liên tục nhận input từ người dùng\n",
    "while True:\n",
    "    email_khach = input(\"Nhập địa chỉ email: \")\n",
    "\n",
    "    # Kiểm tra điều kiện để thoát vòng lặp\n",
    "    if email_khach == '0':\n",
    "        print(\"Đã ngừng nhập liệu.\")\n",
    "        break  # Lệnh break để thoát khỏi vòng lặp\n",
    "\n",
    "    # Kiểm tra email có hợp lệ không bằng cách tìm ký tự '@'\n",
    "    if '@' in email_khach:\n",
    "        # Tách chuỗi email thành hai phần: tên và tên miền\n",
    "        phan_tach = email_khach.split('@')\n",
    "        ten_khach = phan_tach[0]\n",
    "        ten_mien = phan_tach[1]\n",
    "\n",
    "        # Tạo một dictionary để lưu thông tin của một email\n",
    "        thong_tin_email = {\n",
    "            \"ten_khach\": ten_khach,\n",
    "            \"ten_mien\": ten_mien\n",
    "        }\n",
    "\n",
    "        # Thêm dictionary vào danh sách chính\n",
    "        danh_sach_email.append(thong_tin_email)\n",
    "        print(\"-> Đã thêm email vào danh sách.\\n\")\n",
    "    else:\n",
    "        print(\"Lỗi: Đây không phải là một địa chỉ email hợp lệ. Vui lòng thử lại.\\n\")\n",
    "\n",
    "# Sau khi vòng lặp kết thúc, in ra danh sách các email đã thu thập được\n",
    "print(\"=\" * 40)\n",
    "print(\"DANH SÁCH THÔNG TIN EMAIL ĐÃ NHẬP\")\n",
    "print(\"=\" * 40)\n",
    "\n",
    "if not danh_sach_email:\n",
    "    print(\"Không có email nào được nhập.\")\n",
    "else:\n",
    "    for email in danh_sach_email:\n",
    "        print(f\"Tên khách hàng: {email['ten_khach']}\")\n",
    "        print(f\"Tên miền: {email['ten_mien']}\")\n",
    "        print(\"-\" * 25)"
   ]
  }
 ],
 "metadata": {
  "kernelspec": {
   "display_name": "Python [conda env:base] *",
   "language": "python",
   "name": "conda-base-py"
  },
  "language_info": {
   "codemirror_mode": {
    "name": "ipython",
    "version": 3
   },
   "file_extension": ".py",
   "mimetype": "text/x-python",
   "name": "python",
   "nbconvert_exporter": "python",
   "pygments_lexer": "ipython3",
   "version": "3.13.5"
  }
 },
 "nbformat": 4,
 "nbformat_minor": 5
}
