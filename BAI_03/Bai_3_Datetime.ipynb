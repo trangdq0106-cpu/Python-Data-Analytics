{
 "cells": [
  {
   "cell_type": "markdown",
   "id": "529d8a8a-6568-4c05-bd28-55b384f3c09d",
   "metadata": {},
   "source": [
    "# 2.Xử lý datetime\n",
    "Trong Python, module datetime được sử dụng để làm việc với ngày tháng năm và thời gian. Nó cung cấp các lớp và phương thức mạnh mẽ để tạo, thao tác và định dạng ngày giờ.  \n",
    "Các lớp quan trọng trong module datetime"
   ]
  },
  {
   "cell_type": "markdown",
   "id": "f0040d96-3319-44cc-bf3e-45feef0f33fa",
   "metadata": {},
   "source": [
    "### a. datetime.datetime  \n",
    "Đây là lớp phổ biến nhất, đại diện cho ngày và giờ."
   ]
  },
  {
   "cell_type": "code",
   "execution_count": 31,
   "id": "34112fe3-deef-4442-a74c-ec49206e2520",
   "metadata": {},
   "outputs": [],
   "source": [
    "from datetime import datetime # Chỉ import lớp datetime\n",
    "# import datetime"
   ]
  },
  {
   "cell_type": "code",
   "execution_count": 32,
   "id": "d272f76d-080b-40e7-8e6f-a40ba5e65507",
   "metadata": {},
   "outputs": [
    {
     "name": "stdout",
     "output_type": "stream",
     "text": [
      "2025-08-30 14:11:45.471951\n"
     ]
    }
   ],
   "source": [
    "# Lấy thời gian hiện tại\n",
    "now = datetime.now()  # Lấy thời gian hiện tại\n",
    "print(now)   # Ví dụ: 2025-03-11 14:30:15.123456\n"
   ]
  },
  {
   "cell_type": "code",
   "execution_count": 33,
   "id": "e79f8e9e-0ee4-49ff-926c-682a744d5c24",
   "metadata": {},
   "outputs": [
    {
     "name": "stdout",
     "output_type": "stream",
     "text": [
      "Năm: 2025\n",
      "Tháng: 8\n",
      "Ngày: 30\n",
      "Giờ: 14\n",
      "Phút: 11\n",
      "Giây: 45\n"
     ]
    }
   ],
   "source": [
    "# Năm tháng ngày \n",
    "print(\"Năm:\", now.year)\n",
    "print(\"Tháng:\", now.month)\n",
    "print(\"Ngày:\", now.day)\n",
    "# Giờ phút giây \n",
    "print(\"Giờ:\", now.hour)\n",
    "print(\"Phút:\", now.minute)\n",
    "print(\"Giây:\", now.second)"
   ]
  },
  {
   "cell_type": "code",
   "execution_count": 34,
   "id": "48f3364b-b948-4df7-ad7f-8a7bb5ee5164",
   "metadata": {},
   "outputs": [
    {
     "name": "stdout",
     "output_type": "stream",
     "text": [
      "2025-03-11 14:30:00\n",
      "<class 'datetime.datetime'>\n"
     ]
    }
   ],
   "source": [
    "# Tạo một đối tượng datetime tùy chỉnh\n",
    "dt = datetime(2025, 3, 11, 14, 30, 0)\n",
    "print(dt)  # 2025-03-11 14:30:00\n",
    "print(type(dt))"
   ]
  },
  {
   "cell_type": "markdown",
   "id": "2c002719-a0ce-489a-ad18-ed38dd5de6ea",
   "metadata": {},
   "source": [
    "### b. datetime.date  \n",
    "Lớp này chỉ làm việc với ngày (không có giờ)."
   ]
  },
  {
   "cell_type": "code",
   "execution_count": 35,
   "id": "fe458d0c-c7d4-4516-a79e-84da77723643",
   "metadata": {},
   "outputs": [],
   "source": [
    "from datetime import date # Chỉ import lớp date\n",
    "# import datetime # as dt "
   ]
  },
  {
   "cell_type": "code",
   "execution_count": 36,
   "id": "d529824f-6fd1-4063-9b41-306f5b10e3e9",
   "metadata": {},
   "outputs": [
    {
     "name": "stdout",
     "output_type": "stream",
     "text": [
      "2025-08-30\n"
     ]
    }
   ],
   "source": [
    "# Trả về ngày hiện hành \n",
    "today = date.today()\n",
    "# today = datetime.date.today()\n",
    "print(today)  # Ví dụ: 2025-03-11"
   ]
  },
  {
   "cell_type": "code",
   "execution_count": 37,
   "id": "c54cd8f0-c1b0-4686-b42b-fbf989516bf1",
   "metadata": {},
   "outputs": [
    {
     "name": "stdout",
     "output_type": "stream",
     "text": [
      "2025\n",
      "8\n",
      "30\n"
     ]
    }
   ],
   "source": [
    "print(today.year)\n",
    "print(today.month)\n",
    "print(today.day)"
   ]
  },
  {
   "cell_type": "code",
   "execution_count": 38,
   "id": "34434950-a367-4a11-87df-213ebed71028",
   "metadata": {},
   "outputs": [
    {
     "name": "stdout",
     "output_type": "stream",
     "text": [
      "2025-03-31\n",
      "<class 'datetime.date'>\n"
     ]
    }
   ],
   "source": [
    "# Tạo một đối tượng date cụ thể:\n",
    "d = date(2025, 3, 31)\n",
    "print(d)  # 2025-03-11\n",
    "print(type(d))"
   ]
  },
  {
   "cell_type": "markdown",
   "id": "efa206c5-dbfa-4621-9c88-bec9e1fba623",
   "metadata": {},
   "source": [
    "### c. datetime.time  \n",
    "Lớp này chỉ lưu trữ giờ, phút, giây."
   ]
  },
  {
   "cell_type": "code",
   "execution_count": 39,
   "id": "f52f3028-923c-4174-90f6-6f97d03e1331",
   "metadata": {},
   "outputs": [],
   "source": [
    "from datetime import time"
   ]
  },
  {
   "cell_type": "code",
   "execution_count": 40,
   "id": "8ff3f20f-7acc-43dd-bf0a-306b5ead8a1c",
   "metadata": {},
   "outputs": [
    {
     "name": "stdout",
     "output_type": "stream",
     "text": [
      "14:30:00\n",
      "<class 'datetime.time'>\n"
     ]
    }
   ],
   "source": [
    "t = time(14, 30, 0)\n",
    "print(t)  # 14:30:00\n",
    "print(type(t))  # 14:30:00"
   ]
  },
  {
   "cell_type": "code",
   "execution_count": 41,
   "id": "737c0cef-fe1f-4587-b552-5bff60ecd0c8",
   "metadata": {},
   "outputs": [
    {
     "name": "stdout",
     "output_type": "stream",
     "text": [
      "14\n",
      "30\n",
      "0\n"
     ]
    }
   ],
   "source": [
    "print(t.hour)\n",
    "print(t.minute)\n",
    "print(t.second)"
   ]
  },
  {
   "cell_type": "code",
   "execution_count": 42,
   "id": "94fff31e-8ee3-4af1-981d-91db7d885ab9",
   "metadata": {},
   "outputs": [
    {
     "data": {
      "text/plain": [
       "time.struct_time(tm_year=2025, tm_mon=8, tm_mday=30, tm_hour=14, tm_min=11, tm_sec=45, tm_wday=5, tm_yday=242, tm_isdst=0)"
      ]
     },
     "execution_count": 42,
     "metadata": {},
     "output_type": "execute_result"
    }
   ],
   "source": [
    "import time\n",
    "# Lấy thời gian hiện tại (giờ hệ thống)\n",
    "current_time = time.localtime()\n",
    "current_time"
   ]
  },
  {
   "cell_type": "code",
   "execution_count": 43,
   "id": "4fb54bb9-c984-4d18-bf14-772107cb4b80",
   "metadata": {},
   "outputs": [
    {
     "name": "stdout",
     "output_type": "stream",
     "text": [
      "2025\n",
      "8\n"
     ]
    }
   ],
   "source": [
    "print(current_time.tm_year)\n",
    "print(current_time.tm_mon)"
   ]
  },
  {
   "cell_type": "markdown",
   "id": "82e44c36-9f31-4e7e-a0e2-8c12211ccff1",
   "metadata": {},
   "source": [
    "### d. datetime.timedelta  \n",
    "Lớp này được sử dụng để thực hiện phép toán với ngày giờ."
   ]
  },
  {
   "cell_type": "code",
   "execution_count": 44,
   "id": "ff314614-e421-4a0d-8361-0caa978ccd96",
   "metadata": {},
   "outputs": [],
   "source": [
    "from datetime import datetime, timedelta"
   ]
  },
  {
   "cell_type": "code",
   "execution_count": 45,
   "id": "7723185d-a53a-4c01-87a4-1ecfbaa40444",
   "metadata": {},
   "outputs": [
    {
     "name": "stdout",
     "output_type": "stream",
     "text": [
      "2025-08-31 14:11:45.602251\n"
     ]
    }
   ],
   "source": [
    "tomorrow = datetime.now() + timedelta(days=1)\n",
    "print(tomorrow)  # Thời gian hiện tại + 1 ngày\n"
   ]
  },
  {
   "cell_type": "code",
   "execution_count": 46,
   "id": "a4f2ea07-1ec8-4cbc-98bc-3cd821b5f243",
   "metadata": {},
   "outputs": [],
   "source": [
    "import datetime # import toàn bộ module datetime"
   ]
  },
  {
   "cell_type": "code",
   "execution_count": 47,
   "id": "6c59c226-69a4-48fd-9b77-31785dceb2a9",
   "metadata": {},
   "outputs": [
    {
     "name": "stdout",
     "output_type": "stream",
     "text": [
      "Hôm nay: 2025-08-30\n",
      "Ngày hiện tại: 30\n",
      "Tháng hiện tại: 8\n",
      "Năm hiện tại: 2025\n"
     ]
    }
   ],
   "source": [
    "hom_nay = datetime.date.today()\n",
    "print('Hôm nay:', hom_nay)\n",
    "print('Ngày hiện tại:', hom_nay.day)\n",
    "print('Tháng hiện tại:', hom_nay.month)\n",
    "print('Năm hiện tại:', hom_nay.year)"
   ]
  },
  {
   "attachments": {},
   "cell_type": "markdown",
   "id": "d4f34bc8-b79c-4d49-98d5-a9ba93b3acb2",
   "metadata": {},
   "source": [
    "### Định dạng chuỗi thời gian  \n",
    "Bạn có thể chuyển đổi datetime thành chuỗi (str) hoặc ngược lại (str thành datetime) bằng strftime() và strptime()."
   ]
  },
  {
   "cell_type": "code",
   "execution_count": 48,
   "id": "48e04ce9-65b2-4c38-8c92-ce38f5808748",
   "metadata": {},
   "outputs": [],
   "source": [
    "from datetime import datetime"
   ]
  },
  {
   "cell_type": "code",
   "execution_count": 49,
   "id": "f5bd5601-d2fb-472a-9f60-2e1f6ee36000",
   "metadata": {},
   "outputs": [
    {
     "name": "stdout",
     "output_type": "stream",
     "text": [
      "2025-08-30 14:11:45.623999\n",
      "2025-08-30 14:11:45\n",
      "30/08/2025 14:11:45\n"
     ]
    }
   ],
   "source": [
    "# Chuyển datetime thành chuỗi: \n",
    "dt = datetime.now()\n",
    "print(dt)\n",
    "formatted = dt.strftime(\"%Y-%m-%d %H:%M:%S\")\n",
    "print(formatted)  # Ví dụ: 2025-03-11 14:30:15\n",
    "\n",
    "formatted_2 = dt.strftime(\"%d/%m/%Y %H:%M:%S\")\n",
    "print(formatted_2)  "
   ]
  },
  {
   "cell_type": "code",
   "execution_count": 50,
   "id": "f192e7b5-10c4-4a30-aacf-67599816bc07",
   "metadata": {},
   "outputs": [
    {
     "name": "stdout",
     "output_type": "stream",
     "text": [
      "<class 'str'>\n",
      "2025-03-11 14:30:15\n",
      "<class 'datetime.datetime'>\n"
     ]
    }
   ],
   "source": [
    "# Chuyển chuỗi thành datetime:\n",
    "dt_str = \"2025-03-11 14:30:15\"\n",
    "print(type(dt_str))\n",
    "dt_obj = datetime.strptime(dt_str, \"%Y-%m-%d %H:%M:%S\")\n",
    "print(dt_obj)  # 2025-03-11 14:30:15\n",
    "print(type(dt_obj))"
   ]
  },
  {
   "cell_type": "code",
   "execution_count": 51,
   "id": "94b052f4-5afa-4548-9680-9c32b6b8b7a2",
   "metadata": {},
   "outputs": [],
   "source": [
    "import time"
   ]
  },
  {
   "cell_type": "code",
   "execution_count": 52,
   "id": "25731c61",
   "metadata": {},
   "outputs": [
    {
     "data": {
      "text/plain": [
       "1756537905.634666"
      ]
     },
     "execution_count": 52,
     "metadata": {},
     "output_type": "execute_result"
    }
   ],
   "source": [
    "# Số giây hiện tại\n",
    "seconds = time.time()\n",
    "seconds"
   ]
  },
  {
   "cell_type": "code",
   "execution_count": 58,
   "id": "19478028",
   "metadata": {},
   "outputs": [
    {
     "name": "stdout",
     "output_type": "stream",
     "text": [
      "Sat Aug 30 14:11:45 2025\n"
     ]
    }
   ],
   "source": [
    "# Thứ - Tháng - Ngày ; Giờ:Phút:Giây ; Năm\n",
    "string_time = time.ctime(seconds)\n",
    "print(string_time)"
   ]
  },
  {
   "cell_type": "code",
   "execution_count": 59,
   "id": "aa26ef59-9e53-4aa9-a2ba-4c08a033e6d8",
   "metadata": {},
   "outputs": [],
   "source": [
    "import datetime # import toàn bộ module datetime"
   ]
  },
  {
   "cell_type": "code",
   "execution_count": 60,
   "id": "5deee0ca",
   "metadata": {},
   "outputs": [
    {
     "name": "stdout",
     "output_type": "stream",
     "text": [
      "Thời gian hiện tại: 2025-08-30 14:13:15.847220\n"
     ]
    }
   ],
   "source": [
    "thoi_gian_hien_tai = datetime.datetime.now()\n",
    "print('Thời gian hiện tại:', thoi_gian_hien_tai)"
   ]
  },
  {
   "cell_type": "code",
   "execution_count": 56,
   "id": "2b157104",
   "metadata": {},
   "outputs": [
    {
     "name": "stdout",
     "output_type": "stream",
     "text": [
      "2022-11-01 00:00:00\n"
     ]
    }
   ],
   "source": [
    "print(datetime.datetime(2022, 11, 1))"
   ]
  },
  {
   "cell_type": "code",
   "execution_count": 62,
   "id": "25451847",
   "metadata": {},
   "outputs": [
    {
     "ename": "ValueError",
     "evalue": "day is out of range for month",
     "output_type": "error",
     "traceback": [
      "\u001b[0;31m---------------------------------------------------------------------------\u001b[0m",
      "\u001b[0;31mValueError\u001b[0m                                Traceback (most recent call last)",
      "Cell \u001b[0;32mIn[62], line 1\u001b[0m\n\u001b[0;32m----> 1\u001b[0m \u001b[38;5;28mprint\u001b[39m(datetime\u001b[38;5;241m.\u001b[39mdatetime(\u001b[38;5;241m2023\u001b[39m, \u001b[38;5;241m2\u001b[39m, \u001b[38;5;241m29\u001b[39m))\n",
      "\u001b[0;31mValueError\u001b[0m: day is out of range for month"
     ]
    }
   ],
   "source": [
    "print(datetime.datetime(2023, 2, 29)) # Năm 2023 không có ngày 29"
   ]
  },
  {
   "cell_type": "code",
   "execution_count": 63,
   "id": "470e5dd8",
   "metadata": {},
   "outputs": [
    {
     "name": "stdout",
     "output_type": "stream",
     "text": [
      "Số giây: 1756538038.510832\n",
      "Ngày giờ: 2025-08-30 14:13:58.510832\n"
     ]
    }
   ],
   "source": [
    "giay = time.time()\n",
    "ngay_gio = datetime.datetime.fromtimestamp(giay)\n",
    "print('Số giây:', giay)\n",
    "print('Ngày giờ:', ngay_gio)"
   ]
  },
  {
   "cell_type": "code",
   "execution_count": 64,
   "id": "f135a860",
   "metadata": {},
   "outputs": [
    {
     "name": "stdout",
     "output_type": "stream",
     "text": [
      "Ngày giờ: 2023-03-08 16:02:31\n"
     ]
    }
   ],
   "source": [
    "ngay_gio = datetime.datetime.fromtimestamp(1678266151)\n",
    "print('Ngày giờ:', ngay_gio)"
   ]
  },
  {
   "cell_type": "code",
   "execution_count": 65,
   "id": "6b378201",
   "metadata": {},
   "outputs": [
    {
     "name": "stdout",
     "output_type": "stream",
     "text": [
      "30/08/2025 14:15:21\n"
     ]
    }
   ],
   "source": [
    "ngay_hien_tai = datetime.datetime.now()\n",
    "print(ngay_hien_tai.strftime('%d/%m/%Y %H:%M:%S'))"
   ]
  },
  {
   "cell_type": "code",
   "execution_count": 66,
   "id": "6dc8b44b",
   "metadata": {},
   "outputs": [
    {
     "name": "stdout",
     "output_type": "stream",
     "text": [
      "30/08/2025\n",
      "30/08/2025\n"
     ]
    }
   ],
   "source": [
    "# datetime.datetime.now()\n",
    "ngay_hien_tai = datetime.datetime.now()\n",
    "print(ngay_hien_tai.strftime('%d/%m/%Y'))\n",
    "# datetime.date.today()\n",
    "ngay_hien_tai = datetime.date.today()\n",
    "print(ngay_hien_tai.strftime('%d/%m/%Y'))"
   ]
  },
  {
   "cell_type": "markdown",
   "id": "962bf6fa-f85d-4c41-8329-8a50834e9189",
   "metadata": {},
   "source": [
    "### Một số thao tác tính toán với datetime  "
   ]
  },
  {
   "cell_type": "code",
   "execution_count": null,
   "id": "d8917c40",
   "metadata": {},
   "outputs": [],
   "source": [
    "ngay_hom_nay = datetime.date.today()\n",
    "print('Hôm nay:', ngay_hom_nay)\n",
    "print('Hôm qua:', ngay_hom_nay + datetime.timedelta(days=-1))\n",
    "print('Ngày mai:', ngay_hom_nay + datetime.timedelta(days=1))"
   ]
  },
  {
   "cell_type": "code",
   "execution_count": null,
   "id": "c6e6b840",
   "metadata": {},
   "outputs": [],
   "source": [
    "import time\n",
    "t1 = time.time()\n",
    "\n",
    "# tìm các ước số của 1000000\n",
    "uoc = ''\n",
    "n = 100000000\n",
    "for i in range(1, n+1):\n",
    "    if n % i == 0:\n",
    "        uoc = uoc + str(i) + ', '\n",
    "print(f'Các ước số của {n} :', uoc)               # Không cắt bỏ dấu , cuối\n",
    "print(f'Các ước số của {n} :', uoc.strip(', '))   # Cắt bỏ dấu , cuối\n",
    "t2 = time.time()\n",
    "print('\\nTổng số giây chương trình chạy:', t2 - t1)"
   ]
  },
  {
   "cell_type": "code",
   "execution_count": null,
   "id": "8c2023bc",
   "metadata": {},
   "outputs": [],
   "source": [
    "t = datetime.timedelta(days = 5, hours = 1, seconds = 33, microseconds = 233423)\n",
    "print(\"tong so giay =\", t.total_seconds())"
   ]
  },
  {
   "cell_type": "code",
   "execution_count": null,
   "id": "149ba2aa",
   "metadata": {},
   "outputs": [],
   "source": [
    "t1 = datetime.timedelta(weeks=3, days=2, hours=1, seconds=33)\n",
    "t2 = datetime.timedelta(days=3, hours=8, minutes=4, seconds=45)\n",
    "t3 = t1 - t2\n",
    "print(\"Khoảng cách giữa t1 và t2:\", t3)"
   ]
  },
  {
   "cell_type": "code",
   "execution_count": null,
   "id": "5c980c1f",
   "metadata": {},
   "outputs": [],
   "source": [
    "ngay_hom_nay = datetime.date.today()\n",
    "print('Ngày hôm nay:', ngay_hom_nay)\n",
    "\n",
    "ngay_sinh_nhat_ke_tiep = datetime.date(2025, 12, 10)\n",
    "print('Ngày sinh nhật kế tiếp:', ngay_sinh_nhat_ke_tiep)\n",
    "\n",
    "so_ngay = ngay_sinh_nhat_ke_tiep - ngay_hom_nay\n",
    "print('Còn', so_ngay.days, 'nữa là đến ngày sinh nhật')"
   ]
  },
  {
   "cell_type": "code",
   "execution_count": null,
   "id": "af5340fc-c79e-4e98-b999-56439e003629",
   "metadata": {},
   "outputs": [],
   "source": []
  }
 ],
 "metadata": {
  "kernelspec": {
   "display_name": "Python [conda env:base] *",
   "language": "python",
   "name": "conda-base-py"
  },
  "language_info": {
   "codemirror_mode": {
    "name": "ipython",
    "version": 3
   },
   "file_extension": ".py",
   "mimetype": "text/x-python",
   "name": "python",
   "nbconvert_exporter": "python",
   "pygments_lexer": "ipython3",
   "version": "3.13.5"
  }
 },
 "nbformat": 4,
 "nbformat_minor": 5
}
