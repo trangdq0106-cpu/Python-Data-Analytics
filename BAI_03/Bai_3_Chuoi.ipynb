{
 "cells": [
  {
   "cell_type": "code",
   "execution_count": null,
   "id": "33d5d08c-f5e8-46b7-a94c-e2b249a0039d",
   "metadata": {},
   "outputs": [],
   "source": []
  },
  {
   "cell_type": "markdown",
   "id": "6ed48b9d-b714-4c7f-ad8b-30ead784cde2",
   "metadata": {},
   "source": [
    "# 1.Xử lý chuỗi\n",
    "Chuỗi (string) trong Python là một tập hợp các ký tự được đặt trong dấu nháy đơn '...', dấu nháy kép \"...\", hoặc dấu ba nháy '''...''' hoặc \"\"\"...\"\"\". Đây là một kiểu dữ liệu phổ biến và quan trọng trong Python. Nó là một chuỗi ký tự (sequence of characters) được sắp xếp theo một thứ tự cố định. Mỗi ký tự trong chuỗi có một chỉ số (index) giúp truy cập nó.  \n",
    "    VD :  greeting = 'HELLO PYTHON'  \n",
    "    ✅ Chuỗi là tập hợp ký tự có thứ tự, mỗi ký tự có chỉ số dương và âm.  \n",
    "    ✅ Có thể truy cập ký tự bằng index [i], nhưng không thể thay đổi trực tiếp.  \n",
    "    ✅ Có thể cắt chuỗi bằng s[start:stop:step].  \n",
    "    ✅ Có thể duyệt chuỗi bằng vòng lặp for hoặc while.  \n",
    "    ✅ Có thể kiểm tra ký tự có trong chuỗi bằng in.  \n",
    "\n",
    "Đặc điểm cuổ chuỗi :  \n",
    "\n",
    "| **Đặc điểm**       | **Mô tả** |\n",
    "|--------------------|----------|\n",
    "| **Chỉ mục (Indexing)** | Mỗi ký tự trong chuỗi có thể được truy cập bằng chỉ số dương (từ trái sang phải, bắt đầu từ `0`) hoặc chỉ số âm (từ phải sang trái, bắt đầu từ `-1`). |\n",
    "| **Bất biến (Immutable)** | Chuỗi trong Python không thể thay đổi sau khi được tạo. Muốn thay đổi phải tạo chuỗi mới. |\n",
    "| **Duyệt chuỗi** | Có thể duyệt qua các ký tự trong chuỗi bằng vòng lặp `for` hoặc `while`. |\n",
    "| **Cắt chuỗi (Slicing)** | Có thể lấy một phần chuỗi con bằng cú pháp `s[start:stop:step]`. |\n",
    "| **Toán tử `in`** | Dùng để kiểm tra xem một ký tự hoặc chuỗi con có tồn tại trong chuỗi không. |\n",
    "| **Đảo ngược chuỗi** | Có thể đảo ngược chuỗi bằng slicing `s[::-1]`. |\n"
   ]
  },
  {
   "cell_type": "code",
   "execution_count": 1,
   "id": "cd479ae8-fd4d-421d-99d9-b6e4501fcfe4",
   "metadata": {},
   "outputs": [],
   "source": [
    "# Đặt biến \n",
    "greeting = 'HELLO PYTHON'"
   ]
  },
  {
   "cell_type": "code",
   "execution_count": 3,
   "id": "57c91134-99d9-45ed-9115-62296e8e714b",
   "metadata": {},
   "outputs": [
    {
     "name": "stdout",
     "output_type": "stream",
     "text": [
      "<class 'str'>\n",
      "<class 'float'>\n",
      "<class 'int'>\n"
     ]
    }
   ],
   "source": [
    "# Chuỗi thuộc lớp str ( chuỗi )\n",
    "print(type(greeting))\n",
    "x = 5.6 \n",
    "print(type(x))\n",
    "y = 7 \n",
    "print(type(y))"
   ]
  },
  {
   "cell_type": "code",
   "execution_count": 6,
   "id": "9d197fea-1d4d-4b1d-9c5e-feace5d9b979",
   "metadata": {},
   "outputs": [
    {
     "name": "stdout",
     "output_type": "stream",
     "text": [
      "12\n"
     ]
    }
   ],
   "source": [
    "# Chiều dài của chuỗi\n",
    "print(len(greeting))"
   ]
  },
  {
   "cell_type": "code",
   "execution_count": 5,
   "id": "ed268b0f-c62d-4e93-8e3b-10ca0836385f",
   "metadata": {},
   "outputs": [
    {
     "name": "stdout",
     "output_type": "stream",
     "text": [
      "H\n",
      "E\n",
      "L\n",
      "L\n",
      "O\n",
      " \n",
      "P\n",
      "Y\n",
      "T\n",
      "H\n",
      "O\n",
      "N\n"
     ]
    }
   ],
   "source": [
    "# Chuỗi là một dãy ký tự (Iterable) nên Chuỗi có thể duyệt qua từng ký tự bằng vòng lặp:\n",
    "for char in greeting:\n",
    "    print(char)"
   ]
  },
  {
   "cell_type": "code",
   "execution_count": 7,
   "id": "e5c5a921-3a78-4ec2-9b5d-37b91f94133b",
   "metadata": {},
   "outputs": [
    {
     "data": {
      "text/plain": [
       "'P'"
      ]
     },
     "execution_count": 7,
     "metadata": {},
     "output_type": "execute_result"
    }
   ],
   "source": [
    "greeting[6]"
   ]
  },
  {
   "cell_type": "code",
   "execution_count": 8,
   "id": "b832f5e9-c2f6-489b-bc43-1a589b2f98cc",
   "metadata": {},
   "outputs": [
    {
     "ename": "TypeError",
     "evalue": "'str' object does not support item assignment",
     "output_type": "error",
     "traceback": [
      "\u001b[0;31m---------------------------------------------------------------------------\u001b[0m",
      "\u001b[0;31mTypeError\u001b[0m                                 Traceback (most recent call last)",
      "Cell \u001b[0;32mIn[8], line 2\u001b[0m\n\u001b[1;32m      1\u001b[0m \u001b[38;5;66;03m# Chuỗi là kiểu dữ liệu bất biến (Immutable) nên chuỗi không thể thay đổi sau khi được tạo:\u001b[39;00m\n\u001b[0;32m----> 2\u001b[0m greeting[\u001b[38;5;241m6\u001b[39m] \u001b[38;5;241m=\u001b[39m \u001b[38;5;124m\"\u001b[39m\u001b[38;5;124mJ\u001b[39m\u001b[38;5;124m\"\u001b[39m\n",
      "\u001b[0;31mTypeError\u001b[0m: 'str' object does not support item assignment"
     ]
    }
   ],
   "source": [
    "# Chuỗi là kiểu dữ liệu bất biến (Immutable) nên chuỗi không thể thay đổi sau khi được tạo:\n",
    "greeting[6] = \"J\""
   ]
  },
  {
   "cell_type": "code",
   "execution_count": 13,
   "id": "89ba8711-514f-4abf-b9c6-2836aa4252c1",
   "metadata": {},
   "outputs": [
    {
     "data": {
      "text/plain": [
       "'HELLO '"
      ]
     },
     "execution_count": 13,
     "metadata": {},
     "output_type": "execute_result"
    }
   ],
   "source": [
    "greeting[:6]"
   ]
  },
  {
   "cell_type": "code",
   "execution_count": 15,
   "id": "4964436b-7c13-4d7a-9fae-23e23350d3ee",
   "metadata": {},
   "outputs": [
    {
     "data": {
      "text/plain": [
       "'YTHON'"
      ]
     },
     "execution_count": 15,
     "metadata": {},
     "output_type": "execute_result"
    }
   ],
   "source": [
    "greeting[7:]"
   ]
  },
  {
   "cell_type": "code",
   "execution_count": 16,
   "id": "07cc64c9-74a1-4f61-99b8-9f1d97531944",
   "metadata": {},
   "outputs": [
    {
     "data": {
      "text/plain": [
       "'HELLO JYTHON'"
      ]
     },
     "execution_count": 16,
     "metadata": {},
     "output_type": "execute_result"
    }
   ],
   "source": [
    "# Muốn thay đổi chuỗi, ta phải tạo một chuỗi mới:\n",
    "s = greeting[:6]+\"J\"+greeting[7:]\n",
    "s"
   ]
  },
  {
   "cell_type": "code",
   "execution_count": 17,
   "id": "10924dea-9061-445d-9358-c1c202da4421",
   "metadata": {},
   "outputs": [
    {
     "data": {
      "text/plain": [
       "'HELLO PYTHON'"
      ]
     },
     "execution_count": 17,
     "metadata": {},
     "output_type": "execute_result"
    }
   ],
   "source": [
    "greeting"
   ]
  },
  {
   "cell_type": "code",
   "execution_count": 19,
   "id": "7802eda4-6e5a-4eeb-affb-1d208f1c33c5",
   "metadata": {},
   "outputs": [
    {
     "name": "stdout",
     "output_type": "stream",
     "text": [
      "2022\n"
     ]
    }
   ],
   "source": [
    "chuoi = '2022'\n",
    "if chuoi.isdigit():\n",
    "    chuoi = int(chuoi) \n",
    "    print(chuoi)\n",
    "else :\n",
    "    print('Không phải số')\n"
   ]
  },
  {
   "cell_type": "markdown",
   "id": "eaa643f1-b2a9-4a82-b3e0-6a8c1019ff57",
   "metadata": {},
   "source": [
    "### Các thao tác với chuỗi"
   ]
  },
  {
   "cell_type": "code",
   "execution_count": 20,
   "id": "a389a900-dbc6-4274-b262-56fe39cc1556",
   "metadata": {},
   "outputs": [
    {
     "name": "stdout",
     "output_type": "stream",
     "text": [
      "Hello World\n"
     ]
    }
   ],
   "source": [
    "# Nối chuỗi\n",
    "s1 = \"Hello\"\n",
    "s2 = \"World\"\n",
    "result = s1 + \" \" + s2\n",
    "print(result)  # \"Hello World\""
   ]
  },
  {
   "cell_type": "code",
   "execution_count": 22,
   "id": "d6262c71-1cea-4b7e-ba49-564094f642b3",
   "metadata": {},
   "outputs": [
    {
     "name": "stdout",
     "output_type": "stream",
     "text": [
      "aHa aHa aHa aHa aHa \n"
     ]
    }
   ],
   "source": [
    "# Lặp chuỗi\n",
    "s = \"aHa \"\n",
    "print(s * 5)  "
   ]
  },
  {
   "cell_type": "code",
   "execution_count": 23,
   "id": "7cf0cb72-9893-4259-b112-7f41888fb129",
   "metadata": {},
   "outputs": [
    {
     "data": {
      "text/plain": [
       "'HELLO PYTHON'"
      ]
     },
     "execution_count": 23,
     "metadata": {},
     "output_type": "execute_result"
    }
   ],
   "source": [
    "greeting "
   ]
  },
  {
   "cell_type": "code",
   "execution_count": 24,
   "id": "686e9a88-b1f3-4601-8818-70c072803c88",
   "metadata": {},
   "outputs": [
    {
     "name": "stdout",
     "output_type": "stream",
     "text": [
      "O\n"
     ]
    }
   ],
   "source": [
    "# Truy xuất 1 ký tự trong chuỗi\n",
    "print(greeting[4])"
   ]
  },
  {
   "cell_type": "code",
   "execution_count": 25,
   "id": "cc8c42dc-63bb-43eb-aa0d-fad971c755c3",
   "metadata": {},
   "outputs": [
    {
     "name": "stdout",
     "output_type": "stream",
     "text": [
      "O\n"
     ]
    }
   ],
   "source": [
    "print(greeting[-8])"
   ]
  },
  {
   "cell_type": "code",
   "execution_count": 26,
   "id": "acdac910-adee-47eb-9108-e91a5b15c28d",
   "metadata": {},
   "outputs": [
    {
     "name": "stdout",
     "output_type": "stream",
     "text": [
      "T\n"
     ]
    }
   ],
   "source": [
    "print(greeting[-4])"
   ]
  },
  {
   "cell_type": "code",
   "execution_count": 27,
   "id": "702463b1-cb1a-4e4e-8450-222775fbdcc5",
   "metadata": {},
   "outputs": [
    {
     "name": "stdout",
     "output_type": "stream",
     "text": [
      "LLO\n"
     ]
    }
   ],
   "source": [
    "# Truy xuất nhiều ký tự trongliên tục chuỗi\n",
    "print(greeting[2:5])"
   ]
  },
  {
   "cell_type": "code",
   "execution_count": 28,
   "id": "0e0ff0f3-ad18-4469-9fc1-e8224181b9e0",
   "metadata": {},
   "outputs": [
    {
     "name": "stdout",
     "output_type": "stream",
     "text": [
      "LLO\n"
     ]
    }
   ],
   "source": [
    "print(greeting[2:5:1])"
   ]
  },
  {
   "cell_type": "code",
   "execution_count": 22,
   "id": "6e6a55eb-6ec1-44f0-a3fb-4f3e02b39e2f",
   "metadata": {},
   "outputs": [
    {
     "data": {
      "text/plain": [
       "'HELLO PYTHON'"
      ]
     },
     "execution_count": 22,
     "metadata": {},
     "output_type": "execute_result"
    }
   ],
   "source": [
    "greeting"
   ]
  },
  {
   "cell_type": "code",
   "execution_count": 29,
   "id": "3d541d49-59a5-49cc-a66b-58c3a17f1b30",
   "metadata": {},
   "outputs": [
    {
     "data": {
      "text/plain": [
       "'PTO'"
      ]
     },
     "execution_count": 29,
     "metadata": {},
     "output_type": "execute_result"
    }
   ],
   "source": [
    "greeting[6:12:2]"
   ]
  },
  {
   "cell_type": "code",
   "execution_count": 30,
   "id": "7a2b7996-a0b9-4076-8965-58d35b1e5849",
   "metadata": {},
   "outputs": [
    {
     "data": {
      "text/plain": [
       "'PYTHON'"
      ]
     },
     "execution_count": 30,
     "metadata": {},
     "output_type": "execute_result"
    }
   ],
   "source": [
    "greeting[6:]"
   ]
  },
  {
   "cell_type": "code",
   "execution_count": 24,
   "id": "a9a9f996-458a-4090-8ee4-7280eb8dd32e",
   "metadata": {},
   "outputs": [
    {
     "name": "stdout",
     "output_type": "stream",
     "text": [
      "PH\n"
     ]
    }
   ],
   "source": [
    "print(greeting[6:12:3])"
   ]
  },
  {
   "cell_type": "code",
   "execution_count": 31,
   "id": "d8e720e3-7c6e-4de5-bd45-51b6487a4a28",
   "metadata": {},
   "outputs": [
    {
     "name": "stdout",
     "output_type": "stream",
     "text": [
      "HON\n"
     ]
    }
   ],
   "source": [
    "print(greeting[-3:])"
   ]
  },
  {
   "cell_type": "code",
   "execution_count": 34,
   "id": "83fa10cc-98f5-492d-a48d-58f44a4cc710",
   "metadata": {},
   "outputs": [
    {
     "name": "stdout",
     "output_type": "stream",
     "text": [
      "Pyth\n",
      "Pyth\n",
      "thon\n",
      "nohtyP\n"
     ]
    }
   ],
   "source": [
    "s = \"Python\"\n",
    "print(s[0:4])  # \"Pyth\" (Lấy từ chỉ số 0 đến 3)\n",
    "print(s[:4])   # \"Pyth\" (Bỏ qua chỉ số đầu, mặc định là 0)\n",
    "print(s[2:])   # \"thon\" (Bỏ qua chỉ số cuối, lấy đến hết)\n",
    "print(s[::-1]) # \"nohtyP\" (Đảo ngược chuỗi)"
   ]
  },
  {
   "cell_type": "markdown",
   "id": "b33868c2-9578-46a9-b944-e67e6148ecb5",
   "metadata": {},
   "source": [
    "### Các phương thức xử lý chuỗi\n",
    "Trong Python, phương thức (method) và hàm (function) có một số điểm chung và khác biệt quan trọng.  \n",
    "1. Hàm (Function)  \n",
    "Là một khối mã có thể được gọi và thực thi bất kỳ lúc nào.  \n",
    "Được định nghĩa bằng từ khóa def.  \n",
    "Có thể đứng độc lập hoặc nằm trong module, không thuộc về một đối tượng cụ thể.  \n",
    "Có thể nhận tham số và trả về giá trị.  \n",
    "Có thể gọi trực tiếp bằng tên hàm.  \n",
    "\n",
    "2. Phương thức (Method)  \n",
    "Là một hàm được định nghĩa bên trong một lớp (class).  \n",
    "Luôn thuộc về một đối tượng hoặc lớp cụ thể.  \n",
    "Khi là phương thức của đối tượng (instance method), nó luôn có tham số đầu tiên là self, đại diện cho đối tượng gọi phương thức.  \n",
    "Khi là phương thức tĩnh (static method) hoặc phương thức lớp (class method), nó có thể không cần tham số self.  \n",
    "| **Đặc điểm**       | **Hàm (Function)** | **Phương thức (Method)** |\n",
    "|--------------------|-------------------|-------------------------|\n",
    "| **Vị trí**        | Định nghĩa độc lập trong module | Định nghĩa bên trong class |\n",
    "| **Thuộc về**      | Không thuộc về đối tượng nào | Thuộc về đối tượng hoặc class |\n",
    "| **Cách gọi**      | Gọi trực tiếp | Gọi thông qua đối tượng hoặc class |\n",
    "| **Tham số đặc biệt** | Không có tham số `self` | Thường có `self` hoặc `cls` (trừ static method) |\n",
    "    \n"
   ]
  },
  {
   "cell_type": "code",
   "execution_count": 32,
   "id": "430d559d",
   "metadata": {},
   "outputs": [],
   "source": [
    "chuoi = 'Xíu là một cô mèo gần hai tuổi. Toàn thân Xíu là bộ lông màu vàng xinh đẹp, đôi chỗ có những vệt đỏ cam như là vằn hổ.'"
   ]
  },
  {
   "cell_type": "code",
   "execution_count": 51,
   "id": "b39994cc-7cdb-4be9-830b-d8d53468acd9",
   "metadata": {
    "scrolled": true
   },
   "outputs": [
    {
     "data": {
      "text/plain": [
       "'xíu là một cô mèo gần hai tuổi. toàn thân xíu là bộ lông màu vàng xinh đẹp, đôi chỗ có những vệt đỏ cam như là vằn hổ.'"
      ]
     },
     "execution_count": 51,
     "metadata": {},
     "output_type": "execute_result"
    }
   ],
   "source": [
    "chuoi_moi"
   ]
  },
  {
   "cell_type": "code",
   "execution_count": 47,
   "id": "cd115bbc",
   "metadata": {},
   "outputs": [],
   "source": [
    "chuoi_moi = chuoi.lower()"
   ]
  },
  {
   "cell_type": "code",
   "execution_count": 29,
   "id": "46fcb380",
   "metadata": {},
   "outputs": [
    {
     "data": {
      "text/plain": [
       "'XÍU LÀ MỘT CÔ MÈO GẦN HAI TUỔI. TOÀN THÂN XÍU LÀ BỘ LÔNG MÀU VÀNG XINH ĐẸP, ĐÔI CHỖ CÓ NHỮNG VỆT ĐỎ CAM NHƯ LÀ VẰN HỔ.'"
      ]
     },
     "execution_count": 29,
     "metadata": {},
     "output_type": "execute_result"
    }
   ],
   "source": [
    "chuoi.upper()"
   ]
  },
  {
   "cell_type": "code",
   "execution_count": 48,
   "id": "7f9d8f5b",
   "metadata": {},
   "outputs": [
    {
     "data": {
      "text/plain": [
       "'Nguyễn Văn Linh'"
      ]
     },
     "execution_count": 48,
     "metadata": {},
     "output_type": "execute_result"
    }
   ],
   "source": [
    "chuoi2 = 'nGuyễn văN LiNh'\n",
    "chuoi2.title()"
   ]
  },
  {
   "cell_type": "code",
   "execution_count": 49,
   "id": "72cc1b3f-9749-4d12-bfd1-57f53f9e2087",
   "metadata": {},
   "outputs": [
    {
     "data": {
      "text/plain": [
       "'nGuyễn văN LiNh'"
      ]
     },
     "execution_count": 49,
     "metadata": {},
     "output_type": "execute_result"
    }
   ],
   "source": [
    "chuoi2"
   ]
  },
  {
   "cell_type": "code",
   "execution_count": 32,
   "id": "122e1cc7",
   "metadata": {},
   "outputs": [
    {
     "data": {
      "text/plain": [
       "'Python'"
      ]
     },
     "execution_count": 32,
     "metadata": {},
     "output_type": "execute_result"
    }
   ],
   "source": [
    "chuoi3 = '**Python***'\n",
    "chuoi3.strip('*')"
   ]
  },
  {
   "cell_type": "code",
   "execution_count": 55,
   "id": "c4312346-c380-49f9-9e53-af24197ba71d",
   "metadata": {},
   "outputs": [
    {
     "ename": "NameError",
     "evalue": "name 'chuoi3' is not defined",
     "output_type": "error",
     "traceback": [
      "\u001b[0;31m---------------------------------------------------------------------------\u001b[0m",
      "\u001b[0;31mNameError\u001b[0m                                 Traceback (most recent call last)",
      "Cell \u001b[0;32mIn[55], line 1\u001b[0m\n\u001b[0;32m----> 1\u001b[0m chuoi3\n",
      "\u001b[0;31mNameError\u001b[0m: name 'chuoi3' is not defined"
     ]
    }
   ],
   "source": [
    "chuoi3"
   ]
  },
  {
   "cell_type": "code",
   "execution_count": 54,
   "id": "7cc0d595",
   "metadata": {},
   "outputs": [
    {
     "data": {
      "text/plain": [
       "'Python'"
      ]
     },
     "execution_count": 54,
     "metadata": {},
     "output_type": "execute_result"
    }
   ],
   "source": [
    "chuoi4 = '   Python  '\n",
    "chuoi4.strip()"
   ]
  },
  {
   "cell_type": "code",
   "execution_count": 56,
   "id": "aaee4de4-e3c3-4814-b724-839c783410ed",
   "metadata": {},
   "outputs": [
    {
     "name": "stdout",
     "output_type": "stream",
     "text": [
      "Python  \n",
      "   Python\n"
     ]
    }
   ],
   "source": [
    "print(chuoi4.lstrip()) # (Xóa bên trái)\n",
    "print(chuoi4.rstrip()) # (Xóa bên phải)"
   ]
  },
  {
   "cell_type": "code",
   "execution_count": 57,
   "id": "581ea3d5-60d7-4ddc-9cf8-bd76f8c3beaa",
   "metadata": {},
   "outputs": [
    {
     "data": {
      "text/plain": [
       "'Xíu là một cô mèo gần hai tuổi. Toàn thân Xíu là bộ lông màu vàng xinh đẹp, đôi chỗ có những vệt đỏ cam như là vằn hổ.'"
      ]
     },
     "execution_count": 57,
     "metadata": {},
     "output_type": "execute_result"
    }
   ],
   "source": [
    "chuoi"
   ]
  },
  {
   "cell_type": "code",
   "execution_count": 58,
   "id": "75cd0c5b",
   "metadata": {},
   "outputs": [
    {
     "data": {
      "text/plain": [
       "'Kitty là một cô mèo gần hai tuổi. Toàn thân Kitty là bộ lông màu vàng xinh đẹp, đôi chỗ có những vệt đỏ cam như là vằn hổ.'"
      ]
     },
     "execution_count": 58,
     "metadata": {},
     "output_type": "execute_result"
    }
   ],
   "source": [
    "chuoi.replace('Xíu', 'Kitty')"
   ]
  },
  {
   "cell_type": "code",
   "execution_count": 59,
   "id": "e1738d12",
   "metadata": {},
   "outputs": [
    {
     "data": {
      "text/plain": [
       "'Kitty là một cô mèo gần hai tuổi. Toàn thân Xíu là bộ lông màu vàng xinh đẹp, đôi chỗ có những vệt đỏ cam như là vằn hổ.'"
      ]
     },
     "execution_count": 59,
     "metadata": {},
     "output_type": "execute_result"
    }
   ],
   "source": [
    "chuoi.replace('Xíu', 'Kitty', 1) # Chỉ thay 1 lần đầu tiên khi gặp chuỗi Xíu"
   ]
  },
  {
   "cell_type": "code",
   "execution_count": 60,
   "id": "55d941e0-87f6-4436-9cc1-102ca45aae8e",
   "metadata": {},
   "outputs": [
    {
     "data": {
      "text/plain": [
       "'Xíu là một cô mèo gần hai tuổi. Toàn thân Xíu là bộ lông màu vàng xinh đẹp, đôi chỗ có những vệt đỏ cam như là vằn hổ.'"
      ]
     },
     "execution_count": 60,
     "metadata": {},
     "output_type": "execute_result"
    }
   ],
   "source": [
    "# Sau phương thức replace chuoi vẫn là chuoi\n",
    "chuoi"
   ]
  },
  {
   "cell_type": "code",
   "execution_count": 61,
   "id": "7ded46f1-0ced-44c0-a52e-dd8b58d5f04c",
   "metadata": {},
   "outputs": [
    {
     "data": {
      "text/plain": [
       "'Kitty là một cô mèo gần hai tuổi. Toàn thân Kitty là bộ lông màu vàng xinh đẹp, đôi chỗ có những vệt đỏ cam như là vằn hổ.'"
      ]
     },
     "execution_count": 61,
     "metadata": {},
     "output_type": "execute_result"
    }
   ],
   "source": [
    "chuoi.replace('Xíu', 'Kitty') # Chỉ thay tất cả khi gặp chuỗi Xíu"
   ]
  },
  {
   "cell_type": "code",
   "execution_count": 64,
   "id": "3e07ac92",
   "metadata": {},
   "outputs": [
    {
     "data": {
      "text/plain": [
       "['Xíu',\n",
       " 'là',\n",
       " 'một',\n",
       " 'cô',\n",
       " 'mèo',\n",
       " 'gần hai tuổi. Toàn thân Xíu là bộ lông màu vàng xinh đẹp, đôi chỗ có những vệt đỏ cam như là vằn hổ.']"
      ]
     },
     "execution_count": 64,
     "metadata": {},
     "output_type": "execute_result"
    }
   ],
   "source": [
    "chuoi.split(' ',5) # Cắt thành một list 5 chuỗi cách nhau bởi khoản trắng"
   ]
  },
  {
   "cell_type": "code",
   "execution_count": 65,
   "id": "92e678a4",
   "metadata": {},
   "outputs": [
    {
     "data": {
      "text/plain": [
       "['Xíu là một cô mèo gần hai tuổi',\n",
       " ' Toàn thân Xíu là bộ lông màu vàng xinh đẹp, đôi chỗ có những vệt đỏ cam như là vằn hổ',\n",
       " '']"
      ]
     },
     "execution_count": 65,
     "metadata": {},
     "output_type": "execute_result"
    }
   ],
   "source": [
    "chuoi.split('.') # Cắt thành một list những chuỗi cách nhau bởi dấu ."
   ]
  },
  {
   "cell_type": "code",
   "execution_count": 68,
   "id": "857efc23",
   "metadata": {},
   "outputs": [
    {
     "name": "stdout",
     "output_type": "stream",
     "text": [
      "Hồ Chí Minh - Hà Nội - Đà Nẵng\n"
     ]
    }
   ],
   "source": [
    "list_chuoi = ['Hồ Chí Minh', 'Hà Nội', 'Đà Nẵng']\n",
    "\n",
    "\n",
    "chuoi_moi = ' - '.join(list_chuoi) # Nối các chuỗi trong list thành một chuỗi cách nhau bới chuỗi trước join\n",
    "print(chuoi_moi)"
   ]
  },
  {
   "cell_type": "code",
   "execution_count": 48,
   "id": "811d035d-2c27-451f-ae5e-f22b5825ddfb",
   "metadata": {},
   "outputs": [
    {
     "data": {
      "text/plain": [
       "['Hồ Chí Minh', 'Hà Nội', 'Đà Nẵng']"
      ]
     },
     "execution_count": 48,
     "metadata": {},
     "output_type": "execute_result"
    }
   ],
   "source": [
    "list_chuoi"
   ]
  },
  {
   "cell_type": "code",
   "execution_count": 69,
   "id": "05cdcb87",
   "metadata": {},
   "outputs": [
    {
     "data": {
      "text/plain": [
       "3"
      ]
     },
     "execution_count": 69,
     "metadata": {},
     "output_type": "execute_result"
    }
   ],
   "source": [
    "chuoi.count('là') # Đếm phần tử \"là\" xuất hiện bao nhiêu lần trong chuoi"
   ]
  },
  {
   "cell_type": "code",
   "execution_count": 70,
   "id": "ca9f476d",
   "metadata": {},
   "outputs": [
    {
     "data": {
      "text/plain": [
       "1"
      ]
     },
     "execution_count": 70,
     "metadata": {},
     "output_type": "execute_result"
    }
   ],
   "source": [
    "chuoi.count('là', 0, 30) # Vị trí 0 là bắt đẫu chuỗi điếm, vị trí 30 là kết thúc chuỗi điếm"
   ]
  },
  {
   "cell_type": "code",
   "execution_count": 50,
   "id": "64b6e8b0",
   "metadata": {},
   "outputs": [
    {
     "data": {
      "text/plain": [
       "True"
      ]
     },
     "execution_count": 50,
     "metadata": {},
     "output_type": "execute_result"
    }
   ],
   "source": [
    "chuoi4 = '2025'\n",
    "chuoi4.isdigit() # Nếu chuỗi chứa toàn các ký tự số thì trả về True , ngược lại trả về False"
   ]
  },
  {
   "cell_type": "code",
   "execution_count": 71,
   "id": "ec5f0602",
   "metadata": {},
   "outputs": [
    {
     "data": {
      "text/plain": [
       "False"
      ]
     },
     "execution_count": 71,
     "metadata": {},
     "output_type": "execute_result"
    }
   ],
   "source": [
    "chuoi5 = '2o25'\n",
    "chuoi5.isdigit()"
   ]
  },
  {
   "cell_type": "code",
   "execution_count": 72,
   "id": "d0f19a09",
   "metadata": {},
   "outputs": [
    {
     "data": {
      "text/plain": [
       "True"
      ]
     },
     "execution_count": 72,
     "metadata": {},
     "output_type": "execute_result"
    }
   ],
   "source": [
    "chuoi6 = 'Python'\n",
    "chuoi6.isalpha()"
   ]
  },
  {
   "cell_type": "code",
   "execution_count": 73,
   "id": "94a5f529",
   "metadata": {},
   "outputs": [
    {
     "data": {
      "text/plain": [
       "False"
      ]
     },
     "execution_count": 73,
     "metadata": {},
     "output_type": "execute_result"
    }
   ],
   "source": [
    "chuoi7 = 'Pyth0n'\n",
    "chuoi7.isalpha()"
   ]
  },
  {
   "cell_type": "code",
   "execution_count": 75,
   "id": "960feac3-13ce-4413-a457-75d51619f891",
   "metadata": {},
   "outputs": [
    {
     "name": "stdout",
     "output_type": "stream",
     "text": [
      "0\n"
     ]
    }
   ],
   "source": [
    "print(chuoi.find(\"Xíu\"))  # 6 (Vị trí bắt đầu của \"World\")"
   ]
  },
  {
   "cell_type": "code",
   "execution_count": 76,
   "id": "d4ca2d77-e7cc-4b54-a45c-ff8127d524d8",
   "metadata": {},
   "outputs": [
    {
     "data": {
      "text/plain": [
       "'Xíu là một cô mèo gần hai tuổi. Toàn thân Xíu là bộ lông màu vàng xinh đẹp, đôi chỗ có những vệt đỏ cam như là vằn hổ.'"
      ]
     },
     "execution_count": 76,
     "metadata": {},
     "output_type": "execute_result"
    }
   ],
   "source": [
    "chuoi"
   ]
  },
  {
   "cell_type": "code",
   "execution_count": 78,
   "id": "4fb6981e-e7a8-4ba2-9ba6-af9f5cf3b26a",
   "metadata": {},
   "outputs": [
    {
     "name": "stdout",
     "output_type": "stream",
     "text": [
      "0\n",
      "14\n"
     ]
    }
   ],
   "source": [
    "print(chuoi.find(\"Xíu\"))\n",
    "print(chuoi.find(\"mèo\"))"
   ]
  },
  {
   "cell_type": "code",
   "execution_count": 79,
   "id": "be94d3c4-caa4-4bc3-adf2-75172585ee66",
   "metadata": {},
   "outputs": [
    {
     "name": "stdout",
     "output_type": "stream",
     "text": [
      "Thuở còn thơ ngày hai buổi đến trường\n",
      "Yêu quê hương qua từng trang sách nhỏ:\n",
      "Ai bảo chăn trâu là khổ? \n",
      "Tôi mơ màng nghe chim hót trên cao\n",
      "Những ngày trốn học\n",
      "Đuổi bướm cầu ao\n",
      "Mẹ bắt được...\n",
      "Chưa đánh roi nào đã khóc!\n",
      "Có cô bé nhà bên\n",
      "Nhìn tôi cười khúc khích\n",
      "Mắt đen tròn thương thương quá đi thôi...\n"
     ]
    }
   ],
   "source": [
    "baitho = \"\"\"     \n",
    "Thuở còn thơ                ngày hai buổi            đến      trường\n",
    "Yêu quê hương qua từng trang sách nhỏ:\n",
    "Ai          bảo chăn              trâu là           khổ? \n",
    "Tôi mơ màng                   nghe chim hót trên cao\n",
    "Những ngày              trốn          học\n",
    "Đuổi bướm cầu ao\n",
    "Mẹ          bắt             được...\n",
    "Chưa đánh roi nào            đã khóc!\n",
    "Có cô            bé nhà                bên\n",
    "Nhìn tôi cười            khúc khích\n",
    "Mắt đen tròn thương             thương quá         đi thôi...      \n",
    "\"\"\"\n",
    "baitho = baitho.strip() # Cắt khoảng trắng đầu và cuối chuỗi\n",
    "while \"  \" in baitho :\n",
    "    baitho = baitho.replace(\"  \",\" \")\n",
    "    \n",
    "print(baitho)    "
   ]
  },
  {
   "cell_type": "markdown",
   "id": "e89ffe76-9704-4267-9da4-54dfe501f94c",
   "metadata": {},
   "source": [
    "### Định dạng chuỗi"
   ]
  },
  {
   "cell_type": "code",
   "execution_count": 80,
   "id": "dee3cdbb-a27b-4ae6-b521-f3680c72099d",
   "metadata": {},
   "outputs": [
    {
     "name": "stdout",
     "output_type": "stream",
     "text": [
      "My name is Alice and I am 25 years old.\n"
     ]
    }
   ],
   "source": [
    "# Dùng f-string (Python 3.6+)\n",
    "name = \"Alice\"\n",
    "age = 25\n",
    "print(f\"My name is {name} and I am {age} years old.\")\n"
   ]
  },
  {
   "cell_type": "code",
   "execution_count": 35,
   "id": "2baf2ded-ade4-4f41-9690-02e92f042ea7",
   "metadata": {},
   "outputs": [
    {
     "name": "stdout",
     "output_type": "stream",
     "text": [
      "My name is Alice and I am 25 years old.\n"
     ]
    }
   ],
   "source": [
    "# Dùng .format()\n",
    "print(\"My name is {} and I am {} years old.\".format(name, age))"
   ]
  },
  {
   "cell_type": "code",
   "execution_count": 36,
   "id": "8d314f93-ff4f-4887-ac9a-2ed006eaca5a",
   "metadata": {},
   "outputs": [
    {
     "name": "stdout",
     "output_type": "stream",
     "text": [
      "My name is Alice and I am 25 years old.\n"
     ]
    }
   ],
   "source": [
    "#  Dùng % (Cách cũ, ít dùng)\n",
    "print(\"My name is %s and I am %d years old.\" % (name, age))"
   ]
  },
  {
   "cell_type": "code",
   "execution_count": 81,
   "id": "eb04211d-9f75-45ff-8e53-87540012b521",
   "metadata": {},
   "outputs": [
    {
     "name": "stdout",
     "output_type": "stream",
     "text": [
      "C:\\Users\\Admin\\Documents\n"
     ]
    }
   ],
   "source": [
    "# Chuỗi thô (Raw String) : Chuỗi thô (r\"\") giúp bỏ qua ký tự đặc biệt như \\n, \\t, rất hữu ích khi làm việc với đường dẫn file hoặc regex (Regular Expression biểu thức chính quy).\n",
    "path = r\"C:\\Users\\Admin\\Documents\"\n",
    "print(path)  # \"C:\\Users\\Admin\\Documents\" (Không bị lỗi escape `\\`)\n"
   ]
  },
  {
   "cell_type": "code",
   "execution_count": 82,
   "id": "d8aae9d4-7f0d-4a19-9ba6-ce3886b9b266",
   "metadata": {},
   "outputs": [
    {
     "ename": "SyntaxError",
     "evalue": "(unicode error) 'unicodeescape' codec can't decode bytes in position 2-3: truncated \\UXXXXXXXX escape (3835621870.py, line 1)",
     "output_type": "error",
     "traceback": [
      "\u001b[0;36m  Cell \u001b[0;32mIn[82], line 1\u001b[0;36m\u001b[0m\n\u001b[0;31m    path = \"C:\\Users\\Admin\\Documents\"\u001b[0m\n\u001b[0m           ^\u001b[0m\n\u001b[0;31mSyntaxError\u001b[0m\u001b[0;31m:\u001b[0m (unicode error) 'unicodeescape' codec can't decode bytes in position 2-3: truncated \\UXXXXXXXX escape\n"
     ]
    }
   ],
   "source": [
    "path = \"C:\\Users\\Admin\\Documents\"\n",
    "print(path)  # \"C:\\Users\\Admin\\Documents\" (Không bị lỗi escape `\\`)"
   ]
  },
  {
   "cell_type": "code",
   "execution_count": null,
   "id": "e39ef1bb-51cf-4aeb-a6fe-d222dce03467",
   "metadata": {},
   "outputs": [],
   "source": []
  }
 ],
 "metadata": {
  "kernelspec": {
   "display_name": "Python [conda env:base] *",
   "language": "python",
   "name": "conda-base-py"
  },
  "language_info": {
   "codemirror_mode": {
    "name": "ipython",
    "version": 3
   },
   "file_extension": ".py",
   "mimetype": "text/x-python",
   "name": "python",
   "nbconvert_exporter": "python",
   "pygments_lexer": "ipython3",
   "version": "3.13.5"
  }
 },
 "nbformat": 4,
 "nbformat_minor": 5
}
