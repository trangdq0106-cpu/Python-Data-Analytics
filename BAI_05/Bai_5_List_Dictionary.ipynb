{
 "cells": [
  {
   "cell_type": "markdown",
   "metadata": {},
   "source": [
    "# 1. List\n",
    "Trong Python, list (danh sách) là một kiểu dữ liệu rất phổ biến và quan trọng. Nó cho phép bạn lưu trữ nhiều giá trị trong một biến duy nhất. Danh sách có thể chứa các phần tử có kiểu dữ liệu khác nhau và có thể thay đổi (mutable). Dưới đây là các thông tin chi tiết về list trong Python:  \n",
    "Trong Python, sequence (chuỗi tuần tự) là một tập hợp các phần tử được sắp xếp có chỉ mục. Một số kiểu dữ liệu phổ biến thuộc nhóm sequence bao gồm:\n",
    "\n",
    "* Chuỗi (str)  \n",
    "* Danh sách (list)  \n",
    "* Tuple (tuple)  \n",
    "* Dãy số (range)  \n"
   ]
  },
  {
   "cell_type": "markdown",
   "metadata": {},
   "source": [
    "## Cú pháp"
   ]
  },
  {
   "cell_type": "markdown",
   "metadata": {},
   "source": [
    "#### a.Cấu trúc cơ bản của List\n",
    "    * Khởi tạo List: Danh sách được tạo ra bằng cách sử dụng dấu ngoặc vuông [], và các phần tử trong danh sách được ngăn cách nhau bởi dấu phẩy."
   ]
  },
  {
   "cell_type": "code",
   "execution_count": 2,
   "metadata": {},
   "outputs": [],
   "source": [
    "days_of_week = [\"Monday\", \"Tuesday\", \"Wednesday\", \"Thursday\", \"Friday\", \"Saturday\", \"Sunday\"]"
   ]
  },
  {
   "cell_type": "code",
   "execution_count": 4,
   "metadata": {},
   "outputs": [],
   "source": [
    "months_of_year = [\"January\", \"February\", \"March\", \"April\", \"May\", \"June\",\"July\", \"August\", \"September\", \"October\", \"November\", \"December\"]"
   ]
  },
  {
   "cell_type": "code",
   "execution_count": 8,
   "metadata": {},
   "outputs": [],
   "source": [
    "natural_numbers = range(1, 101)  # Số tự nhiên từ 1 đến 100"
   ]
  },
  {
   "cell_type": "code",
   "execution_count": 9,
   "metadata": {},
   "outputs": [],
   "source": [
    "tea_making_steps = [\"Đun nước\", \"Cho trà vào ấm\", \"Rót nước nóng vào\", \"Chờ trà ngấm\", \"Rót trà ra chén\", \"Thưởng thức\"]"
   ]
  },
  {
   "cell_type": "code",
   "execution_count": 10,
   "metadata": {},
   "outputs": [],
   "source": [
    "education_levels = [\"Mẫu giáo\", \"Tiểu học\", \"Trung học cơ sở\", \"Trung học phổ thông\", \"Đại học\"]"
   ]
  },
  {
   "cell_type": "code",
   "execution_count": 11,
   "metadata": {},
   "outputs": [],
   "source": [
    "book_chapters = [\"Chương 1: Giới thiệu\", \"Chương 2: Cấu trúc dữ liệu\", \"Chương 3: Thuật toán\", \"Chương 4: Ứng dụng\"]"
   ]
  },
  {
   "cell_type": "code",
   "execution_count": 12,
   "metadata": {},
   "outputs": [],
   "source": [
    "album_tracks = [\"Song 1\", \"Song 2\", \"Song 3\", \"Song 4\"]"
   ]
  },
  {
   "cell_type": "code",
   "execution_count": 13,
   "metadata": {},
   "outputs": [],
   "source": [
    "life_stages = [\"Sơ sinh\", \"Trẻ em\", \"Thiếu niên\", \"Thanh niên\", \"Trưởng thành\", \"Già\"]"
   ]
  },
  {
   "cell_type": "code",
   "execution_count": 14,
   "metadata": {},
   "outputs": [],
   "source": [
    "my_list = [1, 2, 3, 4, 5]"
   ]
  },
  {
   "cell_type": "code",
   "execution_count": 15,
   "metadata": {},
   "outputs": [],
   "source": [
    "my_list = [1, 2.5, 3, 4,\"hello\",True, 5,[5,4,3]]"
   ]
  },
  {
   "cell_type": "code",
   "execution_count": 16,
   "metadata": {},
   "outputs": [
    {
     "data": {
      "text/plain": [
       "[5, 4, 3]"
      ]
     },
     "execution_count": 16,
     "metadata": {},
     "output_type": "execute_result"
    }
   ],
   "source": [
    "my_list[-1]"
   ]
  },
  {
   "cell_type": "code",
   "execution_count": 17,
   "metadata": {},
   "outputs": [
    {
     "data": {
      "text/plain": [
       "[5, 4, 3]"
      ]
     },
     "execution_count": 17,
     "metadata": {},
     "output_type": "execute_result"
    }
   ],
   "source": [
    "my_list[7]"
   ]
  },
  {
   "cell_type": "code",
   "execution_count": 18,
   "metadata": {},
   "outputs": [],
   "source": [
    "job_list = [\n",
    "    \"Product Manager\", \"Financial Analyst\", \"Credit Analyst\",\n",
    "    \"Marketing Manager\", \"Treasury Analyst\", \"Risk Manager\",\n",
    "    \"Loan Ofice\", \"Sales Executive\", \"Bank Teller\",\n",
    "    \"Digital Marketing Specialist\"\n",
    "]"
   ]
  },
  {
   "cell_type": "code",
   "execution_count": 19,
   "metadata": {},
   "outputs": [
    {
     "data": {
      "text/plain": [
       "['Product Manager',\n",
       " 'Financial Analyst',\n",
       " 'Credit Analyst',\n",
       " 'Marketing Manager',\n",
       " 'Treasury Analyst',\n",
       " 'Risk Manager',\n",
       " 'Loan Ofice',\n",
       " 'Sales Executive',\n",
       " 'Bank Teller',\n",
       " 'Digital Marketing Specialist']"
      ]
     },
     "execution_count": 19,
     "metadata": {},
     "output_type": "execute_result"
    }
   ],
   "source": [
    "job_list"
   ]
  },
  {
   "cell_type": "code",
   "execution_count": 17,
   "metadata": {},
   "outputs": [
    {
     "name": "stdout",
     "output_type": "stream",
     "text": [
      "['Product Manager', 'Financial Analyst', 'Credit Analyst', 'Marketing Manager', 'Treasury Analyst', 'Risk Manager', 'Loan Ofice', 'Sales Executive', 'Bank Teller', 'Digital Marketing Specialist']\n"
     ]
    }
   ],
   "source": [
    "print(job_list)"
   ]
  },
  {
   "cell_type": "code",
   "execution_count": 112,
   "metadata": {},
   "outputs": [],
   "source": [
    "# # Convert the list to a DataFrame \n",
    "# import pandas as pd\n",
    "# df = pd.DataFrame(job_list, columns=[\"Job list\"]) \n",
    "# display(df)\n"
   ]
  },
  {
   "cell_type": "markdown",
   "metadata": {},
   "source": [
    "    * Danh sách có thể chứa các kiểu dữ liệu khác nhau: Bạn có thể lưu trữ nhiều kiểu dữ liệu trong cùng một danh sách, ví dụ: số nguyên, chuỗi, danh sách con, v.v."
   ]
  },
  {
   "cell_type": "code",
   "execution_count": 21,
   "metadata": {},
   "outputs": [
    {
     "data": {
      "text/plain": [
       "[1, 'Hello', 3.14, [1, 2, 3], False]"
      ]
     },
     "execution_count": 21,
     "metadata": {},
     "output_type": "execute_result"
    }
   ],
   "source": [
    "mixed_list = [1, \"Hello\", 3.14, [1, 2, 3],False] # Một list chưa nhiều kiểu dữ liệu khác nhau và chứa list con\n",
    "mixed_list"
   ]
  },
  {
   "cell_type": "markdown",
   "metadata": {},
   "source": [
    "## Truy xuất phần tử"
   ]
  },
  {
   "cell_type": "code",
   "execution_count": 22,
   "metadata": {},
   "outputs": [
    {
     "data": {
      "text/plain": [
       "['Product Manager',\n",
       " 'Financial Analyst',\n",
       " 'Credit Analyst',\n",
       " 'Marketing Manager',\n",
       " 'Treasury Analyst',\n",
       " 'Risk Manager',\n",
       " 'Loan Ofice',\n",
       " 'Sales Executive',\n",
       " 'Bank Teller',\n",
       " 'Digital Marketing Specialist']"
      ]
     },
     "execution_count": 22,
     "metadata": {},
     "output_type": "execute_result"
    }
   ],
   "source": [
    "job_list"
   ]
  },
  {
   "cell_type": "code",
   "execution_count": 26,
   "metadata": {},
   "outputs": [
    {
     "name": "stdout",
     "output_type": "stream",
     "text": [
      "Financial Analyst\n",
      "Bank Teller\n",
      "['Risk Manager', 'Loan Ofice', 'Sales Executive']\n",
      "['Risk Manager', 'Sales Executive']\n"
     ]
    }
   ],
   "source": [
    "# Truy cập phần tử trong List: Bạn có thể truy cập phần tử trong danh sách thông qua chỉ số (index). Chỉ số trong Python bắt đầu từ 0 kết thúc là n-1.\n",
    "\n",
    "print(job_list[1]) # Financial Analyst\n",
    "\n",
    "# Truy cập phần tử từ cuối danh sách: Bạn có thể sử dụng chỉ số âm để truy cập các phần tử từ cuối danh sách.\n",
    "\n",
    "print(job_list[-2]) # Bank Teller\n",
    "\n",
    "# Cắt lát các phần tử (Slicing)\n",
    "print(job_list[5:8])\n",
    "\n",
    "# Cắt lát các phần tử (Slicing) theo bước nhảy\n",
    "print(job_list[5:8:2])\n"
   ]
  },
  {
   "cell_type": "markdown",
   "metadata": {},
   "source": [
    "## Cập nhật phần tử"
   ]
  },
  {
   "cell_type": "code",
   "execution_count": 22,
   "metadata": {},
   "outputs": [
    {
     "name": "stdout",
     "output_type": "stream",
     "text": [
      "['Product Manager', 'Financial Analyst', 'Credit Analyst', 'Marketing Manager', 'Treasury Analyst', 'Risk Manager', 'Loan Officer', 'Sales Executive', 'Bank Teller', 'Digital Marketing Specialist']\n"
     ]
    }
   ],
   "source": [
    "# Cập nhật phần tử\n",
    "\n",
    "job_list[6] = \"Loan Officer\"\n",
    "print(job_list)"
   ]
  },
  {
   "cell_type": "code",
   "execution_count": 117,
   "metadata": {},
   "outputs": [],
   "source": [
    "# job_list_1 = \"\"\"\n",
    "#     ['Product Manager', 'Financial Analyst', 'Credit Analyst', \n",
    "#     'Marketing Manager', 'Treasury Analyst', 'Risk Manager', 'Loan Officer',\n",
    "#     'Sales Executive', 'Bank Teller', 'Digital Marketing Specialist' ]\n",
    "# \"\"\"\n",
    "\n",
    "# print(job_list_1)"
   ]
  },
  {
   "cell_type": "markdown",
   "metadata": {},
   "source": [
    "## Toán tử cộng"
   ]
  },
  {
   "cell_type": "code",
   "execution_count": 27,
   "metadata": {},
   "outputs": [
    {
     "name": "stdout",
     "output_type": "stream",
     "text": [
      "['Product Manager', 'Financial Analyst', 'Credit Analyst', 'Compliance Officer', 'Branch Manager']\n"
     ]
    }
   ],
   "source": [
    "# Toán tử cộng\n",
    "\n",
    "job_list_1 = [\n",
    "    \"Product Manager\", \"Financial Analyst\", \"Credit Analyst\"\n",
    "]\n",
    "job_list_2 = [\n",
    "    \"Compliance Officer\", \"Branch Manager\"\n",
    "]\n",
    "job_list_3 = job_list_1 + job_list_2\n",
    "print(job_list_3) "
   ]
  },
  {
   "cell_type": "markdown",
   "metadata": {},
   "source": [
    "## Toán tử nhân"
   ]
  },
  {
   "cell_type": "code",
   "execution_count": 28,
   "metadata": {},
   "outputs": [
    {
     "name": "stdout",
     "output_type": "stream",
     "text": [
      "[20000000, 25000000, 20000000, 25000000]\n"
     ]
    }
   ],
   "source": [
    "# Toán tử nhân\n",
    "\n",
    "danh_sach_luong_toi_thieu = [20000000, 25000000]\n",
    "print(danh_sach_luong_toi_thieu * 2)"
   ]
  },
  {
   "cell_type": "markdown",
   "metadata": {},
   "source": [
    "## Toán tử thành phần ( in )"
   ]
  },
  {
   "cell_type": "code",
   "execution_count": 30,
   "metadata": {},
   "outputs": [
    {
     "name": "stdout",
     "output_type": "stream",
     "text": [
      "False\n"
     ]
    }
   ],
   "source": [
    "# Toán tử thành phần (IN)\n",
    "\n",
    "job = \"Marketing Manager\"\n",
    "print(job in job_list)"
   ]
  },
  {
   "cell_type": "code",
   "execution_count": 29,
   "metadata": {},
   "outputs": [
    {
     "name": "stdout",
     "output_type": "stream",
     "text": [
      "True\n"
     ]
    }
   ],
   "source": [
    "print(\"Marketing Manager\" in job_list)"
   ]
  },
  {
   "cell_type": "code",
   "execution_count": 33,
   "metadata": {},
   "outputs": [
    {
     "name": "stdout",
     "output_type": "stream",
     "text": [
      "True\n"
     ]
    }
   ],
   "source": [
    "job = \"Loan Ofice\"\n",
    "print(job in job_list)"
   ]
  },
  {
   "cell_type": "markdown",
   "metadata": {},
   "source": [
    "## Phương thức chung"
   ]
  },
  {
   "cell_type": "markdown",
   "metadata": {},
   "source": [
    "### len : Trả về số lượng phần tử trong list"
   ]
  },
  {
   "cell_type": "code",
   "execution_count": 35,
   "metadata": {},
   "outputs": [
    {
     "name": "stdout",
     "output_type": "stream",
     "text": [
      "Số lượng công việc: 10\n"
     ]
    }
   ],
   "source": [
    "# Phương thức chung (LEN)\n",
    "\n",
    "print(f\"Số lượng công việc: {len(job_list)}\")\n"
   ]
  },
  {
   "cell_type": "markdown",
   "metadata": {},
   "source": [
    "### max/ min : Trả về phần tủ lớn nhất và nhỏ nhất"
   ]
  },
  {
   "cell_type": "code",
   "execution_count": 36,
   "metadata": {},
   "outputs": [
    {
     "name": "stdout",
     "output_type": "stream",
     "text": [
      "Lương cao nhất: 40000000\n",
      "Lương thấp nhất: 30000000\n"
     ]
    }
   ],
   "source": [
    "# Phương thức chung MAX/ MIN\n",
    "\n",
    "danh_sach_luong_manager = [38000000, 33000000, 40000000, 30000000, 37000000]\n",
    "\n",
    "print(f\"Lương cao nhất: {max(danh_sach_luong_manager)}\")\n",
    "print(f\"Lương thấp nhất: {min(danh_sach_luong_manager)}\")\n",
    "\n"
   ]
  },
  {
   "cell_type": "code",
   "execution_count": 37,
   "metadata": {},
   "outputs": [
    {
     "data": {
      "text/plain": [
       "'Treasury Analyst'"
      ]
     },
     "execution_count": 37,
     "metadata": {},
     "output_type": "execute_result"
    }
   ],
   "source": [
    "# A B C D E F G H I J K L M N O P Q R S T U V W X Y Z\n",
    "max(job_list)"
   ]
  },
  {
   "cell_type": "code",
   "execution_count": 33,
   "metadata": {},
   "outputs": [
    {
     "data": {
      "text/plain": [
       "'Bank Teller'"
      ]
     },
     "execution_count": 33,
     "metadata": {},
     "output_type": "execute_result"
    }
   ],
   "source": [
    "min(job_list)"
   ]
  },
  {
   "cell_type": "markdown",
   "metadata": {},
   "source": [
    "### sum"
   ]
  },
  {
   "cell_type": "code",
   "execution_count": 34,
   "metadata": {},
   "outputs": [
    {
     "name": "stdout",
     "output_type": "stream",
     "text": [
      "Tổng lương của các Manager: 178000000\n",
      "Lương trung bình của các Manager:       35600000.0\n"
     ]
    }
   ],
   "source": [
    "# Phương thức chung SUM - Chỉ áp dụng cho list các phần tử có kiểu số\n",
    "\n",
    "danh_sach_luong_manager = [38000000, 33000000, 40000000, 30000000, 37000000]\n",
    "\n",
    "print(f\"Tổng lương của các Manager: {sum(danh_sach_luong_manager)}\")\n",
    "print(f\"Lương trung bình của các Manager: \\\n",
    "      {sum(danh_sach_luong_manager) / len(danh_sach_luong_manager)}\")\n",
    "\n"
   ]
  },
  {
   "cell_type": "markdown",
   "metadata": {},
   "source": [
    "## Phương thức cho list"
   ]
  },
  {
   "cell_type": "code",
   "execution_count": 36,
   "metadata": {},
   "outputs": [
    {
     "data": {
      "text/plain": [
       "['Product Manager',\n",
       " 'Financial Analyst',\n",
       " 'Credit Analyst',\n",
       " 'Marketing Manager',\n",
       " 'Treasury Analyst',\n",
       " 'Risk Manager',\n",
       " 'Loan Officer',\n",
       " 'Sales Executive',\n",
       " 'Bank Teller',\n",
       " 'Digital Marketing Specialist']"
      ]
     },
     "execution_count": 36,
     "metadata": {},
     "output_type": "execute_result"
    }
   ],
   "source": [
    "job_list"
   ]
  },
  {
   "cell_type": "markdown",
   "metadata": {},
   "source": [
    "### append"
   ]
  },
  {
   "cell_type": "code",
   "execution_count": 38,
   "metadata": {},
   "outputs": [
    {
     "name": "stdout",
     "output_type": "stream",
     "text": [
      "['Product Manager', 'Financial Analyst', 'Credit Analyst', 'Marketing Manager', 'Treasury Analyst', 'Risk Manager', 'Loan Ofice', 'Sales Executive', 'Bank Teller', 'Digital Marketing Specialist', 'SEO Specialist']\n"
     ]
    }
   ],
   "source": [
    "# Phương thức cho list (append)\n",
    "\n",
    "job_list.append(\"SEO Specialist\")\n",
    "print(job_list)"
   ]
  },
  {
   "cell_type": "markdown",
   "metadata": {},
   "source": [
    "### insert"
   ]
  },
  {
   "cell_type": "code",
   "execution_count": 47,
   "metadata": {},
   "outputs": [
    {
     "name": "stdout",
     "output_type": "stream",
     "text": [
      "['Product Manager', 'Market Research Analyst', 'Market Research Analyst', 'Market Research Analyst', 'Market Research Analyst', 'Market Research Analyst', 'Marketing Manager', 'Treasury Analyst', 'Risk Manager', 'Loan Ofice', 'Sales Executive', 'Bank Teller', 'Digital Marketing Specialist', 'SEO Specialist']\n"
     ]
    }
   ],
   "source": [
    "job_list.insert(1, \"Market Research Analyst\")\n",
    "print(job_list)\n",
    "\n"
   ]
  },
  {
   "cell_type": "markdown",
   "metadata": {},
   "source": [
    "### pop"
   ]
  },
  {
   "cell_type": "code",
   "execution_count": 46,
   "metadata": {},
   "outputs": [
    {
     "name": "stdout",
     "output_type": "stream",
     "text": [
      "['Product Manager', 'Market Research Analyst', 'Market Research Analyst', 'Market Research Analyst', 'Market Research Analyst', 'Marketing Manager', 'Treasury Analyst', 'Risk Manager', 'Loan Ofice', 'Sales Executive', 'Bank Teller', 'Digital Marketing Specialist', 'SEO Specialist']\n"
     ]
    }
   ],
   "source": [
    "# Phương thức cho list (pop) dùng cho index của list\n",
    "\n",
    "job_list.pop(5)\n",
    "print(job_list)\n",
    "\n"
   ]
  },
  {
   "cell_type": "code",
   "execution_count": 52,
   "metadata": {},
   "outputs": [
    {
     "data": {
      "text/plain": [
       "['Product Manager',\n",
       " 'Market Research Analyst',\n",
       " 'Market Research Analyst',\n",
       " 'Market Research Analyst',\n",
       " 'Market Research Analyst',\n",
       " 'Market Research Analyst',\n",
       " 'Marketing Manager',\n",
       " 'Treasury Analyst',\n",
       " 'Risk Manager',\n",
       " 'Loan Ofice',\n",
       " 'Sales Executive',\n",
       " 'Bank Teller',\n",
       " 'Digital Marketing Specialist']"
      ]
     },
     "execution_count": 52,
     "metadata": {},
     "output_type": "execute_result"
    }
   ],
   "source": [
    "job_list"
   ]
  },
  {
   "cell_type": "markdown",
   "metadata": {},
   "source": [
    "### remove"
   ]
  },
  {
   "cell_type": "code",
   "execution_count": 53,
   "metadata": {},
   "outputs": [
    {
     "ename": "ValueError",
     "evalue": "list.remove(x): x not in list",
     "output_type": "error",
     "traceback": [
      "\u001b[0;31m---------------------------------------------------------------------------\u001b[0m",
      "\u001b[0;31mValueError\u001b[0m                                Traceback (most recent call last)",
      "Cell \u001b[0;32mIn[53], line 2\u001b[0m\n\u001b[1;32m      1\u001b[0m \u001b[38;5;66;03m# Phương thức cho list (remove) dùng cho tên phần tử của list\u001b[39;00m\n\u001b[0;32m----> 2\u001b[0m job_list\u001b[38;5;241m.\u001b[39mremove(\u001b[38;5;124m\"\u001b[39m\u001b[38;5;124mSEO Specialist\u001b[39m\u001b[38;5;124m\"\u001b[39m)\n\u001b[1;32m      3\u001b[0m \u001b[38;5;28mprint\u001b[39m(job_list)\n",
      "\u001b[0;31mValueError\u001b[0m: list.remove(x): x not in list"
     ]
    }
   ],
   "source": [
    "# Phương thức cho list (remove) dùng cho tên phần tử của list\n",
    "job_list.remove(\"SEO Specialist\")\n",
    "print(job_list)\n",
    "\n"
   ]
  },
  {
   "cell_type": "code",
   "execution_count": 54,
   "metadata": {},
   "outputs": [
    {
     "data": {
      "text/plain": [
       "['Product Manager',\n",
       " 'Market Research Analyst',\n",
       " 'Market Research Analyst',\n",
       " 'Market Research Analyst',\n",
       " 'Market Research Analyst',\n",
       " 'Market Research Analyst',\n",
       " 'Marketing Manager',\n",
       " 'Treasury Analyst',\n",
       " 'Risk Manager',\n",
       " 'Loan Ofice',\n",
       " 'Sales Executive',\n",
       " 'Bank Teller',\n",
       " 'Digital Marketing Specialist']"
      ]
     },
     "execution_count": 54,
     "metadata": {},
     "output_type": "execute_result"
    }
   ],
   "source": [
    "job_list"
   ]
  },
  {
   "cell_type": "markdown",
   "metadata": {},
   "source": [
    "### reverse"
   ]
  },
  {
   "cell_type": "code",
   "execution_count": 56,
   "metadata": {},
   "outputs": [
    {
     "name": "stdout",
     "output_type": "stream",
     "text": [
      "['Product Manager', 'Market Research Analyst', 'Market Research Analyst', 'Market Research Analyst', 'Market Research Analyst', 'Market Research Analyst', 'Marketing Manager', 'Treasury Analyst', 'Risk Manager', 'Loan Ofice', 'Sales Executive', 'Bank Teller', 'Digital Marketing Specialist']\n"
     ]
    }
   ],
   "source": [
    "# Phương thức cho list (reverse) đảo ngược list\n",
    "\n",
    "job_list.reverse()\n",
    "print(job_list)\n",
    "\n"
   ]
  },
  {
   "cell_type": "markdown",
   "metadata": {},
   "source": [
    "### sort"
   ]
  },
  {
   "cell_type": "code",
   "execution_count": 58,
   "metadata": {},
   "outputs": [
    {
     "name": "stdout",
     "output_type": "stream",
     "text": [
      "['Bank Teller', 'Digital Marketing Specialist', 'Loan Ofice', 'Market Research Analyst', 'Market Research Analyst', 'Market Research Analyst', 'Market Research Analyst', 'Market Research Analyst', 'Marketing Manager', 'Product Manager', 'Risk Manager', 'Sales Executive', 'Treasury Analyst']\n",
      "['Treasury Analyst', 'Sales Executive', 'Risk Manager', 'Product Manager', 'Marketing Manager', 'Market Research Analyst', 'Market Research Analyst', 'Market Research Analyst', 'Market Research Analyst', 'Market Research Analyst', 'Loan Ofice', 'Digital Marketing Specialist', 'Bank Teller']\n"
     ]
    }
   ],
   "source": [
    "# Phương thức cho list (sort) --- chữ : sắp xếp tăng dần\n",
    "\n",
    "job_list.sort()\n",
    "print(job_list)\n",
    "\n",
    "# Giảm dần \n",
    "\n",
    "job_list.sort(reverse=True)\n",
    "print(job_list)\n"
   ]
  },
  {
   "cell_type": "markdown",
   "metadata": {},
   "source": [
    "### Hàm sorted tạo ra danh sách mới "
   ]
  },
  {
   "cell_type": "code",
   "execution_count": 60,
   "metadata": {},
   "outputs": [
    {
     "name": "stdout",
     "output_type": "stream",
     "text": [
      "Tăng dần: ['Bank Teller', 'Digital Marketing Specialist', 'Loan Ofice', 'Market Research Analyst', 'Market Research Analyst', 'Market Research Analyst', 'Market Research Analyst', 'Market Research Analyst', 'Marketing Manager', 'Product Manager', 'Risk Manager', 'Sales Executive', 'Treasury Analyst']\n",
      "Giảm dần: ['Treasury Analyst', 'Sales Executive', 'Risk Manager', 'Product Manager', 'Marketing Manager', 'Market Research Analyst', 'Market Research Analyst', 'Market Research Analyst', 'Market Research Analyst', 'Market Research Analyst', 'Loan Ofice', 'Digital Marketing Specialist', 'Bank Teller']\n"
     ]
    }
   ],
   "source": [
    "# Sử dụng sorted() để tạo danh sách mới\n",
    "# Tăng dần\n",
    "ascending_list = sorted(job_list)\n",
    "print(\"Tăng dần:\", ascending_list)\n",
    "\n",
    "# Giảm dần \n",
    "# Sử dụng sorted() với reverse=True\n",
    "descending_list = sorted(job_list, reverse=True)\n",
    "print(\"Giảm dần:\", descending_list)"
   ]
  },
  {
   "cell_type": "code",
   "execution_count": 62,
   "metadata": {},
   "outputs": [
    {
     "name": "stdout",
     "output_type": "stream",
     "text": [
      "[33000000, 24000000, 18000000, 10000000, 8000000]\n"
     ]
    }
   ],
   "source": [
    "# Phương thức cho list (sort) --- số\n",
    "\n",
    "danh_sach_luong_giam_dan = [18000000, 33000000, 24000000, 10000000, 8000000]\n",
    "danh_sach_luong_giam_dan.sort(reverse=True)\n",
    "\n",
    "print(danh_sach_luong_giam_dan)\n"
   ]
  },
  {
   "cell_type": "code",
   "execution_count": 63,
   "metadata": {},
   "outputs": [
    {
     "data": {
      "text/plain": [
       "['Treasury Analyst',\n",
       " 'Sales Executive',\n",
       " 'Risk Manager',\n",
       " 'Product Manager',\n",
       " 'Marketing Manager',\n",
       " 'Market Research Analyst',\n",
       " 'Market Research Analyst',\n",
       " 'Market Research Analyst',\n",
       " 'Market Research Analyst',\n",
       " 'Market Research Analyst',\n",
       " 'Loan Ofice',\n",
       " 'Digital Marketing Specialist',\n",
       " 'Bank Teller']"
      ]
     },
     "execution_count": 63,
     "metadata": {},
     "output_type": "execute_result"
    }
   ],
   "source": [
    "job_list"
   ]
  },
  {
   "cell_type": "markdown",
   "metadata": {},
   "source": [
    "### index"
   ]
  },
  {
   "cell_type": "code",
   "execution_count": 64,
   "metadata": {},
   "outputs": [
    {
     "name": "stdout",
     "output_type": "stream",
     "text": [
      "2\n"
     ]
    }
   ],
   "source": [
    "# Phương thức cho list (index lấy ra vị trí index của phần tử chỉ điijnh\n",
    "\n",
    "print(job_list.index(\"Risk Manager\"))"
   ]
  },
  {
   "cell_type": "markdown",
   "metadata": {},
   "source": [
    "### count"
   ]
  },
  {
   "cell_type": "code",
   "execution_count": 65,
   "metadata": {},
   "outputs": [
    {
     "data": {
      "text/plain": [
       "3"
      ]
     },
     "execution_count": 65,
     "metadata": {},
     "output_type": "execute_result"
    }
   ],
   "source": [
    "# Phương thức cho list (count) đếm số lần xuất hiện của một phần tử cụ thể trong list \n",
    "\n",
    "danh_sach_luong_count = [18000000, 33000000, 24000000,10000000, 18000000 ,8000000,18000000]\n",
    "danh_sach_luong_count.count(18000000)"
   ]
  },
  {
   "cell_type": "markdown",
   "metadata": {},
   "source": [
    "### del"
   ]
  },
  {
   "cell_type": "code",
   "execution_count": 70,
   "metadata": {},
   "outputs": [
    {
     "name": "stdout",
     "output_type": "stream",
     "text": [
      "['Treasury Analyst', 'Sales Executive', 'Risk Manager', 'Product Manager', 'Marketing Manager', 'Market Research Analyst', 'Digital Marketing Specialist', 'Bank Teller']\n"
     ]
    }
   ],
   "source": [
    "# Phương thức cho list (del) xoá tại vi trí index ==> del tenlist[index]\n",
    "\n",
    "del job_list[6]\n",
    "print(job_list)"
   ]
  },
  {
   "cell_type": "markdown",
   "metadata": {},
   "source": [
    "### clear"
   ]
  },
  {
   "cell_type": "code",
   "execution_count": 71,
   "metadata": {},
   "outputs": [
    {
     "name": "stdout",
     "output_type": "stream",
     "text": [
      "[]\n"
     ]
    }
   ],
   "source": [
    "# Phương thức cho list (clear) - xoá trắng tất cả các phần tử trong list\n",
    "\n",
    "job_list.clear()\n",
    "print(job_list)"
   ]
  },
  {
   "cell_type": "markdown",
   "metadata": {},
   "source": [
    "## List Comprehension  \n",
    "List Comprehension là một cú pháp ngắn gọn và mạnh mẽ trong Python để tạo danh sách mới từ một danh sách hoặc bất kỳ iterable nào (chuỗi, tuple, range, dictionary, v.v.).  \n",
    "Thay vì sử dụng vòng lặp for truyền thống để thêm phần tử vào danh sách, ta có thể viết gọn lại bằng một dòng duy nhất với List Comprehension.  \n",
    "\n",
    "new_list = [expression for item in iterable if condition]  \n",
    "\n",
    "* expression: Biểu thức xử lý hoặc biến đổi phần tử.  \n",
    "* item: Phần tử lấy từ iterable.  \n",
    "* iterable: Nguồn dữ liệu có thể lặp qua (list, tuple, range, string...).  \n",
    "* if condition (tùy chọn): Điều kiện lọc phần tử (chỉ thêm phần tử nếu thỏa mãn điều kiện).  \n"
   ]
  },
  {
   "cell_type": "code",
   "execution_count": 43,
   "metadata": {},
   "outputs": [
    {
     "name": "stdout",
     "output_type": "stream",
     "text": [
      "[0, 1, 2, 3, 4, 5, 6, 7, 8, 9]\n"
     ]
    }
   ],
   "source": [
    "# Cách thông thường:\n",
    "numbers = []\n",
    "for i in range(10):\n",
    "    numbers.append(i)\n",
    "print(numbers)\n"
   ]
  },
  {
   "cell_type": "code",
   "execution_count": 44,
   "metadata": {},
   "outputs": [
    {
     "name": "stdout",
     "output_type": "stream",
     "text": [
      "[0, 1, 2, 3, 4, 5, 6, 7, 8, 9]\n"
     ]
    }
   ],
   "source": [
    "# Dùng List Comprehension:\n",
    "numbers = [i for i in range(10)]\n",
    "print(numbers)\n"
   ]
  },
  {
   "cell_type": "code",
   "execution_count": 52,
   "metadata": {},
   "outputs": [
    {
     "name": "stdout",
     "output_type": "stream",
     "text": [
      "[20700000, 11500000, 9200000, 13800000, 16100000]\n"
     ]
    }
   ],
   "source": [
    "# Biến đổi các phần tử trong danh sách\n",
    "danh_sach_luong_sales_executive = [18000000, 10000000, 8000000,12000000, 14000000]\n",
    "danh_sach_luong_moi = [round(luong + luong * .15) for luong in danh_sach_luong_sales_executive]\n",
    "\n",
    "print(danh_sach_luong_moi)\n",
    "\n"
   ]
  },
  {
   "cell_type": "code",
   "execution_count": 54,
   "metadata": {},
   "outputs": [
    {
     "name": "stdout",
     "output_type": "stream",
     "text": [
      "[18000000, 14000000]\n"
     ]
    }
   ],
   "source": [
    "danh_sach_luong = [18000000, 10000000, 8000000, 12000000, 14000000]\n",
    "danh_sach_luong_10tr = [luong for luong in danh_sach_luong if luong > 12000000 ]\n",
    "\n",
    "print(danh_sach_luong_10tr)\n",
    "\n"
   ]
  },
  {
   "cell_type": "code",
   "execution_count": 73,
   "metadata": {},
   "outputs": [
    {
     "name": "stdout",
     "output_type": "stream",
     "text": [
      "[0, 2, 4, 6, 8]\n",
      "[0, 2, 4, 6, 8]\n"
     ]
    }
   ],
   "source": [
    "# Lọc số chẵn từ danh sách\n",
    "# Cách thông thường:\n",
    "even_numbers = []\n",
    "for i in range(10):\n",
    "    if i % 2 == 0:\n",
    "        even_numbers.append(i)\n",
    "print(even_numbers)\n",
    "\n",
    "# Dùng List Comprehension:\n",
    "even_numbers = [i for i in range(10) if i % 2 == 0]\n",
    "print(even_numbers)\n"
   ]
  },
  {
   "cell_type": "code",
   "execution_count": 74,
   "metadata": {},
   "outputs": [
    {
     "name": "stdout",
     "output_type": "stream",
     "text": [
      "['P', 'y', 't', 'h', 'o', 'n']\n"
     ]
    }
   ],
   "source": [
    "# Lấy danh sách ký tự trong chuỗi\n",
    "letters = [char for char in \"Python\"]\n",
    "print(letters)\n"
   ]
  },
  {
   "cell_type": "code",
   "execution_count": 75,
   "metadata": {},
   "outputs": [
    {
     "name": "stdout",
     "output_type": "stream",
     "text": [
      "['HELLO', 'WORLD', 'PYTHON']\n"
     ]
    }
   ],
   "source": [
    "# Chuyển tất cả chữ cái trong danh sách thành chữ hoa \n",
    "words = [\"hello\", \"world\", \"python\"]\n",
    "upper_words = [word.upper() for word in words]\n",
    "print(upper_words)\n"
   ]
  },
  {
   "cell_type": "code",
   "execution_count": 76,
   "metadata": {},
   "outputs": [
    {
     "name": "stdout",
     "output_type": "stream",
     "text": [
      "[(0, 0), (0, 1), (0, 2), (1, 0), (1, 1), (1, 2), (2, 0), (2, 1), (2, 2)]\n"
     ]
    }
   ],
   "source": [
    "# Lồng nhiều vòng lặp trong List Comprehension \n",
    "# Dùng vòng lặp lồng nhau để tạo danh sách chứa các cặp số (x, y) \n",
    "\n",
    "pairs = [(x, y) for x in range(3) for y in range(3)]\n",
    "print(pairs)\n"
   ]
  },
  {
   "cell_type": "markdown",
   "metadata": {},
   "source": [
    "### So sánh List Comprehension và vòng lặp for\n",
    "\n",
    "| **Tiêu chí**       | **Vòng lặp for**                | **List Comprehension**     |\n",
    "|--------------------|--------------------------------|----------------------------|\n",
    "| **Độ dài code**    | Dài hơn                        | Ngắn gọn hơn               |\n",
    "| **Hiệu suất**      | Chậm hơn một chút             | Nhanh hơn                   |\n",
    "| **Độ dễ đọc**      | Rõ ràng hơn với logic phức tạp | Tốt hơn với logic đơn giản  |\n"
   ]
  },
  {
   "cell_type": "code",
   "execution_count": 78,
   "metadata": {},
   "outputs": [
    {
     "name": "stdout",
     "output_type": "stream",
     "text": [
      "[0, 1, 4, 9, 16, 25]\n"
     ]
    }
   ],
   "source": [
    "# List Comprehension với hàm \n",
    "# Áp dụng một hàm vào từng phần tử của danh sách. \n",
    "def square(x):\n",
    "    return x ** 2\n",
    "\n",
    "squares = [square(i) for i in range(6)]\n",
    "print(squares)\n"
   ]
  },
  {
   "cell_type": "markdown",
   "metadata": {},
   "source": [
    "#### Khi nào không nên dùng List Comprehension?  \n",
    "\n",
    "* Khi đoạn code quá phức tạp, làm giảm độ dễ đọc.  \n",
    "* Khi cần nhiều bước xử lý bên trong vòng lặp.  "
   ]
  },
  {
   "cell_type": "markdown",
   "metadata": {},
   "source": [
    "# 2. Dictionary  \n",
    "\n",
    "Dictionary (từ điển) là một kiểu dữ liệu có cấu trúc key-value (khóa - giá trị) trong Python. Nó tương tự như bảng tra cứu, nơi mỗi key là duy nhất và trỏ đến một value.  \n",
    "\n",
    "🛠 Đặc điểm chính của dictionary:  \n",
    "\n",
    "Dữ liệu được lưu dưới dạng key: value.  \n",
    "Key phải là duy nhất và bất biến (immutable) như string, number, tuple.  \n",
    "Value có thể là bất kỳ kiểu dữ liệu nào, nó có thể trùng nhau và cập nhật được (string, number, list, tuple, dictionary...).  \n",
    "Dictionary không có thứ tự trước Python 3.7. Từ Python 3.7 trở đi, dictionary giữ nguyên thứ tự chèn. ( Thứ tự tạo ra cặp key - value không cố định trong python 3.7 về trước)\n"
   ]
  },
  {
   "cell_type": "markdown",
   "metadata": {},
   "source": [
    "#### Khai báo và khởi tạo Dictionary  \n",
    "Khởi tạo bằng dấu {} hoặc dict()  "
   ]
  },
  {
   "cell_type": "code",
   "execution_count": 83,
   "metadata": {},
   "outputs": [
    {
     "name": "stdout",
     "output_type": "stream",
     "text": [
      "{'name': 'John', 'age': 20, 'city': 'New York'}\n",
      "{'name': 'Alice', 'age': 25, 'city': 'London'}\n",
      "{'name': 'Alice', 'age': 25, 'city': 'London'}\n"
     ]
    }
   ],
   "source": [
    "# Cách 1: Sử dụng dấu ngoặc nhọn {}\n",
    "student = {\"name\": \"John\", \"age\": 20, \"city\": \"New York\"}\n",
    "print(student)\n",
    "\n",
    "# Cách 2: Sử dụng hàm dict()\n",
    "person = dict(name=\"Alice\", age=25, city=\"London\")\n",
    "print(person)\n",
    "\n",
    "person = { 'name':\"Alice\", 'age':25, 'city':\"London\" }\n",
    "print(person)"
   ]
  },
  {
   "cell_type": "code",
   "execution_count": 85,
   "metadata": {},
   "outputs": [],
   "source": [
    "job_dictionary = {\n",
    "    'Bank Teller': [12000000, 15000000],\n",
    "    'Financial Analyst': [15000000, 20000000],\n",
    "    'Investment Banker': [20000000, 26000000],\n",
    "    'Risk Manager': [30000000, 33000000],\n",
    "    'Credit Analyst': [15000000, 18000000],\n",
    "}"
   ]
  },
  {
   "cell_type": "markdown",
   "metadata": {},
   "source": [
    "## Truy xuất phần tử"
   ]
  },
  {
   "cell_type": "code",
   "execution_count": 87,
   "metadata": {},
   "outputs": [
    {
     "name": "stdout",
     "output_type": "stream",
     "text": [
      "[15000000, 20000000]\n",
      "[30000000, 33000000]\n",
      "Không tìm thấy key\n"
     ]
    }
   ],
   "source": [
    "# Truy xuất phần tử\n",
    "# Truy cập bằng key  \n",
    "print(job_dictionary['Financial Analyst'])\n",
    "\n",
    "# Dùng .get() để tránh lỗi\n",
    "print(job_dictionary.get('Risk Manager'))\n",
    "\n",
    "print(job_dictionary.get(\"Sales Executive\", \"Không tìm thấy key\"))  # Không tìm thấy key (vì key \"Sales Executive\" không có)"
   ]
  },
  {
   "cell_type": "code",
   "execution_count": 88,
   "metadata": {},
   "outputs": [
    {
     "ename": "KeyError",
     "evalue": "'Sales Executive'",
     "output_type": "error",
     "traceback": [
      "\u001b[0;31m---------------------------------------------------------------------------\u001b[0m",
      "\u001b[0;31mKeyError\u001b[0m                                  Traceback (most recent call last)",
      "Cell \u001b[0;32mIn[88], line 1\u001b[0m\n\u001b[0;32m----> 1\u001b[0m \u001b[38;5;28mprint\u001b[39m(job_dictionary[\u001b[38;5;124m'\u001b[39m\u001b[38;5;124mSales Executive\u001b[39m\u001b[38;5;124m'\u001b[39m])\n",
      "\u001b[0;31mKeyError\u001b[0m: 'Sales Executive'"
     ]
    }
   ],
   "source": [
    "print(job_dictionary['Sales Executive'])"
   ]
  },
  {
   "cell_type": "code",
   "execution_count": 89,
   "metadata": {},
   "outputs": [
    {
     "name": "stdout",
     "output_type": "stream",
     "text": [
      "None\n"
     ]
    }
   ],
   "source": [
    "print(job_dictionary.get('Sales Executive'))"
   ]
  },
  {
   "cell_type": "markdown",
   "metadata": {},
   "source": [
    "## Cập nhật/ Thêm mới giá trị"
   ]
  },
  {
   "cell_type": "code",
   "execution_count": 90,
   "metadata": {},
   "outputs": [
    {
     "name": "stdout",
     "output_type": "stream",
     "text": [
      "{'Bank Teller': [12000000, 15000000], 'Financial Analyst': [18000000, 22000000], 'Investment Banker': [20000000, 26000000], 'Risk Manager': [30000000, 33000000], 'Credit Analyst': [15000000, 18000000]}\n",
      "{'Bank Teller': [12000000, 15000000], 'Financial Analyst': [18000000, 22000000], 'Investment Banker': [20000000, 26000000], 'Risk Manager': [30000000, 33000000], 'Credit Analyst': [15000000, 18000000], 'Sales Executive': [20000000, 25000000]}\n"
     ]
    }
   ],
   "source": [
    "# Cập nhật/ Thêm mới giá trị\n",
    "\n",
    "job_dictionary['Financial Analyst'] = [18000000, 22000000]\n",
    "print(job_dictionary)\n",
    "\n",
    "job_dictionary['Sales Executive'] = [20000000,25000000]\n",
    "print(job_dictionary)\n"
   ]
  },
  {
   "cell_type": "markdown",
   "metadata": {},
   "source": [
    "## Phương thức chung"
   ]
  },
  {
   "cell_type": "markdown",
   "metadata": {},
   "source": [
    "### len"
   ]
  },
  {
   "cell_type": "code",
   "execution_count": 91,
   "metadata": {},
   "outputs": [
    {
     "data": {
      "text/plain": [
       "{'Bank Teller': [12000000, 15000000],\n",
       " 'Financial Analyst': [18000000, 22000000],\n",
       " 'Investment Banker': [20000000, 26000000],\n",
       " 'Risk Manager': [30000000, 33000000],\n",
       " 'Credit Analyst': [15000000, 18000000],\n",
       " 'Sales Executive': [20000000, 25000000]}"
      ]
     },
     "execution_count": 91,
     "metadata": {},
     "output_type": "execute_result"
    }
   ],
   "source": [
    "job_dictionary"
   ]
  },
  {
   "cell_type": "code",
   "execution_count": 67,
   "metadata": {},
   "outputs": [
    {
     "name": "stdout",
     "output_type": "stream",
     "text": [
      "Số lượng công việc: 6\n"
     ]
    }
   ],
   "source": [
    "# Phương thức chung (len) - số lượng phần tử trong dictionary\n",
    "number_of_jobs = len(job_dictionary)\n",
    "print(f\"Số lượng công việc: {number_of_jobs}\")"
   ]
  },
  {
   "cell_type": "markdown",
   "metadata": {},
   "source": [
    "## Phương thức cho Dictionary"
   ]
  },
  {
   "cell_type": "code",
   "execution_count": 92,
   "metadata": {},
   "outputs": [
    {
     "data": {
      "text/plain": [
       "dict_keys(['Bank Teller', 'Financial Analyst', 'Investment Banker', 'Risk Manager', 'Credit Analyst', 'Sales Executive'])"
      ]
     },
     "execution_count": 92,
     "metadata": {},
     "output_type": "execute_result"
    }
   ],
   "source": [
    "job_dictionary.keys()"
   ]
  },
  {
   "cell_type": "code",
   "execution_count": 93,
   "metadata": {},
   "outputs": [
    {
     "name": "stdout",
     "output_type": "stream",
     "text": [
      "['Bank Teller', 'Financial Analyst', 'Investment Banker', 'Risk Manager', 'Credit Analyst', 'Sales Executive']\n"
     ]
    }
   ],
   "source": [
    "lst = [job for job in job_dictionary.keys()]\n",
    "print(lst)"
   ]
  },
  {
   "cell_type": "markdown",
   "metadata": {},
   "source": [
    "### keys"
   ]
  },
  {
   "cell_type": "code",
   "execution_count": 94,
   "metadata": {},
   "outputs": [
    {
     "data": {
      "text/plain": [
       "dict_keys(['Bank Teller', 'Financial Analyst', 'Investment Banker', 'Risk Manager', 'Credit Analyst', 'Sales Executive'])"
      ]
     },
     "execution_count": 94,
     "metadata": {},
     "output_type": "execute_result"
    }
   ],
   "source": [
    "job_dictionary.keys()"
   ]
  },
  {
   "cell_type": "code",
   "execution_count": 95,
   "metadata": {},
   "outputs": [
    {
     "name": "stdout",
     "output_type": "stream",
     "text": [
      "Bank Teller\n",
      "Financial Analyst\n",
      "Investment Banker\n",
      "Risk Manager\n",
      "Credit Analyst\n",
      "Sales Executive\n"
     ]
    }
   ],
   "source": [
    "# Trả về danh sách các key của dictionary \n",
    "for JobName in job_dictionary.keys():\n",
    "    print(JobName)"
   ]
  },
  {
   "cell_type": "code",
   "execution_count": 96,
   "metadata": {},
   "outputs": [
    {
     "data": {
      "text/plain": [
       "dict_values([[12000000, 15000000], [18000000, 22000000], [20000000, 26000000], [30000000, 33000000], [15000000, 18000000], [20000000, 25000000]])"
      ]
     },
     "execution_count": 96,
     "metadata": {},
     "output_type": "execute_result"
    }
   ],
   "source": [
    "job_dictionary.values()"
   ]
  },
  {
   "cell_type": "markdown",
   "metadata": {},
   "source": [
    "### values"
   ]
  },
  {
   "cell_type": "code",
   "execution_count": 98,
   "metadata": {},
   "outputs": [
    {
     "name": "stdout",
     "output_type": "stream",
     "text": [
      "[12000000, 15000000]\n",
      "[18000000, 22000000]\n",
      "[20000000, 26000000]\n",
      "[30000000, 33000000]\n",
      "[15000000, 18000000]\n",
      "[20000000, 25000000]\n"
     ]
    }
   ],
   "source": [
    "# Trả về danh sách các value của dictionary. \n",
    "for salary in job_dictionary.values():\n",
    "    print(salary)"
   ]
  },
  {
   "cell_type": "markdown",
   "metadata": {},
   "source": [
    "### update"
   ]
  },
  {
   "cell_type": "code",
   "execution_count": 99,
   "metadata": {},
   "outputs": [
    {
     "data": {
      "text/plain": [
       "{'Bank Teller': [12000000, 15000000],\n",
       " 'Financial Analyst': [18000000, 22000000],\n",
       " 'Investment Banker': [20000000, 26000000],\n",
       " 'Risk Manager': [30000000, 33000000],\n",
       " 'Credit Analyst': [15000000, 18000000],\n",
       " 'Sales Executive': [20000000, 25000000]}"
      ]
     },
     "execution_count": 99,
     "metadata": {},
     "output_type": "execute_result"
    }
   ],
   "source": [
    "job_dictionary"
   ]
  },
  {
   "cell_type": "code",
   "execution_count": 100,
   "metadata": {},
   "outputs": [
    {
     "name": "stdout",
     "output_type": "stream",
     "text": [
      "{'Bank Teller': [12000000, 15000000], 'Financial Analyst': [18000000, 22000000], 'Investment Banker': [20000000, 26000000], 'Risk Manager': [30000000, 33000000], 'Credit Analyst': [15000000, 18000000], 'Sales Executive': [20000000, 25000000], 'Content Strategist': [13000000, 17000000], 'Digital Marketing Specialist': [17000000, 20000000]}\n"
     ]
    }
   ],
   "source": [
    "# Nối new_job_list vào job_dictionary \n",
    "new_job_dict = {\n",
    "    'Content Strategist': [13000000, 17000000],\n",
    "    'Digital Marketing Specialist': [17000000, 20000000],\n",
    "}\n",
    "job_dictionary.update(new_job_dict)\n",
    "print(job_dictionary)"
   ]
  },
  {
   "cell_type": "markdown",
   "metadata": {},
   "source": [
    "### items"
   ]
  },
  {
   "cell_type": "code",
   "execution_count": 101,
   "metadata": {},
   "outputs": [
    {
     "data": {
      "text/plain": [
       "dict_items([('Bank Teller', [12000000, 15000000]), ('Financial Analyst', [18000000, 22000000]), ('Investment Banker', [20000000, 26000000]), ('Risk Manager', [30000000, 33000000]), ('Credit Analyst', [15000000, 18000000]), ('Sales Executive', [20000000, 25000000]), ('Content Strategist', [13000000, 17000000]), ('Digital Marketing Specialist', [17000000, 20000000])])"
      ]
     },
     "execution_count": 101,
     "metadata": {},
     "output_type": "execute_result"
    }
   ],
   "source": [
    "job_dictionary.items()"
   ]
  },
  {
   "cell_type": "code",
   "execution_count": 102,
   "metadata": {},
   "outputs": [
    {
     "name": "stdout",
     "output_type": "stream",
     "text": [
      "Bank Teller -> [12000000, 15000000]\n",
      "Financial Analyst -> [18000000, 22000000]\n",
      "Investment Banker -> [20000000, 26000000]\n",
      "Risk Manager -> [30000000, 33000000]\n",
      "Credit Analyst -> [15000000, 18000000]\n",
      "Sales Executive -> [20000000, 25000000]\n",
      "Content Strategist -> [13000000, 17000000]\n",
      "Digital Marketing Specialist -> [17000000, 20000000]\n"
     ]
    }
   ],
   "source": [
    "# Trả về danh sách các bộ (key, value) của dictionary. \n",
    "for jobName, salary in job_dictionary.items():\n",
    "    print(f\"{jobName} -> {salary}\")\n"
   ]
  },
  {
   "cell_type": "markdown",
   "metadata": {},
   "source": [
    "### setdefault"
   ]
  },
  {
   "cell_type": "code",
   "execution_count": 103,
   "metadata": {},
   "outputs": [
    {
     "name": "stdout",
     "output_type": "stream",
     "text": [
      "Mức lương Investment Banker là:  [20000000, 26000000]\n",
      "Mức lương Software Engineer là:  No Info\n",
      "{'Bank Teller': [12000000, 15000000], 'Financial Analyst': [18000000, 22000000], 'Investment Banker': [20000000, 26000000], 'Risk Manager': [30000000, 33000000], 'Credit Analyst': [15000000, 18000000], 'Sales Executive': [20000000, 25000000], 'Content Strategist': [13000000, 17000000], 'Digital Marketing Specialist': [17000000, 20000000], 'Software Engineer': 'No Info'}\n"
     ]
    }
   ],
   "source": [
    "# Trả về giá trị value thuộc key, nhưng sẽ trả về giá trị của default nếu key không tồn tại trong dictionary, đồng thời thêm giá trị key – value của default vào dictionary một cách tự động.\n",
    "\n",
    "print(\"Mức lương Investment Banker là: \", \n",
    "      job_dictionary.setdefault('Investment Banker', None))\n",
    "print(\"Mức lương Software Engineer là: \", \n",
    "      job_dictionary.setdefault(\"Software Engineer\", \"No Info\"))\n",
    "# Software Engineer được tự động thêm vào job_dictionary\n",
    "print(job_dictionary)"
   ]
  },
  {
   "cell_type": "markdown",
   "metadata": {},
   "source": [
    "### pop"
   ]
  },
  {
   "cell_type": "code",
   "execution_count": 104,
   "metadata": {},
   "outputs": [
    {
     "name": "stdout",
     "output_type": "stream",
     "text": [
      "{'Bank Teller': [12000000, 15000000], 'Financial Analyst': [18000000, 22000000], 'Investment Banker': [20000000, 26000000], 'Risk Manager': [30000000, 33000000], 'Credit Analyst': [15000000, 18000000], 'Sales Executive': [20000000, 25000000], 'Content Strategist': [13000000, 17000000], 'Digital Marketing Specialist': [17000000, 20000000]}\n"
     ]
    }
   ],
   "source": [
    "# Xoá phần tử dựa trên key chỉ định \n",
    "job_dictionary.pop(\"Software Engineer\")\n",
    "print(job_dictionary)"
   ]
  },
  {
   "cell_type": "markdown",
   "metadata": {},
   "source": [
    "#### del"
   ]
  },
  {
   "cell_type": "code",
   "execution_count": 105,
   "metadata": {},
   "outputs": [
    {
     "name": "stdout",
     "output_type": "stream",
     "text": [
      "{'Bank Teller': [12000000, 15000000], 'Investment Banker': [20000000, 26000000], 'Risk Manager': [30000000, 33000000], 'Credit Analyst': [15000000, 18000000], 'Sales Executive': [20000000, 25000000], 'Content Strategist': [13000000, 17000000], 'Digital Marketing Specialist': [17000000, 20000000]}\n"
     ]
    }
   ],
   "source": [
    "# Xóa phần tử với del \n",
    "del job_dictionary['Financial Analyst']\n",
    "print(job_dictionary)"
   ]
  },
  {
   "cell_type": "markdown",
   "metadata": {},
   "source": [
    "### popitem"
   ]
  },
  {
   "cell_type": "code",
   "execution_count": 106,
   "metadata": {},
   "outputs": [
    {
     "name": "stdout",
     "output_type": "stream",
     "text": [
      "{'Bank Teller': [12000000, 15000000], 'Investment Banker': [20000000, 26000000], 'Risk Manager': [30000000, 33000000], 'Credit Analyst': [15000000, 18000000], 'Sales Executive': [20000000, 25000000], 'Content Strategist': [13000000, 17000000]}\n"
     ]
    }
   ],
   "source": [
    "# Xóa phần tử cuối cùng được thêm vào dictionary \n",
    "job_dictionary.popitem()\n",
    "print(job_dictionary)"
   ]
  },
  {
   "cell_type": "markdown",
   "metadata": {},
   "source": [
    "### clear"
   ]
  },
  {
   "cell_type": "code",
   "execution_count": 107,
   "metadata": {},
   "outputs": [
    {
     "name": "stdout",
     "output_type": "stream",
     "text": [
      "{}\n"
     ]
    }
   ],
   "source": [
    "# Xóa tất cả các phần tử khỏi dictionary\n",
    "job_dictionary.clear()\n",
    "print(job_dictionary)"
   ]
  },
  {
   "cell_type": "markdown",
   "metadata": {},
   "source": [
    "### Dictionary Comprehension  \n"
   ]
  },
  {
   "cell_type": "code",
   "execution_count": 108,
   "metadata": {},
   "outputs": [
    {
     "name": "stdout",
     "output_type": "stream",
     "text": [
      "{1: 1, 2: 4, 3: 9, 4: 16}\n"
     ]
    }
   ],
   "source": [
    "# Tạo Dictionary từ List\n",
    "numbers = [1, 2, 3, 4]\n",
    "squares = {num: num ** 2 for num in numbers}\n",
    "print(squares)\n"
   ]
  },
  {
   "cell_type": "code",
   "execution_count": 110,
   "metadata": {},
   "outputs": [
    {
     "name": "stdout",
     "output_type": "stream",
     "text": [
      "{'b': 20, 'c': 30}\n"
     ]
    }
   ],
   "source": [
    "# Lọc phần tử trong Dictionary \n",
    "original = {\"a\": 10, \"b\": 20, \"c\": 30}\n",
    "filtered = {k: v for k, v in original.items() if v > 15}\n",
    "print(filtered)\n"
   ]
  },
  {
   "cell_type": "markdown",
   "metadata": {},
   "source": [
    "### Lồng Dictionary (Nested Dictionary) "
   ]
  },
  {
   "cell_type": "code",
   "execution_count": 112,
   "metadata": {},
   "outputs": [
    {
     "name": "stdout",
     "output_type": "stream",
     "text": [
      "{'name': 'John', 'age': 20}\n",
      "John\n"
     ]
    }
   ],
   "source": [
    "students = {\n",
    "    \"student1\": {\"name\": \"John\", \"age\": 20},\n",
    "    \"student2\": {\"name\": \"Alice\", \"age\": 22}\n",
    "}\n",
    "print(students[\"student1\"])\n",
    "print(students[\"student1\"][\"name\"])  # John\n"
   ]
  },
  {
   "cell_type": "markdown",
   "metadata": {},
   "source": [
    "### Chuyển đổi giữa Dictionary và các kiểu dữ liệu khác "
   ]
  },
  {
   "cell_type": "code",
   "execution_count": 174,
   "metadata": {},
   "outputs": [
    {
     "name": "stdout",
     "output_type": "stream",
     "text": [
      "{'name': 'Alice', 'age': 25, 'city': 'London'}\n"
     ]
    }
   ],
   "source": [
    "# Chuyển list thành dictionary\n",
    "keys = [\"name\", \"age\", \"city\"]\n",
    "values = [\"Alice\", 25, \"London\"]\n",
    "person = dict(zip(keys, values))\n",
    "print(person)\n"
   ]
  },
  {
   "cell_type": "code",
   "execution_count": 115,
   "metadata": {},
   "outputs": [
    {
     "name": "stdout",
     "output_type": "stream",
     "text": [
      "['name', 'age']\n",
      "['John', 20]\n",
      "[('name', 'John'), ('age', 20)]\n"
     ]
    }
   ],
   "source": [
    "# Chuyển dictionary thành list \n",
    "data = {\"name\": \"John\", \"age\": 20}\n",
    "keys_list = list(data.keys())  # ['name', 'age']\n",
    "values_list = list(data.values())  # ['John', 20]\n",
    "items_list = list(data.items())  # [('name', 'John'), ('age', 20)]\n",
    "print(keys_list)\n",
    "print(values_list)\n",
    "print(items_list)"
   ]
  },
  {
   "cell_type": "code",
   "execution_count": null,
   "metadata": {},
   "outputs": [],
   "source": [
    "data.keys()"
   ]
  },
  {
   "cell_type": "markdown",
   "metadata": {},
   "source": [
    "### So sánh Dictionary với List\n",
    "\n",
    "| Đặc điểm     | Dictionary (`dict`)  | List (`list`) |\n",
    "|-------------|----------------------|--------------|\n",
    "| Cấu trúc    | Tập hợp các cặp `key-value` | Tập hợp các giá trị (elements) |\n",
    "| Truy cập    | Dựa vào `key`         | Dựa vào chỉ mục (`index`) |\n",
    "| Dữ liệu     | Không có thứ tự (trước Python 3.7), có thứ tự từ Python 3.7+ | Có thứ tự |\n"
   ]
  },
  {
   "cell_type": "code",
   "execution_count": 113,
   "metadata": {},
   "outputs": [
    {
     "name": "stdout",
     "output_type": "stream",
     "text": [
      "banana\n",
      "banana\n"
     ]
    }
   ],
   "source": [
    "\n",
    "# List\n",
    "lst = ['apple', 'banana', 'cherry']\n",
    "print(lst[1])  # Output: banana\n",
    "\n",
    "# Dictionary\n",
    "dct = {'fruit1': 'apple', 'fruit2': 'banana', 'fruit3': 'cherry'}\n",
    "print(dct['fruit2'])  # Output: banana\n"
   ]
  },
  {
   "cell_type": "code",
   "execution_count": null,
   "metadata": {},
   "outputs": [],
   "source": []
  }
 ],
 "metadata": {
  "kernelspec": {
   "display_name": "Python [conda env:base] *",
   "language": "python",
   "name": "conda-base-py"
  },
  "language_info": {
   "codemirror_mode": {
    "name": "ipython",
    "version": 3
   },
   "file_extension": ".py",
   "mimetype": "text/x-python",
   "name": "python",
   "nbconvert_exporter": "python",
   "pygments_lexer": "ipython3",
   "version": "3.13.5"
  }
 },
 "nbformat": 4,
 "nbformat_minor": 4
}
