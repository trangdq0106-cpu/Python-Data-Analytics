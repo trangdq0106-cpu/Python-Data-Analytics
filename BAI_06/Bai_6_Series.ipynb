{
 "cells": [
  {
   "attachments": {},
   "cell_type": "markdown",
   "id": "db731ba6-e3af-4fc0-b8c0-26217ac4c682",
   "metadata": {},
   "source": [
    "## 1. Giới thiệu  \n",
    "Trong Python, dữ liệu dạng bảng thường được biểu diễn bằng DataFrame, một cấu trúc dữ liệu mạnh mẽ trong thư viện pandas. DataFrame giống như một bảng Excel hoặc một bảng SQL, với các hàng và cột.  \n",
    "\n",
    "* pandas là một thư viện phổ biến trong Python giúp thao tác và phân tích dữ liệu dạng bảng. Nó hỗ trợ:  \n",
    "\n",
    "Đọc và ghi dữ liệu từ nhiều định dạng (CSV, Excel, SQL, JSON, v.v.).  \n",
    "Xử lý dữ liệu (lọc, nhóm, gộp, sắp xếp, v.v.).  \n",
    "Phân tích thống kê và biểu diễn dữ liệu.  \n",
    "* Cấu trúc Dữ liệu Chính trong pandas      \n",
    "\n",
    "### Cấu trúc Dữ liệu Chính trong pandas\n",
    "\n",
    "| Cấu trúc | Mô tả | Đặc điểm chính |\n",
    "|----------|-------|---------------|\n",
    "| **Series** | Mảng 1 chiều, giống như một danh sách hoặc mảng numpy | - Chứa các phần tử có cùng kiểu dữ liệu <br> - Có thể đặt tên cho Series <br> - Chỉ số (index) có thể tùy chỉnh |\n",
    "| **DataFrame** | Bảng 2 chiều, tương tự như bảng trong Excel hoặc SQL | - Chứa nhiều cột, mỗi cột là một Series <br> - Hỗ trợ nhiều kiểu dữ liệu trong các cột khác nhau <br> - Dễ dàng thao tác và xử lý dữ liệu |\n",
    "| **Panel** _(Đã bị loại bỏ từ pandas 1.0)_ | Dữ liệu 3 chiều, mở rộng từ DataFrame | - Hiện tại, có thể thay thế bằng cách dùng `MultiIndex` hoặc `xarray` |\n",
    "\n",
    "\n",
    "Cài đặt pandas bằng lệnh :  \n",
    "\n",
    "pip install pandas  \n",
    "\n",
    "Sử dụng pandas :  \n",
    "\n",
    "import pandas as pd\n"
   ]
  },
  {
   "cell_type": "code",
   "execution_count": 21,
   "id": "1c50dbef-5f4e-4ab9-8d7a-2bb1251f9323",
   "metadata": {},
   "outputs": [
    {
     "name": "stdout",
     "output_type": "stream",
     "text": [
      "Requirement already satisfied: pandas in /opt/anaconda3/lib/python3.13/site-packages (2.2.3)\n",
      "Requirement already satisfied: numpy>=1.26.0 in /opt/anaconda3/lib/python3.13/site-packages (from pandas) (2.1.3)\n",
      "Requirement already satisfied: python-dateutil>=2.8.2 in /opt/anaconda3/lib/python3.13/site-packages (from pandas) (2.9.0.post0)\n",
      "Requirement already satisfied: pytz>=2020.1 in /opt/anaconda3/lib/python3.13/site-packages (from pandas) (2024.1)\n",
      "Requirement already satisfied: tzdata>=2022.7 in /opt/anaconda3/lib/python3.13/site-packages (from pandas) (2025.2)\n",
      "Requirement already satisfied: six>=1.5 in /opt/anaconda3/lib/python3.13/site-packages (from python-dateutil>=2.8.2->pandas) (1.17.0)\n"
     ]
    }
   ],
   "source": [
    "!pip install pandas"
   ]
  },
  {
   "cell_type": "code",
   "execution_count": 2,
   "id": "af114454-fdd1-4419-bd94-8437c6a08621",
   "metadata": {},
   "outputs": [],
   "source": [
    "import pandas as pd"
   ]
  },
  {
   "attachments": {},
   "cell_type": "markdown",
   "id": "31624a4f-4087-4cc3-8a37-173c05642190",
   "metadata": {},
   "source": [
    "## 2. Series\n",
    "🔹 1. Series là gì?  \n",
    "Series trong Pandas là một mảng một chiều chứa dữ liệu có thể có nhãn (index). Nó giống như một danh sách hoặc mảng NumPy nhưng có thể gán tên cho từng phần tử thông qua chỉ mục (index).  \n",
    "\n",
    "👉 Mỗi Series có thể chứa nhiều kiểu dữ liệu khác nhau như: số nguyên (int), số thực (float), chuỗi (string), giá trị NaN (null), object, datetime,...  \n",
    "\n",
    "🔹 2. Cách tạo một Series  \n",
    "📌 Có nhiều cách để tạo một Series trong Pandas:\n",
    "\n",
    "Cú pháp :  \n",
    "\n",
    "pd.Series(data, index, dtype)  \n",
    "\n",
    "data: dữ liệu từ nhiều dạng khác nhau như list, dictionary,…  \n",
    "index: Index tường minh: người dùng xác định giá trị index (label). Index ngầm định: zero-based index từ 0 đến n-1 (n: số phần tử)  \n",
    "dtype: kiểu dữ liệu (tùy chọn)  \n"
   ]
  },
  {
   "cell_type": "code",
   "execution_count": 3,
   "id": "9369e71b",
   "metadata": {},
   "outputs": [],
   "source": [
    "import pandas as pd\n",
    "import random \n",
    "import numpy as np"
   ]
  },
  {
   "cell_type": "code",
   "execution_count": 11,
   "id": "2f7cb46f-99bd-4836-9100-0780cc509163",
   "metadata": {},
   "outputs": [
    {
     "data": {
      "text/plain": [
       "0    4\n",
       "1    7\n",
       "2   -6\n",
       "3    2\n",
       "dtype: int64"
      ]
     },
     "execution_count": 11,
     "metadata": {},
     "output_type": "execute_result"
    }
   ],
   "source": [
    "ser1 = pd.Series([4 , 7 , -6, 2])\n",
    "ser1"
   ]
  },
  {
   "cell_type": "code",
   "execution_count": 12,
   "id": "c436a2fc-b614-4433-b2dd-d20cfeb2abd3",
   "metadata": {},
   "outputs": [
    {
     "data": {
      "text/plain": [
       "<NumpyExtensionArray>\n",
       "[np.int64(4), np.int64(7), np.int64(-6), np.int64(2)]\n",
       "Length: 4, dtype: int64"
      ]
     },
     "execution_count": 12,
     "metadata": {},
     "output_type": "execute_result"
    }
   ],
   "source": [
    "ser1.array"
   ]
  },
  {
   "cell_type": "code",
   "execution_count": 7,
   "id": "0f61dd47-e984-4e7a-b9ab-b7559422a7ce",
   "metadata": {},
   "outputs": [
    {
     "data": {
      "text/plain": [
       "RangeIndex(start=0, stop=4, step=1)"
      ]
     },
     "execution_count": 7,
     "metadata": {},
     "output_type": "execute_result"
    }
   ],
   "source": [
    "ser1.index"
   ]
  },
  {
   "cell_type": "code",
   "execution_count": 13,
   "id": "2bf92a96-346e-4b53-8abe-66443ca9631d",
   "metadata": {},
   "outputs": [
    {
     "data": {
      "text/plain": [
       "d    4\n",
       "b    7\n",
       "a   -6\n",
       "c    2\n",
       "dtype: int64"
      ]
     },
     "execution_count": 13,
     "metadata": {},
     "output_type": "execute_result"
    }
   ],
   "source": [
    "ser2 = pd.Series([4 , 7 , -6, 2],index=[\"d\",\"b\",\"a\",\"c\"])\n",
    "ser2"
   ]
  },
  {
   "cell_type": "code",
   "execution_count": 14,
   "id": "5d93e1c7-7785-42a0-8d61-7fc6245359a6",
   "metadata": {},
   "outputs": [
    {
     "data": {
      "text/plain": [
       "Index(['d', 'b', 'a', 'c'], dtype='object')"
      ]
     },
     "execution_count": 14,
     "metadata": {},
     "output_type": "execute_result"
    }
   ],
   "source": [
    "ser2.index"
   ]
  },
  {
   "cell_type": "code",
   "execution_count": 17,
   "id": "ee5e9c53-eff4-48e6-9b1c-7b0dba7188b8",
   "metadata": {},
   "outputs": [
    {
     "data": {
      "text/plain": [
       "d    4\n",
       "a   -6\n",
       "c    2\n",
       "dtype: int64"
      ]
     },
     "execution_count": 17,
     "metadata": {},
     "output_type": "execute_result"
    }
   ],
   "source": [
    "ser2[[\"d\",\"a\",\"c\"]]"
   ]
  },
  {
   "cell_type": "code",
   "execution_count": 18,
   "id": "9ee8b7ac-c29f-42b1-8b99-708d024a1b39",
   "metadata": {},
   "outputs": [
    {
     "data": {
      "text/plain": [
       "np.int64(-6)"
      ]
     },
     "execution_count": 18,
     "metadata": {},
     "output_type": "execute_result"
    }
   ],
   "source": [
    "ser2[\"a\"]"
   ]
  },
  {
   "cell_type": "code",
   "execution_count": 54,
   "id": "ce0b8755-0f4a-4e5f-ba72-c846a5e10207",
   "metadata": {},
   "outputs": [
    {
     "name": "stderr",
     "output_type": "stream",
     "text": [
      "/var/folders/d7/npd5vr1948g_v_49dpzx36n00000gp/T/ipykernel_38798/757981701.py:1: FutureWarning: Series.__getitem__ treating keys as positions is deprecated. In a future version, integer keys will always be treated as labels (consistent with DataFrame behavior). To access a value by position, use `ser.iloc[pos]`\n",
      "  ser2[2]\n"
     ]
    },
    {
     "data": {
      "text/plain": [
       "np.int64(-6)"
      ]
     },
     "execution_count": 54,
     "metadata": {},
     "output_type": "execute_result"
    }
   ],
   "source": [
    "ser2[2]"
   ]
  },
  {
   "cell_type": "code",
   "execution_count": 20,
   "id": "8367aaab-d58a-4b88-a47b-facec8f1d824",
   "metadata": {},
   "outputs": [
    {
     "data": {
      "text/plain": [
       "d    4\n",
       "b    7\n",
       "c    2\n",
       "dtype: int64"
      ]
     },
     "execution_count": 20,
     "metadata": {},
     "output_type": "execute_result"
    }
   ],
   "source": [
    "ser2[ser2 > 0]"
   ]
  },
  {
   "cell_type": "code",
   "execution_count": 21,
   "id": "ddc2e9af-0717-441d-a67d-ca912f0e4959",
   "metadata": {},
   "outputs": [
    {
     "data": {
      "text/plain": [
       "d     8\n",
       "b    14\n",
       "a   -12\n",
       "c     4\n",
       "dtype: int64"
      ]
     },
     "execution_count": 21,
     "metadata": {},
     "output_type": "execute_result"
    }
   ],
   "source": [
    "ser2 * 2"
   ]
  },
  {
   "cell_type": "code",
   "execution_count": 22,
   "id": "8e313d18-fcf3-4b65-8789-20d468a922b1",
   "metadata": {},
   "outputs": [
    {
     "data": {
      "text/plain": [
       "False"
      ]
     },
     "execution_count": 22,
     "metadata": {},
     "output_type": "execute_result"
    }
   ],
   "source": [
    "7 in ser2"
   ]
  },
  {
   "cell_type": "code",
   "execution_count": 23,
   "id": "55967ddf-4b37-4089-b5cd-03e2b526b647",
   "metadata": {},
   "outputs": [
    {
     "data": {
      "text/plain": [
       "np.int64(7)"
      ]
     },
     "execution_count": 23,
     "metadata": {},
     "output_type": "execute_result"
    }
   ],
   "source": [
    "ser2[\"b\"]"
   ]
  },
  {
   "cell_type": "code",
   "execution_count": 36,
   "id": "58f051d0-cbab-4452-b32c-a47aa36d5eab",
   "metadata": {},
   "outputs": [
    {
     "data": {
      "text/plain": [
       "True"
      ]
     },
     "execution_count": 36,
     "metadata": {},
     "output_type": "execute_result"
    }
   ],
   "source": [
    "\"b\" in ser2"
   ]
  },
  {
   "cell_type": "code",
   "execution_count": 24,
   "id": "26d8c61b-5b3d-4705-aa1d-321d7835b178",
   "metadata": {},
   "outputs": [
    {
     "data": {
      "text/plain": [
       "{'Ohio': 35000, 'Texas': 71000, 'Oregan': 16000, 'Utah': 500}"
      ]
     },
     "execution_count": 24,
     "metadata": {},
     "output_type": "execute_result"
    }
   ],
   "source": [
    "dict ={\"Ohio\":35000, \"Texas\":71000, \"Oregan\":16000, \"Utah\":500}\n",
    "dict"
   ]
  },
  {
   "cell_type": "code",
   "execution_count": 27,
   "id": "a11dc7aa-5071-4bb5-a30e-3b4f37a824e0",
   "metadata": {},
   "outputs": [
    {
     "data": {
      "text/plain": [
       "Ohio      35000\n",
       "Texas     71000\n",
       "Oregan    16000\n",
       "Utah        500\n",
       "dtype: int64"
      ]
     },
     "execution_count": 27,
     "metadata": {},
     "output_type": "execute_result"
    }
   ],
   "source": [
    "ser3 = pd.Series(dict)\n",
    "ser3"
   ]
  },
  {
   "cell_type": "code",
   "execution_count": 28,
   "id": "5959137b-ff5a-4810-af92-3e394c7fb5de",
   "metadata": {},
   "outputs": [
    {
     "data": {
      "text/plain": [
       "{'Ohio': 35000, 'Texas': 71000, 'Oregan': 16000, 'Utah': 500}"
      ]
     },
     "execution_count": 28,
     "metadata": {},
     "output_type": "execute_result"
    }
   ],
   "source": [
    "dict1 = ser3.to_dict()\n",
    "dict1"
   ]
  },
  {
   "cell_type": "code",
   "execution_count": 30,
   "id": "a17a8326-8e22-4672-b63e-936ed274eff4",
   "metadata": {},
   "outputs": [
    {
     "data": {
      "text/plain": [
       "A    4\n",
       "B    7\n",
       "C   -6\n",
       "D    2\n",
       "dtype: int64"
      ]
     },
     "execution_count": 30,
     "metadata": {},
     "output_type": "execute_result"
    }
   ],
   "source": [
    "ser1"
   ]
  },
  {
   "cell_type": "code",
   "execution_count": 29,
   "id": "ef93e5b2-ae2b-4c9e-bc59-929a4a6488fe",
   "metadata": {},
   "outputs": [
    {
     "data": {
      "text/plain": [
       "A    4\n",
       "B    7\n",
       "C   -6\n",
       "D    2\n",
       "dtype: int64"
      ]
     },
     "execution_count": 29,
     "metadata": {},
     "output_type": "execute_result"
    }
   ],
   "source": [
    "ser1.index = [\"A\",\"B\",\"C\",\"D\"]\n",
    "ser1"
   ]
  },
  {
   "cell_type": "markdown",
   "id": "dd1b9539-5109-4a10-ad30-c3ce1503a89e",
   "metadata": {},
   "source": [
    "random.seed() được dùng để thiết lập hạt giống (seed) cho bộ sinh số ngẫu nhiên trong thư viện random.  \n",
    "    - Bộ sinh số ngẫu nhiên trong máy tính không hoàn toàn ngẫu nhiên mà là giả ngẫu nhiên — nó dựa vào một công thức tính toán từ một giá trị khởi tạo gọi là seed.  \n",
    "    - Khi bạn đặt cùng một seed, các số ngẫu nhiên sinh ra sau đó sẽ luôn giống nhau ở mọi lần chạy chương trình.  \n",
    "\n",
    "Tại sao dùng random.seed(42)?  \n",
    "Con số 42 không có ý nghĩa đặc biệt về mặt kỹ thuật.  \n",
    "Nó trở nên phổ biến trong giới lập trình và khoa học máy tính do ảnh hưởng từ cuốn tiểu thuyết khoa học viễn tưởng \"The Hitchhiker's Guide to the Galaxy\", trong đó 42 là \"câu trả lời cuối cùng cho sự sống, vũ trụ và mọi thứ\".  \n",
    "Nên đây thường là một cách hài hước hoặc truyền thống khi chọn seed.  \n",
    "Bạn có thể dùng bất kỳ số nào, ví dụ random.seed(0) hoặc random.seed(12345), miễn là bạn muốn kết quả random lặp lại được (reproducible).        \n"
   ]
  },
  {
   "cell_type": "code",
   "execution_count": 31,
   "id": "c9a29d79-1e3d-4f6b-92c9-68e2b331d2b4",
   "metadata": {},
   "outputs": [
    {
     "data": {
      "text/plain": [
       "range(500, 1500)"
      ]
     },
     "execution_count": 31,
     "metadata": {},
     "output_type": "execute_result"
    }
   ],
   "source": [
    "range(500, 1500)"
   ]
  },
  {
   "cell_type": "code",
   "execution_count": 32,
   "id": "240c6cc9-aafc-4c74-8603-8a97ff432532",
   "metadata": {},
   "outputs": [
    {
     "name": "stdout",
     "output_type": "stream",
     "text": [
      "[525, 527, 530, 532, 589, 595, 604, 614, 642, 703, 723, 728, 738, 750, 781, 932, 1017, 1058, 1074, 1104, 1116, 1154, 1165, 1192, 1218, 1233, 1254, 1258, 1259, 1413]\n"
     ]
    }
   ],
   "source": [
    "random.seed(42)\n",
    "a = random.sample(range(500, 1500), 30)\n",
    "a = sorted(a)\n",
    "print(a)"
   ]
  },
  {
   "cell_type": "code",
   "execution_count": 33,
   "id": "a3957a52-5c27-4553-b430-02ff007bbbd0",
   "metadata": {},
   "outputs": [
    {
     "data": {
      "text/plain": [
       "['Ngày 1',\n",
       " 'Ngày 2',\n",
       " 'Ngày 3',\n",
       " 'Ngày 4',\n",
       " 'Ngày 5',\n",
       " 'Ngày 6',\n",
       " 'Ngày 7',\n",
       " 'Ngày 8',\n",
       " 'Ngày 9',\n",
       " 'Ngày 10',\n",
       " 'Ngày 11',\n",
       " 'Ngày 12',\n",
       " 'Ngày 13',\n",
       " 'Ngày 14',\n",
       " 'Ngày 15',\n",
       " 'Ngày 16',\n",
       " 'Ngày 17',\n",
       " 'Ngày 18',\n",
       " 'Ngày 19',\n",
       " 'Ngày 20',\n",
       " 'Ngày 21',\n",
       " 'Ngày 22',\n",
       " 'Ngày 23',\n",
       " 'Ngày 24',\n",
       " 'Ngày 25',\n",
       " 'Ngày 26',\n",
       " 'Ngày 27',\n",
       " 'Ngày 28',\n",
       " 'Ngày 29',\n",
       " 'Ngày 30']"
      ]
     },
     "execution_count": 33,
     "metadata": {},
     "output_type": "execute_result"
    }
   ],
   "source": [
    "[f\"Ngày {i}\" for i in range(1, 31)]"
   ]
  },
  {
   "cell_type": "code",
   "execution_count": 34,
   "id": "2d1d13c5",
   "metadata": {
    "scrolled": true
   },
   "outputs": [
    {
     "name": "stdout",
     "output_type": "stream",
     "text": [
      "Ngày 1     1154\n",
      "Ngày 2      614\n",
      "Ngày 3      525\n",
      "Ngày 4     1259\n",
      "Ngày 5      781\n",
      "Ngày 6      750\n",
      "Ngày 7      728\n",
      "Ngày 8      642\n",
      "Ngày 9     1254\n",
      "Ngày 10     604\n",
      "Ngày 11    1192\n",
      "Ngày 12    1258\n",
      "Ngày 13    1413\n",
      "Ngày 14    1058\n",
      "Ngày 15     589\n",
      "Ngày 16    1104\n",
      "Ngày 17     932\n",
      "Ngày 18     532\n",
      "Ngày 19     530\n",
      "Ngày 20     595\n",
      "Ngày 21     723\n",
      "Ngày 22     738\n",
      "Ngày 23    1017\n",
      "Ngày 24    1116\n",
      "Ngày 25     527\n",
      "Ngày 26    1074\n",
      "Ngày 27     703\n",
      "Ngày 28    1233\n",
      "Ngày 29    1165\n",
      "Ngày 30    1218\n",
      "dtype: int64\n"
     ]
    }
   ],
   "source": [
    "# Tạo series từ list --> series\n",
    "# Phân tích doanh thu hàng ngày của cửa hàng bán lẻ (đơn vị: USD) (trong 1 tháng)\n",
    "\n",
    "# range(500, 1500)\n",
    "# Tạo một dãy số từ 500 đến 1499 (không bao gồm 1500).\n",
    "# Tập hợp này chứa 1000 số nguyên: {500, 501, ..., 1499}.\n",
    "\n",
    "# random.sample(..., 30)\n",
    "# Chọn ngẫu nhiên 30 số từ tập hợp {500, 501, ..., 1499}.\n",
    "# Không có số nào bị trùng lặp (mẫu không thay thế)...\n",
    "\n",
    "random.seed(42) \n",
    "# Cố định bộ số sau mỗi lần phát sinh ngẫu nhiên dãy số, \n",
    "# Dòng này thiết lập \"hạt giống\" (seed) cho bộ sinh số ngẫu nhiên của Python, \n",
    "# Khi seed được cố định (ví dụ bằng 42), kết quả của các hàm ngẫu nhiên sau đó sẽ luôn giống nhau mỗi lần chạy chương trình\n",
    "doanh_thu = pd.Series(random.sample(range(500, 1500), 30),index=[f\"Ngày {i}\" for i in range(1, 31)])\n",
    "\n",
    "# doanh_thu = pd.Series(random.sample(range(500, 1500), 30))\n",
    "\n",
    "\n",
    "print(doanh_thu)"
   ]
  },
  {
   "cell_type": "code",
   "execution_count": 35,
   "id": "69c0d570-7ec9-4cd0-98ba-ff31e7437ead",
   "metadata": {},
   "outputs": [
    {
     "name": "stdout",
     "output_type": "stream",
     "text": [
      "Giá trị lớn nhất của doanh thu:  Ngày 13    1413\n",
      "dtype: int64\n"
     ]
    }
   ],
   "source": [
    "# Giá trị lớn nhất trong Series \n",
    "print('Giá trị lớn nhất của doanh thu: ',doanh_thu[doanh_thu == max(doanh_thu)])"
   ]
  },
  {
   "cell_type": "code",
   "execution_count": 36,
   "id": "d19b5fcf-d2f5-442a-bad0-9359afdf9fe3",
   "metadata": {},
   "outputs": [
    {
     "name": "stdout",
     "output_type": "stream",
     "text": [
      "Giá trị nhỏ nhất của doanh thu:  Ngày 3    525\n",
      "dtype: int64\n"
     ]
    }
   ],
   "source": [
    "# Giá trị nhỏ nhất trong Series \n",
    "print('Giá trị nhỏ nhất của doanh thu: ',doanh_thu[doanh_thu == min(doanh_thu)])"
   ]
  },
  {
   "cell_type": "code",
   "execution_count": 37,
   "id": "edda7b8d",
   "metadata": {},
   "outputs": [
    {
     "data": {
      "text/plain": [
       "count      30.000000\n",
       "mean      900.933333\n",
       "std       286.246450\n",
       "min       525.000000\n",
       "25%       621.000000\n",
       "50%       856.500000\n",
       "75%      1162.250000\n",
       "max      1413.000000\n",
       "dtype: float64"
      ]
     },
     "execution_count": 37,
     "metadata": {},
     "output_type": "execute_result"
    }
   ],
   "source": [
    "# Thống kê mô tả trong Series \n",
    "doanh_thu.describe()"
   ]
  },
  {
   "cell_type": "markdown",
   "id": "8978ac27",
   "metadata": {},
   "source": [
    "## Xem thông tin Series"
   ]
  },
  {
   "cell_type": "code",
   "execution_count": 38,
   "id": "1fea2a96",
   "metadata": {},
   "outputs": [
    {
     "name": "stdout",
     "output_type": "stream",
     "text": [
      "30\n"
     ]
    }
   ],
   "source": [
    "print(doanh_thu.size) # in ra số phần tử"
   ]
  },
  {
   "cell_type": "code",
   "execution_count": 39,
   "id": "b3571d03",
   "metadata": {},
   "outputs": [
    {
     "name": "stdout",
     "output_type": "stream",
     "text": [
      "30\n"
     ]
    }
   ],
   "source": [
    "print(len(doanh_thu)) # in ra số phần tử"
   ]
  },
  {
   "cell_type": "code",
   "execution_count": 40,
   "id": "185ff55c",
   "metadata": {},
   "outputs": [
    {
     "name": "stdout",
     "output_type": "stream",
     "text": [
      "(30,)\n"
     ]
    }
   ],
   "source": [
    "print(doanh_thu.shape) # in ra số chiều và số phần tử nhưng do series là một cột nên chỉ hiện số dòng"
   ]
  },
  {
   "cell_type": "code",
   "execution_count": 41,
   "id": "c19fc707-497d-4ac2-b80b-71f7daef151d",
   "metadata": {},
   "outputs": [
    {
     "name": "stdout",
     "output_type": "stream",
     "text": [
      "30\n"
     ]
    }
   ],
   "source": [
    "print(len(doanh_thu))"
   ]
  },
  {
   "cell_type": "code",
   "execution_count": 42,
   "id": "21821028",
   "metadata": {},
   "outputs": [
    {
     "name": "stdout",
     "output_type": "stream",
     "text": [
      "int64\n"
     ]
    }
   ],
   "source": [
    "print(doanh_thu.dtype) # in ra kiểu dữ liệu"
   ]
  },
  {
   "cell_type": "code",
   "execution_count": 43,
   "id": "1ff1a72e",
   "metadata": {},
   "outputs": [
    {
     "name": "stdout",
     "output_type": "stream",
     "text": [
      "Index(['Ngày 1', 'Ngày 2', 'Ngày 3', 'Ngày 4', 'Ngày 5', 'Ngày 6', 'Ngày 7',\n",
      "       'Ngày 8', 'Ngày 9', 'Ngày 10', 'Ngày 11', 'Ngày 12', 'Ngày 13',\n",
      "       'Ngày 14', 'Ngày 15', 'Ngày 16', 'Ngày 17', 'Ngày 18', 'Ngày 19',\n",
      "       'Ngày 20', 'Ngày 21', 'Ngày 22', 'Ngày 23', 'Ngày 24', 'Ngày 25',\n",
      "       'Ngày 26', 'Ngày 27', 'Ngày 28', 'Ngày 29', 'Ngày 30'],\n",
      "      dtype='object')\n"
     ]
    }
   ],
   "source": [
    "# in ra các index\n",
    "print(doanh_thu.index)"
   ]
  },
  {
   "cell_type": "code",
   "execution_count": 110,
   "id": "20d46198-1bfb-4964-9ccd-4ef174753907",
   "metadata": {},
   "outputs": [
    {
     "name": "stdout",
     "output_type": "stream",
     "text": [
      "[1154  614  525 1259  781  750  728  642 1254  604 1192 1258 1413 1058\n",
      "  589 1104  932  532  530  595  723  738 1017 1116  527 1074  703 1233\n",
      " 1165 1218]\n"
     ]
    }
   ],
   "source": [
    "# in ra các giá trị trong Series  \n",
    "print(doanh_thu.values)"
   ]
  },
  {
   "cell_type": "markdown",
   "id": "00acc58c",
   "metadata": {},
   "source": [
    "## Truy xuất"
   ]
  },
  {
   "cell_type": "markdown",
   "id": "c081fdbb",
   "metadata": {},
   "source": [
    "#### Truy xuất 1 phần tử"
   ]
  },
  {
   "cell_type": "code",
   "execution_count": 44,
   "id": "1601a19f",
   "metadata": {},
   "outputs": [
    {
     "data": {
      "text/plain": [
       "np.int64(781)"
      ]
     },
     "execution_count": 44,
     "metadata": {},
     "output_type": "execute_result"
    }
   ],
   "source": [
    "# Doanh thu ngày 5 - truy xuất bằng label\n",
    "doanh_thu.loc['Ngày 5']"
   ]
  },
  {
   "cell_type": "code",
   "execution_count": 45,
   "id": "ebc85397-58b3-411c-824d-b9e7883f2f64",
   "metadata": {},
   "outputs": [
    {
     "name": "stdout",
     "output_type": "stream",
     "text": [
      "781\n"
     ]
    }
   ],
   "source": [
    "print(doanh_thu.loc['Ngày 5'])"
   ]
  },
  {
   "cell_type": "code",
   "execution_count": 46,
   "id": "9ccf00c5-0844-4a00-971c-8e46b2adb003",
   "metadata": {},
   "outputs": [
    {
     "data": {
      "text/plain": [
       "781"
      ]
     },
     "execution_count": 46,
     "metadata": {},
     "output_type": "execute_result"
    }
   ],
   "source": [
    "doanh_thu.loc['Ngày 5'].item()"
   ]
  },
  {
   "cell_type": "code",
   "execution_count": 47,
   "id": "48f06538",
   "metadata": {},
   "outputs": [
    {
     "data": {
      "text/plain": [
       "np.int64(781)"
      ]
     },
     "execution_count": 47,
     "metadata": {},
     "output_type": "execute_result"
    }
   ],
   "source": [
    "# Doanh thu ngày 5\n",
    "doanh_thu.iloc[4] "
   ]
  },
  {
   "cell_type": "code",
   "execution_count": 48,
   "id": "2632c179-3650-461a-ab91-54de9cab3665",
   "metadata": {},
   "outputs": [
    {
     "name": "stdout",
     "output_type": "stream",
     "text": [
      "781\n"
     ]
    }
   ],
   "source": [
    "print(doanh_thu.iloc[4] )"
   ]
  },
  {
   "cell_type": "code",
   "execution_count": 49,
   "id": "bdd5a958",
   "metadata": {},
   "outputs": [
    {
     "data": {
      "text/plain": [
       "np.int64(1218)"
      ]
     },
     "execution_count": 49,
     "metadata": {},
     "output_type": "execute_result"
    }
   ],
   "source": [
    "# Doanh thu ngày 30  (phần tử cuối, index=-1)\n",
    "doanh_thu.iloc[-1] "
   ]
  },
  {
   "cell_type": "code",
   "execution_count": 50,
   "id": "1233cdd0-41fb-43b8-b69b-aa25409418d0",
   "metadata": {},
   "outputs": [
    {
     "data": {
      "text/plain": [
       "np.int64(1218)"
      ]
     },
     "execution_count": 50,
     "metadata": {},
     "output_type": "execute_result"
    }
   ],
   "source": [
    "doanh_thu.iloc[29] "
   ]
  },
  {
   "cell_type": "code",
   "execution_count": 121,
   "id": "2efca910-bb1e-459f-84f7-e71ebf03e011",
   "metadata": {},
   "outputs": [
    {
     "name": "stdout",
     "output_type": "stream",
     "text": [
      "1218\n"
     ]
    }
   ],
   "source": [
    "print(doanh_thu.iloc[-1] )"
   ]
  },
  {
   "cell_type": "markdown",
   "id": "719d8ee7",
   "metadata": {},
   "source": [
    "#### Truy xuất nhiều phần tử"
   ]
  },
  {
   "cell_type": "markdown",
   "id": "4dd111d4",
   "metadata": {},
   "source": [
    "Sử dụng cắt lát slicing"
   ]
  },
  {
   "cell_type": "code",
   "execution_count": 51,
   "id": "ae2977c7",
   "metadata": {},
   "outputs": [
    {
     "data": {
      "text/plain": [
       "Ngày 1    1154\n",
       "Ngày 2     614\n",
       "Ngày 3     525\n",
       "dtype: int64"
      ]
     },
     "execution_count": 51,
     "metadata": {},
     "output_type": "execute_result"
    }
   ],
   "source": [
    "# Truy xuất doanh thu từ ngày 1 đến ngày 3 [start:stop:step]\n",
    "doanh_thu.iloc[0:3] "
   ]
  },
  {
   "cell_type": "code",
   "execution_count": 52,
   "id": "a9739264",
   "metadata": {},
   "outputs": [
    {
     "data": {
      "text/plain": [
       "Ngày 7      728\n",
       "Ngày 14    1058\n",
       "Ngày 21     723\n",
       "Ngày 28    1233\n",
       "dtype: int64"
      ]
     },
     "execution_count": 52,
     "metadata": {},
     "output_type": "execute_result"
    }
   ],
   "source": [
    "# Truy xuất doanh thu mỗi cuối tuần, bên trong là một list cụ thể tên các nhãn cần truy xuất [..,...,...]\n",
    "doanh_thu.loc[[\"Ngày 7\", \"Ngày 14\", \"Ngày 21\", \"Ngày 28\"]] "
   ]
  },
  {
   "cell_type": "markdown",
   "id": "481e720e",
   "metadata": {},
   "source": [
    "#### Truy xuất theo điều kiện"
   ]
  },
  {
   "cell_type": "code",
   "execution_count": 53,
   "id": "51ccfed2-4e57-4a66-9724-dfe49b968657",
   "metadata": {},
   "outputs": [
    {
     "data": {
      "text/plain": [
       "Ngày 1      True\n",
       "Ngày 2     False\n",
       "Ngày 3     False\n",
       "Ngày 4      True\n",
       "Ngày 5     False\n",
       "Ngày 6     False\n",
       "Ngày 7     False\n",
       "Ngày 8     False\n",
       "Ngày 9      True\n",
       "Ngày 10    False\n",
       "Ngày 11     True\n",
       "Ngày 12     True\n",
       "Ngày 13     True\n",
       "Ngày 14     True\n",
       "Ngày 15    False\n",
       "Ngày 16     True\n",
       "Ngày 17    False\n",
       "Ngày 18    False\n",
       "Ngày 19    False\n",
       "Ngày 20    False\n",
       "Ngày 21    False\n",
       "Ngày 22    False\n",
       "Ngày 23     True\n",
       "Ngày 24     True\n",
       "Ngày 25    False\n",
       "Ngày 26     True\n",
       "Ngày 27    False\n",
       "Ngày 28     True\n",
       "Ngày 29     True\n",
       "Ngày 30     True\n",
       "dtype: bool"
      ]
     },
     "execution_count": 53,
     "metadata": {},
     "output_type": "execute_result"
    }
   ],
   "source": [
    "doanh_thu > 1000"
   ]
  },
  {
   "cell_type": "code",
   "execution_count": 67,
   "id": "1295e6f3",
   "metadata": {},
   "outputs": [
    {
     "data": {
      "text/plain": [
       "Ngày 1     1154\n",
       "Ngày 4     1259\n",
       "Ngày 9     1254\n",
       "Ngày 11    1192\n",
       "Ngày 12    1258\n",
       "Ngày 13    1413\n",
       "Ngày 14    1058\n",
       "Ngày 16    1104\n",
       "Ngày 23    1017\n",
       "Ngày 24    1116\n",
       "Ngày 26    1074\n",
       "Ngày 28    1233\n",
       "Ngày 29    1165\n",
       "Ngày 30    1218\n",
       "dtype: int64"
      ]
     },
     "execution_count": 67,
     "metadata": {},
     "output_type": "execute_result"
    }
   ],
   "source": [
    "# Truy xuất theo điều kiện\n",
    "\n",
    "# Truy xuất những ngày có doanh thu > 1000USD\n",
    "doanh_thu[doanh_thu > 1000]"
   ]
  },
  {
   "cell_type": "code",
   "execution_count": 127,
   "id": "5446acf1-1605-4de0-942f-088d61a35e79",
   "metadata": {},
   "outputs": [
    {
     "data": {
      "text/plain": [
       "Ngày 1     False\n",
       "Ngày 2     False\n",
       "Ngày 3     False\n",
       "Ngày 4      True\n",
       "Ngày 5     False\n",
       "Ngày 6     False\n",
       "Ngày 7     False\n",
       "Ngày 8     False\n",
       "Ngày 9      True\n",
       "Ngày 10    False\n",
       "Ngày 11    False\n",
       "Ngày 12     True\n",
       "Ngày 13     True\n",
       "Ngày 14    False\n",
       "Ngày 15    False\n",
       "Ngày 16    False\n",
       "Ngày 17    False\n",
       "Ngày 18    False\n",
       "Ngày 19    False\n",
       "Ngày 20    False\n",
       "Ngày 21    False\n",
       "Ngày 22    False\n",
       "Ngày 23    False\n",
       "Ngày 24    False\n",
       "Ngày 25    False\n",
       "Ngày 26    False\n",
       "Ngày 27    False\n",
       "Ngày 28     True\n",
       "Ngày 29    False\n",
       "Ngày 30     True\n",
       "dtype: bool"
      ]
     },
     "execution_count": 127,
     "metadata": {},
     "output_type": "execute_result"
    }
   ],
   "source": [
    "(doanh_thu > 1200) & (doanh_thu < 1500)"
   ]
  },
  {
   "cell_type": "code",
   "execution_count": 69,
   "id": "c2f4ed6b",
   "metadata": {},
   "outputs": [
    {
     "data": {
      "text/plain": [
       "Ngày 4     1259\n",
       "Ngày 9     1254\n",
       "Ngày 12    1258\n",
       "Ngày 13    1413\n",
       "Ngày 28    1233\n",
       "Ngày 30    1218\n",
       "dtype: int64"
      ]
     },
     "execution_count": 69,
     "metadata": {},
     "output_type": "execute_result"
    }
   ],
   "source": [
    "# Truy xuất theo điều kiện: toán tử AND\n",
    "# Truy xuất những ngày có doanh thu > 1200USD và < 1500USD\n",
    "doanh_thu[(doanh_thu > 1200) & (doanh_thu < 1500)] # AND"
   ]
  },
  {
   "cell_type": "code",
   "execution_count": 128,
   "id": "8979e703",
   "metadata": {},
   "outputs": [
    {
     "data": {
      "text/plain": [
       "Ngày 1     1154\n",
       "Ngày 2      614\n",
       "Ngày 3      525\n",
       "Ngày 5      781\n",
       "Ngày 6      750\n",
       "Ngày 7      728\n",
       "Ngày 8      642\n",
       "Ngày 10     604\n",
       "Ngày 11    1192\n",
       "Ngày 13    1413\n",
       "Ngày 14    1058\n",
       "Ngày 15     589\n",
       "Ngày 16    1104\n",
       "Ngày 17     932\n",
       "Ngày 18     532\n",
       "Ngày 19     530\n",
       "Ngày 20     595\n",
       "Ngày 21     723\n",
       "Ngày 22     738\n",
       "Ngày 23    1017\n",
       "Ngày 24    1116\n",
       "Ngày 25     527\n",
       "Ngày 26    1074\n",
       "Ngày 27     703\n",
       "Ngày 29    1165\n",
       "dtype: int64"
      ]
     },
     "execution_count": 128,
     "metadata": {},
     "output_type": "execute_result"
    }
   ],
   "source": [
    "# Truy xuất theo điều kiện: toán tử OR\n",
    "doanh_thu[(doanh_thu < 1200) | (doanh_thu > 1350)]"
   ]
  },
  {
   "cell_type": "markdown",
   "id": "a6aba29a-2a4d-4ac4-9f9f-04381e65e936",
   "metadata": {},
   "source": [
    "#### 🔹 Tổng kết các cách truy xuất dữ liệu trong `Series`\n",
    "\n",
    "| **Cách truy xuất** | **Ví dụ** | **Ghi chú** |\n",
    "|-------------------|-----------|------------|\n",
    "| Truy xuất theo chỉ mục mặc định | `s[2]` | Lấy phần tử tại index 2 |\n",
    "| Truy xuất bằng chỉ mục đặt tên | `s_named['b']` | Lấy phần tử có index 'b' |\n",
    "| Truy xuất nhiều phần tử | `s[[1, 3, 4]]` | Lấy phần tử tại index 1, 3, 4 |\n",
    "| Truy xuất bằng slicing | `s[1:4]` | Lấy từ index 1 đến 3 |\n",
    "| Dùng `.loc[]` với index đặt tên | `s_named.loc['b']` | Lấy phần tử index 'b' |\n",
    "| Dùng `.iloc[]` với index số | `s_named.iloc[1]` | Lấy phần tử tại vị trí 1 |\n",
    "| Truy xuất theo điều kiện | `s_named[s_named > 250]` | Lấy phần tử có giá trị > 250 |\n"
   ]
  },
  {
   "cell_type": "markdown",
   "id": "ef379872",
   "metadata": {},
   "source": [
    "## Thêm, sửa, xóa các phần tử trong Series"
   ]
  },
  {
   "cell_type": "markdown",
   "id": "35d12081",
   "metadata": {},
   "source": [
    "#### Thêm"
   ]
  },
  {
   "cell_type": "code",
   "execution_count": 71,
   "id": "bf8b7bd0-f1a2-4f46-8bb5-a0a7edbd808f",
   "metadata": {},
   "outputs": [
    {
     "data": {
      "text/html": [
       "<div>\n",
       "<style scoped>\n",
       "    .dataframe tbody tr th:only-of-type {\n",
       "        vertical-align: middle;\n",
       "    }\n",
       "\n",
       "    .dataframe tbody tr th {\n",
       "        vertical-align: top;\n",
       "    }\n",
       "\n",
       "    .dataframe thead th {\n",
       "        text-align: right;\n",
       "    }\n",
       "</style>\n",
       "<table border=\"1\" class=\"dataframe\">\n",
       "  <thead>\n",
       "    <tr style=\"text-align: right;\">\n",
       "      <th></th>\n",
       "      <th>A</th>\n",
       "      <th>B</th>\n",
       "    </tr>\n",
       "  </thead>\n",
       "  <tbody>\n",
       "    <tr>\n",
       "      <th>0</th>\n",
       "      <td>1</td>\n",
       "      <td>4</td>\n",
       "    </tr>\n",
       "    <tr>\n",
       "      <th>1</th>\n",
       "      <td>2</td>\n",
       "      <td>5</td>\n",
       "    </tr>\n",
       "    <tr>\n",
       "      <th>2</th>\n",
       "      <td>3</td>\n",
       "      <td>6</td>\n",
       "    </tr>\n",
       "  </tbody>\n",
       "</table>\n",
       "</div>"
      ],
      "text/plain": [
       "   A  B\n",
       "0  1  4\n",
       "1  2  5\n",
       "2  3  6"
      ]
     },
     "metadata": {},
     "output_type": "display_data"
    }
   ],
   "source": [
    "# Nối hai Series \n",
    "s1 = pd.Series([1, 2, 3], name=\"A\")\n",
    "s2 = pd.Series([4, 5, 6], name=\"B\")\n",
    "\n",
    "result = pd.concat([s1, s2], axis=1) # → Ghép hai Series thành DataFrame.\n",
    "display(result)\n"
   ]
  },
  {
   "cell_type": "code",
   "execution_count": 72,
   "id": "2d009e47-eec7-4f6b-b301-3bc6435c425a",
   "metadata": {},
   "outputs": [
    {
     "data": {
      "text/plain": [
       "Ngày 1     1154\n",
       "Ngày 2      614\n",
       "Ngày 3      525\n",
       "Ngày 4     1259\n",
       "Ngày 5      781\n",
       "Ngày 6      750\n",
       "Ngày 7      728\n",
       "Ngày 8      642\n",
       "Ngày 9     1254\n",
       "Ngày 10     604\n",
       "Ngày 11    1192\n",
       "Ngày 12    1258\n",
       "Ngày 13    1413\n",
       "Ngày 14    1058\n",
       "Ngày 15     589\n",
       "Ngày 16    1104\n",
       "Ngày 17     932\n",
       "Ngày 18     532\n",
       "Ngày 19     530\n",
       "Ngày 20     595\n",
       "Ngày 21     723\n",
       "Ngày 22     738\n",
       "Ngày 23    1017\n",
       "Ngày 24    1116\n",
       "Ngày 25     527\n",
       "Ngày 26    1074\n",
       "Ngày 27     703\n",
       "Ngày 28    1233\n",
       "Ngày 29    1165\n",
       "Ngày 30    1218\n",
       "dtype: int64"
      ]
     },
     "execution_count": 72,
     "metadata": {},
     "output_type": "execute_result"
    }
   ],
   "source": [
    "doanh_thu"
   ]
  },
  {
   "cell_type": "code",
   "execution_count": 137,
   "id": "a16f22e9",
   "metadata": {},
   "outputs": [
    {
     "name": "stdout",
     "output_type": "stream",
     "text": [
      "Ngày 1     1154\n",
      "Ngày 2      614\n",
      "Ngày 3      525\n",
      "Ngày 4     1259\n",
      "Ngày 5      781\n",
      "Ngày 6      750\n",
      "Ngày 7      728\n",
      "Ngày 8      642\n",
      "Ngày 9     1254\n",
      "Ngày 10     604\n",
      "Ngày 11    1192\n",
      "Ngày 12    1258\n",
      "Ngày 13    1413\n",
      "Ngày 14    1058\n",
      "Ngày 15     589\n",
      "Ngày 16    1104\n",
      "Ngày 17     932\n",
      "Ngày 18     532\n",
      "Ngày 19     530\n",
      "Ngày 20     595\n",
      "Ngày 21     723\n",
      "Ngày 22     738\n",
      "Ngày 23    1017\n",
      "Ngày 24    1116\n",
      "Ngày 25     527\n",
      "Ngày 26    1074\n",
      "Ngày 27     703\n",
      "Ngày 28    1233\n",
      "Ngày 29    1165\n",
      "Ngày 30    1218\n",
      "Ngày 31    1350\n",
      "dtype: int64\n"
     ]
    }
   ],
   "source": [
    "# Thêm doanh thu của ngày 31 vào Series\n",
    "doanh_thu[\"Ngày 31\"] = 1350\n",
    "\n",
    "print(doanh_thu)"
   ]
  },
  {
   "cell_type": "markdown",
   "id": "648057c4",
   "metadata": {},
   "source": [
    "#### Sửa"
   ]
  },
  {
   "cell_type": "code",
   "execution_count": 74,
   "id": "ee547307",
   "metadata": {},
   "outputs": [
    {
     "data": {
      "text/plain": [
       "Ngày 1     1154\n",
       "Ngày 2      614\n",
       "Ngày 3      525\n",
       "Ngày 4     1259\n",
       "Ngày 5      781\n",
       "Ngày 6      750\n",
       "Ngày 7      728\n",
       "Ngày 8      642\n",
       "Ngày 9     1420\n",
       "Ngày 10     604\n",
       "Ngày 11    1192\n",
       "Ngày 12    1258\n",
       "Ngày 13    1413\n",
       "Ngày 14    1058\n",
       "Ngày 15     589\n",
       "Ngày 16    1104\n",
       "Ngày 17     932\n",
       "Ngày 18     532\n",
       "Ngày 19     530\n",
       "Ngày 20     595\n",
       "Ngày 21     723\n",
       "Ngày 22     738\n",
       "Ngày 23    1017\n",
       "Ngày 24    1116\n",
       "Ngày 25     527\n",
       "Ngày 26    1074\n",
       "Ngày 27     703\n",
       "Ngày 28    1233\n",
       "Ngày 29    1165\n",
       "Ngày 30    1218\n",
       "Ngày 31    1350\n",
       "dtype: int64"
      ]
     },
     "execution_count": 74,
     "metadata": {},
     "output_type": "execute_result"
    }
   ],
   "source": [
    "# Cập nhật lại giá trị\n",
    "\n",
    "doanh_thu['Ngày 9'] = 1420\n",
    "doanh_thu"
   ]
  },
  {
   "cell_type": "code",
   "execution_count": 138,
   "id": "963ee3a9-50a4-4c1e-8be9-60da652dac9c",
   "metadata": {},
   "outputs": [
    {
     "data": {
      "text/plain": [
       "Ngày 1     1154\n",
       "Ngày 2      614\n",
       "Ngày 3      525\n",
       "Ngày 4     1259\n",
       "Ngày 5      781\n",
       "Ngày 6      750\n",
       "Ngày 7      728\n",
       "Ngày 8      642\n",
       "Ngày 9     1254\n",
       "Ngày 10     604\n",
       "Ngày 11    1192\n",
       "Ngày 12    1258\n",
       "Ngày 13    1413\n",
       "Ngày 14    1058\n",
       "Ngày 15     589\n",
       "Ngày 16    1104\n",
       "Ngày 17     932\n",
       "Ngày 18     532\n",
       "Ngày 19     530\n",
       "Ngày 20     595\n",
       "Ngày 21     723\n",
       "Ngày 22     738\n",
       "Ngày 23    1017\n",
       "Ngày 24    1116\n",
       "Ngày 25     527\n",
       "Ngày 26    1074\n",
       "Ngày 27     703\n",
       "Ngày 28    1233\n",
       "Ngày 29    1165\n",
       "Ngày 30    1218\n",
       "dtype: int64"
      ]
     },
     "execution_count": 138,
     "metadata": {},
     "output_type": "execute_result"
    }
   ],
   "source": [
    "doanh_thu.drop(\"Ngày 31\", inplace = True)\n",
    "doanh_thu"
   ]
  },
  {
   "cell_type": "code",
   "execution_count": 76,
   "id": "9f907385",
   "metadata": {},
   "outputs": [],
   "source": [
    "# Xóa theo label: 'Ngày 31 '\n",
    "# doanh_thu = doanh_thu.drop(\"Ngày 31\")\n",
    "# doanh_thu"
   ]
  },
  {
   "cell_type": "code",
   "execution_count": 77,
   "id": "5192a09d",
   "metadata": {},
   "outputs": [],
   "source": [
    "# Xóa theo index\n",
    "# doanh_thu = doanh_thu.drop(doanh_thu.index[-1])\n",
    "# doanh_thu"
   ]
  },
  {
   "cell_type": "code",
   "execution_count": 139,
   "id": "7b4fcaa3-4d7a-4dd9-900a-5232a0246ed2",
   "metadata": {
    "scrolled": true
   },
   "outputs": [
    {
     "data": {
      "text/plain": [
       "Ngày 1     1154\n",
       "Ngày 2      614\n",
       "Ngày 3      525\n",
       "Ngày 4     1259\n",
       "Ngày 5      781\n",
       "Ngày 6      750\n",
       "Ngày 7      728\n",
       "Ngày 8      642\n",
       "Ngày 9     1254\n",
       "Ngày 10     604\n",
       "Ngày 11    1192\n",
       "Ngày 12    1258\n",
       "Ngày 13    1413\n",
       "Ngày 14    1058\n",
       "Ngày 15     589\n",
       "Ngày 16    1104\n",
       "Ngày 17     932\n",
       "Ngày 18     532\n",
       "Ngày 19     530\n",
       "Ngày 20     595\n",
       "Ngày 21     723\n",
       "Ngày 22     738\n",
       "Ngày 23    1017\n",
       "Ngày 24    1116\n",
       "Ngày 25     527\n",
       "Ngày 26    1074\n",
       "Ngày 27     703\n",
       "Ngày 28    1233\n",
       "Ngày 29    1165\n",
       "dtype: int64"
      ]
     },
     "execution_count": 139,
     "metadata": {},
     "output_type": "execute_result"
    }
   ],
   "source": [
    "doanh_thu.drop(doanh_thu.index[-1], inplace = True)\n",
    "\n",
    "# doanh_thu = doanh_thu.drop(doanh_thu.index[-1])\n",
    "\n",
    "doanh_thu"
   ]
  },
  {
   "cell_type": "markdown",
   "id": "62bef36f",
   "metadata": {},
   "source": [
    "## Thống kê\n",
    "# 📊 Các Giá Trị Thống Kê Quan Trọng\n",
    "\n",
    "## 1️⃣ Trung Bình (Mean)\n",
    "Trung bình là giá trị trung tâm của tập dữ liệu, được tính bằng tổng tất cả các giá trị chia cho số lượng giá trị.\n",
    "\n",
    "### 🔹 Công thức:\n",
    "$$\n",
    "\\mu = \\frac{1}{n} \\sum_{i=1}^{n} x_i\n",
    "$$\n",
    "\n",
    "### 📌 Ý nghĩa thống kê:\n",
    "- Thể hiện giá trị \"điển hình\" của tập dữ liệu.\n",
    "- **Bị ảnh hưởng bởi giá trị ngoại lệ**.\n",
    "- Ví dụ: Nếu doanh thu trung bình của một cửa hàng trong 7 ngày là **100 triệu đồng**, thì mỗi ngày trung bình cửa hàng thu về **100 triệu**.\n",
    "\n",
    "ser1 = pd.Series([19, 19, 21, 21,26])  \n",
    "ser2 = pd.Series([15, 16, 24, 25])  \n",
    "ser1.mean() = 21  \n",
    "ser2.mean() = 20  \n",
    "\n",
    "\n",
    "## 2️⃣ Trung Vị (Median)\n",
    "\n",
    "Trung vị là giá trị giữa của tập dữ liệu khi được sắp xếp theo thứ tự tăng dần.\n",
    "\n",
    "### 🔹 Công thức:\n",
    "- Nếu \\( n \\) là **số lẻ**, trung vị là giá trị ở vị trí $( \\frac{n+1}{2} $).\n",
    "- Nếu \\( n \\) là **số chẵn**, trung vị là trung bình của hai giá trị ở vị trí $( \\frac{n}{2} $) và $( \\frac{n}{2} + 1 $).  \n",
    "ser1 = pd.Series([19, 19, 21, 21,26])  \n",
    "ser2 = pd.Series([15, 16, 24, 25])  \n",
    "ser1.median() = 21  \n",
    "ser2.median() = 20  \n",
    "\n",
    "$$\n",
    "\\tilde{x} =\n",
    "\\begin{cases}\n",
    "    x_{\\frac{n+1}{2}}, & \\text{n lẻ} \\\\\n",
    "    \\frac{x_{\\frac{n}{2}} + x_{\\frac{n}{2} + 1}}{2}, & \\text{n chẵn}\n",
    "\\end{cases}\n",
    "$$\n",
    "### 📌 Ý nghĩa thống kê:\n",
    "- **Không bị ảnh hưởng bởi giá trị ngoại lệ**.\n",
    "- **Dùng khi dữ liệu có phân bố lệch**.\n",
    "\n",
    "## 3️⃣ Phương Sai (Variance)\n",
    "\n",
    "Phương sai đo mức độ phân tán của dữ liệu quanh trung bình.\n",
    "\n",
    "### 🔹 Công thức:\n",
    "\n",
    "$$\n",
    "\\sigma^2 = \\frac{1}{n} \\sum_{i=1}^{n} (x_i - \\mu)^2\n",
    "$$\n",
    "\n",
    "### 📌 Ý nghĩa thống kê:\n",
    "- **Phương sai càng lớn** → dữ liệu càng phân tán xa trung bình.\n",
    "- **Được sử dụng để đo lường biến động**.  \n",
    "\n",
    "ser1 = pd.Series([19, 19, 21, 21,26])  \n",
    "ser2 = pd.Series([15, 16, 24, 25])  \n",
    "ser1.var() = 8.2  \n",
    "ser2.var() = 27.333333333333332  \n",
    "\n",
    "## 4️⃣ Độ Lệch Chuẩn (Standard Deviation - STD)\n",
    "\n",
    "Độ lệch chuẩn là căn bậc hai của phương sai, giúp đưa đơn vị đo về đơn vị gốc của dữ liệu.\n",
    "\n",
    "### 🔹 Công thức:\n",
    "\n",
    "$$\n",
    "\\sigma = \\sqrt{\\sigma^2}\n",
    "$$ \n",
    "### 📌 Ý nghĩa thống kê:\n",
    "- **Độ lệch chuẩn nhỏ** → dữ liệu gần trung bình.\n",
    "- **Độ lệch chuẩn lớn** → dữ liệu phân tán nhiều.\n",
    "\n",
    "## 5️⃣ Khoảng Cách (Range)\n",
    "\n",
    "Khoảng cách là độ chênh lệch giữa giá trị lớn nhất và nhỏ nhất trong tập dữ liệu.\n",
    "\n",
    "### 🔹 Công thức:\n",
    "\n",
    "$$\n",
    "\\text{Range} = x_{\\max} - x_{\\min}\n",
    "$$\n",
    "### 📌 Ý nghĩa thống kê:\n",
    "- **Đo lường mức độ phân tán** của dữ liệu.\n",
    "- **Dễ bị ảnh hưởng bởi giá trị ngoại lệ**.\n",
    "\n",
    "---\n",
    "\n",
    "## 6️⃣ Tứ Phân Vị (Quartiles)\n",
    "\n",
    "Tứ phân vị chia tập dữ liệu thành bốn phần bằng nhau, giúp mô tả sự phân bố dữ liệu.  \n",
    "Tứ phân vị là một công cụ mạnh mẽ trong thống kê mô tả, giúp phân tích phân bố dữ liệu, phát hiện ngoại lệ và hỗ trợ so sánh các tập dữ liệu khác nhau một cách trực quan.  \n",
    "### 🔹 Các tứ phân vị:\n",
    "- **Q1 (1st Quartile - Q1)**: 25% dữ liệu nhỏ hơn giá trị này.\n",
    "- **Q2 (2nd Quartile - Q2)**: Trung vị (Median), 50% dữ liệu nhỏ hơn giá trị này.\n",
    "- **Q3 (3rd Quartile - Q3)**: 75% dữ liệu nhỏ hơn giá trị này.\n",
    "\n",
    "### 🔹 Công thức khoảng tứ phân vị (Interquartile Range - IQR):\n",
    "\n",
    "$$\n",
    "\\text{IQR} = Q3 - Q1\n",
    "$$\n",
    "\n",
    "### 📌 Ý nghĩa thống kê:\n",
    "- **IQR giúp xác định giá trị ngoại lệ** (outliers).\n",
    "- **IQR lớn → dữ liệu phân tán nhiều, IQR càng nhỏ → dữ liệu tập trung gần nhau.**.\n",
    "- **Ít bị ảnh hưởng bởi giá trị ngoại lệ hơn so với Range**.\n",
    "\n",
    "---\n",
    "\n",
    "## 7️⃣ Độ Lệch (Skewness)\n",
    "\n",
    "Độ lệch đo mức độ bất đối xứng của phân phối dữ liệu (đuôi dài về bên nào).\n",
    "\n",
    "### 🔹 Công thức:\n",
    "\n",
    "$$\n",
    "\\text{Skewness} = \\frac{1}{n} \\sum_{i=1}^{n} \\left( \\frac{x_i - \\mu}{\\sigma} \\right)^3\n",
    "$$\n",
    "\n",
    "với \n",
    "μ là trung bình, \n",
    "σ là độ lệch chuẩn.abs\n",
    "\n",
    "### 📌 Ý nghĩa thống kê:\n",
    "- **Skewness = 0** → Phân phối đối xứng.\n",
    "- **Skewness > 0** → Phân phối lệch phải (tail dài bên phải) Nếu phân phối có đuôi kéo sang phải (giá trị lớn bất thường) → skewness dương (right/skewed right). Thường mean > median.\n",
    "- **Skewness < 0** → Phân phối lệch trái (tail dài bên trái) Nếu đuôi kéo sang trái → skewness âm (left/skewed left). Thường mean < median\n",
    "- Skewness cao ảnh hưởng đến thống kê nhạy ngoại lệ: mean, phương sai, các test giả thuyết có giả định chuẩn.\n",
    "Cách xử lý: log, sqrt, Box–Cox (cho dữ liệu dương) hoặc dùng các biện pháp robust (median, IQR, trimmed mean), hay Winsorize/trim để làm nhẹ ảnh hưởng ngoại lệ.\n",
    "---\n",
    "\n",
    "## 8️⃣ Độ Nhọn Phân Phối (Kurtosis)\n",
    "\n",
    "Đo đặc tính đuôi (tailness) và “độ nhọn/độ dẹp” ở giữa so với chuẩn — thường được hiểu là đo số lượng ngoại lệ/độ dày của đuôi hơn là chỉ “nhọn hay bẹt”.\n",
    "\n",
    "### 🔹 Công thức:\n",
    "\n",
    "$$\n",
    "\\text{Kurtosis} = \\frac{1}{n} \\sum_{i=1}^{n} \\left( \\frac{x_i - \\mu}{\\sigma} \\right)^4\n",
    "$$\n",
    "\n",
    "\n",
    "### 📌 Ý nghĩa thống kê:\n",
    "- **Kurtosis ≈ 3** → Phân phối chuẩn (mesokurtic).\n",
    "- **Kurtosis > 3** → Phân phối nhọn (leptokurtic), có nhiều giá trị ngoại lệ.\n",
    "- **Kurtosis < 3** → Phân phối bẹt (platykurtic), ít giá trị ngoại lệ.\n",
    "\n",
    "Trực giác:  \n",
    "Không chỉ là “nhọn hay bẹt ở đỉnh” — kurtosis chủ yếu phản ánh mức độ nặng của đuôi (tức xác suất xuất hiện giá trị cực trị). Phân phối có   kurtosis cao thường có nhiều ngoại lệ (nhiều mẫu rất lớn hoặc rất nhỏ) so với chuẩn.  \n",
    "Kurtosis bình thường (normal distribution) = 3 (theo Pearson). Người ta hay dùng excess kurtosis = kurtosis − 3 để so sánh với chuẩn (excess = 0 tương đương chuẩn).  "
   ]
  },
  {
   "cell_type": "code",
   "execution_count": 140,
   "id": "3a74a69c-f276-4926-93a5-b2fa2d4f77b9",
   "metadata": {},
   "outputs": [
    {
     "name": "stdout",
     "output_type": "stream",
     "text": [
      "Phương sai của ser1 :  1.3333333333333333\n",
      "Phương sai của ser2 :  27.333333333333332\n",
      "Độ lệch chuẩn của ser1 :  1.1547005383792515\n",
      "Độ lệch chuẩn của ser2 :  5.228129047119374\n",
      "Trung vị của ser1 :  20.0\n",
      "Trung vị của ser2 :  20.0\n",
      "Trung bình của ser1 :  20.0\n",
      "Trung bình của ser2 :  20.0\n"
     ]
    }
   ],
   "source": [
    "# Chênh lệc tiền lương công ty A và B\n",
    "ser1 = pd.Series([19, 19, 21, 21])\n",
    "ser2 = pd.Series([15, 16, 24, 25])\n",
    "print(\"Phương sai của ser1 : \", ser1.var())\n",
    "print(\"Phương sai của ser2 : \", ser2.var())\n",
    "print(\"Độ lệch chuẩn của ser1 : \", ser1.std())\n",
    "print(\"Độ lệch chuẩn của ser2 : \",ser2.std())\n",
    "print(\"Trung vị của ser1 : \", ser1.median())\n",
    "print(\"Trung vị của ser2 : \", ser2.median())\n",
    "print(\"Trung bình của ser1 : \", ser1.mean())\n",
    "print(\"Trung bình của ser2 : \", ser2.mean())\n"
   ]
  },
  {
   "cell_type": "code",
   "execution_count": 80,
   "id": "ea9c5135-2032-4236-ad43-c25c34872960",
   "metadata": {},
   "outputs": [
    {
     "data": {
      "text/plain": [
       "np.float64(895.7241379310345)"
      ]
     },
     "execution_count": 80,
     "metadata": {},
     "output_type": "execute_result"
    }
   ],
   "source": [
    "doanh_thu.mean()"
   ]
  },
  {
   "cell_type": "code",
   "execution_count": 81,
   "id": "61fc59ce",
   "metadata": {},
   "outputs": [
    {
     "name": "stdout",
     "output_type": "stream",
     "text": [
      "Mean:  895.72\n",
      "Median:  781.0\n",
      "Variance:  86415.35\n",
      "Standard Deviation:  293.96\n",
      "Q1 25%:  614.0\n",
      "Q2 50%:  781.0\n",
      "Q3 75%:  1154.0\n"
     ]
    }
   ],
   "source": [
    "print('Mean: ', round(doanh_thu.mean(),2))\n",
    "print('Median: ', round(doanh_thu.median(),2))\n",
    "print('Variance: ', round(doanh_thu.var(),2))\n",
    "print('Standard Deviation: ', round(doanh_thu.std(),2))\n",
    "print('Q1 25%: ', doanh_thu.quantile(0.25))\n",
    "print('Q2 50%: ', round(doanh_thu.quantile(0.50),2))\n",
    "print('Q3 75%: ', doanh_thu.quantile(0.75))"
   ]
  },
  {
   "cell_type": "code",
   "execution_count": 82,
   "id": "a5166e4b",
   "metadata": {},
   "outputs": [
    {
     "data": {
      "text/plain": [
       "count      29.000000\n",
       "mean      895.724138\n",
       "std       293.964878\n",
       "min       525.000000\n",
       "25%       614.000000\n",
       "50%       781.000000\n",
       "75%      1154.000000\n",
       "max      1420.000000\n",
       "dtype: float64"
      ]
     },
     "execution_count": 82,
     "metadata": {},
     "output_type": "execute_result"
    }
   ],
   "source": [
    "# Thống kê nhanh\n",
    "\n",
    "doanh_thu.describe()"
   ]
  },
  {
   "cell_type": "markdown",
   "id": "312b2aee-cd1e-459f-a60d-b65d48b2884b",
   "metadata": {},
   "source": [
    "#### Tứ phân vị "
   ]
  },
  {
   "cell_type": "code",
   "execution_count": 83,
   "id": "502cad0a-2cc2-4db8-bbe1-2683f8c0e880",
   "metadata": {},
   "outputs": [
    {
     "data": {
      "text/plain": [
       "0       1\n",
       "1       2\n",
       "2       5\n",
       "3       6\n",
       "4       7\n",
       "5       8\n",
       "6      12\n",
       "7      13\n",
       "8      14\n",
       "9      15\n",
       "10    200\n",
       "dtype: int64"
      ]
     },
     "execution_count": 83,
     "metadata": {},
     "output_type": "execute_result"
    }
   ],
   "source": [
    "data = [1, 2, 5, 6, 7, 8, 12, 13, 14, 15, 200]\n",
    "data_series = pd.Series(data)\n",
    "data_series"
   ]
  },
  {
   "cell_type": "markdown",
   "id": "14d9b3d4-a24c-4331-b0fb-bcd34f3f5fcc",
   "metadata": {},
   "source": [
    "Tứ phân vị là cách dùng 3 điểm chia bộ dữ liệu thành 4 phần bằng nhau sao cho mỗi nhóm gồm ¼ dữ liệu  \n",
    "i = p(n-1) (i là index, tính theo zero base index) , nếu i lẻ thì lấy trung bình 2 giá trị kề nhau , nếu chẵn lấy giá trị tại vị trí đó  \n",
    "Q1: i1 = 0.25*(11-1) = 2.5 => Q1 = (5+6)/2 = 5.5  \n",
    "Q2: i2 = 0.5 *(11-1) = 5   => Q2 = 8  \n",
    "Q3: i3 = 0.75*(11-1) = 7.5 => Q3 = (13+14)/2 = 13.5  \n",
    "\n",
    "Khoảng tứ phân vị (Interquartile Range - IQR)  \n",
    "IQR = Q3 - Q1  = 13.5 - 5.5 = 8\n",
    "\n",
    "Khoảng tứ phân vị (IQR) là một thước đo độ phân tán của dữ liệu, được tính bằng:  \n",
    "* IQR càng lớn → dữ liệu có độ phân tán cao.  \n",
    "* IQR càng nhỏ → dữ liệu tập trung gần nhau.  \n",
    "IQR cũng được sử dụng để xác định các giá trị ngoại lệ, theo quy tắc:  \n",
    "\n",
    "Giá trị ngoài khoảng  \n",
    "[Q1−1.5×IQR,  Q3+1.5×IQR] thường được coi là ngoại lệ  \n",
    "5.5 - 1.5 x 8 = -6.5 ; 13.5 + 1.5 x 8 = 25.5 "
   ]
  },
  {
   "cell_type": "code",
   "execution_count": 141,
   "id": "34c25045-a125-4471-b98b-9a8a7ba1e8d9",
   "metadata": {},
   "outputs": [
    {
     "name": "stdout",
     "output_type": "stream",
     "text": [
      "Q1 25%:  5.5\n",
      "Q2 50%:  8.0\n",
      "Q3 75%:  13.5\n",
      "Q1: 5.5, Q2 (Trung vị): 8.0, Q3: 13.5, IQR: 8.0\n"
     ]
    }
   ],
   "source": [
    "# Tứ phân vị \n",
    "print('Q1 25%: ', data_series.quantile(0.25))\n",
    "print('Q2 50%: ', data_series.quantile(0.50))\n",
    "print('Q3 75%: ', data_series.quantile(0.75))\n",
    "\n",
    "# Khoảng tứ phân vị (Interquartile Range - IQR)\n",
    "Q1 = data_series.quantile(0.25)\n",
    "Q2 = data_series.quantile(0.50)\n",
    "Q3 = data_series.quantile(0.75) \n",
    "IQR = Q3 - Q1\n",
    "print(f\"Q1: {Q1}, Q2 (Trung vị): {Q2}, Q3: {Q3}, IQR: {IQR}\")"
   ]
  },
  {
   "cell_type": "code",
   "execution_count": 85,
   "id": "57aac10b-4abe-45d5-a166-f3cf10952103",
   "metadata": {},
   "outputs": [
    {
     "name": "stdout",
     "output_type": "stream",
     "text": [
      "Q1: 5.5, Q2 (Trung vị): 8.0, Q3: 13.5, IQR: 8.0\n"
     ]
    }
   ],
   "source": [
    "import numpy as np\n",
    "\n",
    "data = [1, 2, 5, 6, 7, 8, 12, 13, 14, 15, 200]\n",
    "data_sorted = sorted(data)\n",
    "\n",
    "Q1 = np.percentile(data_sorted, 25)\n",
    "Q2 = np.percentile(data_sorted, 50)\n",
    "Q3 = np.percentile(data_sorted, 75)\n",
    "IQR = Q3 - Q1\n",
    "\n",
    "print(f\"Q1: {Q1}, Q2 (Trung vị): {Q2}, Q3: {Q3}, IQR: {IQR}\")\n"
   ]
  },
  {
   "cell_type": "code",
   "execution_count": 86,
   "id": "306a6c11-da3c-42e2-9914-0ac97c2d1bc2",
   "metadata": {},
   "outputs": [
    {
     "data": {
      "image/png": "[encoded data removed]",
      "text/plain": [
       "<Figure size 640x480 with 1 Axes>"
      ]
     },
     "metadata": {},
     "output_type": "display_data"
    }
   ],
   "source": [
    "import matplotlib.pyplot as plt\n",
    "\n",
    "plt.boxplot(data_sorted, vert=False)\n",
    "plt.title(\"Biểu đồ Boxplot của dữ liệu\")\n",
    "plt.show()\n"
   ]
  },
  {
   "cell_type": "code",
   "execution_count": null,
   "id": "2f3e7f29-ba23-4c8f-8071-accf4db68b1e",
   "metadata": {},
   "outputs": [],
   "source": []
  }
 ],
 "metadata": {
  "kernelspec": {
   "display_name": "Python [conda env:base] *",
   "language": "python",
   "name": "conda-base-py"
  },
  "language_info": {
   "codemirror_mode": {
    "name": "ipython",
    "version": 3
   },
   "file_extension": ".py",
   "mimetype": "text/x-python",
   "name": "python",
   "nbconvert_exporter": "python",
   "pygments_lexer": "ipython3",
   "version": "3.13.5"
  }
 },
 "nbformat": 4,
 "nbformat_minor": 5
}
