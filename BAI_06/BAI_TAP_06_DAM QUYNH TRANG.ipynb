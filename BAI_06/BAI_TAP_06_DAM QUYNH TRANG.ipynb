{
 "cells": [
  {
   "cell_type": "code",
   "execution_count": 21,
   "id": "27c7c679-9df4-470f-88b3-084439eb3014",
   "metadata": {},
   "outputs": [
    {
     "data": {
      "text/plain": [
       "'/Users/trangdq/DA02_306/BAI_06'"
      ]
     },
     "execution_count": 21,
     "metadata": {},
     "output_type": "execute_result"
    }
   ],
   "source": [
    "os.getcwd()"
   ]
  },
  {
   "cell_type": "code",
   "execution_count": 22,
   "id": "d9615ef5-3d59-420f-8c66-7b7c62ef9e26",
   "metadata": {},
   "outputs": [
    {
     "data": {
      "text/plain": [
       "['.DS_Store',\n",
       " 'DA02_M2_b6_Series_DataFrame.pdf',\n",
       " 'Untitled.ipynb',\n",
       " 'data_bai_tap_6',\n",
       " 'Bai_6_Series.ipynb',\n",
       " 'Bai_6_DataFrame.ipynb',\n",
       " 'BAI_TAP_06_DAM QUYNH TRANG.ipynb',\n",
       " '.ipynb_checkpoints',\n",
       " 'data']"
      ]
     },
     "execution_count": 22,
     "metadata": {},
     "output_type": "execute_result"
    }
   ],
   "source": [
    "os.listdir()"
   ]
  },
  {
   "cell_type": "code",
   "execution_count": 23,
   "id": "6bfb6703-7e4f-4b3b-88bf-52341a7b2bc8",
   "metadata": {},
   "outputs": [
    {
     "data": {
      "text/plain": [
       "['combats.csv',\n",
       " 'heights.txt',\n",
       " 'weights.txt',\n",
       " 'pokemon.csv',\n",
       " '.ipynb_checkpoints',\n",
       " 'desktop.ini']"
      ]
     },
     "execution_count": 23,
     "metadata": {},
     "output_type": "execute_result"
    }
   ],
   "source": [
    "os.listdir('data_bai_tap_6')"
   ]
  },
  {
   "cell_type": "code",
   "execution_count": 87,
   "id": "701698ce-6516-45cd-a005-a0bfa57ad2ff",
   "metadata": {},
   "outputs": [
    {
     "name": "stdout",
     "output_type": "stream",
     "text": [
      "[Empty DataFrame\n",
      " Columns: [74,  74,  72,  72.1,  73,  69,  69.1,  71,  76,  71.1,  73.1,  73.2,  74.1,  74.2,  69.2,  70,  73.3,  75,  78,  79,  76.1,  74.3,  76.2,  72.2,  71.2,  75.1,  77,  74.4,  73.4,  74.5,  78.1,  73.5,  75.2,  73.6,  75.3,  75.4,  74.6,  69.3,  71.3,  74.7,  73.7,  73.8,  76.3,  74.8,  74.9,  70.1,  72.3,  77.1,  74.10,  70.2,  73.9,  75.5,  76.4,  76.5,  78.2,  74.11,  74.12,  76.6,  77.2,  81,  78.3,  75.6,  77.3,  75.7,  76.7,  74.13,  72.4,  72.5,  75.8,  73.10,   73,  73.11,  70.3,  70.4,  70.5,  76.8,  68,  71.4,  72.6,  75.9,  75.10,  75.11,  75.12,  68.1,  74.14,  78.4,  71.5,  73.12,  76.9,  74.15,  74.16,  79.1,  75.13,  73.13,  76.10,  74.17,  74.18,  73.14,  72.7,  74.19, ...]\n",
      " Index: []\n",
      "\n",
      " [0 rows x 1015 columns]                                                                                                                                                                                                                                                                                                                                                                                                                                                                                                                                                                                                                                                                                                         ]\n"
     ]
    }
   ],
   "source": [
    "#6.1. Body Mass Index (BMI)\n",
    "#1. Tạo Series ser_height từ list height.\n",
    "#a. In danh sách các phần tử của ser_height \n",
    "import pandas as pd\n",
    "import random \n",
    "import numpy as np\n",
    "\n",
    "heights_data = pd.read_csv('data_bai_tap_6/heights.txt') \n",
    "ser_height = pd.Series([heights_data])\n",
    "print(ser_height.values)\n"
   ]
  },
  {
   "cell_type": "code",
   "execution_count": 92,
   "id": "88b61c87-1766-4907-8dad-f90d949b6ca1",
   "metadata": {},
   "outputs": [
    {
     "data": {
      "text/plain": [
       "(1,)"
      ]
     },
     "execution_count": 92,
     "metadata": {},
     "output_type": "execute_result"
    }
   ],
   "source": [
    "#b. Cho biết kích thước (shape) của ser_height \n",
    "ser_height.shape"
   ]
  },
  {
   "cell_type": "code",
   "execution_count": 93,
   "id": "94d74a19-44c0-4db9-9eef-b34a0a78765c",
   "metadata": {},
   "outputs": [
    {
     "data": {
      "text/plain": [
       "dtype('O')"
      ]
     },
     "execution_count": 93,
     "metadata": {},
     "output_type": "execute_result"
    }
   ],
   "source": [
    "#c. Cho biết kiểu dữ liệu của các phần tử trong ser_height \n",
    "ser_height.dtype"
   ]
  },
  {
   "cell_type": "code",
   "execution_count": 95,
   "id": "445701c1-b446-4198-b9c8-a0e21665d7d1",
   "metadata": {},
   "outputs": [
    {
     "name": "stdout",
     "output_type": "stream",
     "text": [
      "[Empty DataFrame\n",
      " Columns: [180,  215,  210,  210.1,  188,  176,  209,  200,  231,  180,  188.1,  180.1,  185,  160,  180.2,  185.1,  189,  185.2,  219,  230,  205,  230.1,  195,  180.3,  192,  225,  203,  195.1,  182,  188.2,  200.1,  180.4,  200.2,  200.3,  245,  240,  215.1,  185.3,  175,  199,  200.4,  215.2,  200.5,  205.1,  206,  186,  188.3,  220,  210.2,  195.2,  200.6,  200.7,  212,  224,  210.3,  205.2,  220.1,  195.3,  200.8,  260,  228,  270,  200.9,  210.4,  190,  220.2,  180.5,  205.3,  210.5,  220.3,  211,  200.10,  180.6,  190.1,  170,  230.2,  155,  185.4,  185.5,  200.11,  225.1,  225.2,  220.4,  160.1,  205.4,  235,  250,  210.6,  190.2,  160.2,  200.12,  205.5,  222,  195.4,  205.6,  220.5,  220.6,  170.1,  185.6,  195.5, ...]\n",
      " Index: []\n",
      "\n",
      " [0 rows x 1015 columns]                                                                                                                                                                                                                                                                                                                                                                                                                                                                                                                                                                                                                                                                                                                                           ]\n"
     ]
    }
   ],
   "source": [
    "#2. Tạo Series ser_weight từ list weight.\n",
    "#a. In danh sách các phần tử của ser_ weight \n",
    "weights_data = pd.read_csv('data_bai_tap_6/weights.txt') \n",
    "ser_weight= pd.Series([weights_data])\n",
    "print(ser_weight.values)\n",
    "\n"
   ]
  },
  {
   "cell_type": "code",
   "execution_count": 96,
   "id": "dab7be0c-40a0-4d72-a654-fefe469e98d4",
   "metadata": {},
   "outputs": [
    {
     "data": {
      "text/plain": [
       "(1,)"
      ]
     },
     "execution_count": 96,
     "metadata": {},
     "output_type": "execute_result"
    }
   ],
   "source": [
    "#b. Cho biết kích thước (shape) của ser_ weight \n",
    "ser_weight.shape "
   ]
  },
  {
   "cell_type": "code",
   "execution_count": 97,
   "id": "e68d2d15-37af-457c-b2d2-e2e95f3ba996",
   "metadata": {},
   "outputs": [
    {
     "data": {
      "text/plain": [
       "dtype('O')"
      ]
     },
     "execution_count": 97,
     "metadata": {},
     "output_type": "execute_result"
    }
   ],
   "source": [
    "#c. Cho biết kiểu dữ liệu của các phần tử trong ser_ weight \n",
    "ser_weight.dtype "
   ]
  },
  {
   "cell_type": "code",
   "execution_count": 106,
   "id": "6687399c-230d-46b4-89a3-7563f2b1bb61",
   "metadata": {},
   "outputs": [
    {
     "name": "stdout",
     "output_type": "stream",
     "text": [
      "0    Empty DataFrame\n",
      "Columns: [74,  74,  72,  72.1,...\n",
      "dtype: object\n"
     ]
    }
   ],
   "source": [
    "#3. Cho hệ số quy đổi từ inch sang m là 0.0254\n",
    "#a. Tạo Series height_m dựa trên công thức: ser_height * hệ số quy đổi, làm tròn đến 2 chữ số thập phân \n",
    "he_so_quy_doi_p = 0.0254\n",
    "heights_m = (ser_height * he_so_quy_doi).round(2)\n",
    "print(heights_m)\n"
   ]
  },
  {
   "cell_type": "code",
   "execution_count": 112,
   "id": "7ec7264b-29e7-4016-9b5f-8efbe8042a3e",
   "metadata": {},
   "outputs": [
    {
     "name": "stdout",
     "output_type": "stream",
     "text": [
      "[Empty DataFrame\n",
      " Columns: [74,  74,  72,  72.1,  73,  69,  69.1,  71,  76,  71.1,  73.1,  73.2,  74.1,  74.2,  69.2,  70,  73.3,  75,  78,  79,  76.1,  74.3,  76.2,  72.2,  71.2,  75.1,  77,  74.4,  73.4,  74.5,  78.1,  73.5,  75.2,  73.6,  75.3,  75.4,  74.6,  69.3,  71.3,  74.7,  73.7,  73.8,  76.3,  74.8,  74.9,  70.1,  72.3,  77.1,  74.10,  70.2,  73.9,  75.5,  76.4,  76.5,  78.2,  74.11,  74.12,  76.6,  77.2,  81,  78.3,  75.6,  77.3,  75.7,  76.7,  74.13,  72.4,  72.5,  75.8,  73.10,   73,  73.11,  70.3,  70.4,  70.5,  76.8,  68,  71.4,  72.6,  75.9,  75.10,  75.11,  75.12,  68.1,  74.14,  78.4,  71.5,  73.12,  76.9,  74.15,  74.16,  79.1,  75.13,  73.13,  76.10,  74.17,  74.18,  73.14,  72.7,  74.19, ...]\n",
      " Index: []\n",
      "\n",
      " [0 rows x 1015 columns]                                                                                                                                                                                                                                                                                                                                                                                                                                                                                                                                                                                                                                                                                                         ]\n"
     ]
    }
   ],
   "source": [
    "#b. In danh sách các phần tử của height_m\n",
    "print(heights_m.values)"
   ]
  },
  {
   "cell_type": "code",
   "execution_count": 111,
   "id": "a0073964-d00e-4dd3-b217-4ce884247649",
   "metadata": {},
   "outputs": [
    {
     "name": "stdout",
     "output_type": "stream",
     "text": [
      "[Empty DataFrame\n",
      " Columns: [180,  215,  210,  210.1,  188,  176,  209,  200,  231,  180,  188.1,  180.1,  185,  160,  180.2,  185.1,  189,  185.2,  219,  230,  205,  230.1,  195,  180.3,  192,  225,  203,  195.1,  182,  188.2,  200.1,  180.4,  200.2,  200.3,  245,  240,  215.1,  185.3,  175,  199,  200.4,  215.2,  200.5,  205.1,  206,  186,  188.3,  220,  210.2,  195.2,  200.6,  200.7,  212,  224,  210.3,  205.2,  220.1,  195.3,  200.8,  260,  228,  270,  200.9,  210.4,  190,  220.2,  180.5,  205.3,  210.5,  220.3,  211,  200.10,  180.6,  190.1,  170,  230.2,  155,  185.4,  185.5,  200.11,  225.1,  225.2,  220.4,  160.1,  205.4,  235,  250,  210.6,  190.2,  160.2,  200.12,  205.5,  222,  195.4,  205.6,  220.5,  220.6,  170.1,  185.6,  195.5, ...]\n",
      " Index: []\n",
      "\n",
      " [0 rows x 1015 columns]                                                                                                                                                                                                                                                                                                                                                                                                                                                                                                                                                                                                                                                                                                                                           ]\n"
     ]
    }
   ],
   "source": [
    "#4. Cho hệ số quy đổi từ pound sang kg là  0.453592\n",
    "#a. Tạo Series weight_kg dựa trên công thức: ser_weight * hệ số quy đổi\n",
    "he_so_quy_doi_kg =  0.453592\n",
    "weights_m = ser_weight * he_so_quy_doi_kg\n",
    "print(weights_m.values)\n",
    "\n"
   ]
  },
  {
   "cell_type": "code",
   "execution_count": 126,
   "id": "8760836e-4364-4987-b27d-b58320dd65ba",
   "metadata": {},
   "outputs": [],
   "source": [
    "#b. Làm tròn đến hàng đơn vị\n",
    "weights_round = weights_m.round(0)\n"
   ]
  },
  {
   "cell_type": "code",
   "execution_count": 125,
   "id": "dc1d603d-2cd1-4c23-953c-647a3b8b4228",
   "metadata": {},
   "outputs": [
    {
     "name": "stdout",
     "output_type": "stream",
     "text": [
      "[Empty DataFrame\n",
      " Columns: [180,  215,  210,  210.1,  188,  176,  209,  200,  231,  180,  188.1,  180.1,  185,  160,  180.2,  185.1,  189,  185.2,  219,  230,  205,  230.1,  195,  180.3,  192,  225,  203,  195.1,  182,  188.2,  200.1,  180.4,  200.2,  200.3,  245,  240,  215.1,  185.3,  175,  199,  200.4,  215.2,  200.5,  205.1,  206,  186,  188.3,  220,  210.2,  195.2,  200.6,  200.7,  212,  224,  210.3,  205.2,  220.1,  195.3,  200.8,  260,  228,  270,  200.9,  210.4,  190,  220.2,  180.5,  205.3,  210.5,  220.3,  211,  200.10,  180.6,  190.1,  170,  230.2,  155,  185.4,  185.5,  200.11,  225.1,  225.2,  220.4,  160.1,  205.4,  235,  250,  210.6,  190.2,  160.2,  200.12,  205.5,  222,  195.4,  205.6,  220.5,  220.6,  170.1,  185.6,  195.5, ...]\n",
      " Index: []\n",
      "\n",
      " [0 rows x 1015 columns]                                                                                                                                                                                                                                                                                                                                                                                                                                                                                                                                                                                                                                                                                                                                           ]\n"
     ]
    }
   ],
   "source": [
    "#c. In danh sách các phần tử của weight_kg\n",
    "print(weights_round.values)\n"
   ]
  }
 ],
 "metadata": {
  "kernelspec": {
   "display_name": "Python [conda env:base] *",
   "language": "python",
   "name": "conda-base-py"
  },
  "language_info": {
   "codemirror_mode": {
    "name": "ipython",
    "version": 3
   },
   "file_extension": ".py",
   "mimetype": "text/x-python",
   "name": "python",
   "nbconvert_exporter": "python",
   "pygments_lexer": "ipython3",
   "version": "3.13.5"
  }
 },
 "nbformat": 4,
 "nbformat_minor": 5
}
