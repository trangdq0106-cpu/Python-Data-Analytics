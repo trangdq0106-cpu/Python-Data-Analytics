{
 "cells": [
  {
   "cell_type": "code",
   "execution_count": null,
   "id": "d938227f-411c-4bd9-a6e9-875e1f5625eb",
   "metadata": {},
   "outputs": [],
   "source": [
    "#6.1. Body Mass Index (BMI) \n"
   ]
  },
  {
   "cell_type": "code",
   "execution_count": null,
   "id": "27c7c679-9df4-470f-88b3-084439eb3014",
   "metadata": {},
   "outputs": [],
   "source": []
  }
 ],
 "metadata": {
  "kernelspec": {
   "display_name": "Python [conda env:base] *",
   "language": "python",
   "name": "conda-base-py"
  },
  "language_info": {
   "codemirror_mode": {
    "name": "ipython",
    "version": 3
   },
   "file_extension": ".py",
   "mimetype": "text/x-python",
   "name": "python",
   "nbconvert_exporter": "python",
   "pygments_lexer": "ipython3",
   "version": "3.13.5"
  }
 },
 "nbformat": 4,
 "nbformat_minor": 5
}
